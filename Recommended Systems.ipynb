{
 "cells": [
  {
   "cell_type": "code",
   "execution_count": null,
   "metadata": {
    "colab": {},
    "colab_type": "code",
    "id": "8szHkS6gulqf"
   },
   "outputs": [],
   "source": [
    "import numpy as np\n",
    "import pandas as pd\n",
    "import matplotlib.pyplot as plt"
   ]
  },
  {
   "cell_type": "markdown",
   "metadata": {
    "colab_type": "text",
    "id": "9d3eRdEvQFv-"
   },
   "source": [
    "The data used for this task is the MovieLens data set. "
   ]
  },
  {
   "cell_type": "code",
   "execution_count": null,
   "metadata": {
    "colab": {},
    "colab_type": "code",
    "id": "WjCxKShLulqk"
   },
   "outputs": [],
   "source": [
    "link = pd.read_csv('/content/drive/My Drive/Colab Notebooks/links.csv')\n",
    "ratings = pd.read_csv('/content/drive/My Drive/Colab Notebooks/ratings.csv')\n",
    "movies = pd.read_csv('/content/drive/My Drive/Colab Notebooks/movies.csv')\n",
    "tags = pd.read_csv('/content/drive/My Drive/Colab Notebooks/tags.csv')"
   ]
  },
  {
   "cell_type": "markdown",
   "metadata": {
    "colab_type": "text",
    "id": "ThVkilu5QbZ6"
   },
   "source": [
    "Displaying all files data"
   ]
  },
  {
   "cell_type": "code",
   "execution_count": null,
   "metadata": {
    "colab": {
     "base_uri": "https://localhost:8080/",
     "height": 578
    },
    "colab_type": "code",
    "id": "yMX6HaU5ulqo",
    "outputId": "67903cda-8ccd-4ba5-e3b7-f46316403519"
   },
   "outputs": [
    {
     "name": "stdout",
     "output_type": "stream",
     "text": [
      "                 LINKS\n",
      "      movieId   imdbId    tmdbId\n",
      "9737   193581  5476944  432131.0\n",
      "9738   193583  5914996  445030.0\n",
      "9739   193585  6397426  479308.0\n",
      "9740   193587  8391976  483455.0\n",
      "9741   193609   101726   37891.0\n",
      "\n",
      "                 RATINGS\n",
      "   userId  movieId  rating  timestamp\n",
      "0       1        1     4.0  964982703\n",
      "1       1        3     4.0  964981247\n",
      "2       1        6     4.0  964982224\n",
      "3       1       47     5.0  964983815\n",
      "4       1       50     5.0  964982931\n",
      "\n",
      "                 MOVIES\n",
      "   movieId  ...                                       genres\n",
      "0        1  ...  Adventure|Animation|Children|Comedy|Fantasy\n",
      "1        2  ...                   Adventure|Children|Fantasy\n",
      "2        3  ...                               Comedy|Romance\n",
      "3        4  ...                         Comedy|Drama|Romance\n",
      "4        5  ...                                       Comedy\n",
      "\n",
      "[5 rows x 3 columns]\n",
      "\n",
      "                 TAGS\n",
      "   userId  movieId              tag   timestamp\n",
      "0       2    60756            funny  1445714994\n",
      "1       2    60756  Highly quotable  1445714996\n",
      "2       2    60756     will ferrell  1445714992\n",
      "3       2    89774     Boxing story  1445715207\n",
      "4       2    89774              MMA  1445715200\n"
     ]
    }
   ],
   "source": [
    "print(\"                 LINKS\")\n",
    "print(link.tail())\n",
    "print(\"\\n                 RATINGS\")\n",
    "print(ratings.head())\n",
    "print(\"\\n                 MOVIES\")\n",
    "print(movies.head())\n",
    "print(\"\\n                 TAGS\")\n",
    "print(tags.head())"
   ]
  },
  {
   "cell_type": "markdown",
   "metadata": {
    "colab_type": "text",
    "id": "rr90deVXGPwD"
   },
   "source": [
    "#Part I: ML Method for Recommendations"
   ]
  },
  {
   "cell_type": "code",
   "execution_count": null,
   "metadata": {
    "colab": {
     "base_uri": "https://localhost:8080/",
     "height": 170
    },
    "colab_type": "code",
    "id": "dEZ0v7dmulqu",
    "outputId": "9dc28257-f128-43d6-d651-fa079442869b"
   },
   "outputs": [
    {
     "data": {
      "text/plain": [
       "count    100836.000000\n",
       "mean          3.501557\n",
       "std           1.042529\n",
       "min           0.500000\n",
       "25%           3.000000\n",
       "50%           3.500000\n",
       "75%           4.000000\n",
       "max           5.000000\n",
       "Name: rating, dtype: float64"
      ]
     },
     "execution_count": 81,
     "metadata": {
      "tags": []
     },
     "output_type": "execute_result"
    }
   ],
   "source": [
    "ratings['rating'].describe()"
   ]
  },
  {
   "cell_type": "markdown",
   "metadata": {
    "colab_type": "text",
    "id": "GfKYIa7dQfx7"
   },
   "source": [
    "**Recommendation for NEW USER**\n",
    "\n",
    "Recommending top rated movies to a new user based on all the existing ratings for the movie"
   ]
  },
  {
   "cell_type": "code",
   "execution_count": null,
   "metadata": {
    "colab": {
     "base_uri": "https://localhost:8080/",
     "height": 204
    },
    "colab_type": "code",
    "id": "sE1yWuzrulqs",
    "outputId": "8f1c6f04-b70a-4bd4-a49f-33a44cfe5e78"
   },
   "outputs": [
    {
     "data": {
      "text/html": [
       "<div>\n",
       "<style scoped>\n",
       "    .dataframe tbody tr th:only-of-type {\n",
       "        vertical-align: middle;\n",
       "    }\n",
       "\n",
       "    .dataframe tbody tr th {\n",
       "        vertical-align: top;\n",
       "    }\n",
       "\n",
       "    .dataframe thead th {\n",
       "        text-align: right;\n",
       "    }\n",
       "</style>\n",
       "<table border=\"1\" class=\"dataframe\">\n",
       "  <thead>\n",
       "    <tr style=\"text-align: right;\">\n",
       "      <th></th>\n",
       "      <th>movieId</th>\n",
       "      <th>review_count</th>\n",
       "      <th>mean_rating</th>\n",
       "      <th>title</th>\n",
       "      <th>genres</th>\n",
       "    </tr>\n",
       "  </thead>\n",
       "  <tbody>\n",
       "    <tr>\n",
       "      <th>0</th>\n",
       "      <td>318</td>\n",
       "      <td>317</td>\n",
       "      <td>4.429022</td>\n",
       "      <td>Shawshank Redemption, The (1994)</td>\n",
       "      <td>Crime|Drama</td>\n",
       "    </tr>\n",
       "    <tr>\n",
       "      <th>1</th>\n",
       "      <td>922</td>\n",
       "      <td>27</td>\n",
       "      <td>4.333333</td>\n",
       "      <td>Sunset Blvd. (a.k.a. Sunset Boulevard) (1950)</td>\n",
       "      <td>Drama|Film-Noir|Romance</td>\n",
       "    </tr>\n",
       "    <tr>\n",
       "      <th>2</th>\n",
       "      <td>898</td>\n",
       "      <td>29</td>\n",
       "      <td>4.310345</td>\n",
       "      <td>Philadelphia Story, The (1940)</td>\n",
       "      <td>Comedy|Drama|Romance</td>\n",
       "    </tr>\n",
       "    <tr>\n",
       "      <th>3</th>\n",
       "      <td>1204</td>\n",
       "      <td>45</td>\n",
       "      <td>4.300000</td>\n",
       "      <td>Lawrence of Arabia (1962)</td>\n",
       "      <td>Adventure|Drama|War</td>\n",
       "    </tr>\n",
       "    <tr>\n",
       "      <th>4</th>\n",
       "      <td>246</td>\n",
       "      <td>29</td>\n",
       "      <td>4.293103</td>\n",
       "      <td>Hoop Dreams (1994)</td>\n",
       "      <td>Documentary</td>\n",
       "    </tr>\n",
       "  </tbody>\n",
       "</table>\n",
       "</div>"
      ],
      "text/plain": [
       "   movieId  ...                   genres\n",
       "0      318  ...              Crime|Drama\n",
       "1      922  ...  Drama|Film-Noir|Romance\n",
       "2      898  ...     Comedy|Drama|Romance\n",
       "3     1204  ...      Adventure|Drama|War\n",
       "4      246  ...              Documentary\n",
       "\n",
       "[5 rows x 5 columns]"
      ]
     },
     "execution_count": 82,
     "metadata": {
      "tags": []
     },
     "output_type": "execute_result"
    }
   ],
   "source": [
    "df = ratings.groupby('movieId').agg({'timestamp':'size', 'rating':'mean'}).rename(columns={'timestamp':'review_count','rating':'mean_rating'}).reset_index()\n",
    "df = df[df['review_count']>25].sort_values('mean_rating',ascending=False)\n",
    "\n",
    "final = pd.merge(df,movies, on='movieId', how='inner')\n",
    "final.head()"
   ]
  },
  {
   "cell_type": "markdown",
   "metadata": {
    "colab_type": "text",
    "id": "z6f9QCUjQ1jD"
   },
   "source": [
    "5 movies recommended for a new user based on **ratings**."
   ]
  },
  {
   "cell_type": "code",
   "execution_count": null,
   "metadata": {
    "colab": {
     "base_uri": "https://localhost:8080/",
     "height": 119
    },
    "colab_type": "code",
    "id": "EdDDA0cuEsEE",
    "outputId": "ce6a089c-56db-4992-84f3-ab1995843a3f"
   },
   "outputs": [
    {
     "name": "stdout",
     "output_type": "stream",
     "text": [
      "Top 5 recommendations for a new user based on ratings are:\n",
      "Shawshank Redemption, The (1994) 4.429022082018927\n",
      "Sunset Blvd. (a.k.a. Sunset Boulevard) (1950) 4.333333333333333\n",
      "Philadelphia Story, The (1940) 4.310344827586207\n",
      "Lawrence of Arabia (1962) 4.3\n",
      "Hoop Dreams (1994) 4.293103448275862\n"
     ]
    }
   ],
   "source": [
    "print(\"Top 5 recommendations for a new user based on ratings are:\")\n",
    "for i in range(5):\n",
    "  print(final['title'][i],final['mean_rating'][i])"
   ]
  },
  {
   "cell_type": "markdown",
   "metadata": {
    "colab_type": "text",
    "id": "N3kVnbkfwwRk"
   },
   "source": [
    "Top 5 recommendations based on **genre** for a new user"
   ]
  },
  {
   "cell_type": "code",
   "execution_count": null,
   "metadata": {
    "colab": {
     "base_uri": "https://localhost:8080/",
     "height": 204
    },
    "colab_type": "code",
    "id": "GGc4m_eDoChH",
    "outputId": "ded84cb6-18c8-4572-cc7f-0809975aa307"
   },
   "outputs": [
    {
     "data": {
      "text/html": [
       "<div>\n",
       "<style scoped>\n",
       "    .dataframe tbody tr th:only-of-type {\n",
       "        vertical-align: middle;\n",
       "    }\n",
       "\n",
       "    .dataframe tbody tr th {\n",
       "        vertical-align: top;\n",
       "    }\n",
       "\n",
       "    .dataframe thead th {\n",
       "        text-align: right;\n",
       "    }\n",
       "</style>\n",
       "<table border=\"1\" class=\"dataframe\">\n",
       "  <thead>\n",
       "    <tr style=\"text-align: right;\">\n",
       "      <th></th>\n",
       "      <th>index</th>\n",
       "      <th>movieId</th>\n",
       "      <th>title</th>\n",
       "      <th>genres</th>\n",
       "      <th>mean_rating</th>\n",
       "      <th>rank</th>\n",
       "    </tr>\n",
       "  </thead>\n",
       "  <tbody>\n",
       "    <tr>\n",
       "      <th>0</th>\n",
       "      <td>197</td>\n",
       "      <td>898</td>\n",
       "      <td>Philadelphia Story, The (1940)</td>\n",
       "      <td>Comedy</td>\n",
       "      <td>4.310345</td>\n",
       "      <td>1.0</td>\n",
       "    </tr>\n",
       "    <tr>\n",
       "      <th>1</th>\n",
       "      <td>279</td>\n",
       "      <td>1235</td>\n",
       "      <td>Harold and Maude (1971)</td>\n",
       "      <td>Comedy</td>\n",
       "      <td>4.288462</td>\n",
       "      <td>2.0</td>\n",
       "    </tr>\n",
       "    <tr>\n",
       "      <th>2</th>\n",
       "      <td>179</td>\n",
       "      <td>750</td>\n",
       "      <td>Dr. Strangelove or: How I Learned to Stop Worr...</td>\n",
       "      <td>Comedy</td>\n",
       "      <td>4.268041</td>\n",
       "      <td>3.0</td>\n",
       "    </tr>\n",
       "    <tr>\n",
       "      <th>3</th>\n",
       "      <td>255</td>\n",
       "      <td>1197</td>\n",
       "      <td>Princess Bride, The (1987)</td>\n",
       "      <td>Comedy</td>\n",
       "      <td>4.232394</td>\n",
       "      <td>4.0</td>\n",
       "    </tr>\n",
       "    <tr>\n",
       "      <th>4</th>\n",
       "      <td>83</td>\n",
       "      <td>296</td>\n",
       "      <td>Pulp Fiction (1994)</td>\n",
       "      <td>Comedy</td>\n",
       "      <td>4.197068</td>\n",
       "      <td>5.0</td>\n",
       "    </tr>\n",
       "  </tbody>\n",
       "</table>\n",
       "</div>"
      ],
      "text/plain": [
       "   index  movieId  ... mean_rating rank\n",
       "0    197      898  ...    4.310345  1.0\n",
       "1    279     1235  ...    4.288462  2.0\n",
       "2    179      750  ...    4.268041  3.0\n",
       "3    255     1197  ...    4.232394  4.0\n",
       "4     83      296  ...    4.197068  5.0\n",
       "\n",
       "[5 rows x 6 columns]"
      ]
     },
     "execution_count": 84,
     "metadata": {
      "tags": []
     },
     "output_type": "execute_result"
    }
   ],
   "source": [
    "genre = 'Comedy'\n",
    "\n",
    "movie_genre = pd.merge(movies,final, on='movieId', how='inner')\n",
    "movie_genre=movie_genre[['movieId','title_x', 'genres_x','mean_rating']].rename(columns={'genres_x' : 'genres', 'title_x':'title'})\n",
    "movie_genre=movie_genre.assign(genres=movie_genre['genres'].str.split('|')).explode('genres')\n",
    "\n",
    "movie_genre[\"rank\"] = movie_genre.groupby(\"genres\")[\"mean_rating\"].rank(\"dense\", ascending=False)\n",
    "              \n",
    "movie_genre= movie_genre[(movie_genre['genres']== genre) & (movie_genre['rank'] < 6)].sort_values('rank').reset_index()\n",
    "movie_genre\n"
   ]
  },
  {
   "cell_type": "code",
   "execution_count": null,
   "metadata": {
    "colab": {
     "base_uri": "https://localhost:8080/",
     "height": 119
    },
    "colab_type": "code",
    "id": "qzuMCUgivqJx",
    "outputId": "9f1c146e-0965-4630-a308-587cd0d81133"
   },
   "outputs": [
    {
     "name": "stdout",
     "output_type": "stream",
     "text": [
      "Top 5 recommendations for a new user in the Comedy genre are:\n",
      "1. Philadelphia Story, The (1940) with rating 4.310344827586207\n",
      "2. Harold and Maude (1971) with rating 4.288461538461538\n",
      "3. Dr. Strangelove or: How I Learned to Stop Worrying and Love the Bomb (1964) with rating 4.268041237113402\n",
      "4. Princess Bride, The (1987) with rating 4.232394366197183\n",
      "5. Pulp Fiction (1994) with rating 4.197068403908795\n"
     ]
    }
   ],
   "source": [
    "print(\"Top 5 recommendations for a new user in the \"+ genre + \" genre are:\")\n",
    "for i in range(5):\n",
    "  print(str(i+1)+\". \"+movie_genre['title'][i],\"with rating \"+str(movie_genre['mean_rating'][i]))"
   ]
  },
  {
   "cell_type": "markdown",
   "metadata": {
    "colab_type": "text",
    "id": "fCFGxvImA4pG"
   },
   "source": [
    "A new user has no user information. Collaborative filtering is not possible. Hence we recommend the user popular items based on some criteria (like reviews, type etc). In our case, we have recommended movies with the highest ratings. We have also recommended movies based on genre. For a genre, the movies with the highest ratings are recommended.\n"
   ]
  },
  {
   "cell_type": "code",
   "execution_count": null,
   "metadata": {
    "colab": {
     "base_uri": "https://localhost:8080/",
     "height": 204
    },
    "colab_type": "code",
    "id": "pGlWk4bMulqz",
    "outputId": "1c5c907a-d211-47f6-a0ca-4ba3de419607"
   },
   "outputs": [
    {
     "data": {
      "text/html": [
       "<div>\n",
       "<style scoped>\n",
       "    .dataframe tbody tr th:only-of-type {\n",
       "        vertical-align: middle;\n",
       "    }\n",
       "\n",
       "    .dataframe tbody tr th {\n",
       "        vertical-align: top;\n",
       "    }\n",
       "\n",
       "    .dataframe thead th {\n",
       "        text-align: right;\n",
       "    }\n",
       "</style>\n",
       "<table border=\"1\" class=\"dataframe\">\n",
       "  <thead>\n",
       "    <tr style=\"text-align: right;\">\n",
       "      <th></th>\n",
       "      <th>userId</th>\n",
       "      <th>movieId</th>\n",
       "      <th>rating</th>\n",
       "      <th>timestamp</th>\n",
       "      <th>review_count</th>\n",
       "      <th>mean_rating</th>\n",
       "    </tr>\n",
       "  </thead>\n",
       "  <tbody>\n",
       "    <tr>\n",
       "      <th>0</th>\n",
       "      <td>1</td>\n",
       "      <td>1</td>\n",
       "      <td>4.0</td>\n",
       "      <td>964982703</td>\n",
       "      <td>215</td>\n",
       "      <td>3.92093</td>\n",
       "    </tr>\n",
       "    <tr>\n",
       "      <th>1</th>\n",
       "      <td>5</td>\n",
       "      <td>1</td>\n",
       "      <td>4.0</td>\n",
       "      <td>847434962</td>\n",
       "      <td>215</td>\n",
       "      <td>3.92093</td>\n",
       "    </tr>\n",
       "    <tr>\n",
       "      <th>2</th>\n",
       "      <td>7</td>\n",
       "      <td>1</td>\n",
       "      <td>4.5</td>\n",
       "      <td>1106635946</td>\n",
       "      <td>215</td>\n",
       "      <td>3.92093</td>\n",
       "    </tr>\n",
       "    <tr>\n",
       "      <th>3</th>\n",
       "      <td>15</td>\n",
       "      <td>1</td>\n",
       "      <td>2.5</td>\n",
       "      <td>1510577970</td>\n",
       "      <td>215</td>\n",
       "      <td>3.92093</td>\n",
       "    </tr>\n",
       "    <tr>\n",
       "      <th>4</th>\n",
       "      <td>17</td>\n",
       "      <td>1</td>\n",
       "      <td>4.5</td>\n",
       "      <td>1305696483</td>\n",
       "      <td>215</td>\n",
       "      <td>3.92093</td>\n",
       "    </tr>\n",
       "  </tbody>\n",
       "</table>\n",
       "</div>"
      ],
      "text/plain": [
       "   userId  movieId  rating   timestamp  review_count  mean_rating\n",
       "0       1        1     4.0   964982703           215      3.92093\n",
       "1       5        1     4.0   847434962           215      3.92093\n",
       "2       7        1     4.5  1106635946           215      3.92093\n",
       "3      15        1     2.5  1510577970           215      3.92093\n",
       "4      17        1     4.5  1305696483           215      3.92093"
      ]
     },
     "execution_count": 86,
     "metadata": {
      "tags": []
     },
     "output_type": "execute_result"
    }
   ],
   "source": [
    "df_inner = pd.merge(ratings, df, on='movieId', how='inner')\n",
    "df_inner.head()"
   ]
  },
  {
   "cell_type": "markdown",
   "metadata": {
    "colab_type": "text",
    "id": "YJFmv-L2Xrav"
   },
   "source": [
    "Since all movies do not have ratings from all the users, the matrix is sparse. Hence we tranform it to Compressed Sparse Row matrix. This basically gives the position of all the non zero elements. All the null values are filled with 0. It can be filled with any value as our focus is to see how similar two movies are for recommendation but not predict the rating of the film as such."
   ]
  },
  {
   "cell_type": "markdown",
   "metadata": {
    "colab_type": "text",
    "id": "3rM4rgxiyEM9"
   },
   "source": [
    "**Recommendation for EXISTING USER**"
   ]
  },
  {
   "cell_type": "markdown",
   "metadata": {
    "colab_type": "text",
    "id": "tAtAjPrPq9zf"
   },
   "source": [
    "**Approach 1:**\n",
    "Take user id as input. Check for most similar users based on their movie ratings. Recommend the 5 top rated movies as per the most similar user."
   ]
  },
  {
   "cell_type": "code",
   "execution_count": null,
   "metadata": {
    "colab": {},
    "colab_type": "code",
    "id": "SHheFTZ9oopx"
   },
   "outputs": [],
   "source": [
    "from scipy.sparse import csr_matrix\n",
    "\n",
    "movie_features = df_inner.pivot_table(index='userId',columns='movieId',values='rating').fillna(0)\n",
    "movie_features_sparse = csr_matrix(movie_features.values)"
   ]
  },
  {
   "cell_type": "markdown",
   "metadata": {
    "colab_type": "text",
    "id": "kiNOcuoJrpc2"
   },
   "source": [
    "New recommendations are given to an existing user by using the KNN algorithm. \n",
    "The similarity measure is cosine and the distance metric is Euclidean. The algorithm to find distance between points is ‘auto’. It will attempt to decide the most appropriate algorithm based on the values passed to fit method."
   ]
  },
  {
   "cell_type": "code",
   "execution_count": null,
   "metadata": {
    "colab": {
     "base_uri": "https://localhost:8080/",
     "height": 68
    },
    "colab_type": "code",
    "id": "9xfQayCZoxCJ",
    "outputId": "431fc97c-2a2b-4721-ef39-f25f310ae063"
   },
   "outputs": [
    {
     "data": {
      "text/plain": [
       "NearestNeighbors(algorithm='auto', leaf_size=30, metric='cosine',\n",
       "                 metric_params=None, n_jobs=None, n_neighbors=15, p=2,\n",
       "                 radius=1.0)"
      ]
     },
     "execution_count": 88,
     "metadata": {
      "tags": []
     },
     "output_type": "execute_result"
    }
   ],
   "source": [
    "from sklearn.neighbors import NearestNeighbors\n",
    "model_knn = NearestNeighbors(metric='cosine', algorithm='auto', n_neighbors=15)\n",
    "model_knn.fit(movie_features_sparse)"
   ]
  },
  {
   "cell_type": "code",
   "execution_count": null,
   "metadata": {
    "colab": {
     "base_uri": "https://localhost:8080/",
     "height": 238
    },
    "colab_type": "code",
    "id": "AFm8G21Do0lv",
    "outputId": "c3651a4f-c84f-4a11-8310-1fbf5cdce5de"
   },
   "outputs": [
    {
     "data": {
      "text/plain": [
       "movieId\n",
       "1         0.0\n",
       "2         0.0\n",
       "3         3.5\n",
       "5         0.0\n",
       "6         0.0\n",
       "         ... \n",
       "139385    0.0\n",
       "148626    0.0\n",
       "152081    0.0\n",
       "164179    0.0\n",
       "166528    0.0\n",
       "Name: 100, Length: 1012, dtype: float64"
      ]
     },
     "execution_count": 92,
     "metadata": {
      "tags": []
     },
     "output_type": "execute_result"
    }
   ],
   "source": [
    "userid = 100\n",
    "test_user = movie_features.iloc[userid-1]\n",
    "test_user = np.array(test_user).reshape(1,-1)\n",
    "movie_features.iloc[userid-1]"
   ]
  },
  {
   "cell_type": "code",
   "execution_count": null,
   "metadata": {
    "colab": {},
    "colab_type": "code",
    "id": "nO5e-B4bo2of"
   },
   "outputs": [],
   "source": [
    "distances,indices = model_knn.kneighbors(test_user, n_neighbors = 15)"
   ]
  },
  {
   "cell_type": "code",
   "execution_count": null,
   "metadata": {
    "colab": {
     "base_uri": "https://localhost:8080/",
     "height": 204
    },
    "colab_type": "code",
    "id": "ViWvwhlPo6On",
    "outputId": "fa1f933f-4670-4888-aa5b-e53e56ef5651"
   },
   "outputs": [
    {
     "data": {
      "text/html": [
       "<div>\n",
       "<style scoped>\n",
       "    .dataframe tbody tr th:only-of-type {\n",
       "        vertical-align: middle;\n",
       "    }\n",
       "\n",
       "    .dataframe tbody tr th {\n",
       "        vertical-align: top;\n",
       "    }\n",
       "\n",
       "    .dataframe thead th {\n",
       "        text-align: right;\n",
       "    }\n",
       "</style>\n",
       "<table border=\"1\" class=\"dataframe\">\n",
       "  <thead>\n",
       "    <tr style=\"text-align: right;\">\n",
       "      <th></th>\n",
       "      <th>movieId</th>\n",
       "      <th>rating</th>\n",
       "      <th>title</th>\n",
       "      <th>genres</th>\n",
       "    </tr>\n",
       "  </thead>\n",
       "  <tbody>\n",
       "    <tr>\n",
       "      <th>0</th>\n",
       "      <td>543</td>\n",
       "      <td>5.0</td>\n",
       "      <td>So I Married an Axe Murderer (1993)</td>\n",
       "      <td>Comedy|Romance|Thriller</td>\n",
       "    </tr>\n",
       "    <tr>\n",
       "      <th>1</th>\n",
       "      <td>720</td>\n",
       "      <td>5.0</td>\n",
       "      <td>Wallace &amp; Gromit: The Best of Aardman Animatio...</td>\n",
       "      <td>Adventure|Animation|Comedy</td>\n",
       "    </tr>\n",
       "    <tr>\n",
       "      <th>2</th>\n",
       "      <td>745</td>\n",
       "      <td>5.0</td>\n",
       "      <td>Wallace &amp; Gromit: A Close Shave (1995)</td>\n",
       "      <td>Animation|Children|Comedy</td>\n",
       "    </tr>\n",
       "    <tr>\n",
       "      <th>3</th>\n",
       "      <td>912</td>\n",
       "      <td>5.0</td>\n",
       "      <td>Casablanca (1942)</td>\n",
       "      <td>Drama|Romance</td>\n",
       "    </tr>\n",
       "    <tr>\n",
       "      <th>4</th>\n",
       "      <td>1080</td>\n",
       "      <td>5.0</td>\n",
       "      <td>Monty Python's Life of Brian (1979)</td>\n",
       "      <td>Comedy</td>\n",
       "    </tr>\n",
       "  </tbody>\n",
       "</table>\n",
       "</div>"
      ],
      "text/plain": [
       "   movieId  ...                      genres\n",
       "0      543  ...     Comedy|Romance|Thriller\n",
       "1      720  ...  Adventure|Animation|Comedy\n",
       "2      745  ...   Animation|Children|Comedy\n",
       "3      912  ...               Drama|Romance\n",
       "4     1080  ...                      Comedy\n",
       "\n",
       "[5 rows x 4 columns]"
      ]
     },
     "execution_count": 58,
     "metadata": {
      "tags": []
     },
     "output_type": "execute_result"
    }
   ],
   "source": [
    "rec_movies = pd.DataFrame()\n",
    "rec_movies['rating']= movie_features.iloc[indices[0][1]-1].nlargest()\n",
    "rec_movies = pd.merge(rec_movies,movies, on='movieId', how='inner')\n",
    "rec_movies\n"
   ]
  },
  {
   "cell_type": "code",
   "execution_count": null,
   "metadata": {
    "colab": {
     "base_uri": "https://localhost:8080/",
     "height": 119
    },
    "colab_type": "code",
    "id": "9o3JzvtlpC4p",
    "outputId": "b808f695-9c24-4912-c8d0-2fe1441c5e2f"
   },
   "outputs": [
    {
     "name": "stdout",
     "output_type": "stream",
     "text": [
      "Top 5 recommendations for an user 100 based on most similar user and their top rated movies:\n",
      "1. So I Married an Axe Murderer (1993) with rating 5.0\n",
      "2. Wallace & Gromit: The Best of Aardman Animation (1996) with rating 5.0\n",
      "3. Wallace & Gromit: A Close Shave (1995) with rating 5.0\n",
      "4. Casablanca (1942) with rating 5.0\n",
      "5. Monty Python's Life of Brian (1979) with rating 5.0\n"
     ]
    }
   ],
   "source": [
    "print(\"Top 5 recommendations for an user 100 based on most similar user and their top rated movies:\")\n",
    "for i in range(5):\n",
    "  print(str(i+1)+\". \"+rec_movies['title'][i],\"with rating \"+str(rec_movies['rating'][i]))"
   ]
  },
  {
   "cell_type": "markdown",
   "metadata": {
    "colab_type": "text",
    "id": "pnJnKSU9rJwx"
   },
   "source": [
    "**Approach 2:**\n",
    "Take a movie id as input. Check for similar movies based on KNN using user ratings and recommend the top 5 most similar movies."
   ]
  },
  {
   "cell_type": "code",
   "execution_count": null,
   "metadata": {
    "colab": {},
    "colab_type": "code",
    "id": "wt5t41eXulq2"
   },
   "outputs": [],
   "source": [
    "from scipy.sparse import csr_matrix\n",
    "\n",
    "movie_features = df_inner.pivot_table(index='movieId',columns='userId',values='rating').fillna(0)\n",
    "movie_features_sparse = csr_matrix(movie_features.values)"
   ]
  },
  {
   "cell_type": "markdown",
   "metadata": {
    "colab_type": "text",
    "id": "yY220wS982z3"
   },
   "source": [
    "New recommendations are given to an existing user by using the KNN algorithm. \n",
    "The similarity measure is cosine and the distance metric is Euclidean. The algorithm to find distance between points is ‘auto’. It will attempt to decide the most appropriate algorithm based on the values passed to fit method."
   ]
  },
  {
   "cell_type": "code",
   "execution_count": null,
   "metadata": {
    "colab": {
     "base_uri": "https://localhost:8080/",
     "height": 68
    },
    "colab_type": "code",
    "id": "gcnvGrFlulq7",
    "outputId": "7ca93c80-cd4c-4a55-d897-92aa0c0a7738"
   },
   "outputs": [
    {
     "data": {
      "text/plain": [
       "NearestNeighbors(algorithm='auto', leaf_size=30, metric='cosine',\n",
       "                 metric_params=None, n_jobs=None, n_neighbors=15, p=2,\n",
       "                 radius=1.0)"
      ]
     },
     "execution_count": 61,
     "metadata": {
      "tags": []
     },
     "output_type": "execute_result"
    }
   ],
   "source": [
    "from sklearn.neighbors import NearestNeighbors\n",
    "model_knn = NearestNeighbors(metric='cosine', algorithm='auto', n_neighbors=15)\n",
    "model_knn.fit(movie_features_sparse)"
   ]
  },
  {
   "cell_type": "code",
   "execution_count": null,
   "metadata": {
    "colab": {},
    "colab_type": "code",
    "id": "pvYmLQt_ulq9"
   },
   "outputs": [],
   "source": [
    "userid = 100\n",
    "test_user = movie_features.iloc[userid-1]\n",
    "test_user = np.array(test_user).reshape(1,-1)"
   ]
  },
  {
   "cell_type": "code",
   "execution_count": null,
   "metadata": {
    "colab": {},
    "colab_type": "code",
    "id": "N1FpUIhrulrC"
   },
   "outputs": [],
   "source": [
    "distances,indices = model_knn.kneighbors(test_user, n_neighbors = 15)"
   ]
  },
  {
   "cell_type": "code",
   "execution_count": null,
   "metadata": {
    "colab": {
     "base_uri": "https://localhost:8080/",
     "height": 204
    },
    "colab_type": "code",
    "id": "0_OIbRBvulrI",
    "outputId": "3ffbd621-b28c-42b9-d727-f2f6bed5e941"
   },
   "outputs": [
    {
     "name": "stdout",
     "output_type": "stream",
     "text": [
      "Top 10 recommendations for Rescuers Down Under, The (1990)\n",
      "Street Fighter (1994)\n",
      "Safe (1995)\n",
      "Romper Stomper (1992)\n",
      "RoboCop 3 (1993)\n",
      "Much Ado About Nothing (1993)\n",
      "Color of Night (1994)\n",
      "Vanya on 42nd Street (1994)\n",
      "Cold Comfort Farm (1995)\n",
      "Something to Talk About (1995)\n",
      "American President, The (1995)\n"
     ]
    }
   ],
   "source": [
    "print(\"Top 10 recommendations for \" + movies.loc[movie_features.index[350]][1])\n",
    "\n",
    "for i in range(10): \n",
    "    print(movies.loc[movie_features.index[indices[0][i]]][1])"
   ]
  },
  {
   "cell_type": "markdown",
   "metadata": {
    "colab_type": "text",
    "id": "PFuO3Q76ulrL"
   },
   "source": [
    "#Part II: Deep Learning Methods for Recommendations\n",
    "\n"
   ]
  },
  {
   "cell_type": "code",
   "execution_count": null,
   "metadata": {
    "colab": {},
    "colab_type": "code",
    "id": "sd8AOn2bulrN"
   },
   "outputs": [],
   "source": [
    "max_userid = ratings['userId'].nunique()+1\n",
    "max_movieid = ratings['movieId'].drop_duplicates().max()+1\n"
   ]
  },
  {
   "cell_type": "markdown",
   "metadata": {
    "colab_type": "text",
    "id": "IABUmD4BiF8W"
   },
   "source": [
    "Preparing the data for training. "
   ]
  },
  {
   "cell_type": "code",
   "execution_count": null,
   "metadata": {
    "colab": {},
    "colab_type": "code",
    "id": "2BjJDa6ZPdwe"
   },
   "outputs": [],
   "source": [
    "\n",
    "randomized_ratings = ratings.sample(frac=1, random_state=100)"
   ]
  },
  {
   "cell_type": "code",
   "execution_count": null,
   "metadata": {
    "colab": {
     "base_uri": "https://localhost:8080/",
     "height": 578
    },
    "colab_type": "code",
    "id": "N5W2fdUjPi9g",
    "outputId": "7d9a64ce-fb42-4779-f539-70dcb5a91bee"
   },
   "outputs": [
    {
     "name": "stdout",
     "output_type": "stream",
     "text": [
      "Model: \"functional_1\"\n",
      "__________________________________________________________________________________________________\n",
      "Layer (type)                    Output Shape         Param #     Connected to                     \n",
      "==================================================================================================\n",
      "input_1 (InputLayer)            [(None, 1)]          0                                            \n",
      "__________________________________________________________________________________________________\n",
      "input_2 (InputLayer)            [(None, 1)]          0                                            \n",
      "__________________________________________________________________________________________________\n",
      "embedding (Embedding)           (None, 1, 100)       61100       input_1[0][0]                    \n",
      "__________________________________________________________________________________________________\n",
      "embedding_1 (Embedding)         (None, 1, 100)       19361000    input_2[0][0]                    \n",
      "__________________________________________________________________________________________________\n",
      "reshape (Reshape)               (None, 100)          0           embedding[0][0]                  \n",
      "__________________________________________________________________________________________________\n",
      "reshape_1 (Reshape)             (None, 100)          0           embedding_1[0][0]                \n",
      "__________________________________________________________________________________________________\n",
      "concatenate (Concatenate)       (None, 200)          0           reshape[0][0]                    \n",
      "                                                                 reshape_1[0][0]                  \n",
      "__________________________________________________________________________________________________\n",
      "dense (Dense)                   (None, 10)           2010        concatenate[0][0]                \n",
      "__________________________________________________________________________________________________\n",
      "activation (Activation)         (None, 10)           0           dense[0][0]                      \n",
      "__________________________________________________________________________________________________\n",
      "dropout (Dropout)               (None, 10)           0           activation[0][0]                 \n",
      "__________________________________________________________________________________________________\n",
      "dense_1 (Dense)                 (None, 1)            11          dropout[0][0]                    \n",
      "__________________________________________________________________________________________________\n",
      "activation_1 (Activation)       (None, 1)            0           dense_1[0][0]                    \n",
      "==================================================================================================\n",
      "Total params: 19,424,121\n",
      "Trainable params: 19,424,121\n",
      "Non-trainable params: 0\n",
      "__________________________________________________________________________________________________\n"
     ]
    }
   ],
   "source": [
    "from keras.callbacks import Callback, EarlyStopping, ModelCheckpoint\n",
    "from keras.layers import Embedding, Reshape, Concatenate, Add, Dot, Input, Dropout, Dense, Activation\n",
    "from keras.models import Model\n",
    "from keras.models import Sequential\n",
    "from keras.optimizers import Adam\n",
    "\n",
    "user_shape = Input(shape=(1,))\n",
    "u_embvec = Embedding(max_userid, 100)(user_shape)\n",
    "u_embvec = Reshape((100,))(u_embvec)\n",
    "\n",
    "movie_shape = Input(shape=(1,))\n",
    "m_embvec = Embedding(max_movieid, 100)(movie_shape)\n",
    "m_embvec = Reshape((100,))(m_embvec)\n",
    "\n",
    "x = Concatenate()([u_embvec, m_embvec])\n",
    "\n",
    "x = Dense(10)(x)\n",
    "x = Activation('relu')(x)\n",
    "x = Dropout(0.5)(x)\n",
    "\n",
    "x = Dense(1)(x)\n",
    "x = Activation('linear')(x)\n",
    "\n",
    "model = Model(inputs=[user_shape, movie_shape], outputs=x)\n",
    "model.compile(loss='mean_squared_error', optimizer=Adam(lr=0.001))\n",
    "model.summary()"
   ]
  },
  {
   "cell_type": "code",
   "execution_count": null,
   "metadata": {
    "colab": {
     "base_uri": "https://localhost:8080/",
     "height": 187
    },
    "colab_type": "code",
    "id": "eqKbEXAlPnRu",
    "outputId": "c84e7299-2ce2-412b-ae89-774baf8aff73"
   },
   "outputs": [
    {
     "name": "stdout",
     "output_type": "stream",
     "text": [
      "Epoch 1/5\n",
      "709/709 [==============================] - 126s 177ms/step - loss: 3.6004 - val_loss: 1.0647\n",
      "Epoch 2/5\n",
      "709/709 [==============================] - 125s 177ms/step - loss: 2.1423 - val_loss: 0.9731\n",
      "Epoch 3/5\n",
      "709/709 [==============================] - 126s 177ms/step - loss: 1.7699 - val_loss: 0.8967\n",
      "Epoch 4/5\n",
      "709/709 [==============================] - 125s 177ms/step - loss: 1.4418 - val_loss: 0.8683\n",
      "Epoch 5/5\n",
      "709/709 [==============================] - 125s 176ms/step - loss: 1.1756 - val_loss: 0.7991\n"
     ]
    }
   ],
   "source": [
    "history = model.fit([randomized_ratings['userId'], randomized_ratings['movieId']], randomized_ratings['rating'], batch_size=128, epochs=5, verbose=1, validation_split=0.1)"
   ]
  },
  {
   "cell_type": "markdown",
   "metadata": {
    "colab_type": "text",
    "id": "ZasidArRhdpF"
   },
   "source": [
    "While recommending new movies to a user, we need to recommend only those movies which the user has not seen yet. So, we are collecting a list of all the movies the user has not seen yet."
   ]
  },
  {
   "cell_type": "code",
   "execution_count": null,
   "metadata": {
    "colab": {
     "base_uri": "https://localhost:8080/",
     "height": 34
    },
    "colab_type": "code",
    "id": "7RzAY2KibIT-",
    "outputId": "69a61bdd-5055-4377-cd61-1db2c3c27b42"
   },
   "outputs": [
    {
     "data": {
      "text/plain": [
       "array([     1,      2,      4, ..., 193585, 193587, 193609])"
      ]
     },
     "execution_count": 69,
     "metadata": {
      "tags": []
     },
     "output_type": "execute_result"
    }
   ],
   "source": [
    "userid =100\n",
    "watched_movies = ratings[ratings['userId'] == userid]\n",
    "unwatched_movies=pd.concat([movies['movieId'],watched_movies['movieId']]).drop_duplicates(keep=False)\n",
    "unwatched_movies.values"
   ]
  },
  {
   "cell_type": "markdown",
   "metadata": {
    "colab_type": "text",
    "id": "rj1QynuEhSCh"
   },
   "source": [
    "Predicting the rating for all the movies a particular user has watched."
   ]
  },
  {
   "cell_type": "code",
   "execution_count": null,
   "metadata": {
    "colab": {},
    "colab_type": "code",
    "id": "TWc1xf2B11aU"
   },
   "outputs": [],
   "source": [
    "\n",
    "l = [None] * len(unwatched_movies.values)\n",
    "for i in range(len(unwatched_movies.values)):\n",
    "  l[i]=model.__call__([np.array([userid]), np.array([unwatched_movies.values[i]])])[0][0]\n"
   ]
  },
  {
   "cell_type": "markdown",
   "metadata": {
    "colab_type": "text",
    "id": "d1qq06av4tng"
   },
   "source": [
    "model.__call__ gave much faster results as compared to model.predict. \n",
    "Code for predict method is as follows:\n",
    "##### l=[]\n",
    "##### for i in unwatched_movies.values:\n",
    "#####   l.append(model.predict([np.array([userid]), np.array([i])])[0][0])\n",
    "\n",
    "__call__ can be used for a smaller input size. \n",
    "model.predict took around 430 seconds to predict on the entire input set while model.__call__ took 49 seconds."
   ]
  },
  {
   "cell_type": "code",
   "execution_count": null,
   "metadata": {
    "colab": {},
    "colab_type": "code",
    "id": "qpIUWLBG4OXa"
   },
   "outputs": [],
   "source": [
    "df_final = pd.DataFrame()\n",
    "df_final['movie'] = unwatched_movies\n",
    "df_final['predicted_rating'] = l\n"
   ]
  },
  {
   "cell_type": "code",
   "execution_count": null,
   "metadata": {
    "colab": {},
    "colab_type": "code",
    "id": "mhj7fGXQ4aG7"
   },
   "outputs": [],
   "source": [
    "df_final.sort_values('predicted_rating',ascending=False,inplace=True)"
   ]
  },
  {
   "cell_type": "code",
   "execution_count": null,
   "metadata": {
    "colab": {
     "base_uri": "https://localhost:8080/",
     "height": 224
    },
    "colab_type": "code",
    "id": "maubBGWm9QKZ",
    "outputId": "b097811d-6457-487e-9f71-44c563513989"
   },
   "outputs": [
    {
     "name": "stdout",
     "output_type": "stream",
     "text": [
      "Top 10 recommendations for user : 100\n",
      "Neon Genesis Evangelion: The End of Evangelion (Shin seiki Evangelion Gekijô-ban: Air/Magokoro wo, kimi ni) (1997) with predicted rating 4.88\n",
      "Piper (2016) with predicted rating 4.62\n",
      "Afterglow (1997) with predicted rating 4.60\n",
      "Rififi (Du rififi chez les hommes) (1955) with predicted rating 4.59\n",
      "No Direction Home: Bob Dylan (2005) with predicted rating 4.56\n",
      "Baby Driver (2017) with predicted rating 4.56\n",
      "Adam's Rib (1949) with predicted rating 4.55\n",
      "Three Billboards Outside Ebbing, Missouri (2017) with predicted rating 4.54\n",
      "Come and See (Idi i smotri) (1985) with predicted rating 4.53\n",
      "Day of the Doctor, The (2013) with predicted rating 4.52\n"
     ]
    }
   ],
   "source": [
    "print(\"Top 10 recommendations for user : \" + str(userid))\n",
    "\n",
    "for i in range(0,10,1):\n",
    "    print(movies[movies['movieId'] == df_final['movie'].values[i]]['title'].values[0] + \" with predicted rating \" + str(\"%.2f\" % df_final['predicted_rating'].values[i]))"
   ]
  },
  {
   "cell_type": "code",
   "execution_count": null,
   "metadata": {
    "colab": {
     "base_uri": "https://localhost:8080/",
     "height": 312
    },
    "colab_type": "code",
    "id": "-lBUNc7h-41q",
    "outputId": "89e52102-c1cb-488b-d9a3-e2efb86c0ff6"
   },
   "outputs": [
    {
     "data": {
      "text/plain": [
       "<matplotlib.legend.Legend at 0x7f1acf512ef0>"
      ]
     },
     "execution_count": 74,
     "metadata": {
      "tags": []
     },
     "output_type": "execute_result"
    },
    {
     "data": {
      "image/png": "[encoded data removed]",
      "text/plain": [
       "<Figure size 432x288 with 1 Axes>"
      ]
     },
     "metadata": {
      "needs_background": "light",
      "tags": []
     },
     "output_type": "display_data"
    }
   ],
   "source": [
    "plt.figure()\n",
    "plt.plot(history.history['loss'])\n",
    "plt.plot(history.history['val_loss'])\n",
    "plt.title('Train vs Validation Loss over each epoch')\n",
    "plt.ylabel('loss')\n",
    "plt.xlabel('epoch')\n",
    "plt.legend(['Train', 'Validation'], loc='best')"
   ]
  },
  {
   "cell_type": "markdown",
   "metadata": {
    "colab_type": "text",
    "id": "razyQCAUO8eB"
   },
   "source": [
    "For part 1, KNN, we take consider the different user ratings given to a movie and see how similar a movie is to another movie based on the cosine similarity. In this way, we see the most similar movies to the given input and recommend these to the user.\n",
    "\n",
    "For part 2, deep learning approach, we predict the rating for a user and movie id. If we predict as per the user, we get an idea on what kind of recommendations to give to this user. As this predicts the ratings the user would give to the movies they have not seen yet. In this process, we recommend movies with the highest predicted rating. We use embeddings to represent each user and each movie in the data. These embeddings will be vectors that are initially random numbers but are later fit by the model to capture the important qualities of each user and movie id.\n",
    "\n",
    "The recommendations from both the ML and the deep learning methods might be different as the basis of recommendation of both these approaches is different. ML method recommends movies based on user and movie similarity and the Deep Learning approach recommends movies based on regression, that is, by predicting the ratings by a user for a movie."
   ]
  },
  {
   "cell_type": "markdown",
   "metadata": {
    "colab": {},
    "colab_type": "code",
    "id": "E-z_W1t-Vjev"
   },
   "source": [
    "## REFERENCES\n",
    "1. https://www.johnwittenauer.net/deep-learning-with-keras-recommender-systems/\n",
    "2. https://machinelearningmastery.com/use-word-embedding-layers-deep-learning-keras/\n",
    "3. https://scikit-learn.org/stable/modules/generated/sklearn.neighbors.NearestNeighbors.html#sklearn.neighbors.NearestNeighbors"
   ]
  },
  {
   "cell_type": "code",
   "execution_count": null,
   "metadata": {},
   "outputs": [],
   "source": []
  }
 ],
 "metadata": {
  "accelerator": "GPU",
  "colab": {
   "name": "Recommended Systems_Sruthi.ipynb",
   "provenance": [],
   "toc_visible": true
  },
  "kernelspec": {
   "display_name": "Python 3",
   "language": "python",
   "name": "python3"
  },
  "language_info": {
   "codemirror_mode": {
    "name": "ipython",
    "version": 3
   },
   "file_extension": ".py",
   "mimetype": "text/x-python",
   "name": "python",
   "nbconvert_exporter": "python",
   "pygments_lexer": "ipython3",
   "version": "3.7.6"
  }
 },
 "nbformat": 4,
 "nbformat_minor": 1
}
