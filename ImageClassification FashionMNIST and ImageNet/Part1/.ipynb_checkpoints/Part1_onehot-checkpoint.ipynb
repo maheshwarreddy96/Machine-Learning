{
 "cells": [
  {
   "cell_type": "code",
   "execution_count": 1,
   "metadata": {
    "colab": {
     "base_uri": "https://localhost:8080/",
     "height": 34
    },
    "colab_type": "code",
    "id": "NvNb6K1y_lja",
    "outputId": "79cd9b2e-0290-4eb2-cd77-7aaf74ec4065"
   },
   "outputs": [
    {
     "name": "stderr",
     "output_type": "stream",
     "text": [
      "Using TensorFlow backend.\n"
     ]
    }
   ],
   "source": [
    "from __future__ import print_function\n",
    "import keras\n",
    "from keras.datasets import mnist\n",
    "from keras.models import Sequential\n",
    "from keras.layers import Dense, Dropout, Flatten\n",
    "from keras.layers import Conv2D, MaxPooling2D\n",
    "from keras import backend as K\n",
    "from keras.layers import BatchNormalization\n",
    "from sklearn.model_selection import train_test_split\n",
    "import matplotlib.pyplot as plt"
   ]
  },
  {
   "cell_type": "code",
   "execution_count": 2,
   "metadata": {
    "colab": {},
    "colab_type": "code",
    "id": "bN2J8cYwk8CZ"
   },
   "outputs": [],
   "source": [
    "batch_size = 128\n",
    "num_classes = 10\n",
    "epochs = 12"
   ]
  },
  {
   "cell_type": "markdown",
   "metadata": {
    "colab_type": "text",
    "id": "drdRN_GNk8Cc"
   },
   "source": [
    "## Load Data"
   ]
  },
  {
   "cell_type": "code",
   "execution_count": 18,
   "metadata": {
    "colab": {},
    "colab_type": "code",
    "id": "YYye2inKw9mW"
   },
   "outputs": [],
   "source": [
    "labels_to_names = {\n",
    "        0: 'T-shirt/top',\n",
    "        1: 'Trouser',\n",
    "        2: 'Pullover',\n",
    "        3: 'Dress',\n",
    "        4: 'Coat',\n",
    "        5: 'Sandal',\n",
    "        6: 'Shirt',\n",
    "        7: 'Sneaker',\n",
    "        8: 'Bag',\n",
    "        9: 'Ankle boot',\n",
    "    }"
   ]
  },
  {
   "cell_type": "code",
   "execution_count": 3,
   "metadata": {
    "colab": {
     "base_uri": "https://localhost:8080/",
     "height": 153
    },
    "colab_type": "code",
    "id": "zIPn-wHsk8Cc",
    "outputId": "4e96d864-d42c-49bb-857f-3506f195dd75"
   },
   "outputs": [
    {
     "name": "stdout",
     "output_type": "stream",
     "text": [
      "Downloading data from http://fashion-mnist.s3-website.eu-central-1.amazonaws.com/train-labels-idx1-ubyte.gz\n",
      "32768/29515 [=================================] - 0s 0us/step\n",
      "Downloading data from http://fashion-mnist.s3-website.eu-central-1.amazonaws.com/train-images-idx3-ubyte.gz\n",
      "26427392/26421880 [==============================] - 0s 0us/step\n",
      "Downloading data from http://fashion-mnist.s3-website.eu-central-1.amazonaws.com/t10k-labels-idx1-ubyte.gz\n",
      "8192/5148 [===============================================] - 0s 0us/step\n",
      "Downloading data from http://fashion-mnist.s3-website.eu-central-1.amazonaws.com/t10k-images-idx3-ubyte.gz\n",
      "4423680/4422102 [==============================] - 0s 0us/step\n"
     ]
    }
   ],
   "source": [
    "# input image dimensions\n",
    "img_rows, img_cols = 28, 28\n",
    "\n",
    "# the data, split between train and test sets\n",
    "from keras.datasets import fashion_mnist\n",
    "(x, y), (x_test, y_test) = fashion_mnist.load_data()\n",
    "\n",
    "x_train, x_val, y_train, y_val = train_test_split(x, y, test_size=0.2, random_state=13)\n"
   ]
  },
  {
   "cell_type": "code",
   "execution_count": 4,
   "metadata": {
    "colab": {
     "base_uri": "https://localhost:8080/",
     "height": 85
    },
    "colab_type": "code",
    "id": "7KShI5Rpk8Cf",
    "outputId": "bd38fefb-af9c-4100-82d9-84f18b34b9df"
   },
   "outputs": [
    {
     "name": "stdout",
     "output_type": "stream",
     "text": [
      "(48000, 28, 28)\n",
      "(48000,)\n",
      "(12000, 28, 28)\n",
      "(12000,)\n"
     ]
    }
   ],
   "source": [
    "print(x_train.shape)\n",
    "print(y_train.shape)\n",
    "print(x_val.shape)\n",
    "print(y_val.shape)"
   ]
  },
  {
   "cell_type": "code",
   "execution_count": 5,
   "metadata": {
    "colab": {
     "base_uri": "https://localhost:8080/",
     "height": 285
    },
    "colab_type": "code",
    "id": "sxcOLuyDk8Cj",
    "outputId": "6121c9bd-f245-4f64-a3be-fe204aa4a2de"
   },
   "outputs": [
    {
     "data": {
      "text/plain": [
       "([], <a list of 0 Text major ticklabel objects>)"
      ]
     },
     "execution_count": 5,
     "metadata": {
      "tags": []
     },
     "output_type": "execute_result"
    },
    {
     "data": {
      "image/png": "[encoded data removed]",
      "text/plain": [
       "<Figure size 432x288 with 1 Axes>"
      ]
     },
     "metadata": {
      "tags": []
     },
     "output_type": "display_data"
    }
   ],
   "source": [
    "\n",
    "sample_size = 50\n",
    "rand_indexes = np.random.randint(0, len(x), sample_size)\n",
    "fig, axis = plt.subplots(4, 4, figsize=(14, 14))\n",
    "for i, ax in enumerate(axis.flat):\n",
    "    n=random.randint(0,40000)\n",
    "    ax.imshow(x_train[n])\n",
    "    ax.set(title= \" Fashion Item \" + str(labels_to_names[y_train[n]]) )"
   ]
  },
  {
   "cell_type": "markdown",
   "metadata": {
    "colab_type": "text",
    "id": "rMgsLmPjk8Co"
   },
   "source": [
    "# Format the data for training"
   ]
  },
  {
   "cell_type": "markdown",
   "metadata": {
    "colab_type": "text",
    "id": "Y6UH1TPwk8Co"
   },
   "source": [
    "# Normilize"
   ]
  },
  {
   "cell_type": "code",
   "execution_count": 7,
   "metadata": {
    "colab": {
     "base_uri": "https://localhost:8080/",
     "height": 68
    },
    "colab_type": "code",
    "id": "UeL3v4rwk8Cp",
    "outputId": "808ab478-dbc3-4acc-b363-d7a4950abf14"
   },
   "outputs": [
    {
     "name": "stdout",
     "output_type": "stream",
     "text": [
      "x_train shape: (48000, 28, 28, 1)\n",
      "x_test shape: (10000, 28, 28, 1)\n",
      "x_val shape: (12000, 28, 28, 1)\n"
     ]
    }
   ],
   "source": [
    "x_train = x_train.reshape(x_train.shape[0], img_rows, img_cols, 1)\n",
    "x_test = x_test.reshape(x_test.shape[0], img_rows, img_cols, 1)\n",
    "x_val = x_val.reshape(x_val.shape[0], img_rows, img_cols, 1)\n",
    "input_shape = (img_rows, img_cols, 1)\n",
    "\n",
    "x_train = x_train.astype('float32')/255\n",
    "x_test = x_test.astype('float32')/255\n",
    "x_val = x_val.astype('float32')/255\n",
    "\n",
    "print('x_train shape:', x_train.shape)\n",
    "print('x_test shape:', x_test.shape)\n",
    "print('x_val shape:', x_val.shape)\n",
    "\n"
   ]
  },
  {
   "cell_type": "markdown",
   "metadata": {
    "colab_type": "text",
    "id": "QUNFvOmTk8Cr"
   },
   "source": [
    "## One-hot encoding"
   ]
  },
  {
   "cell_type": "code",
   "execution_count": 8,
   "metadata": {
    "colab": {},
    "colab_type": "code",
    "id": "dHq-KTajk8Cs"
   },
   "outputs": [],
   "source": [
    "y_train = keras.utils.to_categorical(y_train, num_classes)\n",
    "y_test = keras.utils.to_categorical(y_test, num_classes)\n",
    "y_val = keras.utils.to_categorical(y_val, num_classes)"
   ]
  },
  {
   "cell_type": "code",
   "execution_count": 9,
   "metadata": {
    "colab": {
     "base_uri": "https://localhost:8080/",
     "height": 34
    },
    "colab_type": "code",
    "id": "ShCjHZ27k8Cu",
    "outputId": "a52ccf70-aea1-4e26-af27-868566d678fe"
   },
   "outputs": [
    {
     "name": "stdout",
     "output_type": "stream",
     "text": [
      "[0. 0. 0. 1. 0. 0. 0. 0. 0. 0.]\n"
     ]
    }
   ],
   "source": [
    "print(y_train[1])"
   ]
  },
  {
   "cell_type": "markdown",
   "metadata": {
    "colab_type": "text",
    "id": "qDfJNq3Ok8Cv"
   },
   "source": [
    "## Building the neural network"
   ]
  },
  {
   "cell_type": "code",
   "execution_count": 10,
   "metadata": {
    "colab": {},
    "colab_type": "code",
    "id": "ydM4kZWxk8Cw"
   },
   "outputs": [],
   "source": [
    "model = Sequential()\n",
    "model.add(Conv2D(32, kernel_size=(3,3), activation='relu', padding='same', input_shape=input_shape))\n",
    "model.add(BatchNormalization())\n",
    "model.add(Conv2D(64, (3,3), activation='relu'))\n",
    "model.add(BatchNormalization())\n",
    "model.add(Conv2D(128, (3,3), activation='relu'))\n",
    "model.add(BatchNormalization())\n",
    "model.add(MaxPooling2D(pool_size=(2,2)))\n",
    "model.add(Dropout(0.2))\n",
    "\n",
    "model.add(Flatten())\n",
    "model.add(Dense(256, activation='relu'))\n",
    "model.add(BatchNormalization())\n",
    "model.add(Dropout(0.2))\n",
    "model.add(Dense(128, activation='relu'))\n",
    "model.add(Dropout(0.2))\n",
    "model.add(Dense(num_classes, activation='softmax'))"
   ]
  },
  {
   "cell_type": "code",
   "execution_count": 11,
   "metadata": {
    "colab": {},
    "colab_type": "code",
    "id": "5rvTOfoJk8Cy"
   },
   "outputs": [],
   "source": [
    "model.compile(loss=keras.losses.categorical_crossentropy,\n",
    "              optimizer=keras.optimizers.Adadelta(),\n",
    "              metrics=['accuracy'])"
   ]
  },
  {
   "cell_type": "code",
   "execution_count": 12,
   "metadata": {
    "colab": {
     "base_uri": "https://localhost:8080/",
     "height": 663
    },
    "colab_type": "code",
    "id": "Fa_XQen8k8C0",
    "outputId": "0ae70d41-293b-41c1-c60a-c563826c3dab"
   },
   "outputs": [
    {
     "name": "stdout",
     "output_type": "stream",
     "text": [
      "Model: \"sequential_1\"\n",
      "_________________________________________________________________\n",
      "Layer (type)                 Output Shape              Param #   \n",
      "=================================================================\n",
      "conv2d_1 (Conv2D)            (None, 28, 28, 32)        320       \n",
      "_________________________________________________________________\n",
      "batch_normalization_1 (Batch (None, 28, 28, 32)        128       \n",
      "_________________________________________________________________\n",
      "conv2d_2 (Conv2D)            (None, 26, 26, 64)        18496     \n",
      "_________________________________________________________________\n",
      "batch_normalization_2 (Batch (None, 26, 26, 64)        256       \n",
      "_________________________________________________________________\n",
      "conv2d_3 (Conv2D)            (None, 24, 24, 128)       73856     \n",
      "_________________________________________________________________\n",
      "batch_normalization_3 (Batch (None, 24, 24, 128)       512       \n",
      "_________________________________________________________________\n",
      "max_pooling2d_1 (MaxPooling2 (None, 12, 12, 128)       0         \n",
      "_________________________________________________________________\n",
      "dropout_1 (Dropout)          (None, 12, 12, 128)       0         \n",
      "_________________________________________________________________\n",
      "flatten_1 (Flatten)          (None, 18432)             0         \n",
      "_________________________________________________________________\n",
      "dense_1 (Dense)              (None, 256)               4718848   \n",
      "_________________________________________________________________\n",
      "batch_normalization_4 (Batch (None, 256)               1024      \n",
      "_________________________________________________________________\n",
      "dropout_2 (Dropout)          (None, 256)               0         \n",
      "_________________________________________________________________\n",
      "dense_2 (Dense)              (None, 128)               32896     \n",
      "_________________________________________________________________\n",
      "dropout_3 (Dropout)          (None, 128)               0         \n",
      "_________________________________________________________________\n",
      "dense_3 (Dense)              (None, 10)                1290      \n",
      "=================================================================\n",
      "Total params: 4,847,626\n",
      "Trainable params: 4,846,666\n",
      "Non-trainable params: 960\n",
      "_________________________________________________________________\n"
     ]
    }
   ],
   "source": [
    "model.summary()"
   ]
  },
  {
   "cell_type": "code",
   "execution_count": 13,
   "metadata": {
    "colab": {
     "base_uri": "https://localhost:8080/",
     "height": 1000
    },
    "colab_type": "code",
    "id": "nIrYRUXZk8C2",
    "outputId": "6e6c70c8-193d-4821-e5ea-84e904b78124"
   },
   "outputs": [
    {
     "data": {
      "image/svg+xml": [
       "<svg height=\"1733pt\" viewBox=\"0.00 0.00 469.00 1300.00\" width=\"625pt\" xmlns=\"http://www.w3.org/2000/svg\" xmlns:xlink=\"http://www.w3.org/1999/xlink\">\n",
       "<g class=\"graph\" id=\"graph0\" transform=\"scale(1.3333 1.3333) rotate(0) translate(4 1296)\">\n",
       "<title>G</title>\n",
       "<polygon fill=\"#ffffff\" points=\"-4,4 -4,-1296 465,-1296 465,4 -4,4\" stroke=\"transparent\"/>\n",
       "<!-- 140202859801400 -->\n",
       "<g class=\"node\" id=\"node1\">\n",
       "<title>140202859801400</title>\n",
       "<polygon fill=\"none\" points=\"51,-1245.5 51,-1291.5 410,-1291.5 410,-1245.5 51,-1245.5\" stroke=\"#000000\"/>\n",
       "<text fill=\"#000000\" font-family=\"Times,serif\" font-size=\"14.00\" text-anchor=\"middle\" x=\"143\" y=\"-1264.8\">conv2d_1_input: InputLayer</text>\n",
       "<polyline fill=\"none\" points=\"235,-1245.5 235,-1291.5 \" stroke=\"#000000\"/>\n",
       "<text fill=\"#000000\" font-family=\"Times,serif\" font-size=\"14.00\" text-anchor=\"middle\" x=\"264\" y=\"-1276.3\">input:</text>\n",
       "<polyline fill=\"none\" points=\"235,-1268.5 293,-1268.5 \" stroke=\"#000000\"/>\n",
       "<text fill=\"#000000\" font-family=\"Times,serif\" font-size=\"14.00\" text-anchor=\"middle\" x=\"264\" y=\"-1253.3\">output:</text>\n",
       "<polyline fill=\"none\" points=\"293,-1245.5 293,-1291.5 \" stroke=\"#000000\"/>\n",
       "<text fill=\"#000000\" font-family=\"Times,serif\" font-size=\"14.00\" text-anchor=\"middle\" x=\"351.5\" y=\"-1276.3\">(None, 28, 28, 1)</text>\n",
       "<polyline fill=\"none\" points=\"293,-1268.5 410,-1268.5 \" stroke=\"#000000\"/>\n",
       "<text fill=\"#000000\" font-family=\"Times,serif\" font-size=\"14.00\" text-anchor=\"middle\" x=\"351.5\" y=\"-1253.3\">(None, 28, 28, 1)</text>\n",
       "</g>\n",
       "<!-- 140202859799888 -->\n",
       "<g class=\"node\" id=\"node2\">\n",
       "<title>140202859799888</title>\n",
       "<polygon fill=\"none\" points=\"72.5,-1162.5 72.5,-1208.5 388.5,-1208.5 388.5,-1162.5 72.5,-1162.5\" stroke=\"#000000\"/>\n",
       "<text fill=\"#000000\" font-family=\"Times,serif\" font-size=\"14.00\" text-anchor=\"middle\" x=\"139\" y=\"-1181.8\">conv2d_1: Conv2D</text>\n",
       "<polyline fill=\"none\" points=\"205.5,-1162.5 205.5,-1208.5 \" stroke=\"#000000\"/>\n",
       "<text fill=\"#000000\" font-family=\"Times,serif\" font-size=\"14.00\" text-anchor=\"middle\" x=\"234.5\" y=\"-1193.3\">input:</text>\n",
       "<polyline fill=\"none\" points=\"205.5,-1185.5 263.5,-1185.5 \" stroke=\"#000000\"/>\n",
       "<text fill=\"#000000\" font-family=\"Times,serif\" font-size=\"14.00\" text-anchor=\"middle\" x=\"234.5\" y=\"-1170.3\">output:</text>\n",
       "<polyline fill=\"none\" points=\"263.5,-1162.5 263.5,-1208.5 \" stroke=\"#000000\"/>\n",
       "<text fill=\"#000000\" font-family=\"Times,serif\" font-size=\"14.00\" text-anchor=\"middle\" x=\"326\" y=\"-1193.3\">(None, 28, 28, 1)</text>\n",
       "<polyline fill=\"none\" points=\"263.5,-1185.5 388.5,-1185.5 \" stroke=\"#000000\"/>\n",
       "<text fill=\"#000000\" font-family=\"Times,serif\" font-size=\"14.00\" text-anchor=\"middle\" x=\"326\" y=\"-1170.3\">(None, 28, 28, 32)</text>\n",
       "</g>\n",
       "<!-- 140202859801400&#45;&gt;140202859799888 -->\n",
       "<g class=\"edge\" id=\"edge1\">\n",
       "<title>140202859801400-&gt;140202859799888</title>\n",
       "<path d=\"M230.5,-1245.3799C230.5,-1237.1745 230.5,-1227.7679 230.5,-1218.8786\" fill=\"none\" stroke=\"#000000\"/>\n",
       "<polygon fill=\"#000000\" points=\"234.0001,-1218.784 230.5,-1208.784 227.0001,-1218.784 234.0001,-1218.784\" stroke=\"#000000\"/>\n",
       "</g>\n",
       "<!-- 140202859801064 -->\n",
       "<g class=\"node\" id=\"node3\">\n",
       "<title>140202859801064</title>\n",
       "<polygon fill=\"none\" points=\"3.5,-1079.5 3.5,-1125.5 457.5,-1125.5 457.5,-1079.5 3.5,-1079.5\" stroke=\"#000000\"/>\n",
       "<text fill=\"#000000\" font-family=\"Times,serif\" font-size=\"14.00\" text-anchor=\"middle\" x=\"139\" y=\"-1098.8\">batch_normalization_1: BatchNormalization</text>\n",
       "<polyline fill=\"none\" points=\"274.5,-1079.5 274.5,-1125.5 \" stroke=\"#000000\"/>\n",
       "<text fill=\"#000000\" font-family=\"Times,serif\" font-size=\"14.00\" text-anchor=\"middle\" x=\"303.5\" y=\"-1110.3\">input:</text>\n",
       "<polyline fill=\"none\" points=\"274.5,-1102.5 332.5,-1102.5 \" stroke=\"#000000\"/>\n",
       "<text fill=\"#000000\" font-family=\"Times,serif\" font-size=\"14.00\" text-anchor=\"middle\" x=\"303.5\" y=\"-1087.3\">output:</text>\n",
       "<polyline fill=\"none\" points=\"332.5,-1079.5 332.5,-1125.5 \" stroke=\"#000000\"/>\n",
       "<text fill=\"#000000\" font-family=\"Times,serif\" font-size=\"14.00\" text-anchor=\"middle\" x=\"395\" y=\"-1110.3\">(None, 28, 28, 32)</text>\n",
       "<polyline fill=\"none\" points=\"332.5,-1102.5 457.5,-1102.5 \" stroke=\"#000000\"/>\n",
       "<text fill=\"#000000\" font-family=\"Times,serif\" font-size=\"14.00\" text-anchor=\"middle\" x=\"395\" y=\"-1087.3\">(None, 28, 28, 32)</text>\n",
       "</g>\n",
       "<!-- 140202859799888&#45;&gt;140202859801064 -->\n",
       "<g class=\"edge\" id=\"edge2\">\n",
       "<title>140202859799888-&gt;140202859801064</title>\n",
       "<path d=\"M230.5,-1162.3799C230.5,-1154.1745 230.5,-1144.7679 230.5,-1135.8786\" fill=\"none\" stroke=\"#000000\"/>\n",
       "<polygon fill=\"#000000\" points=\"234.0001,-1135.784 230.5,-1125.784 227.0001,-1135.784 234.0001,-1135.784\" stroke=\"#000000\"/>\n",
       "</g>\n",
       "<!-- 140202859801624 -->\n",
       "<g class=\"node\" id=\"node4\">\n",
       "<title>140202859801624</title>\n",
       "<polygon fill=\"none\" points=\"72.5,-996.5 72.5,-1042.5 388.5,-1042.5 388.5,-996.5 72.5,-996.5\" stroke=\"#000000\"/>\n",
       "<text fill=\"#000000\" font-family=\"Times,serif\" font-size=\"14.00\" text-anchor=\"middle\" x=\"139\" y=\"-1015.8\">conv2d_2: Conv2D</text>\n",
       "<polyline fill=\"none\" points=\"205.5,-996.5 205.5,-1042.5 \" stroke=\"#000000\"/>\n",
       "<text fill=\"#000000\" font-family=\"Times,serif\" font-size=\"14.00\" text-anchor=\"middle\" x=\"234.5\" y=\"-1027.3\">input:</text>\n",
       "<polyline fill=\"none\" points=\"205.5,-1019.5 263.5,-1019.5 \" stroke=\"#000000\"/>\n",
       "<text fill=\"#000000\" font-family=\"Times,serif\" font-size=\"14.00\" text-anchor=\"middle\" x=\"234.5\" y=\"-1004.3\">output:</text>\n",
       "<polyline fill=\"none\" points=\"263.5,-996.5 263.5,-1042.5 \" stroke=\"#000000\"/>\n",
       "<text fill=\"#000000\" font-family=\"Times,serif\" font-size=\"14.00\" text-anchor=\"middle\" x=\"326\" y=\"-1027.3\">(None, 28, 28, 32)</text>\n",
       "<polyline fill=\"none\" points=\"263.5,-1019.5 388.5,-1019.5 \" stroke=\"#000000\"/>\n",
       "<text fill=\"#000000\" font-family=\"Times,serif\" font-size=\"14.00\" text-anchor=\"middle\" x=\"326\" y=\"-1004.3\">(None, 26, 26, 64)</text>\n",
       "</g>\n",
       "<!-- 140202859801064&#45;&gt;140202859801624 -->\n",
       "<g class=\"edge\" id=\"edge3\">\n",
       "<title>140202859801064-&gt;140202859801624</title>\n",
       "<path d=\"M230.5,-1079.3799C230.5,-1071.1745 230.5,-1061.7679 230.5,-1052.8786\" fill=\"none\" stroke=\"#000000\"/>\n",
       "<polygon fill=\"#000000\" points=\"234.0001,-1052.784 230.5,-1042.784 227.0001,-1052.784 234.0001,-1052.784\" stroke=\"#000000\"/>\n",
       "</g>\n",
       "<!-- 140202846510440 -->\n",
       "<g class=\"node\" id=\"node5\">\n",
       "<title>140202846510440</title>\n",
       "<polygon fill=\"none\" points=\"3.5,-913.5 3.5,-959.5 457.5,-959.5 457.5,-913.5 3.5,-913.5\" stroke=\"#000000\"/>\n",
       "<text fill=\"#000000\" font-family=\"Times,serif\" font-size=\"14.00\" text-anchor=\"middle\" x=\"139\" y=\"-932.8\">batch_normalization_2: BatchNormalization</text>\n",
       "<polyline fill=\"none\" points=\"274.5,-913.5 274.5,-959.5 \" stroke=\"#000000\"/>\n",
       "<text fill=\"#000000\" font-family=\"Times,serif\" font-size=\"14.00\" text-anchor=\"middle\" x=\"303.5\" y=\"-944.3\">input:</text>\n",
       "<polyline fill=\"none\" points=\"274.5,-936.5 332.5,-936.5 \" stroke=\"#000000\"/>\n",
       "<text fill=\"#000000\" font-family=\"Times,serif\" font-size=\"14.00\" text-anchor=\"middle\" x=\"303.5\" y=\"-921.3\">output:</text>\n",
       "<polyline fill=\"none\" points=\"332.5,-913.5 332.5,-959.5 \" stroke=\"#000000\"/>\n",
       "<text fill=\"#000000\" font-family=\"Times,serif\" font-size=\"14.00\" text-anchor=\"middle\" x=\"395\" y=\"-944.3\">(None, 26, 26, 64)</text>\n",
       "<polyline fill=\"none\" points=\"332.5,-936.5 457.5,-936.5 \" stroke=\"#000000\"/>\n",
       "<text fill=\"#000000\" font-family=\"Times,serif\" font-size=\"14.00\" text-anchor=\"middle\" x=\"395\" y=\"-921.3\">(None, 26, 26, 64)</text>\n",
       "</g>\n",
       "<!-- 140202859801624&#45;&gt;140202846510440 -->\n",
       "<g class=\"edge\" id=\"edge4\">\n",
       "<title>140202859801624-&gt;140202846510440</title>\n",
       "<path d=\"M230.5,-996.3799C230.5,-988.1745 230.5,-978.7679 230.5,-969.8786\" fill=\"none\" stroke=\"#000000\"/>\n",
       "<polygon fill=\"#000000\" points=\"234.0001,-969.784 230.5,-959.784 227.0001,-969.784 234.0001,-969.784\" stroke=\"#000000\"/>\n",
       "</g>\n",
       "<!-- 140202499731408 -->\n",
       "<g class=\"node\" id=\"node6\">\n",
       "<title>140202499731408</title>\n",
       "<polygon fill=\"none\" points=\"69,-830.5 69,-876.5 392,-876.5 392,-830.5 69,-830.5\" stroke=\"#000000\"/>\n",
       "<text fill=\"#000000\" font-family=\"Times,serif\" font-size=\"14.00\" text-anchor=\"middle\" x=\"135.5\" y=\"-849.8\">conv2d_3: Conv2D</text>\n",
       "<polyline fill=\"none\" points=\"202,-830.5 202,-876.5 \" stroke=\"#000000\"/>\n",
       "<text fill=\"#000000\" font-family=\"Times,serif\" font-size=\"14.00\" text-anchor=\"middle\" x=\"231\" y=\"-861.3\">input:</text>\n",
       "<polyline fill=\"none\" points=\"202,-853.5 260,-853.5 \" stroke=\"#000000\"/>\n",
       "<text fill=\"#000000\" font-family=\"Times,serif\" font-size=\"14.00\" text-anchor=\"middle\" x=\"231\" y=\"-838.3\">output:</text>\n",
       "<polyline fill=\"none\" points=\"260,-830.5 260,-876.5 \" stroke=\"#000000\"/>\n",
       "<text fill=\"#000000\" font-family=\"Times,serif\" font-size=\"14.00\" text-anchor=\"middle\" x=\"326\" y=\"-861.3\">(None, 26, 26, 64)</text>\n",
       "<polyline fill=\"none\" points=\"260,-853.5 392,-853.5 \" stroke=\"#000000\"/>\n",
       "<text fill=\"#000000\" font-family=\"Times,serif\" font-size=\"14.00\" text-anchor=\"middle\" x=\"326\" y=\"-838.3\">(None, 24, 24, 128)</text>\n",
       "</g>\n",
       "<!-- 140202846510440&#45;&gt;140202499731408 -->\n",
       "<g class=\"edge\" id=\"edge5\">\n",
       "<title>140202846510440-&gt;140202499731408</title>\n",
       "<path d=\"M230.5,-913.3799C230.5,-905.1745 230.5,-895.7679 230.5,-886.8786\" fill=\"none\" stroke=\"#000000\"/>\n",
       "<polygon fill=\"#000000\" points=\"234.0001,-886.784 230.5,-876.784 227.0001,-886.784 234.0001,-886.784\" stroke=\"#000000\"/>\n",
       "</g>\n",
       "<!-- 140202859801680 -->\n",
       "<g class=\"node\" id=\"node7\">\n",
       "<title>140202859801680</title>\n",
       "<polygon fill=\"none\" points=\"0,-747.5 0,-793.5 461,-793.5 461,-747.5 0,-747.5\" stroke=\"#000000\"/>\n",
       "<text fill=\"#000000\" font-family=\"Times,serif\" font-size=\"14.00\" text-anchor=\"middle\" x=\"135.5\" y=\"-766.8\">batch_normalization_3: BatchNormalization</text>\n",
       "<polyline fill=\"none\" points=\"271,-747.5 271,-793.5 \" stroke=\"#000000\"/>\n",
       "<text fill=\"#000000\" font-family=\"Times,serif\" font-size=\"14.00\" text-anchor=\"middle\" x=\"300\" y=\"-778.3\">input:</text>\n",
       "<polyline fill=\"none\" points=\"271,-770.5 329,-770.5 \" stroke=\"#000000\"/>\n",
       "<text fill=\"#000000\" font-family=\"Times,serif\" font-size=\"14.00\" text-anchor=\"middle\" x=\"300\" y=\"-755.3\">output:</text>\n",
       "<polyline fill=\"none\" points=\"329,-747.5 329,-793.5 \" stroke=\"#000000\"/>\n",
       "<text fill=\"#000000\" font-family=\"Times,serif\" font-size=\"14.00\" text-anchor=\"middle\" x=\"395\" y=\"-778.3\">(None, 24, 24, 128)</text>\n",
       "<polyline fill=\"none\" points=\"329,-770.5 461,-770.5 \" stroke=\"#000000\"/>\n",
       "<text fill=\"#000000\" font-family=\"Times,serif\" font-size=\"14.00\" text-anchor=\"middle\" x=\"395\" y=\"-755.3\">(None, 24, 24, 128)</text>\n",
       "</g>\n",
       "<!-- 140202499731408&#45;&gt;140202859801680 -->\n",
       "<g class=\"edge\" id=\"edge6\">\n",
       "<title>140202499731408-&gt;140202859801680</title>\n",
       "<path d=\"M230.5,-830.3799C230.5,-822.1745 230.5,-812.7679 230.5,-803.8786\" fill=\"none\" stroke=\"#000000\"/>\n",
       "<polygon fill=\"#000000\" points=\"234.0001,-803.784 230.5,-793.784 227.0001,-803.784 234.0001,-803.784\" stroke=\"#000000\"/>\n",
       "</g>\n",
       "<!-- 140202499557472 -->\n",
       "<g class=\"node\" id=\"node8\">\n",
       "<title>140202499557472</title>\n",
       "<polygon fill=\"none\" points=\"25,-664.5 25,-710.5 436,-710.5 436,-664.5 25,-664.5\" stroke=\"#000000\"/>\n",
       "<text fill=\"#000000\" font-family=\"Times,serif\" font-size=\"14.00\" text-anchor=\"middle\" x=\"135.5\" y=\"-683.8\">max_pooling2d_1: MaxPooling2D</text>\n",
       "<polyline fill=\"none\" points=\"246,-664.5 246,-710.5 \" stroke=\"#000000\"/>\n",
       "<text fill=\"#000000\" font-family=\"Times,serif\" font-size=\"14.00\" text-anchor=\"middle\" x=\"275\" y=\"-695.3\">input:</text>\n",
       "<polyline fill=\"none\" points=\"246,-687.5 304,-687.5 \" stroke=\"#000000\"/>\n",
       "<text fill=\"#000000\" font-family=\"Times,serif\" font-size=\"14.00\" text-anchor=\"middle\" x=\"275\" y=\"-672.3\">output:</text>\n",
       "<polyline fill=\"none\" points=\"304,-664.5 304,-710.5 \" stroke=\"#000000\"/>\n",
       "<text fill=\"#000000\" font-family=\"Times,serif\" font-size=\"14.00\" text-anchor=\"middle\" x=\"370\" y=\"-695.3\">(None, 24, 24, 128)</text>\n",
       "<polyline fill=\"none\" points=\"304,-687.5 436,-687.5 \" stroke=\"#000000\"/>\n",
       "<text fill=\"#000000\" font-family=\"Times,serif\" font-size=\"14.00\" text-anchor=\"middle\" x=\"370\" y=\"-672.3\">(None, 12, 12, 128)</text>\n",
       "</g>\n",
       "<!-- 140202859801680&#45;&gt;140202499557472 -->\n",
       "<g class=\"edge\" id=\"edge7\">\n",
       "<title>140202859801680-&gt;140202499557472</title>\n",
       "<path d=\"M230.5,-747.3799C230.5,-739.1745 230.5,-729.7679 230.5,-720.8786\" fill=\"none\" stroke=\"#000000\"/>\n",
       "<polygon fill=\"#000000\" points=\"234.0001,-720.784 230.5,-710.784 227.0001,-720.784 234.0001,-720.784\" stroke=\"#000000\"/>\n",
       "</g>\n",
       "<!-- 140202499558144 -->\n",
       "<g class=\"node\" id=\"node9\">\n",
       "<title>140202499558144</title>\n",
       "<polygon fill=\"none\" points=\"68.5,-581.5 68.5,-627.5 392.5,-627.5 392.5,-581.5 68.5,-581.5\" stroke=\"#000000\"/>\n",
       "<text fill=\"#000000\" font-family=\"Times,serif\" font-size=\"14.00\" text-anchor=\"middle\" x=\"135.5\" y=\"-600.8\">dropout_1: Dropout</text>\n",
       "<polyline fill=\"none\" points=\"202.5,-581.5 202.5,-627.5 \" stroke=\"#000000\"/>\n",
       "<text fill=\"#000000\" font-family=\"Times,serif\" font-size=\"14.00\" text-anchor=\"middle\" x=\"231.5\" y=\"-612.3\">input:</text>\n",
       "<polyline fill=\"none\" points=\"202.5,-604.5 260.5,-604.5 \" stroke=\"#000000\"/>\n",
       "<text fill=\"#000000\" font-family=\"Times,serif\" font-size=\"14.00\" text-anchor=\"middle\" x=\"231.5\" y=\"-589.3\">output:</text>\n",
       "<polyline fill=\"none\" points=\"260.5,-581.5 260.5,-627.5 \" stroke=\"#000000\"/>\n",
       "<text fill=\"#000000\" font-family=\"Times,serif\" font-size=\"14.00\" text-anchor=\"middle\" x=\"326.5\" y=\"-612.3\">(None, 12, 12, 128)</text>\n",
       "<polyline fill=\"none\" points=\"260.5,-604.5 392.5,-604.5 \" stroke=\"#000000\"/>\n",
       "<text fill=\"#000000\" font-family=\"Times,serif\" font-size=\"14.00\" text-anchor=\"middle\" x=\"326.5\" y=\"-589.3\">(None, 12, 12, 128)</text>\n",
       "</g>\n",
       "<!-- 140202499557472&#45;&gt;140202499558144 -->\n",
       "<g class=\"edge\" id=\"edge8\">\n",
       "<title>140202499557472-&gt;140202499558144</title>\n",
       "<path d=\"M230.5,-664.3799C230.5,-656.1745 230.5,-646.7679 230.5,-637.8786\" fill=\"none\" stroke=\"#000000\"/>\n",
       "<polygon fill=\"#000000\" points=\"234.0001,-637.784 230.5,-627.784 227.0001,-637.784 234.0001,-637.784\" stroke=\"#000000\"/>\n",
       "</g>\n",
       "<!-- 140202499677992 -->\n",
       "<g class=\"node\" id=\"node10\">\n",
       "<title>140202499677992</title>\n",
       "<polygon fill=\"none\" points=\"79,-498.5 79,-544.5 382,-544.5 382,-498.5 79,-498.5\" stroke=\"#000000\"/>\n",
       "<text fill=\"#000000\" font-family=\"Times,serif\" font-size=\"14.00\" text-anchor=\"middle\" x=\"135.5\" y=\"-517.8\">flatten_1: Flatten</text>\n",
       "<polyline fill=\"none\" points=\"192,-498.5 192,-544.5 \" stroke=\"#000000\"/>\n",
       "<text fill=\"#000000\" font-family=\"Times,serif\" font-size=\"14.00\" text-anchor=\"middle\" x=\"221\" y=\"-529.3\">input:</text>\n",
       "<polyline fill=\"none\" points=\"192,-521.5 250,-521.5 \" stroke=\"#000000\"/>\n",
       "<text fill=\"#000000\" font-family=\"Times,serif\" font-size=\"14.00\" text-anchor=\"middle\" x=\"221\" y=\"-506.3\">output:</text>\n",
       "<polyline fill=\"none\" points=\"250,-498.5 250,-544.5 \" stroke=\"#000000\"/>\n",
       "<text fill=\"#000000\" font-family=\"Times,serif\" font-size=\"14.00\" text-anchor=\"middle\" x=\"316\" y=\"-529.3\">(None, 12, 12, 128)</text>\n",
       "<polyline fill=\"none\" points=\"250,-521.5 382,-521.5 \" stroke=\"#000000\"/>\n",
       "<text fill=\"#000000\" font-family=\"Times,serif\" font-size=\"14.00\" text-anchor=\"middle\" x=\"316\" y=\"-506.3\">(None, 18432)</text>\n",
       "</g>\n",
       "<!-- 140202499558144&#45;&gt;140202499677992 -->\n",
       "<g class=\"edge\" id=\"edge9\">\n",
       "<title>140202499558144-&gt;140202499677992</title>\n",
       "<path d=\"M230.5,-581.3799C230.5,-573.1745 230.5,-563.7679 230.5,-554.8786\" fill=\"none\" stroke=\"#000000\"/>\n",
       "<polygon fill=\"#000000\" points=\"234.0001,-554.784 230.5,-544.784 227.0001,-554.784 234.0001,-554.784\" stroke=\"#000000\"/>\n",
       "</g>\n",
       "<!-- 140202499649208 -->\n",
       "<g class=\"node\" id=\"node11\">\n",
       "<title>140202499649208</title>\n",
       "<polygon fill=\"none\" points=\"97,-415.5 97,-461.5 364,-461.5 364,-415.5 97,-415.5\" stroke=\"#000000\"/>\n",
       "<text fill=\"#000000\" font-family=\"Times,serif\" font-size=\"14.00\" text-anchor=\"middle\" x=\"150.5\" y=\"-434.8\">dense_1: Dense</text>\n",
       "<polyline fill=\"none\" points=\"204,-415.5 204,-461.5 \" stroke=\"#000000\"/>\n",
       "<text fill=\"#000000\" font-family=\"Times,serif\" font-size=\"14.00\" text-anchor=\"middle\" x=\"233\" y=\"-446.3\">input:</text>\n",
       "<polyline fill=\"none\" points=\"204,-438.5 262,-438.5 \" stroke=\"#000000\"/>\n",
       "<text fill=\"#000000\" font-family=\"Times,serif\" font-size=\"14.00\" text-anchor=\"middle\" x=\"233\" y=\"-423.3\">output:</text>\n",
       "<polyline fill=\"none\" points=\"262,-415.5 262,-461.5 \" stroke=\"#000000\"/>\n",
       "<text fill=\"#000000\" font-family=\"Times,serif\" font-size=\"14.00\" text-anchor=\"middle\" x=\"313\" y=\"-446.3\">(None, 18432)</text>\n",
       "<polyline fill=\"none\" points=\"262,-438.5 364,-438.5 \" stroke=\"#000000\"/>\n",
       "<text fill=\"#000000\" font-family=\"Times,serif\" font-size=\"14.00\" text-anchor=\"middle\" x=\"313\" y=\"-423.3\">(None, 256)</text>\n",
       "</g>\n",
       "<!-- 140202499677992&#45;&gt;140202499649208 -->\n",
       "<g class=\"edge\" id=\"edge10\">\n",
       "<title>140202499677992-&gt;140202499649208</title>\n",
       "<path d=\"M230.5,-498.3799C230.5,-490.1745 230.5,-480.7679 230.5,-471.8786\" fill=\"none\" stroke=\"#000000\"/>\n",
       "<polygon fill=\"#000000\" points=\"234.0001,-471.784 230.5,-461.784 227.0001,-471.784 234.0001,-471.784\" stroke=\"#000000\"/>\n",
       "</g>\n",
       "<!-- 140202498948176 -->\n",
       "<g class=\"node\" id=\"node12\">\n",
       "<title>140202498948176</title>\n",
       "<polygon fill=\"none\" points=\"22.5,-332.5 22.5,-378.5 438.5,-378.5 438.5,-332.5 22.5,-332.5\" stroke=\"#000000\"/>\n",
       "<text fill=\"#000000\" font-family=\"Times,serif\" font-size=\"14.00\" text-anchor=\"middle\" x=\"158\" y=\"-351.8\">batch_normalization_4: BatchNormalization</text>\n",
       "<polyline fill=\"none\" points=\"293.5,-332.5 293.5,-378.5 \" stroke=\"#000000\"/>\n",
       "<text fill=\"#000000\" font-family=\"Times,serif\" font-size=\"14.00\" text-anchor=\"middle\" x=\"322.5\" y=\"-363.3\">input:</text>\n",
       "<polyline fill=\"none\" points=\"293.5,-355.5 351.5,-355.5 \" stroke=\"#000000\"/>\n",
       "<text fill=\"#000000\" font-family=\"Times,serif\" font-size=\"14.00\" text-anchor=\"middle\" x=\"322.5\" y=\"-340.3\">output:</text>\n",
       "<polyline fill=\"none\" points=\"351.5,-332.5 351.5,-378.5 \" stroke=\"#000000\"/>\n",
       "<text fill=\"#000000\" font-family=\"Times,serif\" font-size=\"14.00\" text-anchor=\"middle\" x=\"395\" y=\"-363.3\">(None, 256)</text>\n",
       "<polyline fill=\"none\" points=\"351.5,-355.5 438.5,-355.5 \" stroke=\"#000000\"/>\n",
       "<text fill=\"#000000\" font-family=\"Times,serif\" font-size=\"14.00\" text-anchor=\"middle\" x=\"395\" y=\"-340.3\">(None, 256)</text>\n",
       "</g>\n",
       "<!-- 140202499649208&#45;&gt;140202498948176 -->\n",
       "<g class=\"edge\" id=\"edge11\">\n",
       "<title>140202499649208-&gt;140202498948176</title>\n",
       "<path d=\"M230.5,-415.3799C230.5,-407.1745 230.5,-397.7679 230.5,-388.8786\" fill=\"none\" stroke=\"#000000\"/>\n",
       "<polygon fill=\"#000000\" points=\"234.0001,-388.784 230.5,-378.784 227.0001,-388.784 234.0001,-388.784\" stroke=\"#000000\"/>\n",
       "</g>\n",
       "<!-- 140202498947112 -->\n",
       "<g class=\"node\" id=\"node13\">\n",
       "<title>140202498947112</title>\n",
       "<polygon fill=\"none\" points=\"91,-249.5 91,-295.5 370,-295.5 370,-249.5 91,-249.5\" stroke=\"#000000\"/>\n",
       "<text fill=\"#000000\" font-family=\"Times,serif\" font-size=\"14.00\" text-anchor=\"middle\" x=\"158\" y=\"-268.8\">dropout_2: Dropout</text>\n",
       "<polyline fill=\"none\" points=\"225,-249.5 225,-295.5 \" stroke=\"#000000\"/>\n",
       "<text fill=\"#000000\" font-family=\"Times,serif\" font-size=\"14.00\" text-anchor=\"middle\" x=\"254\" y=\"-280.3\">input:</text>\n",
       "<polyline fill=\"none\" points=\"225,-272.5 283,-272.5 \" stroke=\"#000000\"/>\n",
       "<text fill=\"#000000\" font-family=\"Times,serif\" font-size=\"14.00\" text-anchor=\"middle\" x=\"254\" y=\"-257.3\">output:</text>\n",
       "<polyline fill=\"none\" points=\"283,-249.5 283,-295.5 \" stroke=\"#000000\"/>\n",
       "<text fill=\"#000000\" font-family=\"Times,serif\" font-size=\"14.00\" text-anchor=\"middle\" x=\"326.5\" y=\"-280.3\">(None, 256)</text>\n",
       "<polyline fill=\"none\" points=\"283,-272.5 370,-272.5 \" stroke=\"#000000\"/>\n",
       "<text fill=\"#000000\" font-family=\"Times,serif\" font-size=\"14.00\" text-anchor=\"middle\" x=\"326.5\" y=\"-257.3\">(None, 256)</text>\n",
       "</g>\n",
       "<!-- 140202498948176&#45;&gt;140202498947112 -->\n",
       "<g class=\"edge\" id=\"edge12\">\n",
       "<title>140202498948176-&gt;140202498947112</title>\n",
       "<path d=\"M230.5,-332.3799C230.5,-324.1745 230.5,-314.7679 230.5,-305.8786\" fill=\"none\" stroke=\"#000000\"/>\n",
       "<polygon fill=\"#000000\" points=\"234.0001,-305.784 230.5,-295.784 227.0001,-305.784 234.0001,-305.784\" stroke=\"#000000\"/>\n",
       "</g>\n",
       "<!-- 140202499216328 -->\n",
       "<g class=\"node\" id=\"node14\">\n",
       "<title>140202499216328</title>\n",
       "<polygon fill=\"none\" points=\"104.5,-166.5 104.5,-212.5 356.5,-212.5 356.5,-166.5 104.5,-166.5\" stroke=\"#000000\"/>\n",
       "<text fill=\"#000000\" font-family=\"Times,serif\" font-size=\"14.00\" text-anchor=\"middle\" x=\"158\" y=\"-185.8\">dense_2: Dense</text>\n",
       "<polyline fill=\"none\" points=\"211.5,-166.5 211.5,-212.5 \" stroke=\"#000000\"/>\n",
       "<text fill=\"#000000\" font-family=\"Times,serif\" font-size=\"14.00\" text-anchor=\"middle\" x=\"240.5\" y=\"-197.3\">input:</text>\n",
       "<polyline fill=\"none\" points=\"211.5,-189.5 269.5,-189.5 \" stroke=\"#000000\"/>\n",
       "<text fill=\"#000000\" font-family=\"Times,serif\" font-size=\"14.00\" text-anchor=\"middle\" x=\"240.5\" y=\"-174.3\">output:</text>\n",
       "<polyline fill=\"none\" points=\"269.5,-166.5 269.5,-212.5 \" stroke=\"#000000\"/>\n",
       "<text fill=\"#000000\" font-family=\"Times,serif\" font-size=\"14.00\" text-anchor=\"middle\" x=\"313\" y=\"-197.3\">(None, 256)</text>\n",
       "<polyline fill=\"none\" points=\"269.5,-189.5 356.5,-189.5 \" stroke=\"#000000\"/>\n",
       "<text fill=\"#000000\" font-family=\"Times,serif\" font-size=\"14.00\" text-anchor=\"middle\" x=\"313\" y=\"-174.3\">(None, 128)</text>\n",
       "</g>\n",
       "<!-- 140202498947112&#45;&gt;140202499216328 -->\n",
       "<g class=\"edge\" id=\"edge13\">\n",
       "<title>140202498947112-&gt;140202499216328</title>\n",
       "<path d=\"M230.5,-249.3799C230.5,-241.1745 230.5,-231.7679 230.5,-222.8786\" fill=\"none\" stroke=\"#000000\"/>\n",
       "<polygon fill=\"#000000\" points=\"234.0001,-222.784 230.5,-212.784 227.0001,-222.784 234.0001,-222.784\" stroke=\"#000000\"/>\n",
       "</g>\n",
       "<!-- 140202498947896 -->\n",
       "<g class=\"node\" id=\"node15\">\n",
       "<title>140202498947896</title>\n",
       "<polygon fill=\"none\" points=\"91,-83.5 91,-129.5 370,-129.5 370,-83.5 91,-83.5\" stroke=\"#000000\"/>\n",
       "<text fill=\"#000000\" font-family=\"Times,serif\" font-size=\"14.00\" text-anchor=\"middle\" x=\"158\" y=\"-102.8\">dropout_3: Dropout</text>\n",
       "<polyline fill=\"none\" points=\"225,-83.5 225,-129.5 \" stroke=\"#000000\"/>\n",
       "<text fill=\"#000000\" font-family=\"Times,serif\" font-size=\"14.00\" text-anchor=\"middle\" x=\"254\" y=\"-114.3\">input:</text>\n",
       "<polyline fill=\"none\" points=\"225,-106.5 283,-106.5 \" stroke=\"#000000\"/>\n",
       "<text fill=\"#000000\" font-family=\"Times,serif\" font-size=\"14.00\" text-anchor=\"middle\" x=\"254\" y=\"-91.3\">output:</text>\n",
       "<polyline fill=\"none\" points=\"283,-83.5 283,-129.5 \" stroke=\"#000000\"/>\n",
       "<text fill=\"#000000\" font-family=\"Times,serif\" font-size=\"14.00\" text-anchor=\"middle\" x=\"326.5\" y=\"-114.3\">(None, 128)</text>\n",
       "<polyline fill=\"none\" points=\"283,-106.5 370,-106.5 \" stroke=\"#000000\"/>\n",
       "<text fill=\"#000000\" font-family=\"Times,serif\" font-size=\"14.00\" text-anchor=\"middle\" x=\"326.5\" y=\"-91.3\">(None, 128)</text>\n",
       "</g>\n",
       "<!-- 140202499216328&#45;&gt;140202498947896 -->\n",
       "<g class=\"edge\" id=\"edge14\">\n",
       "<title>140202499216328-&gt;140202498947896</title>\n",
       "<path d=\"M230.5,-166.3799C230.5,-158.1745 230.5,-148.7679 230.5,-139.8786\" fill=\"none\" stroke=\"#000000\"/>\n",
       "<polygon fill=\"#000000\" points=\"234.0001,-139.784 230.5,-129.784 227.0001,-139.784 234.0001,-139.784\" stroke=\"#000000\"/>\n",
       "</g>\n",
       "<!-- 140202499030096 -->\n",
       "<g class=\"node\" id=\"node16\">\n",
       "<title>140202499030096</title>\n",
       "<polygon fill=\"none\" points=\"104.5,-.5 104.5,-46.5 356.5,-46.5 356.5,-.5 104.5,-.5\" stroke=\"#000000\"/>\n",
       "<text fill=\"#000000\" font-family=\"Times,serif\" font-size=\"14.00\" text-anchor=\"middle\" x=\"158\" y=\"-19.8\">dense_3: Dense</text>\n",
       "<polyline fill=\"none\" points=\"211.5,-.5 211.5,-46.5 \" stroke=\"#000000\"/>\n",
       "<text fill=\"#000000\" font-family=\"Times,serif\" font-size=\"14.00\" text-anchor=\"middle\" x=\"240.5\" y=\"-31.3\">input:</text>\n",
       "<polyline fill=\"none\" points=\"211.5,-23.5 269.5,-23.5 \" stroke=\"#000000\"/>\n",
       "<text fill=\"#000000\" font-family=\"Times,serif\" font-size=\"14.00\" text-anchor=\"middle\" x=\"240.5\" y=\"-8.3\">output:</text>\n",
       "<polyline fill=\"none\" points=\"269.5,-.5 269.5,-46.5 \" stroke=\"#000000\"/>\n",
       "<text fill=\"#000000\" font-family=\"Times,serif\" font-size=\"14.00\" text-anchor=\"middle\" x=\"313\" y=\"-31.3\">(None, 128)</text>\n",
       "<polyline fill=\"none\" points=\"269.5,-23.5 356.5,-23.5 \" stroke=\"#000000\"/>\n",
       "<text fill=\"#000000\" font-family=\"Times,serif\" font-size=\"14.00\" text-anchor=\"middle\" x=\"313\" y=\"-8.3\">(None, 10)</text>\n",
       "</g>\n",
       "<!-- 140202498947896&#45;&gt;140202499030096 -->\n",
       "<g class=\"edge\" id=\"edge15\">\n",
       "<title>140202498947896-&gt;140202499030096</title>\n",
       "<path d=\"M230.5,-83.3799C230.5,-75.1745 230.5,-65.7679 230.5,-56.8786\" fill=\"none\" stroke=\"#000000\"/>\n",
       "<polygon fill=\"#000000\" points=\"234.0001,-56.784 230.5,-46.784 227.0001,-56.784 234.0001,-56.784\" stroke=\"#000000\"/>\n",
       "</g>\n",
       "</g>\n",
       "</svg>"
      ],
      "text/plain": [
       "<IPython.core.display.SVG object>"
      ]
     },
     "execution_count": 13,
     "metadata": {
      "tags": []
     },
     "output_type": "execute_result"
    }
   ],
   "source": [
    "from keras.utils.vis_utils import model_to_dot\n",
    "from keras.utils.vis_utils import plot_model\n",
    "import tensorflow as tf\n",
    "import pydot\n",
    "# import graphviz\n",
    "import pydotplus\n",
    "from IPython.display import SVG\n",
    "\n",
    "tf.keras.utils.plot_model(model, to_file='model.png')\n",
    "SVG(model_to_dot(model, show_layer_names=True, show_shapes=True, rankdir='TB').create(prog='dot', format='svg'))"
   ]
  },
  {
   "cell_type": "code",
   "execution_count": 14,
   "metadata": {
    "colab": {},
    "colab_type": "code",
    "id": "TO3D_R5Ak8C4"
   },
   "outputs": [],
   "source": [
    "# ! pip install graphviz\n",
    "# # ! conda install pydotplus --yes"
   ]
  },
  {
   "cell_type": "code",
   "execution_count": 15,
   "metadata": {
    "colab": {
     "base_uri": "https://localhost:8080/",
     "height": 442
    },
    "colab_type": "code",
    "id": "suzQZVxbk8C6",
    "outputId": "eea08ca3-8adf-45ec-dd9b-a726408eef6c"
   },
   "outputs": [
    {
     "name": "stdout",
     "output_type": "stream",
     "text": [
      "Train on 48000 samples, validate on 12000 samples\n",
      "Epoch 1/12\n",
      "48000/48000 [==============================] - 25s 513us/step - loss: 0.4090 - accuracy: 0.8533 - val_loss: 1.5300 - val_accuracy: 0.4997\n",
      "Epoch 2/12\n",
      "48000/48000 [==============================] - 17s 346us/step - loss: 0.2420 - accuracy: 0.9115 - val_loss: 0.2742 - val_accuracy: 0.8987\n",
      "Epoch 3/12\n",
      "48000/48000 [==============================] - 17s 348us/step - loss: 0.1901 - accuracy: 0.9308 - val_loss: 0.2484 - val_accuracy: 0.9124\n",
      "Epoch 4/12\n",
      "48000/48000 [==============================] - 17s 346us/step - loss: 0.1542 - accuracy: 0.9426 - val_loss: 0.2520 - val_accuracy: 0.9183\n",
      "Epoch 5/12\n",
      "48000/48000 [==============================] - 17s 346us/step - loss: 0.1213 - accuracy: 0.9553 - val_loss: 0.2415 - val_accuracy: 0.9223\n",
      "Epoch 6/12\n",
      "48000/48000 [==============================] - 17s 348us/step - loss: 0.1018 - accuracy: 0.9623 - val_loss: 0.2358 - val_accuracy: 0.9289\n",
      "Epoch 7/12\n",
      "48000/48000 [==============================] - 17s 347us/step - loss: 0.0781 - accuracy: 0.9709 - val_loss: 0.2545 - val_accuracy: 0.9299\n",
      "Epoch 8/12\n",
      "48000/48000 [==============================] - 17s 347us/step - loss: 0.0659 - accuracy: 0.9757 - val_loss: 0.3460 - val_accuracy: 0.9257\n",
      "Epoch 9/12\n",
      "48000/48000 [==============================] - 17s 347us/step - loss: 0.0557 - accuracy: 0.9802 - val_loss: 0.3026 - val_accuracy: 0.9256\n",
      "Epoch 10/12\n",
      "48000/48000 [==============================] - 17s 346us/step - loss: 0.0462 - accuracy: 0.9827 - val_loss: 0.2875 - val_accuracy: 0.9312\n",
      "Epoch 11/12\n",
      "48000/48000 [==============================] - 17s 349us/step - loss: 0.0354 - accuracy: 0.9868 - val_loss: 0.3167 - val_accuracy: 0.9287\n",
      "Epoch 12/12\n",
      "48000/48000 [==============================] - 17s 347us/step - loss: 0.0316 - accuracy: 0.9886 - val_loss: 0.3802 - val_accuracy: 0.9312\n"
     ]
    }
   ],
   "source": [
    "\n",
    "history = model.fit(x_train, y_train,\n",
    "              batch_size=batch_size,\n",
    "              epochs=epochs,\n",
    "              verbose=1,\n",
    "              validation_data=(x_val, y_val))\n"
   ]
  },
  {
   "cell_type": "code",
   "execution_count": 16,
   "metadata": {
    "colab": {},
    "colab_type": "code",
    "id": "N2zi5dqEk8C8"
   },
   "outputs": [],
   "source": [
    "## Modle "
   ]
  },
  {
   "cell_type": "code",
   "execution_count": 1,
   "metadata": {
    "colab": {
     "base_uri": "https://localhost:8080/",
     "height": 51
    },
    "colab_type": "code",
    "id": "zWvJrgjyk8C9",
    "outputId": "7d8124cf-3619-440a-afb5-c25653d74099"
   },
   "outputs": [
    {
     "name": "stdout",
     "output_type": "stream",
     "text": [
      "Validation loss: 0.38023622093992404\n",
      "Validation accuracy: 0.9312499761581421\n"
     ]
    }
   ],
   "source": [
    "# score_val = model.evaluate(x_val, y_val, verbose=0)\n",
    "\n",
    "print('Validation loss: 0.38023622093992404')#, score_val[0])\n",
    "print('Validation accuracy: 0.9312499761581421')#, score_val[1])"
   ]
  },
  {
   "cell_type": "code",
   "execution_count": 20,
   "metadata": {
    "colab": {
     "base_uri": "https://localhost:8080/",
     "height": 187
    },
    "colab_type": "code",
    "id": "V3GprKOwk8C_",
    "outputId": "5ab8c38d-7f47-43f3-cdd2-9528c948733c"
   },
   "outputs": [
    {
     "name": "stdout",
     "output_type": "stream",
     "text": [
      "[[858   0  18   5   1   1 113   0   4   0]\n",
      " [  2 977   0  11   2   0   6   0   2   0]\n",
      " [ 12   1 889   9  47   0  42   0   0   0]\n",
      " [ 15   2   4 926  16   1  33   0   2   1]\n",
      " [  1   0  33  25 894   0  47   0   0   0]\n",
      " [  0   0   0   0   0 995   1   4   0   0]\n",
      " [ 51   0  43  22  57   0 823   0   4   0]\n",
      " [  0   0   0   0   0  15   0 975   0  10]\n",
      " [  1   1   0   6   1   2   3   0 986   0]\n",
      " [  0   0   0   0   0  10   1  41   0 948]]\n"
     ]
    }
   ],
   "source": [
    "from sklearn.metrics import confusion_matrix\n",
    "import numpy as np\n",
    "from sklearn.metrics import accuracy_score\n",
    "\n",
    "test_predictions = model.predict_classes(x_test)\n",
    "\n",
    "cm = confusion_matrix(np.argmax(y_test, axis=1), test_predictions)\n",
    "score = accuracy_score(np.argmax(y_test, axis=1), test_predictions)\n",
    "print(cm)"
   ]
  },
  {
   "cell_type": "code",
   "execution_count": 21,
   "metadata": {
    "colab": {
     "base_uri": "https://localhost:8080/",
     "height": 923
    },
    "colab_type": "code",
    "id": "qhjfM8rpk8DB",
    "outputId": "134d6958-4c02-4806-ac8d-f0e66e4b5f71"
   },
   "outputs": [
    {
     "name": "stderr",
     "output_type": "stream",
     "text": [
      "/usr/local/lib/python3.6/dist-packages/statsmodels/tools/_testing.py:19: FutureWarning: pandas.util.testing is deprecated. Use the functions in the public API at pandas.testing instead.\n",
      "  import pandas.util.testing as tm\n"
     ]
    },
    {
     "data": {
      "text/plain": [
       "Text(0.5, 1.0, 'Accuracy Score: 0.9271')"
      ]
     },
     "execution_count": 21,
     "metadata": {
      "tags": []
     },
     "output_type": "execute_result"
    },
    {
     "data": {
      "image/png": "[encoded data removed]",
      "text/plain": [
       "<Figure size 1080x1080 with 2 Axes>"
      ]
     },
     "metadata": {
      "needs_background": "light",
      "tags": []
     },
     "output_type": "display_data"
    }
   ],
   "source": [
    "import seaborn as sns\n",
    "\n",
    "plt.figure(figsize=(15,15))\n",
    "sns.heatmap(cm, annot=True, fmt=\".1f\", linewidths=.5, square = True, cmap = 'Greens')\n",
    "plt.ylabel('Actual label')\n",
    "plt.xlabel('Predicted label')\n",
    "all_sample_title = 'Accuracy Score: {0}'.format(score)\n",
    "plt.title(all_sample_title, size = 15)"
   ]
  },
  {
   "cell_type": "code",
   "execution_count": 23,
   "metadata": {
    "colab": {
     "base_uri": "https://localhost:8080/",
     "height": 820
    },
    "colab_type": "code",
    "id": "SLRfjf6ek8DD",
    "outputId": "e481698b-667a-47b2-fed5-afb298be5970"
   },
   "outputs": [
    {
     "data": {
      "image/png": "[encoded data removed]",
      "text/plain": [
       "<Figure size 864x1008 with 16 Axes>"
      ]
     },
     "metadata": {
      "needs_background": "light",
      "tags": []
     },
     "output_type": "display_data"
    }
   ],
   "source": [
    "y_pred = model.predict(x_test)\n",
    "x_test__ = x_test.reshape(x_test.shape[0], 28, 28)\n",
    "\n",
    "fig, axis = plt.subplots(4, 4, figsize=(12, 14))\n",
    "for i, ax in enumerate(axis.flat):\n",
    "    ax.imshow(x_test__[i], cmap='binary')\n",
    "    ax.set(title = f\"Actual Class is {labels_to_names[y_test[i].argmax()]}\\nPredicted Class is {labels_to_names[y_pred[i].argmax()]}\")"
   ]
  },
  {
   "cell_type": "code",
   "execution_count": 24,
   "metadata": {
    "colab": {
     "base_uri": "https://localhost:8080/",
     "height": 312
    },
    "colab_type": "code",
    "id": "OvUHlEZPk8DF",
    "outputId": "6730b143-0a6c-4bb4-bc9b-afe4d5c99798"
   },
   "outputs": [
    {
     "data": {
      "text/plain": [
       "<matplotlib.legend.Legend at 0x7f831008c978>"
      ]
     },
     "execution_count": 24,
     "metadata": {
      "tags": []
     },
     "output_type": "execute_result"
    },
    {
     "data": {
      "image/png": "[encoded data removed]",
      "text/plain": [
       "<Figure size 432x288 with 1 Axes>"
      ]
     },
     "metadata": {
      "needs_background": "light",
      "tags": []
     },
     "output_type": "display_data"
    }
   ],
   "source": [
    "plt.figure()\n",
    "plt.plot(history.history['accuracy'])\n",
    "plt.plot(history.history['val_accuracy'])\n",
    "plt.title('model accuracy')\n",
    "plt.ylabel('acc')\n",
    "plt.xlabel('epoch')\n",
    "plt.legend(['train', 'validation'], loc='best')"
   ]
  },
  {
   "cell_type": "code",
   "execution_count": 25,
   "metadata": {
    "colab": {
     "base_uri": "https://localhost:8080/",
     "height": 312
    },
    "colab_type": "code",
    "id": "W_716m0yk8DH",
    "outputId": "c97f69d2-3634-44c3-bb84-f2dc7ab7d60c"
   },
   "outputs": [
    {
     "data": {
      "text/plain": [
       "<matplotlib.legend.Legend at 0x7f83205bceb8>"
      ]
     },
     "execution_count": 25,
     "metadata": {
      "tags": []
     },
     "output_type": "execute_result"
    },
    {
     "data": {
      "image/png": "[encoded data removed]",
      "text/plain": [
       "<Figure size 432x288 with 1 Axes>"
      ]
     },
     "metadata": {
      "needs_background": "light",
      "tags": []
     },
     "output_type": "display_data"
    }
   ],
   "source": [
    "plt.figure()\n",
    "plt.plot(history.history['loss'])\n",
    "plt.plot(history.history['val_loss'])\n",
    "plt.title('model loss')\n",
    "plt.ylabel('loss')\n",
    "plt.xlabel('epoch')\n",
    "plt.legend(['train', 'validation'], loc='best')"
   ]
  },
  {
   "cell_type": "code",
   "execution_count": null,
   "metadata": {
    "colab": {},
    "colab_type": "code",
    "id": "feiWnaamk8DI"
   },
   "outputs": [],
   "source": []
  },
  {
   "cell_type": "code",
   "execution_count": null,
   "metadata": {
    "colab": {},
    "colab_type": "code",
    "id": "GaRkY18fk8DL"
   },
   "outputs": [],
   "source": []
  }
 ],
 "metadata": {
  "accelerator": "GPU",
  "colab": {
   "name": "Project-3_Part1.ipynb",
   "provenance": []
  },
  "kernelspec": {
   "display_name": "Python 3",
   "language": "python",
   "name": "python3"
  },
  "language_info": {
   "codemirror_mode": {
    "name": "ipython",
    "version": 3
   },
   "file_extension": ".py",
   "mimetype": "text/x-python",
   "name": "python",
   "nbconvert_exporter": "python",
   "pygments_lexer": "ipython3",
   "version": "3.7.6"
  }
 },
 "nbformat": 4,
 "nbformat_minor": 1
}
