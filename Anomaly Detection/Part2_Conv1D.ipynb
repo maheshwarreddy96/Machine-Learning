{
  "nbformat": 4,
  "nbformat_minor": 0,
  "metadata": {
    "kernelspec": {
      "display_name": "Python 3",
      "language": "python",
      "name": "python3"
    },
    "language_info": {
      "codemirror_mode": {
        "name": "ipython",
        "version": 3
      },
      "file_extension": ".py",
      "mimetype": "text/x-python",
      "name": "python",
      "nbconvert_exporter": "python",
      "pygments_lexer": "ipython3",
      "version": "3.6.8"
    },
    "colab": {
      "name": "Part2_Conv1D.ipynb",
      "provenance": [],
      "collapsed_sections": []
    },
    "accelerator": "GPU"
  },
  "cells": [
    {
      "cell_type": "markdown",
      "metadata": {
        "id": "vRc-kljksUw8",
        "colab_type": "text"
      },
      "source": [
        "## Anomaly Detection"
      ]
    },
    {
      "cell_type": "code",
      "metadata": {
        "id": "pR-QIZlssUw_",
        "colab_type": "code",
        "colab": {}
      },
      "source": [
        "%matplotlib inline\n",
        "import matplotlib.pyplot as plt\n",
        "import numpy as np\n",
        "import pandas as pd\n",
        "from keras import backend as K\n",
        "from keras.models import Model\n",
        "from keras.layers import Activation, BatchNormalization\n",
        "from keras.layers import Dropout, Dense, Input, LSTM\n",
        "from keras.optimizers import Adam\n",
        "from tensorflow import keras\n",
        "from tensorflow.keras import layers\n",
        "from datetime import datetime\n",
        "from matplotlib import dates as md"
      ],
      "execution_count": 71,
      "outputs": []
    },
    {
      "cell_type": "code",
      "metadata": {
        "id": "1DxdMORisUxF",
        "colab_type": "code",
        "colab": {
          "base_uri": "https://localhost:8080/",
          "height": 34
        },
        "outputId": "ae140c32-f91d-4870-970c-ae098e93b650"
      },
      "source": [
        "data = pd.read_csv('https://raw.githubusercontent.com/numenta/NAB/master/data/realTweets/Twitter_volume_AMZN.csv')\n",
        "data.shape"
      ],
      "execution_count": 72,
      "outputs": [
        {
          "output_type": "execute_result",
          "data": {
            "text/plain": [
              "(15831, 2)"
            ]
          },
          "metadata": {
            "tags": []
          },
          "execution_count": 72
        }
      ]
    },
    {
      "cell_type": "code",
      "metadata": {
        "id": "aMcTBHtisUxJ",
        "colab_type": "code",
        "colab": {
          "base_uri": "https://localhost:8080/",
          "height": 204
        },
        "outputId": "ebfc6ab7-f41c-4960-ad82-e85c4943196c"
      },
      "source": [
        "data.head()"
      ],
      "execution_count": 73,
      "outputs": [
        {
          "output_type": "execute_result",
          "data": {
            "text/html": [
              "<div>\n",
              "<style scoped>\n",
              "    .dataframe tbody tr th:only-of-type {\n",
              "        vertical-align: middle;\n",
              "    }\n",
              "\n",
              "    .dataframe tbody tr th {\n",
              "        vertical-align: top;\n",
              "    }\n",
              "\n",
              "    .dataframe thead th {\n",
              "        text-align: right;\n",
              "    }\n",
              "</style>\n",
              "<table border=\"1\" class=\"dataframe\">\n",
              "  <thead>\n",
              "    <tr style=\"text-align: right;\">\n",
              "      <th></th>\n",
              "      <th>timestamp</th>\n",
              "      <th>value</th>\n",
              "    </tr>\n",
              "  </thead>\n",
              "  <tbody>\n",
              "    <tr>\n",
              "      <th>0</th>\n",
              "      <td>2015-02-26 21:42:53</td>\n",
              "      <td>57</td>\n",
              "    </tr>\n",
              "    <tr>\n",
              "      <th>1</th>\n",
              "      <td>2015-02-26 21:47:53</td>\n",
              "      <td>43</td>\n",
              "    </tr>\n",
              "    <tr>\n",
              "      <th>2</th>\n",
              "      <td>2015-02-26 21:52:53</td>\n",
              "      <td>55</td>\n",
              "    </tr>\n",
              "    <tr>\n",
              "      <th>3</th>\n",
              "      <td>2015-02-26 21:57:53</td>\n",
              "      <td>64</td>\n",
              "    </tr>\n",
              "    <tr>\n",
              "      <th>4</th>\n",
              "      <td>2015-02-26 22:02:53</td>\n",
              "      <td>93</td>\n",
              "    </tr>\n",
              "  </tbody>\n",
              "</table>\n",
              "</div>"
            ],
            "text/plain": [
              "             timestamp  value\n",
              "0  2015-02-26 21:42:53     57\n",
              "1  2015-02-26 21:47:53     43\n",
              "2  2015-02-26 21:52:53     55\n",
              "3  2015-02-26 21:57:53     64\n",
              "4  2015-02-26 22:02:53     93"
            ]
          },
          "metadata": {
            "tags": []
          },
          "execution_count": 73
        }
      ]
    },
    {
      "cell_type": "code",
      "metadata": {
        "scrolled": false,
        "id": "VNsSOE2vsUxO",
        "colab_type": "code",
        "colab": {
          "base_uri": "https://localhost:8080/",
          "height": 412
        },
        "outputId": "d7ebc296-c837-4f40-baf9-aed8aa207a00"
      },
      "source": [
        "data.set_index('timestamp').plot()\n",
        "plt.xticks(rotation='vertical')"
      ],
      "execution_count": 74,
      "outputs": [
        {
          "output_type": "execute_result",
          "data": {
            "text/plain": [
              "(array([-2000.,     0.,  2000.,  4000.,  6000.,  8000., 10000., 12000.,\n",
              "        14000., 16000., 18000.]), <a list of 11 Text major ticklabel objects>)"
            ]
          },
          "metadata": {
            "tags": []
          },
          "execution_count": 74
        },
        {
          "output_type": "display_data",
          "data": {
            "image/png": "[encoded data removed]",
            "text/plain": [
              "<Figure size 432x288 with 1 Axes>"
            ]
          },
          "metadata": {
            "tags": [],
            "needs_background": "light"
          }
        }
      ]
    },
    {
      "cell_type": "code",
      "metadata": {
        "id": "Ow-QfotOkE47",
        "colab_type": "code",
        "colab": {
          "base_uri": "https://localhost:8080/",
          "height": 297
        },
        "outputId": "6393745f-e78c-4df8-b9ef-50c7b867462c"
      },
      "source": [
        "data.describe()"
      ],
      "execution_count": 75,
      "outputs": [
        {
          "output_type": "execute_result",
          "data": {
            "text/html": [
              "<div>\n",
              "<style scoped>\n",
              "    .dataframe tbody tr th:only-of-type {\n",
              "        vertical-align: middle;\n",
              "    }\n",
              "\n",
              "    .dataframe tbody tr th {\n",
              "        vertical-align: top;\n",
              "    }\n",
              "\n",
              "    .dataframe thead th {\n",
              "        text-align: right;\n",
              "    }\n",
              "</style>\n",
              "<table border=\"1\" class=\"dataframe\">\n",
              "  <thead>\n",
              "    <tr style=\"text-align: right;\">\n",
              "      <th></th>\n",
              "      <th>value</th>\n",
              "    </tr>\n",
              "  </thead>\n",
              "  <tbody>\n",
              "    <tr>\n",
              "      <th>count</th>\n",
              "      <td>15831.000000</td>\n",
              "    </tr>\n",
              "    <tr>\n",
              "      <th>mean</th>\n",
              "      <td>53.298465</td>\n",
              "    </tr>\n",
              "    <tr>\n",
              "      <th>std</th>\n",
              "      <td>30.553147</td>\n",
              "    </tr>\n",
              "    <tr>\n",
              "      <th>min</th>\n",
              "      <td>0.000000</td>\n",
              "    </tr>\n",
              "    <tr>\n",
              "      <th>25%</th>\n",
              "      <td>36.000000</td>\n",
              "    </tr>\n",
              "    <tr>\n",
              "      <th>50%</th>\n",
              "      <td>50.000000</td>\n",
              "    </tr>\n",
              "    <tr>\n",
              "      <th>75%</th>\n",
              "      <td>65.000000</td>\n",
              "    </tr>\n",
              "    <tr>\n",
              "      <th>max</th>\n",
              "      <td>1673.000000</td>\n",
              "    </tr>\n",
              "  </tbody>\n",
              "</table>\n",
              "</div>"
            ],
            "text/plain": [
              "              value\n",
              "count  15831.000000\n",
              "mean      53.298465\n",
              "std       30.553147\n",
              "min        0.000000\n",
              "25%       36.000000\n",
              "50%       50.000000\n",
              "75%       65.000000\n",
              "max     1673.000000"
            ]
          },
          "metadata": {
            "tags": []
          },
          "execution_count": 75
        }
      ]
    },
    {
      "cell_type": "code",
      "metadata": {
        "id": "c6u86dpkoAey",
        "colab_type": "code",
        "colab": {
          "base_uri": "https://localhost:8080/",
          "height": 282
        },
        "outputId": "94c29e87-b52e-4252-bbb3-85b7da6e2c40"
      },
      "source": [
        "plt.plot(data['value'] - data['value'].shift(1))"
      ],
      "execution_count": 76,
      "outputs": [
        {
          "output_type": "execute_result",
          "data": {
            "text/plain": [
              "[<matplotlib.lines.Line2D at 0x7f8e862f7c18>]"
            ]
          },
          "metadata": {
            "tags": []
          },
          "execution_count": 76
        },
        {
          "output_type": "display_data",
          "data": {
            "image/png": "[encoded data removed]",
            "text/plain": [
              "<Figure size 432x288 with 1 Axes>"
            ]
          },
          "metadata": {
            "tags": [],
            "needs_background": "light"
          }
        }
      ]
    },
    {
      "cell_type": "code",
      "metadata": {
        "id": "Sh8QomnKmgha",
        "colab_type": "code",
        "colab": {
          "base_uri": "https://localhost:8080/",
          "height": 68
        },
        "outputId": "08361645-a44e-4499-df74-baebce70f380"
      },
      "source": [
        "np.where(np.array(abs(data['value'] - data['value'].shift(1))) >= 400)"
      ],
      "execution_count": 77,
      "outputs": [
        {
          "output_type": "stream",
          "text": [
            "/usr/local/lib/python3.6/dist-packages/ipykernel_launcher.py:1: RuntimeWarning: invalid value encountered in greater_equal\n",
            "  \"\"\"Entry point for launching an IPython kernel.\n"
          ],
          "name": "stderr"
        },
        {
          "output_type": "execute_result",
          "data": {
            "text/plain": [
              "(array([ 1993,  1994,  2008,  2009,  2010,  3735,  3736, 11070, 11072]),)"
            ]
          },
          "metadata": {
            "tags": []
          },
          "execution_count": 77
        }
      ]
    },
    {
      "cell_type": "code",
      "metadata": {
        "id": "g6lpuFNonZ2B",
        "colab_type": "code",
        "colab": {
          "base_uri": "https://localhost:8080/",
          "height": 384
        },
        "outputId": "3da7ae77-dd71-457c-ebc7-12db5e160db8"
      },
      "source": [
        "print(data['value'][11070:11075])\n",
        "plt.plot(data['value'][2008-10:2008+20])"
      ],
      "execution_count": 78,
      "outputs": [
        {
          "output_type": "stream",
          "text": [
            "11070    486\n",
            "11071    605\n",
            "11072     60\n",
            "11073     37\n",
            "11074     41\n",
            "Name: value, dtype: int64\n"
          ],
          "name": "stdout"
        },
        {
          "output_type": "execute_result",
          "data": {
            "text/plain": [
              "[<matplotlib.lines.Line2D at 0x7f8e8621bd30>]"
            ]
          },
          "metadata": {
            "tags": []
          },
          "execution_count": 78
        },
        {
          "output_type": "display_data",
          "data": {
            "image/png": "[encoded data removed]",
            "text/plain": [
              "<Figure size 432x288 with 1 Axes>"
            ]
          },
          "metadata": {
            "tags": [],
            "needs_background": "light"
          }
        }
      ]
    },
    {
      "cell_type": "code",
      "metadata": {
        "id": "IdRmPStssUxR",
        "colab_type": "code",
        "colab": {
          "base_uri": "https://localhost:8080/",
          "height": 34
        },
        "outputId": "d2ca48d8-cd23-4fbf-ca04-d458804df62f"
      },
      "source": [
        "from sklearn.model_selection import train_test_split\n",
        "\n",
        "X = data['value'].values.reshape((len(data), 1))\n",
        "y = data['value'].values.reshape((len(data), 1))\n",
        "\n",
        "X = X[:-1, :]\n",
        "y = y[1:, :]\n",
        "\n",
        "# X_train, X_val, y_train, y_val = train_test_split(X, y, test_size=0.1, random_state=42)\n",
        "X_train, X_val, y_train, y_val = X[:int(len(X)*0.9)], X[int(len(X)*0.9):], y[:int(len(y)*0.9)], y[int(len(y)*0.9):]\n",
        "\n",
        "X_train.shape, y_train.shape, X_val.shape, y_val.shape"
      ],
      "execution_count": 79,
      "outputs": [
        {
          "output_type": "execute_result",
          "data": {
            "text/plain": [
              "((14247, 1), (14247, 1), (1583, 1), (1583, 1))"
            ]
          },
          "metadata": {
            "tags": []
          },
          "execution_count": 79
        }
      ]
    },
    {
      "cell_type": "code",
      "metadata": {
        "id": "JtDtuqRroyYf",
        "colab_type": "code",
        "colab": {}
      },
      "source": [
        "# from sklearn.preprocessing import StandardScaler\n",
        "# scaler = StandardScaler()\n",
        "# scaler = scaler.fit(X_train)\n",
        "# X_train = scaler.transform(X_train)"
      ],
      "execution_count": 80,
      "outputs": []
    },
    {
      "cell_type": "code",
      "metadata": {
        "id": "aJPQc77AqJho",
        "colab_type": "code",
        "colab": {}
      },
      "source": [
        "# from sklearn.preprocessing import StandardScaler\n",
        "# scaler = StandardScaler()\n",
        "# scaler = scaler.fit(X_val)\n",
        "# X_val = scaler.transform(X_val)"
      ],
      "execution_count": 81,
      "outputs": []
    },
    {
      "cell_type": "code",
      "metadata": {
        "id": "g9I6GMDueRmo",
        "colab_type": "code",
        "colab": {
          "base_uri": "https://localhost:8080/",
          "height": 286
        },
        "outputId": "10dc276c-69d5-4fc5-c3e6-e2e4918041cd"
      },
      "source": [
        "plt.plot(X_train)"
      ],
      "execution_count": 82,
      "outputs": [
        {
          "output_type": "execute_result",
          "data": {
            "text/plain": [
              "[<matplotlib.lines.Line2D at 0x7f8e862356a0>]"
            ]
          },
          "metadata": {
            "tags": []
          },
          "execution_count": 82
        },
        {
          "output_type": "display_data",
          "data": {
            "image/png": "[encoded data removed]",
            "text/plain": [
              "<Figure size 432x288 with 1 Axes>"
            ]
          },
          "metadata": {
            "tags": [],
            "needs_background": "light"
          }
        }
      ]
    },
    {
      "cell_type": "code",
      "metadata": {
        "id": "QhteRgKWdcoO",
        "colab_type": "code",
        "colab": {}
      },
      "source": [
        "# median = np.median(X_train)\n",
        "# print(\"before\", median)\n",
        "# X_train[np.where(X_train >= 65)] = 65\n",
        "# X_train[np.where(X_train <= 36)] = 36\n",
        "# print(\"after\", np.median(X_train))"
      ],
      "execution_count": 83,
      "outputs": []
    },
    {
      "cell_type": "code",
      "metadata": {
        "id": "E1eoFhYNeUPd",
        "colab_type": "code",
        "colab": {
          "base_uri": "https://localhost:8080/",
          "height": 286
        },
        "outputId": "8bff86fd-c8a0-4679-836b-72859614439a"
      },
      "source": [
        "plt.plot(X_train)"
      ],
      "execution_count": 84,
      "outputs": [
        {
          "output_type": "execute_result",
          "data": {
            "text/plain": [
              "[<matplotlib.lines.Line2D at 0x7f8e8615e550>]"
            ]
          },
          "metadata": {
            "tags": []
          },
          "execution_count": 84
        },
        {
          "output_type": "display_data",
          "data": {
            "image/png": "[encoded data removed]",
            "text/plain": [
              "<Figure size 432x288 with 1 Axes>"
            ]
          },
          "metadata": {
            "tags": [],
            "needs_background": "light"
          }
        }
      ]
    },
    {
      "cell_type": "code",
      "metadata": {
        "id": "luzZ7AXJsUxZ",
        "colab_type": "code",
        "colab": {}
      },
      "source": [
        "n_timesteps = 144\n",
        "n_samples = X_train.shape[0]\n",
        "n_features = X_train.shape[1]\n",
        "n_val_samples = X_val.shape[0]\n",
        "k=-5"
      ],
      "execution_count": 85,
      "outputs": []
    },
    {
      "cell_type": "code",
      "metadata": {
        "id": "URL0o2Lyez0v",
        "colab_type": "code",
        "colab": {
          "base_uri": "https://localhost:8080/",
          "height": 54
        },
        "outputId": "e593b409-b550-4ff2-fe56-46c4658c05e1"
      },
      "source": [
        "print([i for i in enumerate(X_train[:500])])"
      ],
      "execution_count": 86,
      "outputs": [
        {
          "output_type": "stream",
          "text": [
            "[(0, array([57])), (1, array([43])), (2, array([55])), (3, array([64])), (4, array([93])), (5, array([104])), (6, array([89])), (7, array([87])), (8, array([57])), (9, array([68])), (10, array([64])), (11, array([61])), (12, array([73])), (13, array([79])), (14, array([80])), (15, array([76])), (16, array([49])), (17, array([59])), (18, array([55])), (19, array([48])), (20, array([41])), (21, array([49])), (22, array([63])), (23, array([36])), (24, array([42])), (25, array([50])), (26, array([35])), (27, array([41])), (28, array([39])), (29, array([48])), (30, array([31])), (31, array([35])), (32, array([32])), (33, array([36])), (34, array([37])), (35, array([62])), (36, array([41])), (37, array([51])), (38, array([65])), (39, array([39])), (40, array([56])), (41, array([42])), (42, array([62])), (43, array([46])), (44, array([46])), (45, array([62])), (46, array([41])), (47, array([40])), (48, array([47])), (49, array([48])), (50, array([43])), (51, array([41])), (52, array([55])), (53, array([90])), (54, array([79])), (55, array([57])), (56, array([43])), (57, array([39])), (58, array([57])), (59, array([56])), (60, array([102])), (61, array([85])), (62, array([79])), (63, array([82])), (64, array([60])), (65, array([47])), (66, array([43])), (67, array([49])), (68, array([60])), (69, array([55])), (70, array([63])), (71, array([57])), (72, array([61])), (73, array([59])), (74, array([35])), (75, array([69])), (76, array([48])), (77, array([47])), (78, array([44])), (79, array([47])), (80, array([51])), (81, array([54])), (82, array([41])), (83, array([53])), (84, array([49])), (85, array([23])), (86, array([31])), (87, array([38])), (88, array([57])), (89, array([56])), (90, array([70])), (91, array([57])), (92, array([64])), (93, array([79])), (94, array([65])), (95, array([70])), (96, array([51])), (97, array([43])), (98, array([60])), (99, array([49])), (100, array([37])), (101, array([54])), (102, array([58])), (103, array([67])), (104, array([72])), (105, array([49])), (106, array([45])), (107, array([48])), (108, array([29])), (109, array([23])), (110, array([26])), (111, array([28])), (112, array([27])), (113, array([18])), (114, array([37])), (115, array([35])), (116, array([25])), (117, array([28])), (118, array([27])), (119, array([35])), (120, array([41])), (121, array([34])), (122, array([42])), (123, array([58])), (124, array([59])), (125, array([27])), (126, array([49])), (127, array([52])), (128, array([25])), (129, array([36])), (130, array([31])), (131, array([23])), (132, array([24])), (133, array([10])), (134, array([27])), (135, array([32])), (136, array([17])), (137, array([33])), (138, array([40])), (139, array([25])), (140, array([16])), (141, array([24])), (142, array([37])), (143, array([34])), (144, array([60])), (145, array([57])), (146, array([62])), (147, array([56])), (148, array([68])), (149, array([54])), (150, array([49])), (151, array([42])), (152, array([39])), (153, array([50])), (154, array([47])), (155, array([30])), (156, array([40])), (157, array([45])), (158, array([37])), (159, array([58])), (160, array([35])), (161, array([46])), (162, array([37])), (163, array([35])), (164, array([50])), (165, array([27])), (166, array([54])), (167, array([51])), (168, array([41])), (169, array([50])), (170, array([90])), (171, array([55])), (172, array([57])), (173, array([57])), (174, array([71])), (175, array([35])), (176, array([28])), (177, array([32])), (178, array([32])), (179, array([60])), (180, array([32])), (181, array([47])), (182, array([38])), (183, array([46])), (184, array([54])), (185, array([56])), (186, array([63])), (187, array([67])), (188, array([68])), (189, array([61])), (190, array([44])), (191, array([57])), (192, array([61])), (193, array([55])), (194, array([66])), (195, array([87])), (196, array([68])), (197, array([73])), (198, array([66])), (199, array([73])), (200, array([100])), (201, array([105])), (202, array([90])), (203, array([66])), (204, array([64])), (205, array([58])), (206, array([70])), (207, array([74])), (208, array([48])), (209, array([59])), (210, array([69])), (211, array([67])), (212, array([40])), (213, array([47])), (214, array([42])), (215, array([153])), (216, array([67])), (217, array([73])), (218, array([58])), (219, array([97])), (220, array([99])), (221, array([65])), (222, array([82])), (223, array([66])), (224, array([44])), (225, array([65])), (226, array([75])), (227, array([50])), (228, array([62])), (229, array([57])), (230, array([102])), (231, array([80])), (232, array([84])), (233, array([104])), (234, array([76])), (235, array([71])), (236, array([49])), (237, array([103])), (238, array([134])), (239, array([106])), (240, array([127])), (241, array([93])), (242, array([84])), (243, array([56])), (244, array([61])), (245, array([57])), (246, array([45])), (247, array([54])), (248, array([64])), (249, array([74])), (250, array([56])), (251, array([73])), (252, array([84])), (253, array([57])), (254, array([63])), (255, array([70])), (256, array([74])), (257, array([57])), (258, array([62])), (259, array([69])), (260, array([61])), (261, array([66])), (262, array([65])), (263, array([55])), (264, array([54])), (265, array([55])), (266, array([53])), (267, array([67])), (268, array([70])), (269, array([76])), (270, array([67])), (271, array([110])), (272, array([41])), (273, array([64])), (274, array([61])), (275, array([39])), (276, array([61])), (277, array([73])), (278, array([62])), (279, array([67])), (280, array([51])), (281, array([81])), (282, array([87])), (283, array([52])), (284, array([62])), (285, array([108])), (286, array([76])), (287, array([57])), (288, array([68])), (289, array([59])), (290, array([68])), (291, array([54])), (292, array([56])), (293, array([56])), (294, array([75])), (295, array([69])), (296, array([51])), (297, array([58])), (298, array([60])), (299, array([81])), (300, array([65])), (301, array([70])), (302, array([64])), (303, array([53])), (304, array([65])), (305, array([65])), (306, array([66])), (307, array([48])), (308, array([46])), (309, array([50])), (310, array([43])), (311, array([45])), (312, array([49])), (313, array([49])), (314, array([50])), (315, array([57])), (316, array([39])), (317, array([35])), (318, array([63])), (319, array([62])), (320, array([66])), (321, array([52])), (322, array([48])), (323, array([66])), (324, array([58])), (325, array([41])), (326, array([36])), (327, array([40])), (328, array([72])), (329, array([72])), (330, array([64])), (331, array([73])), (332, array([69])), (333, array([78])), (334, array([58])), (335, array([77])), (336, array([133])), (337, array([88])), (338, array([87])), (339, array([88])), (340, array([78])), (341, array([80])), (342, array([72])), (343, array([89])), (344, array([62])), (345, array([91])), (346, array([100])), (347, array([60])), (348, array([54])), (349, array([83])), (350, array([45])), (351, array([58])), (352, array([70])), (353, array([60])), (354, array([41])), (355, array([60])), (356, array([57])), (357, array([61])), (358, array([66])), (359, array([59])), (360, array([64])), (361, array([80])), (362, array([92])), (363, array([95])), (364, array([101])), (365, array([99])), (366, array([68])), (367, array([64])), (368, array([90])), (369, array([74])), (370, array([48])), (371, array([48])), (372, array([63])), (373, array([47])), (374, array([43])), (375, array([51])), (376, array([63])), (377, array([71])), (378, array([84])), (379, array([34])), (380, array([41])), (381, array([51])), (382, array([44])), (383, array([58])), (384, array([68])), (385, array([57])), (386, array([55])), (387, array([65])), (388, array([51])), (389, array([49])), (390, array([59])), (391, array([44])), (392, array([58])), (393, array([45])), (394, array([52])), (395, array([50])), (396, array([63])), (397, array([45])), (398, array([54])), (399, array([68])), (400, array([45])), (401, array([40])), (402, array([54])), (403, array([33])), (404, array([38])), (405, array([33])), (406, array([52])), (407, array([36])), (408, array([36])), (409, array([35])), (410, array([30])), (411, array([25])), (412, array([24])), (413, array([27])), (414, array([21])), (415, array([45])), (416, array([27])), (417, array([31])), (418, array([35])), (419, array([58])), (420, array([60])), (421, array([37])), (422, array([30])), (423, array([36])), (424, array([39])), (425, array([26])), (426, array([38])), (427, array([31])), (428, array([58])), (429, array([56])), (430, array([64])), (431, array([44])), (432, array([58])), (433, array([63])), (434, array([58])), (435, array([47])), (436, array([47])), (437, array([47])), (438, array([36])), (439, array([31])), (440, array([30])), (441, array([21])), (442, array([23])), (443, array([43])), (444, array([43])), (445, array([53])), (446, array([54])), (447, array([45])), (448, array([37])), (449, array([35])), (450, array([43])), (451, array([43])), (452, array([43])), (453, array([40])), (454, array([28])), (455, array([25])), (456, array([31])), (457, array([23])), (458, array([31])), (459, array([31])), (460, array([36])), (461, array([46])), (462, array([47])), (463, array([32])), (464, array([39])), (465, array([42])), (466, array([46])), (467, array([40])), (468, array([60])), (469, array([70])), (470, array([71])), (471, array([69])), (472, array([56])), (473, array([70])), (474, array([88])), (475, array([50])), (476, array([53])), (477, array([43])), (478, array([53])), (479, array([43])), (480, array([59])), (481, array([50])), (482, array([41])), (483, array([40])), (484, array([43])), (485, array([76])), (486, array([62])), (487, array([61])), (488, array([44])), (489, array([49])), (490, array([68])), (491, array([49])), (492, array([79])), (493, array([71])), (494, array([52])), (495, array([47])), (496, array([41])), (497, array([62])), (498, array([63])), (499, array([85]))]\n"
          ],
          "name": "stdout"
        }
      ]
    },
    {
      "cell_type": "code",
      "metadata": {
        "id": "LeXAJx9CsUxd",
        "colab_type": "code",
        "colab": {
          "base_uri": "https://localhost:8080/",
          "height": 34
        },
        "outputId": "d3194115-5bdb-4895-bf5b-12d868389d9d"
      },
      "source": [
        "X_train_list = [np.expand_dims(X_train[i-n_timesteps:i, :], axis=0) for i in range(n_timesteps, n_samples+1)]\n",
        "X_train_list = X_train_list[:k]\n",
        "X_train = np.concatenate(X_train_list, axis=0)\n",
        "y_train_list = [np.expand_dims(y_train[i:i+5, :], axis=0) for i in range(n_timesteps, n_samples -5 + 1)]\n",
        "y_train = np.concatenate(y_train_list, axis=0)\n",
        "X_train = X_train[:-1, :, :]\n",
        "y_train = y_train[1:, :, :]\n",
        "# y_train = y_train[n_timesteps-1:, :]\n",
        "\n",
        "\n",
        "X_val_list = [np.expand_dims(X_val[i-n_timesteps:i, :], axis=0) for i in range(n_timesteps, n_val_samples + 1)]\n",
        "X_val_list = X_val_list[:k]\n",
        "X_val = np.concatenate(X_val_list, axis=0)\n",
        "# y_val = y_val[n_timesteps-1:, :]\n",
        "y_val_list = [np.expand_dims(y_val[i:i+5, :], axis=0) for i in range(n_timesteps, n_val_samples- 5 + 1)]\n",
        "y_val = np.concatenate(y_val_list, axis=0)\n",
        "X_val = X_val[:-1, :, :]\n",
        "y_val = y_val[1:, :, :]\n",
        "X_train.shape, y_train.shape, X_val.shape, y_val.shape"
      ],
      "execution_count": 87,
      "outputs": [
        {
          "output_type": "execute_result",
          "data": {
            "text/plain": [
              "((14098, 144, 1), (14098, 5, 1), (1434, 144, 1), (1434, 5, 1))"
            ]
          },
          "metadata": {
            "tags": []
          },
          "execution_count": 87
        }
      ]
    },
    {
      "cell_type": "code",
      "metadata": {
        "id": "Kf-hYwQTI2Ot",
        "colab_type": "code",
        "colab": {}
      },
      "source": [
        "# X_train = X_train.reshape(X_train.shape[0], 1, X_train.shape[1])\n",
        "# y_train = y_train.reshape(y_train.shape[0], 1, y_train.shape[1])\n",
        "# X_val = X_val.reshape(X_val.shape[0], 1, X_val.shape[1])\n",
        "# y_val = y_val.reshape(y_val.shape[0], 1, y_val.shape[1])\n"
      ],
      "execution_count": 88,
      "outputs": []
    },
    {
      "cell_type": "code",
      "metadata": {
        "id": "MZjXQIJQjgdB",
        "colab_type": "code",
        "colab": {}
      },
      "source": [
        ""
      ],
      "execution_count": 88,
      "outputs": []
    },
    {
      "cell_type": "code",
      "metadata": {
        "id": "-UHmVS_NI2MI",
        "colab_type": "code",
        "colab": {
          "base_uri": "https://localhost:8080/",
          "height": 34
        },
        "outputId": "ba75b28f-229f-4dd2-a1ec-8fc3ad321259"
      },
      "source": [
        "X_train.shape, y_train.shape, X_val.shape, y_val.shape"
      ],
      "execution_count": 89,
      "outputs": [
        {
          "output_type": "execute_result",
          "data": {
            "text/plain": [
              "((14098, 144, 1), (14098, 5, 1), (1434, 144, 1), (1434, 5, 1))"
            ]
          },
          "metadata": {
            "tags": []
          },
          "execution_count": 89
        }
      ]
    },
    {
      "cell_type": "code",
      "metadata": {
        "id": "l0ew3dbeoZjd",
        "colab_type": "code",
        "colab": {}
      },
      "source": [
        "\n"
      ],
      "execution_count": 89,
      "outputs": []
    },
    {
      "cell_type": "code",
      "metadata": {
        "id": "qIJwhWOj7Wnr",
        "colab_type": "code",
        "colab": {
          "base_uri": "https://localhost:8080/",
          "height": 459
        },
        "outputId": "ea3623ab-0e41-4ff6-a66c-55707fe18ff7"
      },
      "source": [
        "#AUTOENCODER\n",
        "\n",
        "model = keras.Sequential(\n",
        "    [\n",
        "        layers.Input(shape=(X_train.shape[1], X_train.shape[2])),\n",
        "     \n",
        "        # layers.Conv1D(\n",
        "        #     filters=64, kernel_size=7, padding=\"same\", strides=2, activation=\"relu\"\n",
        "        # ),\n",
        "        layers.Dropout(rate=0.2),\n",
        "        layers.Conv1D(\n",
        "            filters=32, kernel_size=7, padding=\"same\", strides=2, activation=\"relu\"\n",
        "        ),\n",
        "        layers.Dropout(rate=0.2),\n",
        "        layers.Conv1D(\n",
        "            filters=16, kernel_size=7, padding=\"same\", strides=2, activation=\"relu\"\n",
        "        ),\n",
        "        layers.Conv1DTranspose(\n",
        "            filters=16, kernel_size=7, padding=\"same\", strides=2, activation=\"relu\"\n",
        "        ),\n",
        "        layers.Dropout(rate=0.2),\n",
        "        layers.Conv1DTranspose(\n",
        "            filters=32, kernel_size=7, padding=\"same\", strides=2, activation=\"relu\"\n",
        "        ),\n",
        "        # layers.Conv1DTranspose(\n",
        "        #     filters=64, kernel_size=7, padding=\"same\", strides=2, activation=\"relu\"\n",
        "        # ),\n",
        "        layers.Dropout(rate=0.2),\n",
        "        layers.Conv1DTranspose(filters=1, kernel_size=7, padding=\"same\"),\n",
        "    ]\n",
        ")\n",
        "\n",
        "# dimensions = 100\n",
        "# def AutoencoderLSTM(n_timesteps, n_features):\n",
        "#     i = Input(shape=(n_timesteps, 1))\n",
        "     \n",
        "    \n",
        "#     x = LSTM(dimensions, activation='relu', return_sequences=True, input_shape=(n_timesteps, n_features))(i)\n",
        "#     x = Dropout(0.2)(x)\n",
        "\n",
        "#     x = LSTM(int(dimensions/2), activation='relu', return_sequences=True)(x)\n",
        "#     x = Dropout(0.2)(x)\n",
        "\n",
        "#     x = LSTM(int(dimensions/2), activation='relu', return_sequences=True)(x)\n",
        "#     x = LSTM(dimensions, activation='relu', return_sequences=True)(x)\n",
        "\n",
        "#     output = layers.TimeDistributed(Dense(n_features))(x)\n",
        "#     model = Model(inputs=i, outputs=output)\n",
        "#     opt = Adam(lr=0.01)\n",
        "#     model.compile(loss='mean_absolute_error', optimizer=opt)\n",
        "    \n",
        "#     return model\n",
        "  \n",
        "# model = AutoencoderLSTM(n_timesteps, 5)\n",
        "# model.summary()\n",
        "model.compile(optimizer=keras.optimizers.Adam(learning_rate=0.01), loss=\"mse\")\n",
        "model.summary()\n"
      ],
      "execution_count": 90,
      "outputs": [
        {
          "output_type": "stream",
          "text": [
            "Model: \"sequential_2\"\n",
            "_________________________________________________________________\n",
            "Layer (type)                 Output Shape              Param #   \n",
            "=================================================================\n",
            "dropout_8 (Dropout)          (None, 144, 1)            0         \n",
            "_________________________________________________________________\n",
            "conv1d_4 (Conv1D)            (None, 72, 32)            256       \n",
            "_________________________________________________________________\n",
            "dropout_9 (Dropout)          (None, 72, 32)            0         \n",
            "_________________________________________________________________\n",
            "conv1d_5 (Conv1D)            (None, 36, 16)            3600      \n",
            "_________________________________________________________________\n",
            "conv1d_transpose_6 (Conv1DTr (None, 72, 16)            1808      \n",
            "_________________________________________________________________\n",
            "dropout_10 (Dropout)         (None, 72, 16)            0         \n",
            "_________________________________________________________________\n",
            "conv1d_transpose_7 (Conv1DTr (None, 144, 32)           3616      \n",
            "_________________________________________________________________\n",
            "dropout_11 (Dropout)         (None, 144, 32)           0         \n",
            "_________________________________________________________________\n",
            "conv1d_transpose_8 (Conv1DTr (None, 144, 1)            225       \n",
            "=================================================================\n",
            "Total params: 9,505\n",
            "Trainable params: 9,505\n",
            "Non-trainable params: 0\n",
            "_________________________________________________________________\n"
          ],
          "name": "stdout"
        }
      ]
    },
    {
      "cell_type": "code",
      "metadata": {
        "id": "yqEw2mFV7fad",
        "colab_type": "code",
        "colab": {
          "base_uri": "https://localhost:8080/",
          "height": 391
        },
        "outputId": "3ae20ac8-6c5f-4172-99e3-5c825cb2c5d5"
      },
      "source": [
        "history = model.fit(\n",
        "    X_train,\n",
        "    X_train,\n",
        "    epochs=50,\n",
        "    batch_size=64,\n",
        "    validation_split=0.1,\n",
        "    callbacks=[keras.callbacks.EarlyStopping(monitor=\"val_loss\", patience=10, mode=\"min\")],\n",
        ")\n"
      ],
      "execution_count": 91,
      "outputs": [
        {
          "output_type": "stream",
          "text": [
            "Epoch 1/50\n",
            "199/199 [==============================] - 1s 4ms/step - loss: 1116.9742 - val_loss: 274.9308\n",
            "Epoch 2/50\n",
            "199/199 [==============================] - 1s 3ms/step - loss: 436.6895 - val_loss: 461.0900\n",
            "Epoch 3/50\n",
            "199/199 [==============================] - 1s 3ms/step - loss: 363.6895 - val_loss: 461.7777\n",
            "Epoch 4/50\n",
            "199/199 [==============================] - 1s 3ms/step - loss: 314.6561 - val_loss: 384.5523\n",
            "Epoch 5/50\n",
            "199/199 [==============================] - 1s 3ms/step - loss: 299.4778 - val_loss: 494.7794\n",
            "Epoch 6/50\n",
            "199/199 [==============================] - 1s 3ms/step - loss: 286.2638 - val_loss: 353.6601\n",
            "Epoch 7/50\n",
            "199/199 [==============================] - 1s 3ms/step - loss: 267.1895 - val_loss: 370.4095\n",
            "Epoch 8/50\n",
            "199/199 [==============================] - 1s 3ms/step - loss: 269.0061 - val_loss: 294.0950\n",
            "Epoch 9/50\n",
            "199/199 [==============================] - 1s 3ms/step - loss: 273.5962 - val_loss: 353.1242\n",
            "Epoch 10/50\n",
            "199/199 [==============================] - 1s 3ms/step - loss: 257.2438 - val_loss: 314.9743\n",
            "Epoch 11/50\n",
            "199/199 [==============================] - 1s 3ms/step - loss: 270.3066 - val_loss: 355.3678\n"
          ],
          "name": "stdout"
        }
      ]
    },
    {
      "cell_type": "code",
      "metadata": {
        "id": "wA_qhq81sUxr",
        "colab_type": "code",
        "colab": {
          "base_uri": "https://localhost:8080/",
          "height": 34
        },
        "outputId": "beffebbc-cb46-4c6c-809b-a1b86f3ad49b"
      },
      "source": [
        "y_train_pred = model.predict(X_train)\n",
        "y_train_pred.shape"
      ],
      "execution_count": 92,
      "outputs": [
        {
          "output_type": "execute_result",
          "data": {
            "text/plain": [
              "(14098, 144, 1)"
            ]
          },
          "metadata": {
            "tags": []
          },
          "execution_count": 92
        }
      ]
    },
    {
      "cell_type": "code",
      "metadata": {
        "id": "S9prme_F5W7l",
        "colab_type": "code",
        "colab": {
          "base_uri": "https://localhost:8080/",
          "height": 34
        },
        "outputId": "af9f048c-e628-4ea2-8355-f94c958ba5de"
      },
      "source": [
        "len(y_train_pred[1,:])"
      ],
      "execution_count": 93,
      "outputs": [
        {
          "output_type": "execute_result",
          "data": {
            "text/plain": [
              "144"
            ]
          },
          "metadata": {
            "tags": []
          },
          "execution_count": 93
        }
      ]
    },
    {
      "cell_type": "code",
      "metadata": {
        "id": "IdY_e3VHsUxv",
        "colab_type": "code",
        "colab": {
          "base_uri": "https://localhost:8080/",
          "height": 34
        },
        "outputId": "ba552b08-d17a-491d-d8e9-ad6f9b43a290"
      },
      "source": [
        "from sklearn.metrics import mean_absolute_error\n",
        "# y_train = y_train.reshape(y_train.shape[0], y_train.shape[1])\n",
        "errors = [mean_absolute_error(X_train[i, :], y_train_pred[i, :]) for i in range(y_train_pred.shape[0])]\n",
        "len(errors)"
      ],
      "execution_count": 94,
      "outputs": [
        {
          "output_type": "execute_result",
          "data": {
            "text/plain": [
              "14098"
            ]
          },
          "metadata": {
            "tags": []
          },
          "execution_count": 94
        }
      ]
    },
    {
      "cell_type": "code",
      "metadata": {
        "scrolled": true,
        "id": "XdBiBRfNsUxy",
        "colab_type": "code",
        "colab": {
          "base_uri": "https://localhost:8080/",
          "height": 282
        },
        "outputId": "b8bc0c9e-5840-4333-dc92-9e4da87c8c7c"
      },
      "source": [
        "import seaborn as sb\n",
        "sb.kdeplot(errors, shade=True)"
      ],
      "execution_count": 95,
      "outputs": [
        {
          "output_type": "execute_result",
          "data": {
            "text/plain": [
              "<matplotlib.axes._subplots.AxesSubplot at 0x7f8df26b2ba8>"
            ]
          },
          "metadata": {
            "tags": []
          },
          "execution_count": 95
        },
        {
          "output_type": "display_data",
          "data": {
            "image/png": "[encoded data removed]",
            "text/plain": [
              "<Figure size 432x288 with 1 Axes>"
            ]
          },
          "metadata": {
            "tags": [],
            "needs_background": "light"
          }
        }
      ]
    },
    {
      "cell_type": "code",
      "metadata": {
        "id": "A6qaFTygsUx3",
        "colab_type": "code",
        "colab": {
          "base_uri": "https://localhost:8080/",
          "height": 34
        },
        "outputId": "bc2b7c4f-a81c-4160-b7bf-aaaada613f1c"
      },
      "source": [
        "from scipy.stats import norm\n",
        "params = norm.fit(errors)\n",
        "dist = norm(loc=params[0], scale=params[1])\n",
        "\n",
        "dist.mean(), dist.std()"
      ],
      "execution_count": 96,
      "outputs": [
        {
          "output_type": "execute_result",
          "data": {
            "text/plain": [
              "(18.285119006257304, 4.757739177957353)"
            ]
          },
          "metadata": {
            "tags": []
          },
          "execution_count": 96
        }
      ]
    },
    {
      "cell_type": "code",
      "metadata": {
        "id": "3b3ccnWKsUx_",
        "colab_type": "code",
        "colab": {}
      },
      "source": [
        "def is_anomaly(error, mean, std, threshold):\n",
        "    difference = np.abs(error - mean)\n",
        "    print(difference)\n",
        "    value = difference / std\n",
        "    if value < threshold:\n",
        "        return 0\n",
        "    else:\n",
        "        return 1"
      ],
      "execution_count": 97,
      "outputs": []
    },
    {
      "cell_type": "code",
      "metadata": {
        "id": "OSmSdsZysUyD",
        "colab_type": "code",
        "colab": {
          "base_uri": "https://localhost:8080/",
          "height": 1000
        },
        "outputId": "9a0c74f5-7b8d-4c8e-e5c2-657799101452"
      },
      "source": [
        "y_val_pred = model.predict(X_val[:, :, :])\n",
        "# y_val = y_val.reshape(y_val.shape[0], y_val.shape[2])\n",
        "val_errors = [mean_absolute_error(X_val[i, :], y_val_pred[i, :]) for i in range(y_val_pred.shape[0])]\n",
        "results = [is_anomaly(x, dist.mean(), dist.std(), 1) for x in val_errors]"
      ],
      "execution_count": 106,
      "outputs": [
        {
          "output_type": "stream",
          "text": [
            "0.8707272716154186\n",
            "1.0879824401063587\n",
            "1.1966535224970372\n",
            "1.3324654341859485\n",
            "1.2619320791088384\n",
            "1.5360247798551647\n",
            "1.5304332283923543\n",
            "1.7637543387998669\n",
            "1.5193289625435575\n",
            "1.8249171549534964\n",
            "1.6657881314015555\n",
            "1.8865609408540394\n",
            "1.663585474867574\n",
            "2.0251102157224743\n",
            "1.9819139879070562\n",
            "2.1597370281275303\n",
            "1.8947018492012724\n",
            "2.130861836121099\n",
            "2.227652573697057\n",
            "2.3741906723502133\n",
            "2.1371117142627156\n",
            "2.4976400244026884\n",
            "2.585358299260953\n",
            "2.7667563333567173\n",
            "2.4747754707392247\n",
            "2.875357890240636\n",
            "3.07319375949994\n",
            "3.163089988078294\n",
            "3.0740058396713117\n",
            "3.178204745828065\n",
            "3.160336544890157\n",
            "3.1557850547422497\n",
            "3.038589077637212\n",
            "3.1539068196670392\n",
            "3.149430034007249\n",
            "3.3423716731657116\n",
            "3.2676877155359776\n",
            "3.549746484338197\n",
            "3.4309170485658314\n",
            "3.6360338238665975\n",
            "3.444561902793531\n",
            "3.7215204213516095\n",
            "3.7070281745118763\n",
            "3.8813585150032743\n",
            "3.822564016559671\n",
            "4.041849875561681\n",
            "4.23539768071203\n",
            "4.2236163060985845\n",
            "4.258592867962804\n",
            "4.320194586229608\n",
            "4.298449964105043\n",
            "4.281328940503087\n",
            "4.208771967999425\n",
            "4.318924583440641\n",
            "4.3611479309985555\n",
            "4.3981972510075735\n",
            "4.291865876097432\n",
            "4.410767685154031\n",
            "4.363291525952306\n",
            "4.450732546494024\n",
            "4.259321951977697\n",
            "4.423758053891149\n",
            "4.408876946348897\n",
            "4.455752529149869\n",
            "4.411917842870572\n",
            "4.449673941511861\n",
            "4.249309590239278\n",
            "4.456536528910814\n",
            "4.310253458664434\n",
            "4.440097567881761\n",
            "4.170384801870206\n",
            "4.240314401632169\n",
            "4.036418011564962\n",
            "4.187957575697652\n",
            "4.059743560796598\n",
            "4.173607664749639\n",
            "3.980461806832704\n",
            "4.027570033184972\n",
            "3.9173284081408895\n",
            "3.9038894945836233\n",
            "3.8463566807696736\n",
            "3.8248447021964047\n",
            "3.6257740896068853\n",
            "3.561400410975633\n",
            "3.299305118566373\n",
            "3.295233591509149\n",
            "3.1288080719897664\n",
            "3.0175218556777814\n",
            "2.847935594564298\n",
            "2.8304682812216733\n",
            "2.669716011264871\n",
            "2.507486181900518\n",
            "2.309998456748609\n",
            "2.4063290994488042\n",
            "2.2485927450447782\n",
            "2.290539924415235\n",
            "2.162821740685853\n",
            "2.2824138510018095\n",
            "1.9728735527518246\n",
            "2.0827455495254377\n",
            "1.932988031816766\n",
            "1.9009401243053716\n",
            "1.7248971569329008\n",
            "1.4703989798283743\n",
            "1.243564894575826\n",
            "1.3119053152987874\n",
            "1.151439730437879\n",
            "1.0426490016569225\n",
            "0.7228844405336048\n",
            "0.6427156237552083\n",
            "0.28408051607901896\n",
            "0.05066863949535616\n",
            "0.21734933312175997\n",
            "0.2702918210503604\n",
            "0.5174989328328579\n",
            "0.6776902436094616\n",
            "0.9167057566057117\n",
            "0.8945071855065372\n",
            "1.1785725777888132\n",
            "1.411970405996886\n",
            "1.5697649875161197\n",
            "1.6599081250240886\n",
            "1.8579640413864276\n",
            "2.0860434663504854\n",
            "2.2046320463760516\n",
            "2.2963509187642543\n",
            "2.385271167643582\n",
            "2.441923183753472\n",
            "2.559978951236653\n",
            "2.5950423107091396\n",
            "2.611671251609307\n",
            "2.7150400637464873\n",
            "2.8274685169799945\n",
            "3.0072395826919696\n",
            "3.0810535906629912\n",
            "3.337231055783942\n",
            "3.4504557211078364\n",
            "3.608919702524325\n",
            "3.601297036695197\n",
            "3.88667479080066\n",
            "3.7988429624713618\n",
            "3.9453555900729853\n",
            "3.9066667449683425\n",
            "4.12989882881878\n",
            "4.065324216307252\n",
            "4.156313170215535\n",
            "4.21543272590079\n",
            "4.407575291945916\n",
            "4.3526931231760795\n",
            "4.552949007240649\n",
            "4.484877827320876\n",
            "4.608081475782111\n",
            "4.531745290644681\n",
            "4.648292808950989\n",
            "4.643879747279202\n",
            "4.7397498050210025\n",
            "4.692723859569478\n",
            "4.884701281012147\n",
            "4.899210230397895\n",
            "4.953467504071906\n",
            "4.959994557057204\n",
            "4.999916913662734\n",
            "5.1038664207402675\n",
            "5.231506456157613\n",
            "5.172216908025458\n",
            "5.2970564125852935\n",
            "5.425050247928548\n",
            "5.509094518973809\n",
            "5.638753641864705\n",
            "5.66997242227632\n",
            "5.865958918353963\n",
            "5.888930601432305\n",
            "5.933715213558125\n",
            "5.9109790218085525\n",
            "5.949158101500123\n",
            "6.128698007154181\n",
            "6.043646616294366\n",
            "6.152440563726142\n",
            "6.160887482319655\n",
            "6.357588240723857\n",
            "6.409443102831027\n",
            "6.591304967026957\n",
            "6.540650568956515\n",
            "6.62281162462736\n",
            "6.611224640628743\n",
            "6.830123691977112\n",
            "6.85700089655424\n",
            "6.966271416234687\n",
            "6.952704564618781\n",
            "7.183465483341994\n",
            "7.225366594944777\n",
            "7.423277062728387\n",
            "7.3774805491709525\n",
            "7.582355779960137\n",
            "7.543964123614346\n",
            "7.69316676181659\n",
            "7.549069817749377\n",
            "7.701175347852423\n",
            "7.7022734376003825\n",
            "7.7486017570439785\n",
            "7.6137213599890945\n",
            "7.666837244452088\n",
            "7.607260918505704\n",
            "7.669919347651517\n",
            "7.63095686424545\n",
            "7.620735012048861\n",
            "7.699148842911967\n",
            "7.772566744904765\n",
            "7.8541950012787005\n",
            "7.811042377572306\n",
            "7.883883955632033\n",
            "7.836444036054328\n",
            "7.8552011541734625\n",
            "7.935592653904738\n",
            "7.956446054135146\n",
            "7.962431764491116\n",
            "7.984423467736491\n",
            "7.99181538411748\n",
            "8.05074421818493\n",
            "7.913316742467597\n",
            "7.951412494865771\n",
            "7.922171118412795\n",
            "8.053502456235602\n",
            "7.986527895815884\n",
            "8.030565701479098\n",
            "8.062511049265048\n",
            "8.11716225665912\n",
            "8.03016307872638\n",
            "7.954504346735989\n",
            "8.019902351055922\n",
            "7.960013868962111\n",
            "7.96987173546127\n",
            "7.877984301137641\n",
            "8.02100760660673\n",
            "7.950201937775859\n",
            "7.871503435129306\n",
            "7.730460301923468\n",
            "7.756702372651347\n",
            "7.738005614169156\n",
            "7.654478406794583\n",
            "7.472597985685914\n",
            "7.5096495508032195\n",
            "7.426270182815905\n",
            "7.310081510962098\n",
            "7.225627385133883\n",
            "7.4067991864890335\n",
            "7.3334219746004035\n",
            "7.221149327908339\n",
            "7.0724312224862125\n",
            "7.132067113340943\n",
            "7.059383447853442\n",
            "6.973612602440234\n",
            "6.8372025117818325\n",
            "6.92822696356745\n",
            "6.850747203715359\n",
            "6.663500404246365\n",
            "6.505269900846198\n",
            "6.650108710813239\n",
            "6.5454872607069365\n",
            "6.392317032702481\n",
            "6.186503558577149\n",
            "6.2866259176410395\n",
            "6.194980968257832\n",
            "6.068427962615472\n",
            "5.893840858559855\n",
            "6.003275343995341\n",
            "5.929685608434394\n",
            "5.768084316671937\n",
            "5.623756119828471\n",
            "5.764958225244662\n",
            "5.661926868115248\n",
            "5.534465487686511\n",
            "5.401975872669997\n",
            "5.57785079468063\n",
            "5.5757057957063605\n",
            "5.453970342100709\n",
            "5.3674255237523525\n",
            "5.532932138331448\n",
            "5.5351598155707595\n",
            "5.338494502061984\n",
            "5.182552922985005\n",
            "5.260424166143983\n",
            "5.202469483899787\n",
            "5.010247842359259\n",
            "4.777780641338277\n",
            "5.071518211783021\n",
            "5.039585924037015\n",
            "4.880673808410149\n",
            "4.760549388879916\n",
            "4.954843497164761\n",
            "4.951123465320515\n",
            "4.664070953151631\n",
            "4.6680088201043155\n",
            "4.876264521699198\n",
            "4.858761419078755\n",
            "4.817891070466288\n",
            "4.657590736171651\n",
            "4.877421434608813\n",
            "4.798897162961676\n",
            "4.77861500040132\n",
            "4.508169944969531\n",
            "4.7090320347624175\n",
            "4.565915878502246\n",
            "4.6241724781404425\n",
            "4.36716620381115\n",
            "4.728343780723925\n",
            "4.458524706517043\n",
            "4.441365218050992\n",
            "4.128986334689175\n",
            "4.4026173908389765\n",
            "4.2181510950668475\n",
            "4.177088395642951\n",
            "3.909002598015185\n",
            "4.059866218985169\n",
            "3.960692461220141\n",
            "3.840445918395501\n",
            "3.6759270322531936\n",
            "3.8935049665183303\n",
            "3.7964263517535883\n",
            "3.7410940354609306\n",
            "3.5699897102724005\n",
            "3.7074018079913813\n",
            "3.544771938742249\n",
            "3.533603299877095\n",
            "3.327888040960877\n",
            "3.60856278991141\n",
            "3.5661630920778205\n",
            "3.5719770615839774\n",
            "3.494036359145623\n",
            "3.714914748292216\n",
            "3.696330947234612\n",
            "3.7198100380311896\n",
            "3.538792559724101\n",
            "3.7478069224831607\n",
            "3.6370210143139445\n",
            "3.7016898551461246\n",
            "3.478086474095168\n",
            "3.7355387236221453\n",
            "3.67640069049701\n",
            "3.7634538834833915\n",
            "3.550256254826369\n",
            "3.8847713760744025\n",
            "3.6510131119566314\n",
            "3.8147090566367385\n",
            "3.5894359772944266\n",
            "4.0538684552454765\n",
            "3.8746269304431635\n",
            "3.9799704577072283\n",
            "3.66663925106762\n",
            "4.026099366500359\n",
            "3.9061131502731463\n",
            "3.95568151197935\n",
            "3.6326671201862055\n",
            "3.962154549911004\n",
            "3.937256285767802\n",
            "3.879891557052117\n",
            "3.7650361086471698\n",
            "4.000748160038771\n",
            "3.9799143233773258\n",
            "4.0290600484156425\n",
            "3.6963828165210444\n",
            "3.977044770341166\n",
            "4.113103922096606\n",
            "4.189843816115838\n",
            "4.076781540335267\n",
            "4.367464332998841\n",
            "4.2441065601716925\n",
            "4.208450002028924\n",
            "4.084205418051331\n",
            "4.365939778640252\n",
            "4.226842141039883\n",
            "4.3150979968121135\n",
            "4.274690365679776\n",
            "4.578507505411288\n",
            "4.560112982214539\n",
            "4.54344482145811\n",
            "4.396661946397074\n",
            "4.642201956001635\n",
            "4.59396661906214\n",
            "4.641505243931594\n",
            "4.517318065849658\n",
            "4.765217518694913\n",
            "4.692984265639764\n",
            "4.791176295168912\n",
            "4.766966107044997\n",
            "4.997028618277161\n",
            "5.009176866101935\n",
            "4.9850515549921806\n",
            "4.84366700638107\n",
            "5.036705999792664\n",
            "5.045880717589837\n",
            "5.058656218205275\n",
            "5.034823420201125\n",
            "5.264187497451287\n",
            "5.334482142548808\n",
            "5.330256623580437\n",
            "5.246758066171786\n",
            "5.535655368587422\n",
            "5.644388492790576\n",
            "5.650310306967347\n",
            "5.633444576681702\n",
            "5.812127658944377\n",
            "5.869717971372321\n",
            "5.940488632408496\n",
            "6.01202220640684\n",
            "6.232184545087531\n",
            "6.293187660529595\n",
            "6.28901133526138\n",
            "6.24924890454052\n",
            "6.472726029708367\n",
            "6.452660126044732\n",
            "6.577108067824822\n",
            "6.558900213130032\n",
            "6.77038578446148\n",
            "6.793029774448323\n",
            "6.884952680158332\n",
            "6.8566271092041156\n",
            "6.993057756842225\n",
            "6.991342149728915\n",
            "7.00537199697996\n",
            "6.92464558537243\n",
            "7.134109711535489\n",
            "7.055056031433459\n",
            "7.168546281808993\n",
            "7.1024132992370745\n",
            "7.318028479040711\n",
            "7.274344950140565\n",
            "7.349332520585307\n",
            "7.436789886045172\n",
            "7.531483321608155\n",
            "7.461833188157328\n",
            "7.485899808560195\n",
            "7.510260690471577\n",
            "7.7005013252838275\n",
            "7.801972563949938\n",
            "7.835681003882867\n",
            "7.880074318138476\n",
            "8.019846190235066\n",
            "8.067151813925355\n",
            "8.021447250466593\n",
            "7.9315272263894965\n",
            "8.129849502663859\n",
            "8.123038585869189\n",
            "8.095646741543593\n",
            "8.150355500533562\n",
            "8.22645022063227\n",
            "8.221119419622138\n",
            "8.235560141557833\n",
            "8.259915897469767\n",
            "8.360612037335219\n",
            "8.47856182775999\n",
            "8.586775649806905\n",
            "8.66036516019475\n",
            "8.750651083940646\n",
            "8.804805943589457\n",
            "8.868862446037646\n",
            "8.880602269590943\n",
            "9.024092319165053\n",
            "9.039100781964972\n",
            "9.152982714329543\n",
            "9.065433610698628\n",
            "9.229484640115878\n",
            "9.280015510871392\n",
            "9.379040349742818\n",
            "9.407724012157368\n",
            "9.540102775780078\n",
            "9.558145393154073\n",
            "9.579247212298428\n",
            "9.549708872259705\n",
            "9.664976851033881\n",
            "9.522637051894646\n",
            "9.516801200861117\n",
            "9.516827161995288\n",
            "9.50961012564207\n",
            "9.424609849076518\n",
            "9.404109069924601\n",
            "9.360428110646918\n",
            "9.350679519329848\n",
            "9.33015361350879\n",
            "9.243731686692485\n",
            "9.195566934897881\n",
            "9.313139639848849\n",
            "9.212731072526225\n",
            "9.182309126742398\n",
            "9.130435522285815\n",
            "9.183969314781542\n",
            "9.063590661573127\n",
            "9.074720213036784\n",
            "9.0606255291777\n",
            "9.072134682755717\n",
            "9.040230409192755\n",
            "9.119276724809787\n",
            "9.12436330572206\n",
            "9.093823475196343\n",
            "9.057011408164483\n",
            "9.093533041630568\n",
            "9.111074330960097\n",
            "9.196376736847277\n",
            "9.081048809045932\n",
            "9.123788809664761\n",
            "9.07789127285717\n",
            "9.090962730402133\n",
            "8.939743441894036\n",
            "8.931940862756022\n",
            "9.03967817878165\n",
            "8.908794749996114\n",
            "8.802222996176331\n",
            "8.642744252305278\n",
            "8.7449015139418\n",
            "8.699624766132283\n",
            "8.721529049231988\n",
            "8.757891922415345\n",
            "8.669460285922932\n",
            "8.576870139328356\n",
            "8.617275293556567\n",
            "8.558328909232598\n",
            "8.559559639183398\n",
            "8.48206337546744\n",
            "8.2657818819626\n",
            "8.059744426827677\n",
            "7.882347420739844\n",
            "7.90810493881939\n",
            "7.788002692217013\n",
            "7.5966133566906535\n",
            "7.530758264218154\n",
            "7.432429978471049\n",
            "7.350878479634108\n",
            "7.233161438724446\n",
            "7.206038371610358\n",
            "7.324890947230374\n",
            "7.226717686541592\n",
            "7.091410758648696\n",
            "7.21095582103171\n",
            "7.361682437414309\n",
            "7.235117358520013\n",
            "7.018950054269084\n",
            "7.222948858361491\n",
            "7.132199117760905\n",
            "7.132858278904738\n",
            "6.864356785238831\n",
            "6.987543890099772\n",
            "6.887001463990458\n",
            "6.743584502956319\n",
            "6.5023663599170405\n",
            "6.527092949437812\n",
            "6.536381114742207\n",
            "6.407115435488736\n",
            "6.152667710404643\n",
            "6.20762586847383\n",
            "6.168741294961222\n",
            "6.082894288057467\n",
            "5.871218710363953\n",
            "5.957344878932881\n",
            "5.978127150953858\n",
            "5.89509888743796\n",
            "5.563133070092448\n",
            "5.608905940474122\n",
            "5.509327506907498\n",
            "5.396949042102742\n",
            "5.098079061396634\n",
            "5.13719838449132\n",
            "5.093543214156609\n",
            "5.0741971491651885\n",
            "4.930195135428887\n",
            "5.098118705108147\n",
            "5.003811057297106\n",
            "4.846528983004605\n",
            "4.670902109034573\n",
            "4.7791301302324225\n",
            "4.771374228154006\n",
            "4.694508661052632\n",
            "4.480061427640631\n",
            "4.501778538910266\n",
            "4.521172380335843\n",
            "4.327763692426398\n",
            "4.085718342881449\n",
            "4.12073446898432\n",
            "4.1374311737428595\n",
            "4.002607122945502\n",
            "3.6904378757420986\n",
            "3.799009749512919\n",
            "3.7420715118988177\n",
            "3.7743591625369746\n",
            "3.4682774039318645\n",
            "3.6449332924892985\n",
            "3.678420731644877\n",
            "3.703960063610854\n",
            "3.231651467635613\n",
            "3.1910087028023746\n",
            "3.0270178078489653\n",
            "2.907609200366055\n",
            "2.3953938906931693\n",
            "2.497988451740193\n",
            "2.388136521863654\n",
            "2.53291929021913\n",
            "2.222752666361842\n",
            "2.309117293246304\n",
            "2.2191853813539417\n",
            "2.409735761636874\n",
            "2.1283595852266224\n",
            "2.2890929406428153\n",
            "2.1806112023403728\n",
            "2.2343562204517085\n",
            "1.9774609961983707\n",
            "2.078867967811938\n",
            "2.0175927770346895\n",
            "2.0103171426929194\n",
            "1.7140270099584072\n",
            "1.743559124623122\n",
            "1.6557089777996623\n",
            "1.6131412478497111\n",
            "1.4327663076133028\n",
            "1.435631118768832\n",
            "1.4207089502490717\n",
            "1.5318941830473278\n",
            "1.4036761415213839\n",
            "1.502243018038783\n",
            "1.3980171440916394\n",
            "1.4342903851347302\n",
            "1.2627083485865427\n",
            "1.4777670726720302\n",
            "1.4289359541943156\n",
            "1.5277591836661593\n",
            "1.4142043880830677\n",
            "1.633862974797072\n",
            "1.5910677405407512\n",
            "1.6907618865910976\n",
            "1.4911022211654803\n",
            "1.668190773216601\n",
            "1.5074440133780733\n",
            "1.5563164047609241\n",
            "1.3794861130128773\n",
            "1.58395317119464\n",
            "1.481580471880946\n",
            "1.620689553573115\n",
            "1.445610075415221\n",
            "1.5597892097841175\n",
            "1.5106875656919811\n",
            "1.5317824442065913\n",
            "1.3312074368738962\n",
            "1.406461082452914\n",
            "1.2375047762073237\n",
            "1.3758978339245402\n",
            "1.106379643964484\n",
            "1.291609660672858\n",
            "1.1321121876978708\n",
            "1.274129260799338\n",
            "1.0948718944069888\n",
            "1.3319799130701853\n",
            "1.2827290189475313\n",
            "1.5273812107454212\n",
            "1.249062275774989\n",
            "1.5809541303790766\n",
            "1.372615816746535\n",
            "1.675790683316901\n",
            "1.460296183050719\n",
            "1.654768548959872\n",
            "1.373251626115092\n",
            "1.7394402847234218\n",
            "1.4284000687013538\n",
            "1.5218765761001727\n",
            "1.3979011666983858\n",
            "1.7144247716212107\n",
            "1.7604986851954294\n",
            "1.385252716694655\n",
            "1.569429479593417\n",
            "2.0080463381817424\n",
            "2.0426744380471256\n",
            "2.1666077798151804\n",
            "2.235919610547736\n",
            "2.4194379408038813\n",
            "2.451853463273295\n",
            "2.591013434086623\n",
            "2.4650961318490054\n",
            "2.6590805608905512\n",
            "2.650047967057475\n",
            "2.8142568295740897\n",
            "2.6523192748967617\n",
            "2.811889001946696\n",
            "2.8320903538542144\n",
            "2.6823565587941616\n",
            "2.732850236251336\n",
            "2.774579143412625\n",
            "2.8944190633506057\n",
            "2.821194101592946\n",
            "2.9910340334518573\n",
            "3.153611026758334\n",
            "3.12257731214601\n",
            "3.1959659946173904\n",
            "3.272894888342469\n",
            "3.525239761558886\n",
            "3.578433913543206\n",
            "3.5333308006866595\n",
            "3.660532821437764\n",
            "3.8484257749925543\n",
            "3.823779717969611\n",
            "3.8144986985998504\n",
            "3.916453615712836\n",
            "4.1393981800023525\n",
            "4.137083493227145\n",
            "4.144914669349175\n",
            "4.2857197416037796\n",
            "4.491718480210551\n",
            "4.4803739016794975\n",
            "4.482207592216845\n",
            "4.522568506553155\n",
            "4.708263214317675\n",
            "4.577685411659594\n",
            "4.59338637446799\n",
            "4.643471601162734\n",
            "4.803927967171916\n",
            "4.7167967450827835\n",
            "4.751760935671841\n",
            "4.8115026181483085\n",
            "5.049124667268046\n",
            "5.10666807746329\n",
            "5.16742754236299\n",
            "5.275204555082038\n",
            "5.52474488406153\n",
            "5.547461869870009\n",
            "5.550409266572245\n",
            "5.617221357975783\n",
            "5.86675505097149\n",
            "5.861412514469075\n",
            "5.807555227697938\n",
            "5.772592255692729\n",
            "5.883435000202107\n",
            "5.845621469174208\n",
            "5.557996103387126\n",
            "5.79364718584986\n",
            "6.04338621022408\n",
            "6.2703746052792155\n",
            "6.181982360834262\n",
            "6.613987143722888\n",
            "6.730375769291701\n",
            "6.861575261640265\n",
            "6.854735522688477\n",
            "7.0493303827653815\n",
            "7.124342563305678\n",
            "7.092744326479947\n",
            "6.960713203636523\n",
            "7.172759005646952\n",
            "7.134947448195069\n",
            "7.078963269016194\n",
            "7.037353783072083\n",
            "7.258857318978556\n",
            "7.365570150369784\n",
            "7.344385613223958\n",
            "7.19190165985397\n",
            "7.5049524729990775\n",
            "7.5031340280053165\n",
            "7.51667238860102\n",
            "7.283485534344496\n",
            "7.460858427042147\n",
            "7.516895906018927\n",
            "7.466385910134562\n",
            "7.294759580712565\n",
            "7.550454301192742\n",
            "7.4244399493479545\n",
            "7.455749448028918\n",
            "7.254166261243537\n",
            "7.571673170613959\n",
            "7.55563654093714\n",
            "7.6222022267391765\n",
            "7.408958146195658\n",
            "7.720592620526137\n",
            "7.587665149789103\n",
            "7.50197438652752\n",
            "7.331866174162476\n",
            "7.557250091653117\n",
            "7.378319954760586\n",
            "7.393086343229859\n",
            "7.151156308804335\n",
            "7.447275932518359\n",
            "7.179655408747708\n",
            "7.092244296492188\n",
            "6.767770584312792\n",
            "6.950359545702121\n",
            "6.704241728671109\n",
            "6.686524486430203\n",
            "6.417333949825215\n",
            "6.753950956021132\n",
            "6.509106625339436\n",
            "6.609651528352877\n",
            "6.352572629075297\n",
            "6.644464018498244\n",
            "6.380688802289679\n",
            "6.452539539225613\n",
            "6.193878209479367\n",
            "6.501304125674283\n",
            "6.260169627819838\n",
            "6.358008215050944\n",
            "5.9672879403376395\n",
            "6.224470631169989\n",
            "5.895151485225606\n",
            "5.916675848319512\n",
            "5.555778876828864\n",
            "5.8581803400195795\n",
            "5.555057938782092\n",
            "5.598799456378865\n",
            "5.140144873878407\n",
            "5.599715645996447\n",
            "5.315759105041009\n",
            "5.418682524781474\n",
            "5.030558893304118\n",
            "5.307272728172656\n",
            "5.072584247477566\n",
            "4.870797226052531\n",
            "4.450175791205018\n",
            "4.949788255050164\n",
            "4.612222323041209\n",
            "4.722925586059075\n",
            "4.249516476413655\n",
            "4.575202792109101\n",
            "4.097826821162682\n",
            "4.240940480650513\n",
            "3.5324444928643253\n",
            "3.825657741117194\n",
            "3.412081124935927\n",
            "3.4748370142986857\n",
            "2.9582555584321906\n",
            "3.2029154326065203\n",
            "2.909162153026509\n",
            "2.95881121942174\n",
            "2.7526015333543707\n",
            "2.896232448572299\n",
            "2.6310934648457973\n",
            "2.6875129168772514\n",
            "2.3732787131147735\n",
            "2.3627022927546317\n",
            "2.0706659183446376\n",
            "2.170570376072707\n",
            "1.8436461712463519\n",
            "1.9362641730782535\n",
            "1.5563408757789752\n",
            "1.6442887940880802\n",
            "1.2113780470898234\n",
            "1.2420217751341198\n",
            "0.8930972045206858\n",
            "0.9057019709425305\n",
            "0.5906982182340954\n",
            "0.7100663475404652\n",
            "0.39768213949705\n",
            "0.44139806683300264\n",
            "0.004248126459405199\n",
            "0.22408729383122505\n",
            "0.03465638966588713\n",
            "0.10605585828858821\n",
            "0.1578007248828328\n",
            "0.13667661867643233\n",
            "0.1310515908191121\n",
            "0.08630469364031867\n",
            "0.20310319540793742\n",
            "0.06205170430635576\n",
            "0.31773800066340385\n",
            "0.2173061213019345\n",
            "0.604235739289674\n",
            "0.4297262404815534\n",
            "0.705982616324178\n",
            "0.6433038553717587\n",
            "1.1096465297330944\n",
            "0.9687046449505132\n",
            "1.1742551698740513\n",
            "1.1112547690129446\n",
            "1.539495412620191\n",
            "1.4290424957331211\n",
            "1.8413598512069562\n",
            "1.7085873790372936\n",
            "2.005736825312791\n",
            "1.8777143400036138\n",
            "2.050060084242574\n",
            "1.8963164198189482\n",
            "2.096296652269647\n",
            "2.0924302976452154\n",
            "2.255402827374425\n",
            "2.2352196615062994\n",
            "2.4654699935968907\n",
            "2.423012969340501\n",
            "2.7054474328414777\n",
            "2.6363983658740437\n",
            "2.925198102108922\n",
            "2.8321110117226347\n",
            "3.1112777896513073\n",
            "2.9406582489069493\n",
            "3.1750429445958304\n",
            "3.1145735821249936\n",
            "3.23596575271317\n",
            "3.115221232949647\n",
            "3.3094153643769886\n",
            "3.2851623138907406\n",
            "3.466909220595113\n",
            "3.3881723325573248\n",
            "3.525156336472051\n",
            "3.5446757715069097\n",
            "3.793680585866788\n",
            "3.64565388107858\n",
            "3.8667899212363217\n",
            "3.743433049101583\n",
            "3.8530291425972685\n",
            "3.6430775828947155\n",
            "3.7820689652816633\n",
            "3.7255174293573887\n",
            "3.916509175412145\n",
            "3.725107163964662\n",
            "3.9897680257217267\n",
            "3.85271617847577\n",
            "4.064244665151456\n",
            "3.868539781152162\n",
            "4.172006922409551\n",
            "4.016657217455194\n",
            "4.1542278105473684\n",
            "3.9013939938071225\n",
            "4.102237645896558\n",
            "4.018612753131936\n",
            "4.159167578596822\n",
            "3.996493548928651\n",
            "4.203805152686719\n",
            "4.024074154541509\n",
            "4.203883539417337\n",
            "3.885484083605096\n",
            "4.012184723329828\n",
            "3.8144247241605846\n",
            "3.9224909915979893\n",
            "3.7116690716269467\n",
            "3.9180120601709874\n",
            "3.7134670391138584\n",
            "3.7653694392366077\n",
            "3.4511117115076573\n",
            "3.6960822450905546\n",
            "3.4476264822273954\n",
            "3.5805099250001575\n",
            "3.323996143982427\n",
            "3.593943540366773\n",
            "3.367990173345426\n",
            "3.560159654199037\n",
            "3.298446387826356\n",
            "3.514980975898389\n",
            "3.2677178887317098\n",
            "3.4803424385974324\n",
            "3.1563253377334455\n",
            "3.278266506836431\n",
            "3.1492874596969465\n",
            "3.183700029166822\n",
            "2.870169822486524\n",
            "2.974913303168897\n",
            "2.8341288276304333\n",
            "2.9715375080164463\n",
            "2.6378200558612264\n",
            "2.7756516908065656\n",
            "2.5792656714177298\n",
            "2.7481605186518223\n",
            "2.3018982649964954\n",
            "2.4705819263514073\n",
            "2.309770502096036\n",
            "2.418734627411382\n",
            "2.042848107661424\n",
            "2.088677085882047\n",
            "1.9751912727411778\n",
            "1.94953965886992\n",
            "1.5202519603361218\n",
            "1.512195955493997\n",
            "1.3940732453719953\n",
            "1.3153525433066342\n",
            "1.1168167035900396\n",
            "1.127852516815679\n",
            "1.1181035016433576\n",
            "1.0119780409126982\n",
            "0.8079906014392293\n",
            "0.837652230374303\n",
            "0.8272067680414708\n",
            "0.7875807524842884\n",
            "0.4115773016667532\n",
            "0.28475766458009844\n",
            "0.24223118104433183\n",
            "0.12171321191286211\n",
            "0.14500856653291194\n",
            "0.2545268031170451\n",
            "0.29613264655508686\n",
            "0.37281516116961555\n",
            "0.7892472769363543\n",
            "0.7321167547382075\n",
            "0.9131224445711048\n",
            "0.9887641826149967\n",
            "1.1520833729582165\n",
            "1.3740455070015933\n",
            "1.3692048945900943\n",
            "1.4116072415190075\n",
            "1.8079672944754854\n",
            "1.822462402338168\n",
            "1.8890397574051043\n",
            "1.8187363438020618\n",
            "2.158919244230834\n",
            "2.2087356672231166\n",
            "2.1227020447993112\n",
            "2.0063731430845593\n",
            "2.2328689918462246\n",
            "2.1509216651860683\n",
            "2.1816141100933635\n",
            "2.121769748682162\n",
            "2.471477881955817\n",
            "2.4882295157058856\n",
            "2.5190261362867705\n",
            "2.41611475668455\n",
            "2.849048405111878\n",
            "2.790510233131762\n",
            "2.727131077866801\n",
            "2.8079381411814506\n",
            "3.197424334838372\n",
            "3.2576847896520107\n",
            "3.307380970207568\n",
            "3.361911988146817\n",
            "3.6104140174597976\n",
            "3.629453608613261\n",
            "3.6226019354870402\n",
            "3.5784071046985346\n",
            "3.844727280293288\n",
            "3.794750428088223\n",
            "3.7811720396621844\n",
            "3.71053668116965\n",
            "3.974745647000983\n",
            "4.096464053678229\n",
            "4.082705659224969\n",
            "4.278978085406338\n",
            "4.418142559681716\n",
            "4.458863737736525\n",
            "4.4599316410432746\n",
            "4.553982141171279\n",
            "4.696224956930726\n",
            "4.716080694616883\n",
            "4.633273392141907\n",
            "4.761995582998841\n",
            "4.804787956232211\n",
            "4.811724718300219\n",
            "4.6469883414318645\n",
            "4.84444460857681\n",
            "4.7882897879226825\n",
            "5.006350254900967\n",
            "4.81778081511893\n",
            "5.0404864707467105\n",
            "4.980861719337817\n",
            "5.068478057008036\n",
            "4.966223348400044\n",
            "5.014363675535767\n",
            "5.086108634095439\n",
            "5.089437275351136\n",
            "5.009982853354066\n",
            "5.154413331767964\n",
            "5.12474012628633\n",
            "5.209222637170932\n",
            "5.084151270542922\n",
            "5.179489866780951\n",
            "5.233926351753588\n",
            "5.3316894397679775\n",
            "5.186737301503005\n",
            "5.221022608433547\n",
            "5.055240766095832\n",
            "4.987880921252286\n",
            "4.804837573787617\n",
            "4.914010249132296\n",
            "4.837411512157368\n",
            "4.967317848623841\n",
            "4.8650648089459025\n",
            "5.046220834938403\n",
            "5.003680443652188\n",
            "5.135427848386481\n",
            "5.0150311548389155\n",
            "5.17872237088387\n",
            "5.142124019617221\n",
            "5.179938716247063\n",
            "5.009165210082513\n",
            "5.067893746052565\n",
            "4.90231008253599\n",
            "4.934025025256192\n",
            "4.807118577315789\n",
            "4.853925747230035\n",
            "4.74754646343097\n",
            "4.8261604069548\n",
            "4.716822812180766\n",
            "4.811652212561219\n",
            "4.602323057804885\n",
            "4.646785791603442\n",
            "4.595308465316277\n",
            "4.685812727498725\n",
            "4.475472691212477\n",
            "4.47023180049762\n",
            "4.3581553325597255\n",
            "4.3280278602120426\n",
            "4.215449203273701\n",
            "4.207983761252015\n",
            "4.159384941943204\n",
            "4.240009323644355\n",
            "4.1541006855379035\n",
            "4.189846756611647\n",
            "4.110216779067498\n",
            "4.198625752549418\n",
            "3.975470624918124\n",
            "3.898472391122958\n",
            "3.786924894539233\n",
            "3.7089337135894915\n",
            "3.0293353424016445\n",
            "2.840465680646613\n",
            "2.323962955893128\n",
            "2.2092386906885935\n",
            "2.081254140424445\n",
            "1.8633831897255924\n",
            "1.6143892101655872\n",
            "1.6408598845743967\n",
            "1.4068910836057995\n",
            "1.3305865154210537\n",
            "1.2830015313834444\n",
            "1.0608458279447888\n",
            "0.9537365197019909\n",
            "0.8599509158608463\n",
            "0.8748555473695667\n",
            "0.7431901056445795\n",
            "0.6319424866514538\n",
            "0.45685567049951814\n",
            "0.5492224453764294\n",
            "0.3954675090522066\n",
            "0.21055835076939644\n",
            "0.03254930432079561\n",
            "0.022285604588475394\n",
            "0.15699857881892143\n",
            "0.2511603012140782\n",
            "0.47321740532479595\n",
            "0.5396691270460217\n",
            "0.7245765236804402\n",
            "0.8609958994179472\n",
            "1.066436831267957\n",
            "1.0432983611480573\n",
            "1.2403383626993687\n",
            "1.4132805639958548\n",
            "1.7244236973712361\n",
            "1.808538460843053\n",
            "2.0496985092218907\n",
            "2.2156281975696004\n",
            "2.520552208800069\n",
            "2.467825251266973\n",
            "2.6069845333155186\n",
            "2.7113307026812947\n",
            "2.884780033541009\n",
            "2.796726277250997\n",
            "3.0022043626629156\n",
            "3.158399287971143\n",
            "3.4016781622624563\n",
            "3.3042539730127842\n",
            "3.433389502213018\n",
            "3.5378504833701108\n",
            "3.7178832929455083\n",
            "3.635533992560987\n",
            "3.908575876665399\n",
            "4.033770903063104\n",
            "4.2160423306415\n",
            "4.146827774689214\n",
            "4.260348423433587\n",
            "4.340886431381719\n",
            "4.43613012377979\n",
            "4.494503866413186\n",
            "4.471271379900262\n",
            "4.6109613287239775\n",
            "4.757996397659795\n",
            "4.579226623752664\n",
            "4.841642589150819\n",
            "4.8558604956788685\n",
            "5.162931996033208\n",
            "4.98819719166784\n",
            "5.224401471461473\n",
            "5.314693951718297\n",
            "5.575154222493985\n",
            "5.28225318337045\n",
            "5.564853639184388\n",
            "5.560138090563104\n",
            "5.745662050888555\n",
            "5.531486720620546\n",
            "5.8254344702882435\n",
            "5.601201823134176\n",
            "5.925771127918313\n",
            "5.717455622996507\n",
            "6.005328891123948\n",
            "5.8179135297195295\n",
            "5.959998048787931\n",
            "5.810955362961309\n",
            "6.098015120405904\n",
            "6.0152047184894\n",
            "6.1522664998428205\n",
            "5.98422768127152\n",
            "6.252337506193868\n",
            "6.232699020815179\n",
            "6.55591516770815\n",
            "6.4054325926094755\n",
            "6.685413146130529\n",
            "6.590279629606954\n",
            "6.692432030153558\n",
            "6.488480247503141\n",
            "6.6945371337522595\n",
            "6.621688310416822\n",
            "6.9095222394787115\n",
            "6.5701291800660755\n",
            "6.866470228412698\n",
            "6.582011220301805\n",
            "6.615010206016187\n",
            "6.353013433462003\n",
            "6.546992140457647\n",
            "6.3282449220077375\n",
            "6.438034240516309\n",
            "6.32897244305639\n",
            "6.517790526925477\n",
            "6.519154943471769\n",
            "6.518657734770528\n",
            "6.432450927739957\n",
            "6.6626351119203235\n",
            "6.630320467000821\n",
            "6.595318818203893\n",
            "6.448040376880716\n",
            "6.618891077682989\n",
            "6.540519023053136\n",
            "6.562142263629983\n",
            "6.367732257424745\n",
            "6.605269217602697\n",
            "6.4431205300280965\n",
            "6.492148052433084\n",
            "6.234739671924661\n",
            "6.528665301646409\n",
            "6.450860232888612\n",
            "6.371274760145894\n",
            "6.236458881807611\n",
            "6.448217813285474\n",
            "6.372769750600675\n",
            "6.332493964942579\n",
            "6.21764079475961\n",
            "6.448119505358026\n",
            "6.254709585619256\n",
            "6.215182407808587\n",
            "6.364467697784917\n",
            "6.343999118386659\n",
            "6.204352376307664\n",
            "6.059600536140088\n",
            "6.125047151359205\n",
            "6.3355312586946155\n",
            "5.763961498054151\n",
            "6.103635970862989\n",
            "5.8578299391060575\n",
            "5.631033285570428\n",
            "5.106671436739251\n",
            "4.731930253352342\n",
            "4.539413979429952\n",
            "4.409448276737283\n",
            "3.9623532534761097\n",
            "3.6882215050647176\n",
            "3.528832936398473\n",
            "3.4870584515521443\n",
            "3.178927021667974\n",
            "2.9412915151439947\n",
            "2.7690727420438854\n",
            "2.846447862630704\n",
            "2.629847444539884\n",
            "2.4738440753144886\n",
            "2.3376681249462408\n",
            "2.390031653091924\n",
            "2.260019909122537\n",
            "2.0885837582538045\n",
            "1.943369809898023\n",
            "2.107036641020528\n",
            "1.9185473628629772\n",
            "1.7102408648652698\n",
            "1.4636951527121518\n",
            "1.4785709620637562\n",
            "1.2306673236478893\n",
            "0.9919308663530018\n",
            "0.8456389348827642\n",
            "0.8692160157153523\n",
            "0.6648816242273838\n",
            "0.364523289050279\n",
            "0.28943612586685674\n",
            "0.233496809117284\n",
            "0.03230107084351985\n",
            "0.3070896889312884\n",
            "0.4830776743303211\n",
            "0.5333697158969599\n",
            "0.6137585930238636\n",
            "0.9116829129269206\n",
            "0.9431717156248425\n",
            "1.0103759791000506\n",
            "1.08809244886476\n",
            "1.2686862441113078\n",
            "1.4184098004179333\n",
            "1.4296223745290249\n",
            "1.6064001479622867\n",
            "1.8258866626895625\n",
            "1.9406005301949527\n",
            "1.9110240299380976\n",
            "2.053135516796889\n",
            "2.3523609398680083\n",
            "2.453905253828614\n",
            "2.434550989887166\n",
            "2.5524823028720576\n",
            "2.7787676677648037\n",
            "2.8617651223020903\n",
            "2.868556396054938\n",
            "2.9529957266857707\n",
            "3.0770950077848784\n",
            "3.1230592488127105\n",
            "2.9850193817294794\n",
            "3.0745387632526118\n",
            "3.222480379099032\n",
            "3.2307694116112735\n",
            "3.2270974211107184\n",
            "3.2376157733013713\n",
            "3.399098650502875\n",
            "3.572636832019734\n",
            "3.48957167985146\n",
            "3.641651341538676\n",
            "3.711634770917609\n",
            "3.749584425708699\n",
            "3.7612173317747466\n",
            "3.732725318161364\n",
            "3.916206600819411\n",
            "4.032007670290982\n",
            "4.0301294749522025\n",
            "4.023080523697253\n",
            "4.141767795769091\n",
            "4.179856567801087\n",
            "4.058639581886645\n",
            "4.010731765847453\n",
            "3.8869333557496955\n",
            "3.965780631589606\n",
            "3.9108382886195\n",
            "3.9279561730434978\n",
            "3.92778327983722\n",
            "4.053987280416205\n",
            "4.110018918137797\n",
            "4.1950121083733585\n",
            "4.272880053408658\n",
            "4.305297960063863\n",
            "4.324663999234023\n",
            "4.4549087046461455\n",
            "4.476011782110779\n",
            "4.546852882591601\n",
            "4.46928874905346\n",
            "4.402423741970839\n",
            "4.4421510456877105\n",
            "4.533708601416199\n",
            "4.494634763288214\n",
            "4.424548456292399\n",
            "4.398416892575934\n",
            "4.431488503238606\n",
            "4.366388588369935\n",
            "4.365919287887927\n",
            "4.3428294684036395\n",
            "4.544462391953715\n",
            "4.498134575838229\n",
            "4.559759049833863\n",
            "4.454360831996846\n",
            "4.6311081540793655\n",
            "4.45445556364561\n",
            "4.4947443696072185\n",
            "4.277798999568867\n",
            "4.431188373983948\n",
            "4.416734883408793\n",
            "4.415031025033244\n",
            "4.333150495311665\n",
            "4.422748660929715\n",
            "4.36238940810599\n",
            "4.299788808711087\n",
            "4.26785617658269\n",
            "4.263815432013123\n",
            "4.264106077506524\n",
            "4.296097771215155\n",
            "4.190485162093621\n",
            "4.216902735386672\n",
            "4.139863255177321\n",
            "3.980353768555041\n",
            "3.834699315383416\n",
            "4.073494304439473\n",
            "3.8611148488730667\n",
            "3.846227953057536\n",
            "3.677292323000943\n",
            "3.919775846157851\n",
            "3.6963137546059635\n",
            "3.653556495131104\n",
            "3.254539412810784\n",
            "3.351519653420695\n",
            "3.0820208018564994\n",
            "3.0672345319268253\n",
            "2.8757868633214443\n",
            "2.9979604375571487\n",
            "2.8225408155597407\n",
            "2.8340202065517985\n",
            "2.54793726327126\n",
            "2.6600408579452655\n",
            "2.4490544026636893\n",
            "2.3758283746451614\n",
            "2.069637022966525\n",
            "2.2207951836000355\n",
            "1.9388533922245585\n",
            "1.7414609881451213\n",
            "1.6280887549662424\n",
            "1.7305583714323376\n",
            "1.6727495086402193\n",
            "1.6350559154030826\n",
            "1.4360663253940302\n",
            "1.5974566961868426\n",
            "1.3744299966968256\n",
            "1.3096958556649234\n",
            "1.025200011883559\n",
            "1.1090098115017497\n",
            "0.9367159233037441\n",
            "0.8743785512656466\n",
            "0.6786187515202968\n",
            "0.7683705249306705\n",
            "0.45942500156268196\n",
            "0.36620282056038533\n",
            "0.05239661280872099\n",
            "0.027291017220036906\n",
            "0.3199075567513212\n",
            "0.42388897218202715\n",
            "0.7388417960328724\n",
            "0.7196493785702032\n",
            "0.8580284490641148\n",
            "0.9371042623575718\n",
            "1.2000823790288138\n",
            "1.0904093028230335\n",
            "1.286728962374017\n",
            "1.3879390929595807\n",
            "1.5786300342403692\n",
            "1.5026887232518362\n",
            "1.668827054347215\n",
            "1.5613384883724493\n",
            "1.841917989100633\n",
            "1.7983789551048979\n",
            "1.8899930822640165\n",
            "1.775625054153089\n",
            "2.1012690041915754\n",
            "2.1167193029777387\n"
          ],
          "name": "stdout"
        }
      ]
    },
    {
      "cell_type": "code",
      "metadata": {
        "id": "BTk0i65SXonQ",
        "colab_type": "code",
        "colab": {
          "base_uri": "https://localhost:8080/",
          "height": 282
        },
        "outputId": "505ef69f-f76b-49cf-b670-ccaab018c07b"
      },
      "source": [
        "import matplotlib.pyplot as plt\n",
        "\n",
        "plt.plot(X_val[:,0], label=\"Original\")\n",
        "plt.plot(y_val_pred[:,0],color=\"r\", label=\"Predicted\")\n",
        "plt.legend()"
      ],
      "execution_count": 107,
      "outputs": [
        {
          "output_type": "execute_result",
          "data": {
            "text/plain": [
              "<matplotlib.legend.Legend at 0x7f8df249d160>"
            ]
          },
          "metadata": {
            "tags": []
          },
          "execution_count": 107
        },
        {
          "output_type": "display_data",
          "data": {
            "image/png": "[encoded data removed]",
            "text/plain": [
              "<Figure size 432x288 with 1 Axes>"
            ]
          },
          "metadata": {
            "tags": [],
            "needs_background": "light"
          }
        }
      ]
    },
    {
      "cell_type": "code",
      "metadata": {
        "id": "Aq6CxQ7jsUyG",
        "colab_type": "code",
        "colab": {}
      },
      "source": [
        "def anomaly_score(error, dist):\n",
        "    delta = np.abs(error - dist.mean())\n",
        "    return dist.cdf(dist.mean() + delta)"
      ],
      "execution_count": 108,
      "outputs": []
    },
    {
      "cell_type": "code",
      "metadata": {
        "id": "m_a-9itLsUyJ",
        "colab_type": "code",
        "colab": {}
      },
      "source": [
        "# result = [np.round(anomaly_score(x, dist), 4) for x in val_errors]\n",
        "# print(result)\n"
      ],
      "execution_count": 109,
      "outputs": []
    },
    {
      "cell_type": "code",
      "metadata": {
        "id": "bXzkWr7Na1zE",
        "colab_type": "code",
        "colab": {
          "base_uri": "https://localhost:8080/",
          "height": 884
        },
        "outputId": "334e9eab-c473-4b02-e39f-8b4f19a6ccfc"
      },
      "source": [
        "np.where(np.array(results) == 1)"
      ],
      "execution_count": 110,
      "outputs": [
        {
          "output_type": "execute_result",
          "data": {
            "text/plain": [
              "(array([ 157,  158,  159,  160,  161,  162,  163,  164,  165,  166,  167,\n",
              "         168,  169,  170,  171,  172,  173,  174,  175,  176,  177,  178,\n",
              "         179,  180,  181,  182,  183,  184,  185,  186,  187,  188,  189,\n",
              "         190,  191,  192,  193,  194,  195,  196,  197,  198,  199,  200,\n",
              "         201,  202,  203,  204,  205,  206,  207,  208,  209,  210,  211,\n",
              "         212,  213,  214,  215,  216,  217,  218,  219,  220,  221,  222,\n",
              "         223,  224,  225,  226,  227,  228,  229,  230,  231,  232,  233,\n",
              "         234,  235,  236,  237,  238,  239,  240,  241,  242,  243,  244,\n",
              "         245,  246,  247,  248,  249,  250,  251,  252,  253,  254,  255,\n",
              "         256,  257,  258,  259,  260,  261,  262,  263,  264,  265,  266,\n",
              "         267,  268,  269,  270,  271,  272,  273,  274,  275,  276,  277,\n",
              "         278,  279,  280,  281,  282,  283,  284,  285,  286,  287,  288,\n",
              "         289,  290,  293,  294,  295,  297,  298,  299,  381,  383,  384,\n",
              "         385,  386,  387,  388,  389,  390,  391,  392,  393,  394,  395,\n",
              "         396,  397,  398,  399,  400,  401,  402,  403,  404,  405,  406,\n",
              "         407,  408,  409,  410,  411,  412,  413,  414,  415,  416,  417,\n",
              "         418,  419,  420,  421,  422,  423,  424,  425,  426,  427,  428,\n",
              "         429,  430,  431,  432,  433,  434,  435,  436,  437,  438,  439,\n",
              "         440,  441,  442,  443,  444,  445,  446,  447,  448,  449,  450,\n",
              "         451,  452,  453,  454,  455,  456,  457,  458,  459,  460,  461,\n",
              "         462,  463,  464,  465,  466,  467,  468,  469,  470,  471,  472,\n",
              "         473,  474,  475,  476,  477,  478,  479,  480,  481,  482,  483,\n",
              "         484,  485,  486,  487,  488,  489,  490,  491,  492,  493,  494,\n",
              "         495,  496,  497,  498,  499,  500,  501,  502,  503,  504,  505,\n",
              "         506,  507,  508,  509,  510,  511,  512,  513,  514,  515,  516,\n",
              "         517,  518,  519,  520,  521,  522,  523,  524,  525,  526,  527,\n",
              "         528,  529,  530,  531,  532,  533,  534,  535,  536,  537,  538,\n",
              "         539,  540,  541,  542,  543,  544,  545,  546,  547,  548,  549,\n",
              "         550,  551,  552,  553,  554,  555,  556,  557,  558,  559,  560,\n",
              "         561,  562,  563,  564,  565,  566,  568,  569,  710,  713,  714,\n",
              "         715,  716,  717,  718,  719,  720,  721,  722,  723,  724,  725,\n",
              "         726,  727,  728,  729,  730,  731,  732,  733,  734,  735,  736,\n",
              "         737,  738,  739,  740,  741,  742,  743,  744,  745,  746,  747,\n",
              "         748,  749,  750,  751,  752,  753,  754,  755,  756,  757,  758,\n",
              "         759,  760,  761,  762,  763,  764,  765,  766,  767,  768,  769,\n",
              "         770,  771,  772,  773,  774,  775,  776,  777,  778,  779,  780,\n",
              "         781,  782,  783,  784,  785,  786,  787,  788,  789,  790,  791,\n",
              "         792,  793,  794,  795,  796,  797,  798,  799,  800,  801,  802,\n",
              "         803,  804,  805,  806,  807,  809, 1030, 1031, 1032, 1034, 1035,\n",
              "        1036, 1037, 1038, 1039, 1040, 1041, 1042, 1043, 1044, 1045, 1046,\n",
              "        1047, 1048, 1049, 1050, 1051, 1052, 1053, 1054, 1055, 1056, 1057,\n",
              "        1058, 1059, 1060, 1061, 1062, 1063, 1064, 1065, 1066, 1067, 1068,\n",
              "        1069, 1070, 1071, 1072, 1073, 1074, 1076, 1078, 1160, 1162, 1163,\n",
              "        1164, 1165, 1166, 1167, 1168, 1169, 1170, 1171, 1172, 1173, 1174,\n",
              "        1175, 1176, 1177, 1178, 1179, 1180, 1181, 1182, 1183, 1184, 1185,\n",
              "        1186, 1187, 1188, 1189, 1190, 1191, 1192, 1193, 1194, 1195, 1196,\n",
              "        1197, 1198, 1199, 1200, 1201, 1202, 1203, 1204, 1205, 1206, 1207,\n",
              "        1208, 1209, 1210, 1211, 1212, 1213, 1214, 1215, 1216, 1217, 1218,\n",
              "        1219, 1220, 1221, 1222, 1223, 1224, 1225, 1226, 1227, 1228, 1229,\n",
              "        1230, 1231, 1232, 1233, 1234, 1235, 1236, 1237, 1238, 1239, 1240,\n",
              "        1241, 1242, 1243]),)"
            ]
          },
          "metadata": {
            "tags": []
          },
          "execution_count": 110
        }
      ]
    },
    {
      "cell_type": "code",
      "metadata": {
        "id": "IZ1ALpyFoct3",
        "colab_type": "code",
        "colab": {
          "base_uri": "https://localhost:8080/",
          "height": 54
        },
        "outputId": "e6c08591-2a15-414c-bdf9-0c5068e1483b"
      },
      "source": [
        "plot_x=[]\n",
        "plot_y=[]\n",
        "for i in range(len(results)): \n",
        "  if results[i] == 1:\n",
        "    plot_x.append(i)\n",
        "    plot_y.append(X_val[i][0])\n",
        "print(plot_x)"
      ],
      "execution_count": 111,
      "outputs": [
        {
          "output_type": "stream",
          "text": [
            "[157, 158, 159, 160, 161, 162, 163, 164, 165, 166, 167, 168, 169, 170, 171, 172, 173, 174, 175, 176, 177, 178, 179, 180, 181, 182, 183, 184, 185, 186, 187, 188, 189, 190, 191, 192, 193, 194, 195, 196, 197, 198, 199, 200, 201, 202, 203, 204, 205, 206, 207, 208, 209, 210, 211, 212, 213, 214, 215, 216, 217, 218, 219, 220, 221, 222, 223, 224, 225, 226, 227, 228, 229, 230, 231, 232, 233, 234, 235, 236, 237, 238, 239, 240, 241, 242, 243, 244, 245, 246, 247, 248, 249, 250, 251, 252, 253, 254, 255, 256, 257, 258, 259, 260, 261, 262, 263, 264, 265, 266, 267, 268, 269, 270, 271, 272, 273, 274, 275, 276, 277, 278, 279, 280, 281, 282, 283, 284, 285, 286, 287, 288, 289, 290, 293, 294, 295, 297, 298, 299, 381, 383, 384, 385, 386, 387, 388, 389, 390, 391, 392, 393, 394, 395, 396, 397, 398, 399, 400, 401, 402, 403, 404, 405, 406, 407, 408, 409, 410, 411, 412, 413, 414, 415, 416, 417, 418, 419, 420, 421, 422, 423, 424, 425, 426, 427, 428, 429, 430, 431, 432, 433, 434, 435, 436, 437, 438, 439, 440, 441, 442, 443, 444, 445, 446, 447, 448, 449, 450, 451, 452, 453, 454, 455, 456, 457, 458, 459, 460, 461, 462, 463, 464, 465, 466, 467, 468, 469, 470, 471, 472, 473, 474, 475, 476, 477, 478, 479, 480, 481, 482, 483, 484, 485, 486, 487, 488, 489, 490, 491, 492, 493, 494, 495, 496, 497, 498, 499, 500, 501, 502, 503, 504, 505, 506, 507, 508, 509, 510, 511, 512, 513, 514, 515, 516, 517, 518, 519, 520, 521, 522, 523, 524, 525, 526, 527, 528, 529, 530, 531, 532, 533, 534, 535, 536, 537, 538, 539, 540, 541, 542, 543, 544, 545, 546, 547, 548, 549, 550, 551, 552, 553, 554, 555, 556, 557, 558, 559, 560, 561, 562, 563, 564, 565, 566, 568, 569, 710, 713, 714, 715, 716, 717, 718, 719, 720, 721, 722, 723, 724, 725, 726, 727, 728, 729, 730, 731, 732, 733, 734, 735, 736, 737, 738, 739, 740, 741, 742, 743, 744, 745, 746, 747, 748, 749, 750, 751, 752, 753, 754, 755, 756, 757, 758, 759, 760, 761, 762, 763, 764, 765, 766, 767, 768, 769, 770, 771, 772, 773, 774, 775, 776, 777, 778, 779, 780, 781, 782, 783, 784, 785, 786, 787, 788, 789, 790, 791, 792, 793, 794, 795, 796, 797, 798, 799, 800, 801, 802, 803, 804, 805, 806, 807, 809, 1030, 1031, 1032, 1034, 1035, 1036, 1037, 1038, 1039, 1040, 1041, 1042, 1043, 1044, 1045, 1046, 1047, 1048, 1049, 1050, 1051, 1052, 1053, 1054, 1055, 1056, 1057, 1058, 1059, 1060, 1061, 1062, 1063, 1064, 1065, 1066, 1067, 1068, 1069, 1070, 1071, 1072, 1073, 1074, 1076, 1078, 1160, 1162, 1163, 1164, 1165, 1166, 1167, 1168, 1169, 1170, 1171, 1172, 1173, 1174, 1175, 1176, 1177, 1178, 1179, 1180, 1181, 1182, 1183, 1184, 1185, 1186, 1187, 1188, 1189, 1190, 1191, 1192, 1193, 1194, 1195, 1196, 1197, 1198, 1199, 1200, 1201, 1202, 1203, 1204, 1205, 1206, 1207, 1208, 1209, 1210, 1211, 1212, 1213, 1214, 1215, 1216, 1217, 1218, 1219, 1220, 1221, 1222, 1223, 1224, 1225, 1226, 1227, 1228, 1229, 1230, 1231, 1232, 1233, 1234, 1235, 1236, 1237, 1238, 1239, 1240, 1241, 1242, 1243]\n"
          ],
          "name": "stdout"
        }
      ]
    },
    {
      "cell_type": "code",
      "metadata": {
        "id": "7dEpG19ArEuo",
        "colab_type": "code",
        "colab": {
          "base_uri": "https://localhost:8080/",
          "height": 717
        },
        "outputId": "41589564-4bdf-46e4-d8d5-b2ec00ce0714"
      },
      "source": [
        "plt.figure(figsize=(12,12))\n",
        "plt.plot(X_val[:,0].squeeze())\n",
        "plt.scatter(plot_x,plot_y, color=\"r\",s=20)\n"
      ],
      "execution_count": 112,
      "outputs": [
        {
          "output_type": "execute_result",
          "data": {
            "text/plain": [
              "<matplotlib.collections.PathCollection at 0x7f8e865e7668>"
            ]
          },
          "metadata": {
            "tags": []
          },
          "execution_count": 112
        },
        {
          "output_type": "display_data",
          "data": {
            "image/png": "[encoded data removed]",
            "text/plain": [
              "<Figure size 864x864 with 1 Axes>"
            ]
          },
          "metadata": {
            "tags": [],
            "needs_background": "light"
          }
        }
      ]
    },
    {
      "cell_type": "code",
      "metadata": {
        "id": "TNJoiiX1sDti",
        "colab_type": "code",
        "colab": {
          "base_uri": "https://localhost:8080/",
          "height": 312
        },
        "outputId": "a39b02ba-632b-4968-9f97-280a1d46a9f1"
      },
      "source": [
        "plt.figure()\n",
        "plt.plot(history.history['loss'])\n",
        "plt.plot(history.history['val_loss'])\n",
        "plt.title('Train vs Validation Loss over time')\n",
        "plt.ylabel('loss')\n",
        "plt.xlabel('epoch')\n",
        "plt.legend(['Train', 'Validation'], loc='best')"
      ],
      "execution_count": 114,
      "outputs": [
        {
          "output_type": "execute_result",
          "data": {
            "text/plain": [
              "<matplotlib.legend.Legend at 0x7f8e86908a58>"
            ]
          },
          "metadata": {
            "tags": []
          },
          "execution_count": 114
        },
        {
          "output_type": "display_data",
          "data": {
            "image/png": "[encoded data removed]",
            "text/plain": [
              "<Figure size 432x288 with 1 Axes>"
            ]
          },
          "metadata": {
            "tags": [],
            "needs_background": "light"
          }
        }
      ]
    },
    {
      "cell_type": "code",
      "metadata": {
        "id": "r7od3ibBE4C_",
        "colab_type": "code",
        "colab": {}
      },
      "source": [
        ""
      ],
      "execution_count": null,
      "outputs": []
    }
  ]
}