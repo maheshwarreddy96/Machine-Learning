{
  "nbformat": 4,
  "nbformat_minor": 0,
  "metadata": {
    "kernelspec": {
      "display_name": "Python 3",
      "language": "python",
      "name": "python3"
    },
    "language_info": {
      "codemirror_mode": {
        "name": "ipython",
        "version": 3
      },
      "file_extension": ".py",
      "mimetype": "text/x-python",
      "name": "python",
      "nbconvert_exporter": "python",
      "pygments_lexer": "ipython3",
      "version": "3.6.8"
    },
    "colab": {
      "name": "Part2_LSTM.ipynb",
      "provenance": []
    },
    "accelerator": "GPU"
  },
  "cells": [
    {
      "cell_type": "markdown",
      "metadata": {
        "id": "vRc-kljksUw8",
        "colab_type": "text"
      },
      "source": [
        "## Anomaly Detection"
      ]
    },
    {
      "cell_type": "code",
      "metadata": {
        "id": "pR-QIZlssUw_",
        "colab_type": "code",
        "colab": {}
      },
      "source": [
        "%matplotlib inline\n",
        "import matplotlib.pyplot as plt\n",
        "import numpy as np\n",
        "import pandas as pd\n",
        "from keras import backend as K\n",
        "from keras.models import Model\n",
        "from keras.layers import Activation, BatchNormalization\n",
        "from keras.layers import Dropout, Dense, Input, LSTM\n",
        "from keras.optimizers import Adam\n",
        "from tensorflow import keras\n",
        "from tensorflow.keras import layers\n",
        "from datetime import datetime\n",
        "from matplotlib import dates as md"
      ],
      "execution_count": 90,
      "outputs": []
    },
    {
      "cell_type": "code",
      "metadata": {
        "id": "1DxdMORisUxF",
        "colab_type": "code",
        "colab": {
          "base_uri": "https://localhost:8080/",
          "height": 35
        },
        "outputId": "12a3e707-8bd4-4ed9-b332-9ba5094fb780"
      },
      "source": [
        "data = pd.read_csv('https://raw.githubusercontent.com/numenta/NAB/master/data/realTweets/Twitter_volume_AMZN.csv')\n",
        "data.shape"
      ],
      "execution_count": 91,
      "outputs": [
        {
          "output_type": "execute_result",
          "data": {
            "text/plain": [
              "(15831, 2)"
            ]
          },
          "metadata": {
            "tags": []
          },
          "execution_count": 91
        }
      ]
    },
    {
      "cell_type": "code",
      "metadata": {
        "id": "aMcTBHtisUxJ",
        "colab_type": "code",
        "colab": {
          "base_uri": "https://localhost:8080/",
          "height": 202
        },
        "outputId": "be7a6920-2c03-4813-f5a6-46b698fadcff"
      },
      "source": [
        "data.head()"
      ],
      "execution_count": 92,
      "outputs": [
        {
          "output_type": "execute_result",
          "data": {
            "text/html": [
              "<div>\n",
              "<style scoped>\n",
              "    .dataframe tbody tr th:only-of-type {\n",
              "        vertical-align: middle;\n",
              "    }\n",
              "\n",
              "    .dataframe tbody tr th {\n",
              "        vertical-align: top;\n",
              "    }\n",
              "\n",
              "    .dataframe thead th {\n",
              "        text-align: right;\n",
              "    }\n",
              "</style>\n",
              "<table border=\"1\" class=\"dataframe\">\n",
              "  <thead>\n",
              "    <tr style=\"text-align: right;\">\n",
              "      <th></th>\n",
              "      <th>timestamp</th>\n",
              "      <th>value</th>\n",
              "    </tr>\n",
              "  </thead>\n",
              "  <tbody>\n",
              "    <tr>\n",
              "      <th>0</th>\n",
              "      <td>2015-02-26 21:42:53</td>\n",
              "      <td>57</td>\n",
              "    </tr>\n",
              "    <tr>\n",
              "      <th>1</th>\n",
              "      <td>2015-02-26 21:47:53</td>\n",
              "      <td>43</td>\n",
              "    </tr>\n",
              "    <tr>\n",
              "      <th>2</th>\n",
              "      <td>2015-02-26 21:52:53</td>\n",
              "      <td>55</td>\n",
              "    </tr>\n",
              "    <tr>\n",
              "      <th>3</th>\n",
              "      <td>2015-02-26 21:57:53</td>\n",
              "      <td>64</td>\n",
              "    </tr>\n",
              "    <tr>\n",
              "      <th>4</th>\n",
              "      <td>2015-02-26 22:02:53</td>\n",
              "      <td>93</td>\n",
              "    </tr>\n",
              "  </tbody>\n",
              "</table>\n",
              "</div>"
            ],
            "text/plain": [
              "             timestamp  value\n",
              "0  2015-02-26 21:42:53     57\n",
              "1  2015-02-26 21:47:53     43\n",
              "2  2015-02-26 21:52:53     55\n",
              "3  2015-02-26 21:57:53     64\n",
              "4  2015-02-26 22:02:53     93"
            ]
          },
          "metadata": {
            "tags": []
          },
          "execution_count": 92
        }
      ]
    },
    {
      "cell_type": "code",
      "metadata": {
        "scrolled": false,
        "id": "VNsSOE2vsUxO",
        "colab_type": "code",
        "colab": {
          "base_uri": "https://localhost:8080/",
          "height": 409
        },
        "outputId": "86455d42-452b-4437-8bd8-ae0a4e22725c"
      },
      "source": [
        "data.set_index('timestamp').plot()\n",
        "plt.xticks(rotation='vertical')\n",
        "plt.title(\"Original Data\")"
      ],
      "execution_count": 93,
      "outputs": [
        {
          "output_type": "execute_result",
          "data": {
            "text/plain": [
              "Text(0.5, 1.0, 'Original Data')"
            ]
          },
          "metadata": {
            "tags": []
          },
          "execution_count": 93
        },
        {
          "output_type": "display_data",
          "data": {
            "image/png": "[encoded data removed]",
            "text/plain": [
              "<Figure size 432x288 with 1 Axes>"
            ]
          },
          "metadata": {
            "tags": [],
            "needs_background": "light"
          }
        }
      ]
    },
    {
      "cell_type": "markdown",
      "metadata": {
        "id": "GaG9cb7OpIdQ",
        "colab_type": "text"
      },
      "source": [
        "Splitting the data into train and validation. Preparing the data for the model training."
      ]
    },
    {
      "cell_type": "code",
      "metadata": {
        "id": "IdRmPStssUxR",
        "colab_type": "code",
        "colab": {
          "base_uri": "https://localhost:8080/",
          "height": 35
        },
        "outputId": "756da9ae-6a08-41d7-91e5-bfa6637ee7ba"
      },
      "source": [
        "from sklearn.model_selection import train_test_split\n",
        "\n",
        "X = data['value'].values.reshape((len(data), 1))\n",
        "y = data['value'].values.reshape((len(data), 1))\n",
        "\n",
        "X = X[:-1, :]\n",
        "y = y[1:, :]\n",
        "\n",
        "X_train, X_val, y_train, y_val = X[:int(len(X)*0.9)], X[int(len(X)*0.9):], y[:int(len(y)*0.9)], y[int(len(y)*0.9):]\n",
        "\n",
        "X_train.shape, y_train.shape, X_val.shape, y_val.shape"
      ],
      "execution_count": 94,
      "outputs": [
        {
          "output_type": "execute_result",
          "data": {
            "text/plain": [
              "((14247, 1), (14247, 1), (1583, 1), (1583, 1))"
            ]
          },
          "metadata": {
            "tags": []
          },
          "execution_count": 94
        }
      ]
    },
    {
      "cell_type": "markdown",
      "metadata": {
        "id": "Ei1aeapQpT1p",
        "colab_type": "text"
      },
      "source": [
        "Considering 36 previous values for the input."
      ]
    },
    {
      "cell_type": "code",
      "metadata": {
        "id": "luzZ7AXJsUxZ",
        "colab_type": "code",
        "colab": {}
      },
      "source": [
        "n_timesteps = 36\n",
        "n_samples = X_train.shape[0]\n",
        "n_features = X_train.shape[1]\n",
        "n_val_samples = X_val.shape[0]\n",
        "k=-5\n"
      ],
      "execution_count": 95,
      "outputs": []
    },
    {
      "cell_type": "code",
      "metadata": {
        "id": "LeXAJx9CsUxd",
        "colab_type": "code",
        "colab": {
          "base_uri": "https://localhost:8080/",
          "height": 35
        },
        "outputId": "f27e6ea7-c7ab-4e94-9a86-1284fd06c37b"
      },
      "source": [
        "X_train_list = [np.expand_dims(X_train[i-n_timesteps:i, :], axis=0) for i in range(n_timesteps, n_samples+1)]\n",
        "X_train_list = X_train_list[:k]\n",
        "X_train = np.concatenate(X_train_list, axis=0)\n",
        "y_train_list = [np.expand_dims(y_train[i:i+5, :], axis=0) for i in range(n_timesteps, n_samples -5 + 1)]\n",
        "y_train = np.concatenate(y_train_list, axis=0)\n",
        "X_train = X_train[:-1, :, :]\n",
        "y_train = y_train[1:, :, :]\n",
        "\n",
        "\n",
        "X_val_list = [np.expand_dims(X_val[i-n_timesteps:i, :], axis=0) for i in range(n_timesteps, n_val_samples + 1)]\n",
        "X_val_list = X_val_list[:k]\n",
        "X_val = np.concatenate(X_val_list, axis=0)\n",
        "\n",
        "y_val_list = [np.expand_dims(y_val[i:i+5, :], axis=0) for i in range(n_timesteps, n_val_samples- 5 + 1)]\n",
        "y_val = np.concatenate(y_val_list, axis=0)\n",
        "X_val = X_val[:-1, :, :]\n",
        "y_val = y_val[1:, :, :]\n",
        "X_train.shape, y_train.shape, X_val.shape, y_val.shape"
      ],
      "execution_count": 96,
      "outputs": [
        {
          "output_type": "execute_result",
          "data": {
            "text/plain": [
              "((14206, 36, 1), (14206, 5, 1), (1542, 36, 1), (1542, 5, 1))"
            ]
          },
          "metadata": {
            "tags": []
          },
          "execution_count": 96
        }
      ]
    },
    {
      "cell_type": "markdown",
      "metadata": {
        "id": "rRyd6on4pum_",
        "colab_type": "text"
      },
      "source": [
        "Autoencoder with LSTM. The size of the input data is 50 initially, which is compressed to 25 and then later the model tries to rebuild the original input to the original size of 50."
      ]
    },
    {
      "cell_type": "code",
      "metadata": {
        "id": "qIJwhWOj7Wnr",
        "colab_type": "code",
        "colab": {
          "base_uri": "https://localhost:8080/",
          "height": 523
        },
        "outputId": "51d6f97d-5a5e-4962-8faf-ff88e1206bd1"
      },
      "source": [
        "\n",
        "dimensions = 50\n",
        "def AutoencoderLSTM(n_timesteps, n_features):\n",
        "    i = Input(shape=(n_timesteps, 1))\n",
        "     \n",
        "    \n",
        "    x = LSTM(dimensions, activation='relu', return_sequences=True, input_shape=(n_timesteps, n_features))(i)\n",
        "    x = Dropout(0.2)(x)\n",
        "\n",
        "    x = LSTM(int(dimensions/2), activation='relu', return_sequences=True)(x)\n",
        "    x = Dropout(0.2)(x)\n",
        "\n",
        "    x = LSTM(int(dimensions/2), activation='relu', return_sequences=True)(x)\n",
        "    x = LSTM(dimensions, activation='relu')(x)\n",
        "\n",
        "    # output = layers.TimeDistributed(Dense(n_timesteps))(x)\n",
        "    output = Dense(n_timesteps)(x)\n",
        "    model = Model(inputs=i, outputs=output)\n",
        "    opt = Adam(lr=0.01)\n",
        "    model.compile(loss='mean_absolute_error', optimizer=opt)\n",
        "    \n",
        "    return model\n",
        "  \n",
        "\n",
        "model = AutoencoderLSTM(n_timesteps,n_features)\n",
        "model.summary()\n"
      ],
      "execution_count": 97,
      "outputs": [
        {
          "output_type": "stream",
          "text": [
            "WARNING:tensorflow:Layer lstm_16 will not use cuDNN kernel since it doesn't meet the cuDNN kernel criteria. It will use generic GPU kernel as fallback when running on GPU\n",
            "WARNING:tensorflow:Layer lstm_17 will not use cuDNN kernel since it doesn't meet the cuDNN kernel criteria. It will use generic GPU kernel as fallback when running on GPU\n",
            "WARNING:tensorflow:Layer lstm_18 will not use cuDNN kernel since it doesn't meet the cuDNN kernel criteria. It will use generic GPU kernel as fallback when running on GPU\n",
            "WARNING:tensorflow:Layer lstm_19 will not use cuDNN kernel since it doesn't meet the cuDNN kernel criteria. It will use generic GPU kernel as fallback when running on GPU\n",
            "Model: \"functional_9\"\n",
            "_________________________________________________________________\n",
            "Layer (type)                 Output Shape              Param #   \n",
            "=================================================================\n",
            "input_5 (InputLayer)         [(None, 36, 1)]           0         \n",
            "_________________________________________________________________\n",
            "lstm_16 (LSTM)               (None, 36, 50)            10400     \n",
            "_________________________________________________________________\n",
            "dropout_8 (Dropout)          (None, 36, 50)            0         \n",
            "_________________________________________________________________\n",
            "lstm_17 (LSTM)               (None, 36, 25)            7600      \n",
            "_________________________________________________________________\n",
            "dropout_9 (Dropout)          (None, 36, 25)            0         \n",
            "_________________________________________________________________\n",
            "lstm_18 (LSTM)               (None, 36, 25)            5100      \n",
            "_________________________________________________________________\n",
            "lstm_19 (LSTM)               (None, 50)                15200     \n",
            "_________________________________________________________________\n",
            "dense_4 (Dense)              (None, 36)                1836      \n",
            "=================================================================\n",
            "Total params: 40,136\n",
            "Trainable params: 40,136\n",
            "Non-trainable params: 0\n",
            "_________________________________________________________________\n"
          ],
          "name": "stdout"
        }
      ]
    },
    {
      "cell_type": "code",
      "metadata": {
        "id": "yqEw2mFV7fad",
        "colab_type": "code",
        "colab": {
          "base_uri": "https://localhost:8080/",
          "height": 503
        },
        "outputId": "1acc23ea-1f3e-4484-c2f8-5034375ca770"
      },
      "source": [
        "history = model.fit(\n",
        "    X_train,\n",
        "    X_train,\n",
        "    epochs=50,\n",
        "    batch_size=36,\n",
        "    validation_split=0.1,\n",
        "    callbacks=[keras.callbacks.EarlyStopping(monitor=\"val_loss\", patience=5, mode=\"min\")],\n",
        ")\n"
      ],
      "execution_count": 98,
      "outputs": [
        {
          "output_type": "stream",
          "text": [
            "Epoch 1/50\n",
            "356/356 [==============================] - 77s 215ms/step - loss: 41.4878 - val_loss: 45.5647\n",
            "Epoch 2/50\n",
            "356/356 [==============================] - 75s 212ms/step - loss: 25.9688 - val_loss: 20.6618\n",
            "Epoch 3/50\n",
            "356/356 [==============================] - 76s 213ms/step - loss: 18.3055 - val_loss: 17.0547\n",
            "Epoch 4/50\n",
            "356/356 [==============================] - 73s 206ms/step - loss: 16.4862 - val_loss: 19.0974\n",
            "Epoch 5/50\n",
            "356/356 [==============================] - 72s 203ms/step - loss: 15.4752 - val_loss: 16.8769\n",
            "Epoch 6/50\n",
            "356/356 [==============================] - 72s 203ms/step - loss: 14.9613 - val_loss: 15.4064\n",
            "Epoch 7/50\n",
            "356/356 [==============================] - 74s 209ms/step - loss: 14.7842 - val_loss: 16.7567\n",
            "Epoch 8/50\n",
            "356/356 [==============================] - 73s 205ms/step - loss: 14.8571 - val_loss: 14.8765\n",
            "Epoch 9/50\n",
            "356/356 [==============================] - 73s 205ms/step - loss: 14.6649 - val_loss: 12.9906\n",
            "Epoch 10/50\n",
            "356/356 [==============================] - 75s 210ms/step - loss: 14.5801 - val_loss: 13.1040\n",
            "Epoch 11/50\n",
            "356/356 [==============================] - 74s 208ms/step - loss: 14.6031 - val_loss: 17.3174\n",
            "Epoch 12/50\n",
            "356/356 [==============================] - 75s 211ms/step - loss: 14.1636 - val_loss: 15.3180\n",
            "Epoch 13/50\n",
            "356/356 [==============================] - 72s 204ms/step - loss: 14.0552 - val_loss: 17.1310\n",
            "Epoch 14/50\n",
            "356/356 [==============================] - 72s 203ms/step - loss: 14.0392 - val_loss: 18.1394\n"
          ],
          "name": "stdout"
        }
      ]
    },
    {
      "cell_type": "code",
      "metadata": {
        "id": "wA_qhq81sUxr",
        "colab_type": "code",
        "colab": {
          "base_uri": "https://localhost:8080/",
          "height": 35
        },
        "outputId": "cab428e2-e4b8-43ac-897c-60f330c167e5"
      },
      "source": [
        "y_train_pred = model.predict(X_train)\n",
        "y_train_pred.shape"
      ],
      "execution_count": 99,
      "outputs": [
        {
          "output_type": "execute_result",
          "data": {
            "text/plain": [
              "(14206, 36)"
            ]
          },
          "metadata": {
            "tags": []
          },
          "execution_count": 99
        }
      ]
    },
    {
      "cell_type": "code",
      "metadata": {
        "id": "IdY_e3VHsUxv",
        "colab_type": "code",
        "colab": {
          "base_uri": "https://localhost:8080/",
          "height": 35
        },
        "outputId": "83059433-326f-4282-f90b-6f53758a4417"
      },
      "source": [
        "from sklearn.metrics import mean_absolute_error\n",
        "# y_train = y_train.reshape(y_train.shape[0], y_train.shape[1])\n",
        "errors = [mean_absolute_error(X_train[i, :], y_train_pred[i, :]) for i in range(y_train_pred.shape[0])]\n",
        "len(errors)"
      ],
      "execution_count": 100,
      "outputs": [
        {
          "output_type": "execute_result",
          "data": {
            "text/plain": [
              "14206"
            ]
          },
          "metadata": {
            "tags": []
          },
          "execution_count": 100
        }
      ]
    },
    {
      "cell_type": "code",
      "metadata": {
        "scrolled": true,
        "id": "XdBiBRfNsUxy",
        "colab_type": "code",
        "colab": {
          "base_uri": "https://localhost:8080/",
          "height": 283
        },
        "outputId": "d12c45ac-1a1b-47b7-f89b-261170ed4761"
      },
      "source": [
        "import seaborn as sb\n",
        "sb.kdeplot(errors, shade=True)"
      ],
      "execution_count": 101,
      "outputs": [
        {
          "output_type": "execute_result",
          "data": {
            "text/plain": [
              "<matplotlib.axes._subplots.AxesSubplot at 0x7f8ea2e36ef0>"
            ]
          },
          "metadata": {
            "tags": []
          },
          "execution_count": 101
        },
        {
          "output_type": "display_data",
          "data": {
            "image/png": "[encoded data removed]",
            "text/plain": [
              "<Figure size 432x288 with 1 Axes>"
            ]
          },
          "metadata": {
            "tags": [],
            "needs_background": "light"
          }
        }
      ]
    },
    {
      "cell_type": "code",
      "metadata": {
        "id": "A6qaFTygsUx3",
        "colab_type": "code",
        "colab": {
          "base_uri": "https://localhost:8080/",
          "height": 35
        },
        "outputId": "1f8153e1-329a-4026-e3ed-5fc380308083"
      },
      "source": [
        "from scipy.stats import norm\n",
        "params = norm.fit(errors)\n",
        "dist = norm(loc=params[0], scale=params[1])\n",
        "\n",
        "dist.mean(), dist.std()"
      ],
      "execution_count": 102,
      "outputs": [
        {
          "output_type": "execute_result",
          "data": {
            "text/plain": [
              "(21.603751752313975, 10.912525159844645)"
            ]
          },
          "metadata": {
            "tags": []
          },
          "execution_count": 102
        }
      ]
    },
    {
      "cell_type": "code",
      "metadata": {
        "id": "3b3ccnWKsUx_",
        "colab_type": "code",
        "colab": {}
      },
      "source": [
        "def is_anomaly(error, mean, std, threshold):\n",
        "    difference = np.abs(error - mean)\n",
        "    value = difference / std\n",
        "    if value < threshold:\n",
        "        return 0\n",
        "    else:\n",
        "        return 1"
      ],
      "execution_count": 103,
      "outputs": []
    },
    {
      "cell_type": "code",
      "metadata": {
        "id": "OSmSdsZysUyD",
        "colab_type": "code",
        "colab": {
          "base_uri": "https://localhost:8080/",
          "height": 55
        },
        "outputId": "6a96b663-a85b-4bb8-c500-f23f06190a4f"
      },
      "source": [
        "y_val_pred = model.predict(X_val)\n",
        "# y_val = y_val.reshape(y_val.shape[0], y_val.shape[2])\n",
        "val_errors = [mean_absolute_error(X_val[i, :], y_val_pred[i, :]) for i in range(y_val_pred.shape[0])]\n",
        "results = [is_anomaly(x, dist.mean(), dist.std(), 1) for x in val_errors]\n",
        "print(results)\n"
      ],
      "execution_count": 104,
      "outputs": [
        {
          "output_type": "stream",
          "text": [
            "[1, 0, 0, 0, 0, 0, 0, 0, 0, 0, 0, 0, 0, 0, 0, 0, 0, 0, 0, 0, 0, 0, 0, 0, 0, 0, 0, 0, 0, 0, 0, 0, 0, 0, 0, 0, 0, 0, 0, 0, 0, 0, 0, 0, 0, 0, 0, 0, 0, 0, 0, 0, 0, 0, 0, 0, 0, 0, 0, 0, 0, 0, 0, 0, 0, 0, 0, 0, 0, 0, 0, 0, 0, 0, 1, 1, 1, 1, 1, 1, 1, 1, 1, 1, 1, 1, 1, 1, 1, 1, 1, 1, 1, 1, 1, 1, 1, 1, 1, 1, 1, 1, 0, 0, 0, 0, 0, 0, 0, 0, 0, 0, 0, 0, 0, 0, 0, 0, 0, 0, 0, 0, 0, 0, 0, 0, 0, 0, 0, 0, 0, 0, 0, 0, 0, 0, 0, 0, 0, 0, 0, 0, 0, 0, 0, 0, 0, 0, 0, 0, 0, 0, 0, 0, 0, 0, 0, 0, 0, 0, 0, 0, 0, 0, 0, 0, 0, 0, 0, 0, 0, 0, 0, 0, 0, 0, 0, 0, 0, 0, 0, 0, 0, 0, 0, 0, 0, 0, 0, 0, 0, 0, 0, 0, 0, 0, 0, 0, 0, 0, 0, 0, 0, 0, 0, 0, 0, 0, 0, 0, 0, 0, 0, 0, 1, 1, 1, 1, 1, 1, 1, 1, 1, 1, 1, 1, 1, 1, 1, 1, 1, 1, 1, 1, 1, 1, 1, 1, 1, 1, 1, 1, 1, 1, 1, 1, 1, 1, 1, 1, 1, 1, 1, 1, 1, 1, 1, 1, 1, 1, 1, 1, 1, 1, 1, 1, 1, 1, 1, 1, 1, 1, 1, 1, 1, 1, 1, 0, 1, 0, 1, 0, 1, 1, 1, 1, 1, 1, 1, 1, 1, 1, 1, 1, 1, 1, 1, 1, 1, 0, 1, 1, 0, 0, 0, 0, 0, 0, 0, 0, 0, 0, 0, 0, 0, 0, 0, 0, 0, 0, 0, 0, 0, 0, 0, 0, 0, 0, 0, 0, 0, 0, 0, 0, 0, 0, 0, 0, 0, 0, 0, 0, 0, 0, 0, 0, 0, 0, 0, 0, 0, 0, 0, 0, 0, 0, 0, 0, 0, 0, 0, 0, 0, 0, 0, 0, 0, 0, 0, 0, 0, 0, 0, 0, 0, 0, 0, 0, 0, 0, 0, 0, 0, 0, 0, 0, 0, 0, 0, 0, 0, 0, 0, 0, 0, 0, 0, 0, 0, 0, 0, 0, 0, 0, 0, 0, 0, 0, 0, 0, 0, 0, 0, 0, 0, 0, 0, 0, 0, 0, 0, 0, 0, 0, 0, 0, 0, 0, 0, 0, 0, 0, 0, 0, 0, 0, 0, 0, 0, 0, 0, 0, 0, 0, 0, 0, 0, 0, 0, 0, 0, 0, 0, 0, 0, 1, 1, 1, 1, 0, 0, 0, 0, 0, 0, 0, 0, 0, 0, 0, 0, 0, 0, 0, 0, 0, 0, 0, 0, 0, 0, 0, 0, 0, 0, 0, 0, 0, 0, 0, 0, 0, 0, 0, 0, 0, 0, 0, 0, 0, 0, 0, 1, 1, 0, 0, 0, 0, 1, 1, 1, 1, 1, 1, 1, 1, 1, 1, 1, 1, 1, 1, 1, 1, 1, 1, 1, 1, 1, 1, 1, 1, 1, 1, 1, 1, 1, 1, 1, 1, 1, 1, 1, 1, 1, 1, 1, 1, 1, 1, 1, 1, 1, 1, 1, 1, 1, 1, 1, 1, 1, 1, 1, 1, 1, 1, 1, 1, 1, 1, 1, 1, 1, 1, 1, 1, 1, 1, 1, 0, 1, 1, 1, 1, 0, 0, 0, 0, 0, 0, 0, 0, 0, 0, 0, 0, 0, 0, 0, 0, 0, 0, 0, 0, 0, 0, 0, 0, 0, 0, 0, 0, 0, 0, 0, 0, 0, 0, 0, 0, 0, 0, 0, 0, 0, 0, 0, 0, 0, 0, 0, 0, 0, 0, 0, 0, 0, 0, 0, 0, 0, 0, 0, 0, 0, 0, 0, 0, 0, 0, 0, 0, 0, 0, 0, 0, 0, 0, 0, 0, 0, 0, 0, 0, 0, 0, 0, 0, 0, 0, 0, 0, 0, 0, 0, 0, 0, 0, 0, 0, 0, 0, 0, 0, 0, 0, 0, 0, 0, 0, 0, 0, 0, 0, 0, 0, 0, 0, 0, 0, 0, 0, 0, 0, 0, 0, 0, 0, 0, 0, 0, 0, 0, 0, 0, 0, 0, 0, 0, 0, 0, 0, 0, 0, 0, 0, 0, 0, 0, 0, 0, 0, 0, 0, 0, 0, 0, 0, 0, 0, 0, 0, 0, 0, 0, 0, 0, 0, 0, 0, 0, 0, 0, 0, 0, 0, 0, 0, 0, 0, 0, 0, 0, 0, 0, 0, 0, 0, 0, 0, 0, 0, 0, 0, 0, 0, 0, 0, 0, 0, 0, 0, 0, 0, 0, 0, 0, 0, 0, 0, 0, 0, 0, 0, 0, 0, 0, 0, 0, 0, 0, 0, 0, 0, 0, 0, 0, 0, 1, 1, 1, 1, 1, 1, 1, 1, 1, 1, 1, 1, 1, 1, 1, 1, 1, 1, 1, 1, 1, 1, 1, 1, 1, 1, 1, 1, 1, 1, 1, 1, 1, 1, 1, 1, 1, 1, 1, 1, 1, 1, 1, 1, 1, 1, 1, 1, 1, 1, 1, 1, 1, 0, 0, 0, 0, 0, 0, 0, 0, 0, 0, 0, 0, 0, 0, 0, 0, 0, 0, 0, 0, 0, 0, 0, 0, 0, 0, 0, 0, 0, 0, 0, 0, 0, 0, 0, 0, 0, 0, 0, 0, 0, 0, 0, 0, 0, 0, 0, 0, 0, 0, 0, 0, 0, 0, 0, 0, 0, 0, 0, 0, 0, 0, 0, 0, 0, 0, 0, 0, 0, 0, 0, 0, 0, 0, 0, 0, 1, 1, 0, 1, 0, 1, 1, 1, 1, 1, 1, 1, 1, 1, 1, 1, 1, 0, 0, 0, 0, 0, 0, 0, 0, 0, 0, 0, 0, 0, 0, 0, 0, 0, 0, 0, 0, 0, 0, 0, 0, 0, 0, 0, 0, 0, 0, 0, 0, 0, 0, 0, 0, 0, 0, 0, 0, 0, 0, 0, 0, 0, 0, 0, 0, 0, 0, 0, 0, 0, 0, 0, 0, 0, 0, 0, 0, 0, 0, 0, 0, 0, 0, 0, 0, 0, 0, 0, 0, 0, 0, 0, 0, 0, 0, 0, 0, 0, 0, 0, 0, 0, 0, 0, 0, 0, 0, 0, 0, 0, 0, 0, 0, 0, 0, 0, 0, 0, 0, 0, 0, 0, 0, 0, 0, 0, 0, 0, 0, 0, 0, 0, 0, 0, 0, 0, 0, 0, 0, 0, 0, 0, 0, 0, 0, 0, 0, 0, 0, 0, 0, 0, 0, 0, 0, 1, 1, 0, 0, 0, 0, 0, 0, 0, 1, 1, 1, 1, 1, 1, 1, 1, 1, 1, 1, 1, 1, 1, 1, 1, 1, 1, 1, 1, 1, 1, 1, 1, 1, 1, 1, 1, 1, 0, 0, 0, 0, 0, 0, 0, 0, 1, 0, 0, 0, 0, 0, 0, 0, 0, 0, 0, 0, 0, 0, 0, 0, 0, 0, 0, 0, 0, 0, 0, 0, 0, 0, 0, 0, 0, 0, 0, 0, 0, 0, 0, 0, 0, 0, 0, 0, 0, 0, 0, 0, 0, 0, 0, 0, 0, 0, 0, 0, 0, 0, 0, 0, 0, 0, 0, 0, 0, 0, 0, 0, 0, 0, 0, 0, 0, 0, 1, 1, 1, 1, 1, 1, 1, 1, 1, 1, 1, 1, 1, 1, 1, 1, 1, 1, 1, 1, 1, 1, 1, 1, 1, 1, 1, 1, 1, 1, 1, 1, 1, 1, 1, 1, 1, 1, 1, 1, 1, 1, 1, 1, 1, 1, 1, 1, 1, 1, 1, 1, 1, 1, 0, 0, 0, 0, 0, 0, 0, 0, 0, 0, 0, 0, 0, 0, 0, 0, 0, 0, 0, 0, 0, 0, 0, 0, 0, 0, 0, 0, 0, 0, 0, 0, 0, 0, 0, 0, 0, 0, 0, 0, 0, 0, 0, 0, 0, 0, 0, 0, 0, 0, 0, 0, 0, 0, 0, 0, 0, 0, 0, 0, 0, 0, 0, 0, 0, 0, 0, 0, 0, 0, 0, 0, 0, 0, 0, 0, 0, 0, 0, 0, 0, 0, 0, 0, 0, 0, 0, 0, 0, 0, 0, 0, 0, 0, 0, 0, 0, 0, 0, 0, 0, 0, 0, 0, 0, 0, 0, 0, 0, 1, 1, 1, 1, 1, 1, 1, 1, 1, 1, 1, 1, 1, 1, 1, 1, 1, 1, 1, 1, 1, 1, 1, 1, 1, 1, 1, 1, 1, 1, 1, 1, 1, 1, 1, 1, 1, 1, 1, 1, 1, 1, 1, 0, 0, 0, 0, 0, 0, 0, 0, 0, 0, 0, 0, 0, 0, 0, 0, 0, 0, 0, 0, 0, 0, 0, 0, 0, 0, 0, 0, 0, 0, 0, 0, 0, 0, 0, 0, 0, 0, 0, 0, 0, 0, 0, 0, 0, 0, 0, 0, 0, 0, 0, 0, 0, 0, 0, 0, 0, 0, 0, 0, 0, 0, 0, 0, 0, 0, 0, 0, 0, 0, 0, 0, 0, 0, 0, 0, 0, 0, 0, 0, 0, 0, 0, 0, 0, 0, 0, 0, 0, 0, 0, 0, 0, 0, 0, 0, 0, 0, 0, 0, 0, 0, 0, 0, 0, 0, 0, 0, 0, 0, 0, 0, 0, 0, 0, 0, 0, 0, 0, 0, 0, 0, 0, 0, 0, 0, 0, 0]\n"
          ],
          "name": "stdout"
        }
      ]
    },
    {
      "cell_type": "code",
      "metadata": {
        "id": "BTk0i65SXonQ",
        "colab_type": "code",
        "colab": {
          "base_uri": "https://localhost:8080/",
          "height": 283
        },
        "outputId": "4271228c-f42c-447e-a1f8-0d428727e860"
      },
      "source": [
        "import matplotlib.pyplot as plt\n",
        "\n",
        "plt.plot(X_val[:,0], label=\"Original\")\n",
        "plt.plot(y_val_pred[:,0],color=\"r\", label=\"Predicted\")\n",
        "plt.legend()"
      ],
      "execution_count": 105,
      "outputs": [
        {
          "output_type": "execute_result",
          "data": {
            "text/plain": [
              "<matplotlib.legend.Legend at 0x7f8ea4fe05c0>"
            ]
          },
          "metadata": {
            "tags": []
          },
          "execution_count": 105
        },
        {
          "output_type": "display_data",
          "data": {
            "image/png": "[encoded data removed]",
            "text/plain": [
              "<Figure size 432x288 with 1 Axes>"
            ]
          },
          "metadata": {
            "tags": [],
            "needs_background": "light"
          }
        }
      ]
    },
    {
      "cell_type": "code",
      "metadata": {
        "id": "Aq6CxQ7jsUyG",
        "colab_type": "code",
        "colab": {}
      },
      "source": [
        "def anomaly_score(error, dist):\n",
        "    delta = np.abs(error - dist.mean())\n",
        "    return dist.cdf(dist.mean() + delta)"
      ],
      "execution_count": 106,
      "outputs": []
    },
    {
      "cell_type": "code",
      "metadata": {
        "id": "IZ1ALpyFoct3",
        "colab_type": "code",
        "colab": {
          "base_uri": "https://localhost:8080/",
          "height": 55
        },
        "outputId": "bee6bf5f-b3ed-4ab9-9948-b41ae1f9f73f"
      },
      "source": [
        "plot_x=[]\n",
        "plot_y=[]\n",
        "for i in range(len(results)): \n",
        "  if results[i] == 1:\n",
        "    plot_x.append(i)\n",
        "    plot_y.append(X_val[i][0])\n",
        "print(plot_y)"
      ],
      "execution_count": 108,
      "outputs": [
        {
          "output_type": "stream",
          "text": [
            "[array([47]), array([52]), array([65]), array([71]), array([73]), array([78]), array([59]), array([57]), array([76]), array([101]), array([97]), array([77]), array([60]), array([71]), array([67]), array([75]), array([75]), array([67]), array([61]), array([54]), array([62]), array([48]), array([35]), array([50]), array([83]), array([48]), array([40]), array([95]), array([84]), array([58]), array([58]), array([53]), array([49]), array([51]), array([46]), array([50]), array([43]), array([51]), array([48]), array([29]), array([37]), array([43]), array([33]), array([30]), array([35]), array([25]), array([30]), array([31]), array([15]), array([22]), array([22]), array([28]), array([38]), array([36]), array([20]), array([25]), array([19]), array([23]), array([35]), array([35]), array([25]), array([27]), array([24]), array([25]), array([19]), array([26]), array([27]), array([21]), array([24]), array([25]), array([27]), array([34]), array([30]), array([31]), array([32]), array([36]), array([29]), array([20]), array([20]), array([22]), array([26]), array([21]), array([34]), array([20]), array([26]), array([33]), array([27]), array([38]), array([31]), array([39]), array([31]), array([28]), array([25]), array([22]), array([26]), array([19]), array([35]), array([21]), array([25]), array([33]), array([28]), array([47]), array([33]), array([34]), array([37]), array([52]), array([51]), array([37]), array([36]), array([49]), array([34]), array([23]), array([43]), array([68]), array([70]), array([43]), array([63]), array([36]), array([86]), array([38]), array([47]), array([59]), array([35]), array([33]), array([42]), array([30]), array([24]), array([22]), array([19]), array([34]), array([36]), array([25]), array([29]), array([14]), array([24]), array([57]), array([38]), array([21]), array([13]), array([24]), array([37]), array([42]), array([42]), array([40]), array([15]), array([28]), array([28]), array([17]), array([23]), array([18]), array([28]), array([22]), array([25]), array([21]), array([28]), array([41]), array([34]), array([21]), array([15]), array([26]), array([26]), array([28]), array([25]), array([35]), array([32]), array([23]), array([19]), array([20]), array([23]), array([23]), array([19]), array([34]), array([34]), array([40]), array([19]), array([14]), array([13]), array([21]), array([33]), array([28]), array([46]), array([18]), array([16]), array([27]), array([13]), array([30]), array([20]), array([21]), array([23]), array([20]), array([21]), array([22]), array([44]), array([48]), array([37]), array([38]), array([58]), array([50]), array([26]), array([33]), array([25]), array([19]), array([24]), array([16]), array([18]), array([20]), array([18]), array([30]), array([48]), array([68]), array([36]), array([36]), array([25]), array([18]), array([40]), array([39]), array([31]), array([32]), array([37]), array([25]), array([20]), array([8]), array([15]), array([25]), array([26]), array([20]), array([21]), array([26]), array([33]), array([32]), array([23]), array([24]), array([44]), array([39]), array([34]), array([22]), array([44]), array([25]), array([26]), array([11]), array([32]), array([17]), array([26]), array([17]), array([21]), array([16]), array([21]), array([48]), array([48]), array([55]), array([64]), array([81]), array([73]), array([58]), array([69]), array([67]), array([82]), array([61]), array([69]), array([69]), array([71]), array([67]), array([49]), array([56]), array([47]), array([34]), array([36]), array([26]), array([24]), array([72]), array([41]), array([31]), array([41]), array([61]), array([45]), array([28]), array([26]), array([36]), array([24]), array([30]), array([21]), array([25]), array([43]), array([32]), array([30]), array([45]), array([10]), array([22]), array([23]), array([29]), array([35]), array([27]), array([46]), array([45]), array([43]), array([34]), array([50]), array([53]), array([64]), array([64]), array([68]), array([58]), array([71]), array([53]), array([71]), array([53]), array([59]), array([60]), array([66]), array([54]), array([47]), array([56]), array([50]), array([62]), array([82]), array([77]), array([46]), array([54]), array([59]), array([46]), array([70]), array([50]), array([60]), array([73]), array([67]), array([78]), array([94]), array([73]), array([257]), array([164]), array([118]), array([106]), array([159]), array([111]), array([110]), array([95]), array([110]), array([89]), array([83]), array([92]), array([94]), array([64]), array([64]), array([61]), array([56]), array([54]), array([73]), array([44]), array([51]), array([65]), array([45]), array([43]), array([54]), array([42]), array([53]), array([36]), array([30]), array([37]), array([35]), array([33]), array([38]), array([12]), array([31]), array([39]), array([18]), array([37]), array([27]), array([15]), array([18]), array([44]), array([37]), array([19]), array([29]), array([34]), array([57]), array([50]), array([30]), array([34]), array([25]), array([31]), array([28]), array([25]), array([31]), array([27]), array([33]), array([22]), array([15]), array([16]), array([20]), array([27]), array([33])]\n"
          ],
          "name": "stdout"
        }
      ]
    },
    {
      "cell_type": "code",
      "metadata": {
        "id": "7dEpG19ArEuo",
        "colab_type": "code",
        "colab": {
          "base_uri": "https://localhost:8080/",
          "height": 391
        },
        "outputId": "2f860d5c-82e8-4e1e-ba5f-c3ff07b3a0a5"
      },
      "source": [
        "plt.figure(figsize=(10,6))\n",
        "plt.plot(X_val[:,0].squeeze(),label='Original data')\n",
        "plt.scatter(plot_x,plot_y, color=\"r\",s=20,label='Anomaly')\n",
        "plt.legend()"
      ],
      "execution_count": 111,
      "outputs": [
        {
          "output_type": "execute_result",
          "data": {
            "text/plain": [
              "<matplotlib.legend.Legend at 0x7f8ea4cceeb8>"
            ]
          },
          "metadata": {
            "tags": []
          },
          "execution_count": 111
        },
        {
          "output_type": "display_data",
          "data": {
            "image/png": "[encoded data removed]",
            "text/plain": [
              "<Figure size 720x432 with 1 Axes>"
            ]
          },
          "metadata": {
            "tags": [],
            "needs_background": "light"
          }
        }
      ]
    },
    {
      "cell_type": "markdown",
      "metadata": {
        "id": "3IU3o5yP9zll",
        "colab_type": "text"
      },
      "source": [
        "Plots between training and validation loss"
      ]
    },
    {
      "cell_type": "code",
      "metadata": {
        "id": "TNJoiiX1sDti",
        "colab_type": "code",
        "colab": {
          "base_uri": "https://localhost:8080/",
          "height": 313
        },
        "outputId": "f24d7ee6-4f0f-42ad-fb8a-b0f03666cb97"
      },
      "source": [
        "plt.figure()\n",
        "plt.plot(history.history['loss'])\n",
        "plt.plot(history.history['val_loss'])\n",
        "plt.title('Train vs Validation Loss over time')\n",
        "plt.ylabel('loss')\n",
        "plt.xlabel('epoch')\n",
        "plt.legend(['Train', 'Validation'], loc='best')"
      ],
      "execution_count": 110,
      "outputs": [
        {
          "output_type": "execute_result",
          "data": {
            "text/plain": [
              "<matplotlib.legend.Legend at 0x7f8ea4eeec88>"
            ]
          },
          "metadata": {
            "tags": []
          },
          "execution_count": 110
        },
        {
          "output_type": "display_data",
          "data": {
            "image/png": "[encoded data removed]",
            "text/plain": [
              "<Figure size 432x288 with 1 Axes>"
            ]
          },
          "metadata": {
            "tags": [],
            "needs_background": "light"
          }
        }
      ]
    },
    {
      "cell_type": "code",
      "metadata": {
        "id": "M1K25q5fW0YP",
        "colab_type": "code",
        "colab": {}
      },
      "source": [
        ""
      ],
      "execution_count": 110,
      "outputs": []
    }
  ]
}