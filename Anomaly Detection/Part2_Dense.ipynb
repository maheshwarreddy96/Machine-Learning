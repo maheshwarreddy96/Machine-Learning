{
  "nbformat": 4,
  "nbformat_minor": 0,
  "metadata": {
    "accelerator": "GPU",
    "colab": {
      "name": "Part2_Dense.ipynb",
      "provenance": [],
      "collapsed_sections": []
    },
    "kernelspec": {
      "display_name": "Python 3",
      "language": "python",
      "name": "python3"
    },
    "language_info": {
      "codemirror_mode": {
        "name": "ipython",
        "version": 3
      },
      "file_extension": ".py",
      "mimetype": "text/x-python",
      "name": "python",
      "nbconvert_exporter": "python",
      "pygments_lexer": "ipython3",
      "version": "3.7.6"
    }
  },
  "cells": [
    {
      "cell_type": "markdown",
      "metadata": {
        "colab_type": "text",
        "id": "vRc-kljksUw8"
      },
      "source": [
        "## Anomaly Detection"
      ]
    },
    {
      "cell_type": "code",
      "metadata": {
        "colab_type": "code",
        "id": "pR-QIZlssUw_",
        "colab": {}
      },
      "source": [
        "%matplotlib inline\n",
        "import matplotlib.pyplot as plt\n",
        "import numpy as np\n",
        "import pandas as pd\n",
        "from keras import backend as K\n",
        "from keras.models import Model\n",
        "from keras.layers import Activation, BatchNormalization\n",
        "from keras.layers import Dropout, Dense, Input, LSTM\n",
        "from keras.optimizers import Adam\n",
        "from tensorflow import keras\n",
        "from tensorflow.keras import layers\n",
        "from datetime import datetime\n",
        "from matplotlib import dates as md"
      ],
      "execution_count": 1,
      "outputs": []
    },
    {
      "cell_type": "code",
      "metadata": {
        "colab_type": "code",
        "id": "1DxdMORisUxF",
        "colab": {
          "base_uri": "https://localhost:8080/",
          "height": 35
        },
        "outputId": "d1f934b3-62f0-4847-9146-092cfe26faa3"
      },
      "source": [
        "data = pd.read_csv('https://raw.githubusercontent.com/numenta/NAB/master/data/realTweets/Twitter_volume_AMZN.csv')\n",
        "data.shape"
      ],
      "execution_count": 2,
      "outputs": [
        {
          "output_type": "execute_result",
          "data": {
            "text/plain": [
              "(15831, 2)"
            ]
          },
          "metadata": {
            "tags": []
          },
          "execution_count": 2
        }
      ]
    },
    {
      "cell_type": "code",
      "metadata": {
        "colab_type": "code",
        "id": "aMcTBHtisUxJ",
        "colab": {
          "base_uri": "https://localhost:8080/",
          "height": 202
        },
        "outputId": "007478e1-583f-4a01-ed5f-8c4fbc7fbd13"
      },
      "source": [
        "data.head()"
      ],
      "execution_count": 3,
      "outputs": [
        {
          "output_type": "execute_result",
          "data": {
            "text/html": [
              "<div>\n",
              "<style scoped>\n",
              "    .dataframe tbody tr th:only-of-type {\n",
              "        vertical-align: middle;\n",
              "    }\n",
              "\n",
              "    .dataframe tbody tr th {\n",
              "        vertical-align: top;\n",
              "    }\n",
              "\n",
              "    .dataframe thead th {\n",
              "        text-align: right;\n",
              "    }\n",
              "</style>\n",
              "<table border=\"1\" class=\"dataframe\">\n",
              "  <thead>\n",
              "    <tr style=\"text-align: right;\">\n",
              "      <th></th>\n",
              "      <th>timestamp</th>\n",
              "      <th>value</th>\n",
              "    </tr>\n",
              "  </thead>\n",
              "  <tbody>\n",
              "    <tr>\n",
              "      <th>0</th>\n",
              "      <td>2015-02-26 21:42:53</td>\n",
              "      <td>57</td>\n",
              "    </tr>\n",
              "    <tr>\n",
              "      <th>1</th>\n",
              "      <td>2015-02-26 21:47:53</td>\n",
              "      <td>43</td>\n",
              "    </tr>\n",
              "    <tr>\n",
              "      <th>2</th>\n",
              "      <td>2015-02-26 21:52:53</td>\n",
              "      <td>55</td>\n",
              "    </tr>\n",
              "    <tr>\n",
              "      <th>3</th>\n",
              "      <td>2015-02-26 21:57:53</td>\n",
              "      <td>64</td>\n",
              "    </tr>\n",
              "    <tr>\n",
              "      <th>4</th>\n",
              "      <td>2015-02-26 22:02:53</td>\n",
              "      <td>93</td>\n",
              "    </tr>\n",
              "  </tbody>\n",
              "</table>\n",
              "</div>"
            ],
            "text/plain": [
              "             timestamp  value\n",
              "0  2015-02-26 21:42:53     57\n",
              "1  2015-02-26 21:47:53     43\n",
              "2  2015-02-26 21:52:53     55\n",
              "3  2015-02-26 21:57:53     64\n",
              "4  2015-02-26 22:02:53     93"
            ]
          },
          "metadata": {
            "tags": []
          },
          "execution_count": 3
        }
      ]
    },
    {
      "cell_type": "code",
      "metadata": {
        "colab_type": "code",
        "id": "VNsSOE2vsUxO",
        "scrolled": false,
        "colab": {
          "base_uri": "https://localhost:8080/",
          "height": 413
        },
        "outputId": "e03362c1-e6cd-48d4-e505-eda66709b8b5"
      },
      "source": [
        "data.set_index('timestamp').plot()\n",
        "plt.xticks(rotation='vertical')"
      ],
      "execution_count": 4,
      "outputs": [
        {
          "output_type": "execute_result",
          "data": {
            "text/plain": [
              "(array([-2000.,     0.,  2000.,  4000.,  6000.,  8000., 10000., 12000.,\n",
              "        14000., 16000., 18000.]), <a list of 11 Text major ticklabel objects>)"
            ]
          },
          "metadata": {
            "tags": []
          },
          "execution_count": 4
        },
        {
          "output_type": "display_data",
          "data": {
            "image/png": "[encoded data removed]",
            "text/plain": [
              "<Figure size 432x288 with 1 Axes>"
            ]
          },
          "metadata": {
            "tags": [],
            "needs_background": "light"
          }
        }
      ]
    },
    {
      "cell_type": "code",
      "metadata": {
        "colab_type": "code",
        "id": "Ow-QfotOkE47",
        "colab": {
          "base_uri": "https://localhost:8080/",
          "height": 294
        },
        "outputId": "131a4cb0-7f18-47e7-fa63-8bc9496165c1"
      },
      "source": [
        "data.describe()"
      ],
      "execution_count": 5,
      "outputs": [
        {
          "output_type": "execute_result",
          "data": {
            "text/html": [
              "<div>\n",
              "<style scoped>\n",
              "    .dataframe tbody tr th:only-of-type {\n",
              "        vertical-align: middle;\n",
              "    }\n",
              "\n",
              "    .dataframe tbody tr th {\n",
              "        vertical-align: top;\n",
              "    }\n",
              "\n",
              "    .dataframe thead th {\n",
              "        text-align: right;\n",
              "    }\n",
              "</style>\n",
              "<table border=\"1\" class=\"dataframe\">\n",
              "  <thead>\n",
              "    <tr style=\"text-align: right;\">\n",
              "      <th></th>\n",
              "      <th>value</th>\n",
              "    </tr>\n",
              "  </thead>\n",
              "  <tbody>\n",
              "    <tr>\n",
              "      <th>count</th>\n",
              "      <td>15831.000000</td>\n",
              "    </tr>\n",
              "    <tr>\n",
              "      <th>mean</th>\n",
              "      <td>53.298465</td>\n",
              "    </tr>\n",
              "    <tr>\n",
              "      <th>std</th>\n",
              "      <td>30.553147</td>\n",
              "    </tr>\n",
              "    <tr>\n",
              "      <th>min</th>\n",
              "      <td>0.000000</td>\n",
              "    </tr>\n",
              "    <tr>\n",
              "      <th>25%</th>\n",
              "      <td>36.000000</td>\n",
              "    </tr>\n",
              "    <tr>\n",
              "      <th>50%</th>\n",
              "      <td>50.000000</td>\n",
              "    </tr>\n",
              "    <tr>\n",
              "      <th>75%</th>\n",
              "      <td>65.000000</td>\n",
              "    </tr>\n",
              "    <tr>\n",
              "      <th>max</th>\n",
              "      <td>1673.000000</td>\n",
              "    </tr>\n",
              "  </tbody>\n",
              "</table>\n",
              "</div>"
            ],
            "text/plain": [
              "              value\n",
              "count  15831.000000\n",
              "mean      53.298465\n",
              "std       30.553147\n",
              "min        0.000000\n",
              "25%       36.000000\n",
              "50%       50.000000\n",
              "75%       65.000000\n",
              "max     1673.000000"
            ]
          },
          "metadata": {
            "tags": []
          },
          "execution_count": 5
        }
      ]
    },
    {
      "cell_type": "code",
      "metadata": {
        "colab_type": "code",
        "id": "Sh8QomnKmgha",
        "colab": {
          "base_uri": "https://localhost:8080/",
          "height": 69
        },
        "outputId": "631c9829-47a1-4112-b264-0b5955bddf6a"
      },
      "source": [
        "np.where(np.array(abs(data['value'] - data['value'].shift(1))) >= 400)"
      ],
      "execution_count": 6,
      "outputs": [
        {
          "output_type": "stream",
          "text": [
            "/usr/local/lib/python3.6/dist-packages/ipykernel_launcher.py:1: RuntimeWarning: invalid value encountered in greater_equal\n",
            "  \"\"\"Entry point for launching an IPython kernel.\n"
          ],
          "name": "stderr"
        },
        {
          "output_type": "execute_result",
          "data": {
            "text/plain": [
              "(array([ 1993,  1994,  2008,  2009,  2010,  3735,  3736, 11070, 11072]),)"
            ]
          },
          "metadata": {
            "tags": []
          },
          "execution_count": 6
        }
      ]
    },
    {
      "cell_type": "code",
      "metadata": {
        "colab_type": "code",
        "id": "g6lpuFNonZ2B",
        "colab": {
          "base_uri": "https://localhost:8080/",
          "height": 387
        },
        "outputId": "32feb7d3-46fb-4eb0-f1db-fb4e67e43698"
      },
      "source": [
        "print(data['value'][11070:11075])\n",
        "plt.plot(data['value'][2008-10:2008+20])"
      ],
      "execution_count": 7,
      "outputs": [
        {
          "output_type": "stream",
          "text": [
            "11070    486\n",
            "11071    605\n",
            "11072     60\n",
            "11073     37\n",
            "11074     41\n",
            "Name: value, dtype: int64\n"
          ],
          "name": "stdout"
        },
        {
          "output_type": "execute_result",
          "data": {
            "text/plain": [
              "[<matplotlib.lines.Line2D at 0x7f8eaf7eb9e8>]"
            ]
          },
          "metadata": {
            "tags": []
          },
          "execution_count": 7
        },
        {
          "output_type": "display_data",
          "data": {
            "image/png": "[encoded data removed]",
            "text/plain": [
              "<Figure size 432x288 with 1 Axes>"
            ]
          },
          "metadata": {
            "tags": [],
            "needs_background": "light"
          }
        }
      ]
    },
    {
      "cell_type": "code",
      "metadata": {
        "colab_type": "code",
        "id": "IdRmPStssUxR",
        "colab": {
          "base_uri": "https://localhost:8080/",
          "height": 35
        },
        "outputId": "1b3584bf-0343-426d-a7e1-45ea5a6c3e60"
      },
      "source": [
        "from sklearn.model_selection import train_test_split\n",
        "\n",
        "X = data['value'].values.reshape((len(data), 1))\n",
        "y = data['value'].values.reshape((len(data), 1))\n",
        "\n",
        "X = X[:-1, :]\n",
        "y = y[1:, :]\n",
        "\n",
        "# X_train, X_val, y_train, y_val = train_test_split(X, y, test_size=0.1, random_state=42)\n",
        "X_train, X_val, y_train, y_val = X[:int(len(X)*0.9)], X[int(len(X)*0.9):], y[:int(len(y)*0.9)], y[int(len(y)*0.9):]\n",
        "\n",
        "X_train.shape, y_train.shape, X_val.shape, y_val.shape"
      ],
      "execution_count": 8,
      "outputs": [
        {
          "output_type": "execute_result",
          "data": {
            "text/plain": [
              "((14247, 1), (14247, 1), (1583, 1), (1583, 1))"
            ]
          },
          "metadata": {
            "tags": []
          },
          "execution_count": 8
        }
      ]
    },
    {
      "cell_type": "code",
      "metadata": {
        "colab_type": "code",
        "id": "g9I6GMDueRmo",
        "colab": {
          "base_uri": "https://localhost:8080/",
          "height": 287
        },
        "outputId": "62691e0e-1a37-4ddc-d5ff-b694d532d5d4"
      },
      "source": [
        "plt.plot(X_train)"
      ],
      "execution_count": 9,
      "outputs": [
        {
          "output_type": "execute_result",
          "data": {
            "text/plain": [
              "[<matplotlib.lines.Line2D at 0x7f8ea79a0470>]"
            ]
          },
          "metadata": {
            "tags": []
          },
          "execution_count": 9
        },
        {
          "output_type": "display_data",
          "data": {
            "image/png": "[encoded data removed]",
            "text/plain": [
              "<Figure size 432x288 with 1 Axes>"
            ]
          },
          "metadata": {
            "tags": [],
            "needs_background": "light"
          }
        }
      ]
    },
    {
      "cell_type": "code",
      "metadata": {
        "colab_type": "code",
        "id": "QhteRgKWdcoO",
        "colab": {}
      },
      "source": [
        "# median = np.median(X_train)\n",
        "# print(\"before\", median)\n",
        "# X_train[np.where(X_train >= 65)] = 65\n",
        "# X_train[np.where(X_train <= 36)] = 36\n",
        "# print(\"after\", np.median(X_train))"
      ],
      "execution_count": 10,
      "outputs": []
    },
    {
      "cell_type": "code",
      "metadata": {
        "colab_type": "code",
        "id": "E1eoFhYNeUPd",
        "colab": {
          "base_uri": "https://localhost:8080/",
          "height": 287
        },
        "outputId": "6fe601ee-1286-4e21-b560-da2fbbeba9c5"
      },
      "source": [
        "plt.plot(X_train)"
      ],
      "execution_count": 11,
      "outputs": [
        {
          "output_type": "execute_result",
          "data": {
            "text/plain": [
              "[<matplotlib.lines.Line2D at 0x7f8ea798e128>]"
            ]
          },
          "metadata": {
            "tags": []
          },
          "execution_count": 11
        },
        {
          "output_type": "display_data",
          "data": {
            "image/png": "[encoded data removed]",
            "text/plain": [
              "<Figure size 432x288 with 1 Axes>"
            ]
          },
          "metadata": {
            "tags": [],
            "needs_background": "light"
          }
        }
      ]
    },
    {
      "cell_type": "code",
      "metadata": {
        "colab_type": "code",
        "id": "luzZ7AXJsUxZ",
        "colab": {}
      },
      "source": [
        "n_timesteps = 144\n",
        "n_samples = X_train.shape[0]\n",
        "n_features = X_train.shape[1]\n",
        "n_val_samples = X_val.shape[0]\n",
        "k=-5"
      ],
      "execution_count": 12,
      "outputs": []
    },
    {
      "cell_type": "code",
      "metadata": {
        "colab_type": "code",
        "id": "URL0o2Lyez0v",
        "colab": {
          "base_uri": "https://localhost:8080/",
          "height": 55
        },
        "outputId": "c6ae8855-56d1-4851-9ea1-197234879fac"
      },
      "source": [
        "print([i for i in enumerate(X_train[:500])])"
      ],
      "execution_count": 13,
      "outputs": [
        {
          "output_type": "stream",
          "text": [
            "[(0, array([57])), (1, array([43])), (2, array([55])), (3, array([64])), (4, array([93])), (5, array([104])), (6, array([89])), (7, array([87])), (8, array([57])), (9, array([68])), (10, array([64])), (11, array([61])), (12, array([73])), (13, array([79])), (14, array([80])), (15, array([76])), (16, array([49])), (17, array([59])), (18, array([55])), (19, array([48])), (20, array([41])), (21, array([49])), (22, array([63])), (23, array([36])), (24, array([42])), (25, array([50])), (26, array([35])), (27, array([41])), (28, array([39])), (29, array([48])), (30, array([31])), (31, array([35])), (32, array([32])), (33, array([36])), (34, array([37])), (35, array([62])), (36, array([41])), (37, array([51])), (38, array([65])), (39, array([39])), (40, array([56])), (41, array([42])), (42, array([62])), (43, array([46])), (44, array([46])), (45, array([62])), (46, array([41])), (47, array([40])), (48, array([47])), (49, array([48])), (50, array([43])), (51, array([41])), (52, array([55])), (53, array([90])), (54, array([79])), (55, array([57])), (56, array([43])), (57, array([39])), (58, array([57])), (59, array([56])), (60, array([102])), (61, array([85])), (62, array([79])), (63, array([82])), (64, array([60])), (65, array([47])), (66, array([43])), (67, array([49])), (68, array([60])), (69, array([55])), (70, array([63])), (71, array([57])), (72, array([61])), (73, array([59])), (74, array([35])), (75, array([69])), (76, array([48])), (77, array([47])), (78, array([44])), (79, array([47])), (80, array([51])), (81, array([54])), (82, array([41])), (83, array([53])), (84, array([49])), (85, array([23])), (86, array([31])), (87, array([38])), (88, array([57])), (89, array([56])), (90, array([70])), (91, array([57])), (92, array([64])), (93, array([79])), (94, array([65])), (95, array([70])), (96, array([51])), (97, array([43])), (98, array([60])), (99, array([49])), (100, array([37])), (101, array([54])), (102, array([58])), (103, array([67])), (104, array([72])), (105, array([49])), (106, array([45])), (107, array([48])), (108, array([29])), (109, array([23])), (110, array([26])), (111, array([28])), (112, array([27])), (113, array([18])), (114, array([37])), (115, array([35])), (116, array([25])), (117, array([28])), (118, array([27])), (119, array([35])), (120, array([41])), (121, array([34])), (122, array([42])), (123, array([58])), (124, array([59])), (125, array([27])), (126, array([49])), (127, array([52])), (128, array([25])), (129, array([36])), (130, array([31])), (131, array([23])), (132, array([24])), (133, array([10])), (134, array([27])), (135, array([32])), (136, array([17])), (137, array([33])), (138, array([40])), (139, array([25])), (140, array([16])), (141, array([24])), (142, array([37])), (143, array([34])), (144, array([60])), (145, array([57])), (146, array([62])), (147, array([56])), (148, array([68])), (149, array([54])), (150, array([49])), (151, array([42])), (152, array([39])), (153, array([50])), (154, array([47])), (155, array([30])), (156, array([40])), (157, array([45])), (158, array([37])), (159, array([58])), (160, array([35])), (161, array([46])), (162, array([37])), (163, array([35])), (164, array([50])), (165, array([27])), (166, array([54])), (167, array([51])), (168, array([41])), (169, array([50])), (170, array([90])), (171, array([55])), (172, array([57])), (173, array([57])), (174, array([71])), (175, array([35])), (176, array([28])), (177, array([32])), (178, array([32])), (179, array([60])), (180, array([32])), (181, array([47])), (182, array([38])), (183, array([46])), (184, array([54])), (185, array([56])), (186, array([63])), (187, array([67])), (188, array([68])), (189, array([61])), (190, array([44])), (191, array([57])), (192, array([61])), (193, array([55])), (194, array([66])), (195, array([87])), (196, array([68])), (197, array([73])), (198, array([66])), (199, array([73])), (200, array([100])), (201, array([105])), (202, array([90])), (203, array([66])), (204, array([64])), (205, array([58])), (206, array([70])), (207, array([74])), (208, array([48])), (209, array([59])), (210, array([69])), (211, array([67])), (212, array([40])), (213, array([47])), (214, array([42])), (215, array([153])), (216, array([67])), (217, array([73])), (218, array([58])), (219, array([97])), (220, array([99])), (221, array([65])), (222, array([82])), (223, array([66])), (224, array([44])), (225, array([65])), (226, array([75])), (227, array([50])), (228, array([62])), (229, array([57])), (230, array([102])), (231, array([80])), (232, array([84])), (233, array([104])), (234, array([76])), (235, array([71])), (236, array([49])), (237, array([103])), (238, array([134])), (239, array([106])), (240, array([127])), (241, array([93])), (242, array([84])), (243, array([56])), (244, array([61])), (245, array([57])), (246, array([45])), (247, array([54])), (248, array([64])), (249, array([74])), (250, array([56])), (251, array([73])), (252, array([84])), (253, array([57])), (254, array([63])), (255, array([70])), (256, array([74])), (257, array([57])), (258, array([62])), (259, array([69])), (260, array([61])), (261, array([66])), (262, array([65])), (263, array([55])), (264, array([54])), (265, array([55])), (266, array([53])), (267, array([67])), (268, array([70])), (269, array([76])), (270, array([67])), (271, array([110])), (272, array([41])), (273, array([64])), (274, array([61])), (275, array([39])), (276, array([61])), (277, array([73])), (278, array([62])), (279, array([67])), (280, array([51])), (281, array([81])), (282, array([87])), (283, array([52])), (284, array([62])), (285, array([108])), (286, array([76])), (287, array([57])), (288, array([68])), (289, array([59])), (290, array([68])), (291, array([54])), (292, array([56])), (293, array([56])), (294, array([75])), (295, array([69])), (296, array([51])), (297, array([58])), (298, array([60])), (299, array([81])), (300, array([65])), (301, array([70])), (302, array([64])), (303, array([53])), (304, array([65])), (305, array([65])), (306, array([66])), (307, array([48])), (308, array([46])), (309, array([50])), (310, array([43])), (311, array([45])), (312, array([49])), (313, array([49])), (314, array([50])), (315, array([57])), (316, array([39])), (317, array([35])), (318, array([63])), (319, array([62])), (320, array([66])), (321, array([52])), (322, array([48])), (323, array([66])), (324, array([58])), (325, array([41])), (326, array([36])), (327, array([40])), (328, array([72])), (329, array([72])), (330, array([64])), (331, array([73])), (332, array([69])), (333, array([78])), (334, array([58])), (335, array([77])), (336, array([133])), (337, array([88])), (338, array([87])), (339, array([88])), (340, array([78])), (341, array([80])), (342, array([72])), (343, array([89])), (344, array([62])), (345, array([91])), (346, array([100])), (347, array([60])), (348, array([54])), (349, array([83])), (350, array([45])), (351, array([58])), (352, array([70])), (353, array([60])), (354, array([41])), (355, array([60])), (356, array([57])), (357, array([61])), (358, array([66])), (359, array([59])), (360, array([64])), (361, array([80])), (362, array([92])), (363, array([95])), (364, array([101])), (365, array([99])), (366, array([68])), (367, array([64])), (368, array([90])), (369, array([74])), (370, array([48])), (371, array([48])), (372, array([63])), (373, array([47])), (374, array([43])), (375, array([51])), (376, array([63])), (377, array([71])), (378, array([84])), (379, array([34])), (380, array([41])), (381, array([51])), (382, array([44])), (383, array([58])), (384, array([68])), (385, array([57])), (386, array([55])), (387, array([65])), (388, array([51])), (389, array([49])), (390, array([59])), (391, array([44])), (392, array([58])), (393, array([45])), (394, array([52])), (395, array([50])), (396, array([63])), (397, array([45])), (398, array([54])), (399, array([68])), (400, array([45])), (401, array([40])), (402, array([54])), (403, array([33])), (404, array([38])), (405, array([33])), (406, array([52])), (407, array([36])), (408, array([36])), (409, array([35])), (410, array([30])), (411, array([25])), (412, array([24])), (413, array([27])), (414, array([21])), (415, array([45])), (416, array([27])), (417, array([31])), (418, array([35])), (419, array([58])), (420, array([60])), (421, array([37])), (422, array([30])), (423, array([36])), (424, array([39])), (425, array([26])), (426, array([38])), (427, array([31])), (428, array([58])), (429, array([56])), (430, array([64])), (431, array([44])), (432, array([58])), (433, array([63])), (434, array([58])), (435, array([47])), (436, array([47])), (437, array([47])), (438, array([36])), (439, array([31])), (440, array([30])), (441, array([21])), (442, array([23])), (443, array([43])), (444, array([43])), (445, array([53])), (446, array([54])), (447, array([45])), (448, array([37])), (449, array([35])), (450, array([43])), (451, array([43])), (452, array([43])), (453, array([40])), (454, array([28])), (455, array([25])), (456, array([31])), (457, array([23])), (458, array([31])), (459, array([31])), (460, array([36])), (461, array([46])), (462, array([47])), (463, array([32])), (464, array([39])), (465, array([42])), (466, array([46])), (467, array([40])), (468, array([60])), (469, array([70])), (470, array([71])), (471, array([69])), (472, array([56])), (473, array([70])), (474, array([88])), (475, array([50])), (476, array([53])), (477, array([43])), (478, array([53])), (479, array([43])), (480, array([59])), (481, array([50])), (482, array([41])), (483, array([40])), (484, array([43])), (485, array([76])), (486, array([62])), (487, array([61])), (488, array([44])), (489, array([49])), (490, array([68])), (491, array([49])), (492, array([79])), (493, array([71])), (494, array([52])), (495, array([47])), (496, array([41])), (497, array([62])), (498, array([63])), (499, array([85]))]\n"
          ],
          "name": "stdout"
        }
      ]
    },
    {
      "cell_type": "code",
      "metadata": {
        "colab_type": "code",
        "id": "LeXAJx9CsUxd",
        "colab": {
          "base_uri": "https://localhost:8080/",
          "height": 35
        },
        "outputId": "8f924b1e-626d-42d1-875e-57f83ba339fe"
      },
      "source": [
        "X_train_list = [np.expand_dims(X_train[i-n_timesteps:i, :], axis=0) for i in range(n_timesteps, n_samples+1)]\n",
        "X_train_list = X_train_list[:k]\n",
        "X_train = np.concatenate(X_train_list, axis=0)\n",
        "y_train_list = [np.expand_dims(y_train[i:i+5, :], axis=0) for i in range(n_timesteps, n_samples -5 + 1)]\n",
        "y_train = np.concatenate(y_train_list, axis=0)\n",
        "X_train = X_train[:-1, :, :]\n",
        "y_train = y_train[1:, :, :]\n",
        "# y_train = y_train[n_timesteps-1:, :]\n",
        "\n",
        "\n",
        "X_val_list = [np.expand_dims(X_val[i-n_timesteps:i, :], axis=0) for i in range(n_timesteps, n_val_samples + 1)]\n",
        "X_val_list = X_val_list[:k]\n",
        "X_val = np.concatenate(X_val_list, axis=0)\n",
        "# y_val = y_val[n_timesteps-1:, :]\n",
        "y_val_list = [np.expand_dims(y_val[i:i+5, :], axis=0) for i in range(n_timesteps, n_val_samples- 5 + 1)]\n",
        "y_val = np.concatenate(y_val_list, axis=0)\n",
        "X_val = X_val[:-1, :, :]\n",
        "y_val = y_val[1:, :, :]\n",
        "X_train.shape, y_train.shape, X_val.shape, y_val.shape"
      ],
      "execution_count": 14,
      "outputs": [
        {
          "output_type": "execute_result",
          "data": {
            "text/plain": [
              "((14098, 144, 1), (14098, 5, 1), (1434, 144, 1), (1434, 5, 1))"
            ]
          },
          "metadata": {
            "tags": []
          },
          "execution_count": 14
        }
      ]
    },
    {
      "cell_type": "code",
      "metadata": {
        "colab_type": "code",
        "id": "Kf-hYwQTI2Ot",
        "colab": {}
      },
      "source": [
        "# X_train = X_train.reshape(X_train.shape[0], 1, X_train.shape[1])\n",
        "# y_train = y_train.reshape(y_train.shape[0], 1, y_train.shape[1])\n",
        "# X_val = X_val.reshape(X_val.shape[0], 1, X_val.shape[1])\n",
        "# y_val = y_val.reshape(y_val.shape[0], 1, y_val.shape[1])\n"
      ],
      "execution_count": 15,
      "outputs": []
    },
    {
      "cell_type": "code",
      "metadata": {
        "colab_type": "code",
        "id": "MZjXQIJQjgdB",
        "colab": {}
      },
      "source": [
        ""
      ],
      "execution_count": 15,
      "outputs": []
    },
    {
      "cell_type": "code",
      "metadata": {
        "colab_type": "code",
        "id": "-UHmVS_NI2MI",
        "colab": {
          "base_uri": "https://localhost:8080/",
          "height": 35
        },
        "outputId": "88dad03b-e33a-45da-e096-e72127d927b8"
      },
      "source": [
        "X_train.shape, y_train.shape, X_val.shape, y_val.shape"
      ],
      "execution_count": 16,
      "outputs": [
        {
          "output_type": "execute_result",
          "data": {
            "text/plain": [
              "((14098, 144, 1), (14098, 5, 1), (1434, 144, 1), (1434, 5, 1))"
            ]
          },
          "metadata": {
            "tags": []
          },
          "execution_count": 16
        }
      ]
    },
    {
      "cell_type": "markdown",
      "metadata": {
        "id": "KVmop67D1wdY",
        "colab_type": "text"
      },
      "source": [
        "Autoencoder with Dense layers."
      ]
    },
    {
      "cell_type": "code",
      "metadata": {
        "colab_type": "code",
        "id": "qIJwhWOj7Wnr",
        "colab": {
          "base_uri": "https://localhost:8080/",
          "height": 503
        },
        "outputId": "b7d002b6-9b60-4763-de3c-c235c169579b"
      },
      "source": [
        "#AUTOENCODER DENSE\n",
        "\n",
        "def DenseAna(n_timesteps, n_features):\n",
        "    i = Input(shape=(n_timesteps,1))\n",
        "    # x = Dense(500, kernel_initializer='he_normal')(i)\n",
        "    # x = Dropout(0.4)(x)   \n",
        "    x = Dense(250, kernel_initializer='he_normal')(i)\n",
        "    x = Dropout(0.4)(x)\n",
        "    \n",
        "\n",
        "    x = Dense(125, kernel_initializer='he_normal')(x)\n",
        "    x = Dropout(0.4)(x)\n",
        "\n",
        "    x = Dense(125, kernel_initializer='he_normal')(x)\n",
        "    # x = Dropout(0.4)(x)\n",
        "\n",
        "    x = Dense(250, kernel_initializer='he_normal')(x)\n",
        "    x = Dropout(0.4)(x)\n",
        "    # x = Dense(500, kernel_initializer='he_normal')(x)\n",
        "    # x = Dropout(0.4)(x)\n",
        "    x = Dense(n_features, kernel_initializer='he_normal')(x)\n",
        "    x = Activation('linear')(x)\n",
        "\n",
        "    model = Model(inputs=i, outputs=x)\n",
        "    model.compile(loss='mean_absolute_error', optimizer=Adam(lr=0.001))\n",
        "    \n",
        "    return model\n",
        "\n",
        "model = DenseAna(n_timesteps, 1)\n",
        "\n",
        "model.compile(optimizer=keras.optimizers.Adam(), loss=\"mae\")\n",
        "model.summary()\n"
      ],
      "execution_count": 17,
      "outputs": [
        {
          "output_type": "stream",
          "text": [
            "Model: \"functional_1\"\n",
            "_________________________________________________________________\n",
            "Layer (type)                 Output Shape              Param #   \n",
            "=================================================================\n",
            "input_1 (InputLayer)         [(None, 144, 1)]          0         \n",
            "_________________________________________________________________\n",
            "dense (Dense)                (None, 144, 250)          500       \n",
            "_________________________________________________________________\n",
            "dropout (Dropout)            (None, 144, 250)          0         \n",
            "_________________________________________________________________\n",
            "dense_1 (Dense)              (None, 144, 125)          31375     \n",
            "_________________________________________________________________\n",
            "dropout_1 (Dropout)          (None, 144, 125)          0         \n",
            "_________________________________________________________________\n",
            "dense_2 (Dense)              (None, 144, 125)          15750     \n",
            "_________________________________________________________________\n",
            "dense_3 (Dense)              (None, 144, 250)          31500     \n",
            "_________________________________________________________________\n",
            "dropout_2 (Dropout)          (None, 144, 250)          0         \n",
            "_________________________________________________________________\n",
            "dense_4 (Dense)              (None, 144, 1)            251       \n",
            "_________________________________________________________________\n",
            "activation (Activation)      (None, 144, 1)            0         \n",
            "=================================================================\n",
            "Total params: 79,376\n",
            "Trainable params: 79,376\n",
            "Non-trainable params: 0\n",
            "_________________________________________________________________\n"
          ],
          "name": "stdout"
        }
      ]
    },
    {
      "cell_type": "code",
      "metadata": {
        "colab_type": "code",
        "id": "yqEw2mFV7fad",
        "colab": {
          "base_uri": "https://localhost:8080/",
          "height": 364
        },
        "outputId": "c710451a-f93c-439d-e8c1-296c8a975663"
      },
      "source": [
        "history = model.fit(\n",
        "    X_train,\n",
        "    X_train,\n",
        "    epochs=10,\n",
        "    batch_size=32,\n",
        "    validation_split=0.1,\n",
        "    callbacks=[keras.callbacks.EarlyStopping(monitor=\"val_loss\", patience=10, mode=\"min\")],\n",
        ")\n"
      ],
      "execution_count": 18,
      "outputs": [
        {
          "output_type": "stream",
          "text": [
            "Epoch 1/10\n",
            "397/397 [==============================] - 2s 6ms/step - loss: 74.3009 - val_loss: 4.7749\n",
            "Epoch 2/10\n",
            "397/397 [==============================] - 2s 5ms/step - loss: 6.7530 - val_loss: 4.8817\n",
            "Epoch 3/10\n",
            "397/397 [==============================] - 2s 5ms/step - loss: 5.8557 - val_loss: 4.5661\n",
            "Epoch 4/10\n",
            "397/397 [==============================] - 2s 5ms/step - loss: 5.5783 - val_loss: 0.4139\n",
            "Epoch 5/10\n",
            "397/397 [==============================] - 2s 5ms/step - loss: 5.4829 - val_loss: 0.2436\n",
            "Epoch 6/10\n",
            "397/397 [==============================] - 2s 5ms/step - loss: 5.3947 - val_loss: 2.4800\n",
            "Epoch 7/10\n",
            "397/397 [==============================] - 2s 5ms/step - loss: 5.2923 - val_loss: 2.2158\n",
            "Epoch 8/10\n",
            "397/397 [==============================] - 2s 5ms/step - loss: 5.2831 - val_loss: 0.3721\n",
            "Epoch 9/10\n",
            "397/397 [==============================] - 2s 5ms/step - loss: 5.2586 - val_loss: 1.7545\n",
            "Epoch 10/10\n",
            "397/397 [==============================] - 2s 5ms/step - loss: 5.1577 - val_loss: 2.4826\n"
          ],
          "name": "stdout"
        }
      ]
    },
    {
      "cell_type": "markdown",
      "metadata": {
        "id": "zbcij2Zl43Sj",
        "colab_type": "text"
      },
      "source": [
        " The size of the input data is 250 initially, which is compressed to 125 and then later the model tries to rebuild the original input to the original size of 250. We implemented the model using (500,250), (200,100), (250,125), (100,50). The more the units in each layer, the more the loss is what we observed as a general/major trend.\n",
        "Increasing the layers took much longer to run and mostly returned nan or very high loss initially."
      ]
    },
    {
      "cell_type": "code",
      "metadata": {
        "colab_type": "code",
        "id": "wA_qhq81sUxr",
        "colab": {
          "base_uri": "https://localhost:8080/",
          "height": 35
        },
        "outputId": "88573074-6c16-4eaf-cf78-a98d6e7bc665"
      },
      "source": [
        "y_train_pred = model.predict(X_train)\n",
        "y_train_pred.shape"
      ],
      "execution_count": 20,
      "outputs": [
        {
          "output_type": "execute_result",
          "data": {
            "text/plain": [
              "(14098, 144, 1)"
            ]
          },
          "metadata": {
            "tags": []
          },
          "execution_count": 20
        }
      ]
    },
    {
      "cell_type": "code",
      "metadata": {
        "colab_type": "code",
        "id": "IdY_e3VHsUxv",
        "colab": {
          "base_uri": "https://localhost:8080/",
          "height": 35
        },
        "outputId": "c52e0d41-2a92-4a8c-8be9-89c32a132588"
      },
      "source": [
        "from sklearn.metrics import mean_absolute_error\n",
        "# y_train = y_train.reshape(y_train.shape[0], y_train.shape[1])\n",
        "errors = [mean_absolute_error(X_train[i, :], y_train_pred[i, :]) for i in range(y_train_pred.shape[0])]\n",
        "len(errors)"
      ],
      "execution_count": 22,
      "outputs": [
        {
          "output_type": "execute_result",
          "data": {
            "text/plain": [
              "14098"
            ]
          },
          "metadata": {
            "tags": []
          },
          "execution_count": 22
        }
      ]
    },
    {
      "cell_type": "code",
      "metadata": {
        "colab_type": "code",
        "id": "XdBiBRfNsUxy",
        "scrolled": true,
        "colab": {
          "base_uri": "https://localhost:8080/",
          "height": 337
        },
        "outputId": "ab9a4137-b138-4ad3-f89b-cbc4ab682e04"
      },
      "source": [
        "import seaborn as sb\n",
        "sb.kdeplot(errors, shade=True)"
      ],
      "execution_count": 23,
      "outputs": [
        {
          "output_type": "stream",
          "text": [
            "/usr/local/lib/python3.6/dist-packages/statsmodels/tools/_testing.py:19: FutureWarning: pandas.util.testing is deprecated. Use the functions in the public API at pandas.testing instead.\n",
            "  import pandas.util.testing as tm\n"
          ],
          "name": "stderr"
        },
        {
          "output_type": "execute_result",
          "data": {
            "text/plain": [
              "<matplotlib.axes._subplots.AxesSubplot at 0x7f8e90076c88>"
            ]
          },
          "metadata": {
            "tags": []
          },
          "execution_count": 23
        },
        {
          "output_type": "display_data",
          "data": {
            "image/png": "[encoded data removed]",
            "text/plain": [
              "<Figure size 432x288 with 1 Axes>"
            ]
          },
          "metadata": {
            "tags": [],
            "needs_background": "light"
          }
        }
      ]
    },
    {
      "cell_type": "markdown",
      "metadata": {
        "id": "NfkIlt1H468g",
        "colab_type": "text"
      },
      "source": [
        "If the errors for each value of the data set were normally distributed, we can consider all values away that are beyond 1 standard deviation from the mean as anomaly. Hence, we are now fitting this data to a normal distribution."
      ]
    },
    {
      "cell_type": "code",
      "metadata": {
        "colab_type": "code",
        "id": "A6qaFTygsUx3",
        "colab": {
          "base_uri": "https://localhost:8080/",
          "height": 35
        },
        "outputId": "2c1e18df-aded-48f3-d57c-e99893cbafd4"
      },
      "source": [
        "from scipy.stats import norm\n",
        "params = norm.fit(errors)\n",
        "dist = norm(loc=params[0], scale=params[1])\n",
        "\n",
        "dist.mean(), dist.std()"
      ],
      "execution_count": 24,
      "outputs": [
        {
          "output_type": "execute_result",
          "data": {
            "text/plain": [
              "(2.698128047266, 0.42946280222863586)"
            ]
          },
          "metadata": {
            "tags": []
          },
          "execution_count": 24
        }
      ]
    },
    {
      "cell_type": "code",
      "metadata": {
        "colab_type": "code",
        "id": "3b3ccnWKsUx_",
        "colab": {}
      },
      "source": [
        "def is_anomaly(error, mean, std, threshold):\n",
        "    difference = np.abs(error - mean)\n",
        "    print(difference)\n",
        "    value = difference / std\n",
        "    if value < threshold:\n",
        "        return 0\n",
        "    else:\n",
        "        return 1"
      ],
      "execution_count": 25,
      "outputs": []
    },
    {
      "cell_type": "markdown",
      "metadata": {
        "id": "rKwosII63k5-",
        "colab_type": "text"
      },
      "source": [
        "Anomaly detection.\n",
        "We get the mean and standard deviation here. We can consider all the values that lie around 1 standard deviation away from the mean. Any value beyond this can be considered an anomaly. We can consider different ranges of error beyond which a value can be anomaly. We have chosen a range of 1 standard deviation from the mean to consider a value normal."
      ]
    },
    {
      "cell_type": "code",
      "metadata": {
        "colab_type": "code",
        "id": "OSmSdsZysUyD",
        "colab": {}
      },
      "source": [
        "\n",
        "y_val_pred = model.predict(X_val[:, :, :])\n",
        "# y_val = y_val.reshape(y_val.shape[0], y_val.shape[2])\n",
        "val_errors = [mean_absolute_error(X_val[i, :], y_val_pred[i, :]) for i in range(y_val_pred.shape[0])]\n",
        "results = [is_anomaly(x, dist.mean(), dist.std(), 1) for x in val_errors]"
      ],
      "execution_count": null,
      "outputs": []
    },
    {
      "cell_type": "code",
      "metadata": {
        "colab_type": "code",
        "id": "BTk0i65SXonQ",
        "colab": {
          "base_uri": "https://localhost:8080/",
          "height": 283
        },
        "outputId": "9c71ead1-34ac-4334-f07c-4969a2663b03"
      },
      "source": [
        "import matplotlib.pyplot as plt\n",
        "\n",
        "plt.plot(X_val[:,0], label=\"Original\")\n",
        "plt.plot(y_val_pred[:,0],color=\"r\", label=\"Predicted\")\n",
        "plt.legend()"
      ],
      "execution_count": 27,
      "outputs": [
        {
          "output_type": "execute_result",
          "data": {
            "text/plain": [
              "<matplotlib.legend.Legend at 0x7f8e383040b8>"
            ]
          },
          "metadata": {
            "tags": []
          },
          "execution_count": 27
        },
        {
          "output_type": "display_data",
          "data": {
            "image/png": "[encoded data removed]",
            "text/plain": [
              "<Figure size 432x288 with 1 Axes>"
            ]
          },
          "metadata": {
            "tags": [],
            "needs_background": "light"
          }
        }
      ]
    },
    {
      "cell_type": "code",
      "metadata": {
        "colab_type": "code",
        "id": "Aq6CxQ7jsUyG",
        "colab": {}
      },
      "source": [
        "def anomaly_score(error, dist):\n",
        "    delta = np.abs(error - dist.mean())\n",
        "    return dist.cdf(dist.mean() + delta)"
      ],
      "execution_count": 28,
      "outputs": []
    },
    {
      "cell_type": "code",
      "metadata": {
        "colab_type": "code",
        "collapsed": true,
        "id": "IZ1ALpyFoct3",
        "colab": {}
      },
      "source": [
        "plot_x=[]\n",
        "plot_y=[]\n",
        "for i in range(len(results)): \n",
        "  if results[i] == 1:\n",
        "    plot_x.append(i)\n",
        "    plot_y.append(X_val[i][0])\n",
        "print(plot_x)"
      ],
      "execution_count": null,
      "outputs": []
    },
    {
      "cell_type": "code",
      "metadata": {
        "colab_type": "code",
        "id": "7dEpG19ArEuo",
        "colab": {
          "base_uri": "https://localhost:8080/",
          "height": 391
        },
        "outputId": "fed5daeb-8094-4454-a9fc-967c73c930d5"
      },
      "source": [
        "plt.figure(figsize=(10,6))\n",
        "plt.plot(X_val[:,0].squeeze(),label='Original data')\n",
        "plt.scatter(plot_x,plot_y, color=\"r\",s=20,label='Anomaly')\n",
        "plt.legend()\n"
      ],
      "execution_count": 39,
      "outputs": [
        {
          "output_type": "execute_result",
          "data": {
            "text/plain": [
              "<matplotlib.legend.Legend at 0x7f8e2fbc4fd0>"
            ]
          },
          "metadata": {
            "tags": []
          },
          "execution_count": 39
        },
        {
          "output_type": "display_data",
          "data": {
            "image/png": "[encoded data removed]",
            "text/plain": [
              "<Figure size 720x432 with 1 Axes>"
            ]
          },
          "metadata": {
            "tags": [],
            "needs_background": "light"
          }
        }
      ]
    },
    {
      "cell_type": "markdown",
      "metadata": {
        "id": "qVSNeVRP1NUt",
        "colab_type": "text"
      },
      "source": [
        "Plots between training and validation loss"
      ]
    },
    {
      "cell_type": "code",
      "metadata": {
        "colab_type": "code",
        "id": "TNJoiiX1sDti",
        "colab": {
          "base_uri": "https://localhost:8080/",
          "height": 313
        },
        "outputId": "e6d8c4f0-a705-485a-9cac-88ae3614b1de"
      },
      "source": [
        "plt.figure()\n",
        "plt.plot(history.history['loss'])\n",
        "plt.plot(history.history['val_loss'])\n",
        "plt.title('Train vs Validation Loss over time')\n",
        "plt.ylabel('loss')\n",
        "plt.xlabel('epoch')\n",
        "plt.legend(['Train', 'Validation'], loc='best')"
      ],
      "execution_count": 33,
      "outputs": [
        {
          "output_type": "execute_result",
          "data": {
            "text/plain": [
              "<matplotlib.legend.Legend at 0x7f8e38247eb8>"
            ]
          },
          "metadata": {
            "tags": []
          },
          "execution_count": 33
        },
        {
          "output_type": "display_data",
          "data": {
            "image/png": "[encoded data removed]",
            "text/plain": [
              "<Figure size 432x288 with 1 Axes>"
            ]
          },
          "metadata": {
            "tags": [],
            "needs_background": "light"
          }
        }
      ]
    }
  ]
}