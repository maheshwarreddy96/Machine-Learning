{
 "cells": [
  {
   "cell_type": "markdown",
   "metadata": {
    "colab_type": "text",
    "id": "vRc-kljksUw8"
   },
   "source": [
    "## Anomaly Detection"
   ]
  },
  {
   "cell_type": "code",
   "execution_count": 41,
   "metadata": {
    "colab": {},
    "colab_type": "code",
    "id": "pR-QIZlssUw_"
   },
   "outputs": [],
   "source": [
    "%matplotlib inline\n",
    "import datetime\n",
    "import matplotlib.pyplot as plt\n",
    "import numpy as np\n",
    "import pandas as pd\n",
    "from keras import backend as K\n",
    "from keras.models import Model\n",
    "from keras.layers import Activation, BatchNormalization\n",
    "from keras.layers import Dropout, Dense, Input, LSTM\n",
    "from keras.optimizers import Adam"
   ]
  },
  {
   "cell_type": "markdown",
   "metadata": {
    "colab_type": "text",
    "id": "DyFgOFiHXdsx"
   },
   "source": [
    "Reading data from https://github.com/numenta/NAB/tree/master/data. The data is about the number of tweets by Amazon every 5 minutes."
   ]
  },
  {
   "cell_type": "code",
   "execution_count": 42,
   "metadata": {
    "colab": {
     "base_uri": "https://localhost:8080/",
     "height": 35
    },
    "colab_type": "code",
    "id": "1DxdMORisUxF",
    "outputId": "1e7a09c6-caff-4d3e-d2c4-1ae1edd650b3"
   },
   "outputs": [
    {
     "data": {
      "text/plain": [
       "(15831, 2)"
      ]
     },
     "execution_count": 42,
     "metadata": {
      "tags": []
     },
     "output_type": "execute_result"
    }
   ],
   "source": [
    "data = pd.read_csv('https://raw.githubusercontent.com/numenta/NAB/master/data/realTweets/Twitter_volume_AMZN.csv')\n",
    "data.shape"
   ]
  },
  {
   "cell_type": "code",
   "execution_count": 43,
   "metadata": {
    "colab": {
     "base_uri": "https://localhost:8080/",
     "height": 409
    },
    "colab_type": "code",
    "id": "VNsSOE2vsUxO",
    "outputId": "a13def2d-4e45-4445-c430-453d1a738089",
    "scrolled": false
   },
   "outputs": [
    {
     "data": {
      "text/plain": [
       "Text(0.5, 1.0, 'Plot the Original data')"
      ]
     },
     "execution_count": 43,
     "metadata": {
      "tags": []
     },
     "output_type": "execute_result"
    },
    {
     "data": {
      "image/png": "[encoded data removed]",
      "text/plain": [
       "<Figure size 432x288 with 1 Axes>"
      ]
     },
     "metadata": {
      "needs_background": "light",
      "tags": []
     },
     "output_type": "display_data"
    }
   ],
   "source": [
    "data.set_index('timestamp').plot()\n",
    "plt.xticks(rotation='vertical')\n",
    "plt.title(\"Plot the Original data\")"
   ]
  },
  {
   "cell_type": "markdown",
   "metadata": {
    "colab_type": "text",
    "id": "88eNcKzvXyQG"
   },
   "source": [
    "Splitting the data into test and validation. We attempt to predict the next 5 values based on the previous 144 values (half day)."
   ]
  },
  {
   "cell_type": "code",
   "execution_count": 44,
   "metadata": {
    "colab": {
     "base_uri": "https://localhost:8080/",
     "height": 35
    },
    "colab_type": "code",
    "id": "IdRmPStssUxR",
    "outputId": "5e15781c-bdeb-4626-dabf-75ad55744375"
   },
   "outputs": [
    {
     "data": {
      "text/plain": [
       "((14247, 1), (14247, 1), (1583, 1), (1583, 1))"
      ]
     },
     "execution_count": 44,
     "metadata": {
      "tags": []
     },
     "output_type": "execute_result"
    }
   ],
   "source": [
    "from sklearn.model_selection import train_test_split\n",
    "\n",
    "X = data['value'].values.reshape((len(data), 1))\n",
    "y = data['value'].values.reshape((len(data), 1))\n",
    "\n",
    "X = X[:-1, :]\n",
    "y = y[1:, :]\n",
    "\n",
    "# X_train, X_val, y_train, y_val = train_test_split(X, y, test_size=0.1, random_state=42)\n",
    "X_train, X_val, y_train, y_val = X[:int(len(X)*0.9)], X[int(len(X)*0.9):], y[:int(len(y)*0.9)], y[int(len(y)*0.9):]\n",
    "\n",
    "X_train.shape, y_train.shape, X_val.shape, y_val.shape"
   ]
  },
  {
   "cell_type": "code",
   "execution_count": 45,
   "metadata": {
    "colab": {},
    "colab_type": "code",
    "id": "luzZ7AXJsUxZ"
   },
   "outputs": [],
   "source": [
    "n_timesteps = 144\n",
    "n_samples = X_train.shape[0]\n",
    "n_features = X_train.shape[1]\n",
    "n_val_samples = X_val.shape[0]\n",
    "k=-5\n",
    "batch_size=128\n",
    "epochs=50\n"
   ]
  },
  {
   "cell_type": "code",
   "execution_count": 46,
   "metadata": {
    "colab": {
     "base_uri": "https://localhost:8080/",
     "height": 35
    },
    "colab_type": "code",
    "id": "LeXAJx9CsUxd",
    "outputId": "292f5070-a1cb-46af-804b-051a343ff71d"
   },
   "outputs": [
    {
     "name": "stdout",
     "output_type": "stream",
     "text": [
      "(14098, 144, 1) (14098, 5, 1) (1434, 144, 1) (1434, 5, 1)\n"
     ]
    }
   ],
   "source": [
    "X_train_list = [np.expand_dims(X_train[i-n_timesteps:i, :], axis=0) for i in range(n_timesteps, n_samples+1)]\n",
    "X_train_list = X_train_list[:k]\n",
    "X_train = np.concatenate(X_train_list, axis=0)\n",
    "y_train_list = [np.expand_dims(y_train[i:i+5, :], axis=0) for i in range(n_timesteps, n_samples -5 + 1)]\n",
    "y_train = np.concatenate(y_train_list, axis=0)\n",
    "X_train = X_train[:-1, :, :]\n",
    "y_train = y_train[1:, :, :]\n",
    "# y_train = y_train[n_timesteps-1:, :]\n",
    "\n",
    "\n",
    "X_val_list = [np.expand_dims(X_val[i-n_timesteps:i, :], axis=0) for i in range(n_timesteps, n_val_samples + 1)]\n",
    "X_val_list = X_val_list[:k]\n",
    "X_val = np.concatenate(X_val_list, axis=0)\n",
    "# y_val = y_val[n_timesteps-1:, :]\n",
    "y_val_list = [np.expand_dims(y_val[i:i+5, :], axis=0) for i in range(n_timesteps, n_val_samples- 5 + 1)]\n",
    "y_val = np.concatenate(y_val_list, axis=0)\n",
    "X_val = X_val[:-1, :, :]\n",
    "y_val = y_val[1:, :, :]\n",
    "print(X_train.shape, y_train.shape, X_val.shape, y_val.shape)"
   ]
  },
  {
   "cell_type": "markdown",
   "metadata": {
    "colab_type": "text",
    "id": "LxjwcmocYb0A"
   },
   "source": [
    "Building models with dense layers and LSTM. The output is shown for dense layers. We have only implemented this project using LSTM whose layers are also shown below (commented). "
   ]
  },
  {
   "cell_type": "code",
   "execution_count": 47,
   "metadata": {
    "colab": {},
    "colab_type": "code",
    "id": "HjxLtBrysUxg"
   },
   "outputs": [],
   "source": [
    "\n",
    "def Autoencoder(n_timesteps, n_features):\n",
    "    i = Input(shape=(n_timesteps,))\n",
    "    \n",
    "    # x = LSTM(50, return_sequences=True)(i)\n",
    "    x = Dense(200, kernel_initializer='he_normal')(i)\n",
    "    x = Dropout(0.4)(x)\n",
    "    \n",
    "    # x = LSTM(50)(x)\n",
    "    x = Dense(200, kernel_initializer='he_normal')(x)\n",
    "    x = Dropout(0.4)(x)\n",
    "\n",
    "    # x = LSTM(50)(x)\n",
    "    # x = Dense(200, kernel_initializer='he_normal')(x)\n",
    "    # x = Dropout(0.4)(x)\n",
    "\n",
    "    # x = Dense(200, kernel_initializer='he_normal')(x)\n",
    "    # x = Dropout(0.4)(x)\n",
    "\n",
    "    x = Dense(5, kernel_initializer='he_normal')(x)\n",
    "    x = Activation('linear')(x)\n",
    "\n",
    "    model = Model(inputs=i, outputs=x)\n",
    "    opt = Adam(lr=0.01)\n",
    "    model.compile(loss='mean_absolute_error', optimizer=opt)\n",
    "    \n",
    "    return model"
   ]
  },
  {
   "cell_type": "code",
   "execution_count": 48,
   "metadata": {
    "colab": {
     "base_uri": "https://localhost:8080/",
     "height": 399
    },
    "colab_type": "code",
    "id": "C9Zs146jsUxk",
    "outputId": "9e2f3c65-7a01-459b-84d0-6ba75c9431b4"
   },
   "outputs": [
    {
     "name": "stdout",
     "output_type": "stream",
     "text": [
      "Model: \"functional_3\"\n",
      "_________________________________________________________________\n",
      "Layer (type)                 Output Shape              Param #   \n",
      "=================================================================\n",
      "input_2 (InputLayer)         [(None, 144)]             0         \n",
      "_________________________________________________________________\n",
      "dense_3 (Dense)              (None, 200)               29000     \n",
      "_________________________________________________________________\n",
      "dropout_2 (Dropout)          (None, 200)               0         \n",
      "_________________________________________________________________\n",
      "dense_4 (Dense)              (None, 200)               40200     \n",
      "_________________________________________________________________\n",
      "dropout_3 (Dropout)          (None, 200)               0         \n",
      "_________________________________________________________________\n",
      "dense_5 (Dense)              (None, 5)                 1005      \n",
      "_________________________________________________________________\n",
      "activation_1 (Activation)    (None, 5)                 0         \n",
      "=================================================================\n",
      "Total params: 70,205\n",
      "Trainable params: 70,205\n",
      "Non-trainable params: 0\n",
      "_________________________________________________________________\n"
     ]
    }
   ],
   "source": [
    "model = Autoencoder(n_timesteps, 5)\n",
    "model.summary()"
   ]
  },
  {
   "cell_type": "code",
   "execution_count": 49,
   "metadata": {
    "colab": {
     "base_uri": "https://localhost:8080/",
     "height": 1000
    },
    "colab_type": "code",
    "id": "jN057xexsUxo",
    "outputId": "5d56b8a2-ef4f-4e89-a397-720f5a49b5d8"
   },
   "outputs": [
    {
     "name": "stdout",
     "output_type": "stream",
     "text": [
      "Epoch 1/50\n",
      "111/111 [==============================] - 1s 5ms/step - loss: 77.4528 - val_loss: 13.5267\n",
      "Epoch 2/50\n",
      "111/111 [==============================] - 0s 4ms/step - loss: 20.1028 - val_loss: 14.8261\n",
      "Epoch 3/50\n",
      "111/111 [==============================] - 0s 4ms/step - loss: 19.2316 - val_loss: 15.3102\n",
      "Epoch 4/50\n",
      "111/111 [==============================] - 0s 4ms/step - loss: 19.3382 - val_loss: 22.0096\n",
      "Epoch 5/50\n",
      "111/111 [==============================] - 0s 4ms/step - loss: 19.0044 - val_loss: 11.4444\n",
      "Epoch 6/50\n",
      "111/111 [==============================] - 0s 4ms/step - loss: 19.3647 - val_loss: 11.9096\n",
      "Epoch 7/50\n",
      "111/111 [==============================] - 0s 4ms/step - loss: 20.9217 - val_loss: 15.9128\n",
      "Epoch 8/50\n",
      "111/111 [==============================] - 0s 4ms/step - loss: 20.8974 - val_loss: 26.1692\n",
      "Epoch 9/50\n",
      "111/111 [==============================] - 0s 4ms/step - loss: 20.8245 - val_loss: 13.4350\n",
      "Epoch 10/50\n",
      "111/111 [==============================] - 0s 4ms/step - loss: 20.7538 - val_loss: 14.0170\n",
      "Epoch 11/50\n",
      "111/111 [==============================] - 0s 4ms/step - loss: 22.9363 - val_loss: 11.3528\n",
      "Epoch 12/50\n",
      "111/111 [==============================] - 0s 4ms/step - loss: 19.8103 - val_loss: 11.9249\n",
      "Epoch 13/50\n",
      "111/111 [==============================] - 0s 4ms/step - loss: 18.4202 - val_loss: 11.9750\n",
      "Epoch 14/50\n",
      "111/111 [==============================] - 0s 4ms/step - loss: 21.6103 - val_loss: 23.9416\n",
      "Epoch 15/50\n",
      "111/111 [==============================] - 0s 4ms/step - loss: 22.0181 - val_loss: 11.6408\n",
      "Epoch 16/50\n",
      "111/111 [==============================] - 0s 4ms/step - loss: 21.6171 - val_loss: 11.8420\n",
      "Epoch 17/50\n",
      "111/111 [==============================] - 0s 4ms/step - loss: 20.2437 - val_loss: 11.8039\n",
      "Epoch 18/50\n",
      "111/111 [==============================] - 0s 4ms/step - loss: 19.0284 - val_loss: 14.4798\n",
      "Epoch 19/50\n",
      "111/111 [==============================] - 0s 4ms/step - loss: 21.1981 - val_loss: 19.1717\n",
      "Epoch 20/50\n",
      "111/111 [==============================] - 0s 4ms/step - loss: 110.1102 - val_loss: 335.9460\n",
      "Epoch 21/50\n",
      "111/111 [==============================] - 0s 4ms/step - loss: 359.6730 - val_loss: 12.2553\n",
      "Epoch 22/50\n",
      "111/111 [==============================] - 0s 4ms/step - loss: 16.0721 - val_loss: 12.0831\n",
      "Epoch 23/50\n",
      "111/111 [==============================] - 0s 4ms/step - loss: 15.8731 - val_loss: 11.9357\n",
      "Epoch 24/50\n",
      "111/111 [==============================] - 0s 4ms/step - loss: 15.3949 - val_loss: 11.2157\n",
      "Epoch 25/50\n",
      "111/111 [==============================] - 0s 4ms/step - loss: 15.4381 - val_loss: 11.5620\n",
      "Epoch 26/50\n",
      "111/111 [==============================] - 0s 4ms/step - loss: 15.5171 - val_loss: 11.2067\n",
      "Epoch 27/50\n",
      "111/111 [==============================] - 0s 4ms/step - loss: 15.7791 - val_loss: 11.2957\n",
      "Epoch 28/50\n",
      "111/111 [==============================] - 0s 4ms/step - loss: 15.5072 - val_loss: 12.9041\n",
      "Epoch 29/50\n",
      "111/111 [==============================] - 0s 4ms/step - loss: 15.5561 - val_loss: 13.0442\n",
      "Epoch 30/50\n",
      "111/111 [==============================] - 0s 4ms/step - loss: 16.1998 - val_loss: 11.3438\n",
      "Epoch 31/50\n",
      "111/111 [==============================] - 0s 4ms/step - loss: 16.5832 - val_loss: 12.4333\n",
      "Epoch 32/50\n",
      "111/111 [==============================] - 0s 4ms/step - loss: 15.9619 - val_loss: 11.2758\n",
      "Epoch 33/50\n",
      "111/111 [==============================] - 0s 4ms/step - loss: 15.8340 - val_loss: 11.2370\n",
      "Epoch 34/50\n",
      "111/111 [==============================] - 0s 4ms/step - loss: 16.3630 - val_loss: 11.2602\n",
      "Epoch 35/50\n",
      "111/111 [==============================] - 0s 4ms/step - loss: 16.4825 - val_loss: 11.3253\n",
      "Epoch 36/50\n",
      "111/111 [==============================] - 0s 4ms/step - loss: 16.0882 - val_loss: 11.2749\n",
      "Epoch 37/50\n",
      "111/111 [==============================] - 0s 4ms/step - loss: 16.2786 - val_loss: 11.5914\n",
      "Epoch 38/50\n",
      "111/111 [==============================] - 0s 4ms/step - loss: 16.8729 - val_loss: 20.3714\n",
      "Epoch 39/50\n",
      "111/111 [==============================] - 0s 4ms/step - loss: 19.9912 - val_loss: 15.3098\n",
      "Epoch 40/50\n",
      "111/111 [==============================] - 0s 4ms/step - loss: 17.4190 - val_loss: 13.9459\n",
      "Epoch 41/50\n",
      "111/111 [==============================] - 0s 4ms/step - loss: 17.4856 - val_loss: 13.7895\n",
      "Epoch 42/50\n",
      "111/111 [==============================] - 0s 4ms/step - loss: 18.7678 - val_loss: 12.8255\n",
      "Epoch 43/50\n",
      "111/111 [==============================] - 0s 4ms/step - loss: 17.4307 - val_loss: 13.6427\n",
      "Epoch 44/50\n",
      "111/111 [==============================] - 0s 4ms/step - loss: 17.2708 - val_loss: 12.4260\n",
      "Epoch 45/50\n",
      "111/111 [==============================] - 0s 4ms/step - loss: 18.3863 - val_loss: 16.1942\n",
      "Epoch 46/50\n",
      "111/111 [==============================] - 0s 4ms/step - loss: 17.7845 - val_loss: 11.8260\n",
      "Epoch 47/50\n",
      "111/111 [==============================] - 0s 4ms/step - loss: 18.3589 - val_loss: 12.2556\n",
      "Epoch 48/50\n",
      "111/111 [==============================] - 0s 4ms/step - loss: 17.1370 - val_loss: 22.6148\n",
      "Epoch 49/50\n",
      "111/111 [==============================] - 0s 4ms/step - loss: 28.2050 - val_loss: 13.7137\n",
      "Epoch 50/50\n",
      "111/111 [==============================] - 0s 4ms/step - loss: 21.0220 - val_loss: 16.6579\n"
     ]
    }
   ],
   "source": [
    "# model = Autoencoder(n_timesteps, 5)\n",
    "# model.summary()\n",
    "history = model.fit(x=X_train.squeeze(), y=y_train.squeeze(), batch_size=batch_size, epochs=epochs, verbose=1,\n",
    "                    callbacks=None, validation_data=(X_val, y_val), shuffle=False)"
   ]
  },
  {
   "cell_type": "code",
   "execution_count": 50,
   "metadata": {
    "colab": {},
    "colab_type": "code",
    "id": "wA_qhq81sUxr"
   },
   "outputs": [],
   "source": [
    "y_train_pred = model.predict(X_train)"
   ]
  },
  {
   "cell_type": "code",
   "execution_count": 51,
   "metadata": {
    "colab": {
     "base_uri": "https://localhost:8080/",
     "height": 35
    },
    "colab_type": "code",
    "id": "QxIFcDAeXAo-",
    "outputId": "a1008f67-1302-4a5d-bee5-e8257023c32f"
   },
   "outputs": [
    {
     "data": {
      "text/plain": [
       "(14098, 5)"
      ]
     },
     "execution_count": 51,
     "metadata": {
      "tags": []
     },
     "output_type": "execute_result"
    }
   ],
   "source": [
    "y_train_pred.shape"
   ]
  },
  {
   "cell_type": "code",
   "execution_count": 54,
   "metadata": {
    "colab": {},
    "colab_type": "code",
    "id": "IdY_e3VHsUxv"
   },
   "outputs": [],
   "source": [
    "from sklearn.metrics import mean_absolute_error\n",
    "# y_train = y_train.reshape(y_train.shape[0], y_train.shape[1])\n",
    "errors = [mean_absolute_error(y_train[i, :], y_train_pred[i, :]) for i in range(y_train_pred.shape[0])]\n"
   ]
  },
  {
   "cell_type": "code",
   "execution_count": 55,
   "metadata": {
    "colab": {
     "base_uri": "https://localhost:8080/",
     "height": 299
    },
    "colab_type": "code",
    "id": "XdBiBRfNsUxy",
    "outputId": "00f53d18-dab6-4c2a-88ea-4d94e4b9487a",
    "scrolled": true
   },
   "outputs": [
    {
     "data": {
      "text/plain": [
       "Text(0.5, 1.0, 'Distribution of Errors')"
      ]
     },
     "execution_count": 55,
     "metadata": {
      "tags": []
     },
     "output_type": "execute_result"
    },
    {
     "data": {
      "image/png": "[encoded data removed]",
      "text/plain": [
       "<Figure size 432x288 with 1 Axes>"
      ]
     },
     "metadata": {
      "needs_background": "light",
      "tags": []
     },
     "output_type": "display_data"
    }
   ],
   "source": [
    "import seaborn as sb\n",
    "sb.kdeplot(errors, shade=True)\n",
    "plt.title(\"Distribution of Errors\")"
   ]
  },
  {
   "cell_type": "markdown",
   "metadata": {
    "colab_type": "text",
    "id": "kYZ8ewnPbO-S"
   },
   "source": [
    "Since we have the list of errors, we plot to them to see how they are distributed."
   ]
  },
  {
   "cell_type": "markdown",
   "metadata": {
    "colab_type": "text",
    "id": "cJYfaqHCbMvn"
   },
   "source": [
    "If the errors for each value of the data set were normally distributed, we can consider all values away that are beyond 1 standard deviation from the mean as anomaly. Hence, we are now fitting this data to a normal distribution."
   ]
  },
  {
   "cell_type": "code",
   "execution_count": 56,
   "metadata": {
    "colab": {
     "base_uri": "https://localhost:8080/",
     "height": 35
    },
    "colab_type": "code",
    "id": "A6qaFTygsUx3",
    "outputId": "12b89d67-59e0-4688-8f6e-6298e4e12bd8"
   },
   "outputs": [
    {
     "data": {
      "text/plain": [
       "(20.312500732715186, 17.590936989901834)"
      ]
     },
     "execution_count": 56,
     "metadata": {
      "tags": []
     },
     "output_type": "execute_result"
    }
   ],
   "source": [
    "from scipy.stats import norm\n",
    "params = norm.fit(errors)\n",
    "dist = norm(loc=params[0], scale=params[1])\n",
    "\n",
    "dist.mean(), dist.std()"
   ]
  },
  {
   "cell_type": "markdown",
   "metadata": {
    "colab_type": "text",
    "id": "o-eI0kcksUx6"
   },
   "source": [
    "We get the mean and standard deviation here. We can consider all the values that lie around 1 standard deviation away from the mean. Any value beyond this can be considered an anomaly. We can consider different ranges of error beyond which a value can be anomaly. We have chosen a range of 1 standard deviation from the mean to consider a value normal."
   ]
  },
  {
   "cell_type": "code",
   "execution_count": 57,
   "metadata": {
    "colab": {},
    "colab_type": "code",
    "id": "3b3ccnWKsUx_"
   },
   "outputs": [],
   "source": [
    "def is_anomaly(error, mean, std, threshold):\n",
    "    difference = np.abs(error - mean)\n",
    "    value = difference / std\n",
    "    if value < threshold:\n",
    "        return 0\n",
    "    else:\n",
    "        return 1"
   ]
  },
  {
   "cell_type": "code",
   "execution_count": 58,
   "metadata": {
    "colab": {
     "base_uri": "https://localhost:8080/",
     "height": 55
    },
    "colab_type": "code",
    "id": "OSmSdsZysUyD",
    "outputId": "1ff069fc-7f95-44cd-aa66-09f98dd3f0d5"
   },
   "outputs": [
    {
     "name": "stdout",
     "output_type": "stream",
     "text": [
      "[0, 0, 0, 0, 0, 0, 0, 0, 0, 0, 0, 0, 0, 0, 0, 0, 0, 0, 0, 0, 0, 0, 0, 0, 0, 0, 0, 0, 0, 0, 0, 0, 0, 0, 0, 0, 0, 0, 0, 1, 1, 0, 0, 0, 0, 0, 0, 0, 0, 0, 0, 0, 0, 0, 0, 0, 0, 0, 0, 0, 0, 0, 0, 0, 0, 0, 0, 0, 0, 0, 0, 0, 0, 0, 0, 0, 0, 0, 0, 0, 0, 0, 0, 0, 0, 0, 0, 0, 0, 0, 0, 0, 0, 0, 0, 0, 0, 0, 0, 0, 0, 0, 0, 0, 0, 0, 0, 0, 0, 0, 0, 0, 0, 0, 0, 0, 0, 0, 0, 0, 0, 0, 0, 0, 0, 0, 0, 0, 0, 0, 0, 1, 0, 0, 0, 0, 0, 0, 0, 0, 0, 0, 0, 0, 0, 0, 0, 0, 0, 0, 0, 0, 0, 0, 0, 0, 0, 0, 0, 0, 0, 0, 0, 0, 0, 0, 0, 0, 0, 0, 0, 0, 0, 0, 0, 0, 0, 0, 0, 0, 0, 0, 0, 0, 0, 0, 0, 0, 0, 0, 0, 0, 0, 0, 0, 0, 0, 0, 0, 0, 0, 0, 0, 0, 0, 0, 0, 0, 0, 0, 0, 0, 0, 0, 0, 0, 0, 0, 0, 0, 0, 0, 0, 0, 0, 0, 0, 0, 0, 0, 0, 0, 0, 0, 0, 0, 0, 0, 0, 0, 0, 0, 0, 0, 0, 0, 0, 0, 0, 0, 0, 0, 0, 0, 0, 0, 0, 0, 0, 0, 0, 0, 0, 0, 0, 0, 0, 0, 0, 0, 0, 0, 0, 0, 0, 0, 0, 0, 0, 0, 0, 0, 0, 0, 0, 0, 0, 0, 0, 0, 0, 0, 0, 0, 0, 0, 0, 0, 0, 0, 0, 0, 0, 0, 0, 0, 0, 0, 0, 0, 0, 0, 0, 0, 0, 0, 0, 0, 0, 0, 0, 0, 0, 0, 0, 0, 0, 0, 0, 0, 0, 0, 0, 0, 0, 0, 0, 0, 0, 0, 0, 0, 0, 0, 0, 0, 0, 0, 0, 0, 0, 0, 0, 0, 0, 0, 0, 0, 0, 0, 0, 0, 0, 0, 0, 0, 0, 0, 0, 0, 0, 0, 0, 0, 0, 0, 0, 0, 0, 0, 0, 0, 0, 0, 0, 0, 0, 0, 0, 0, 0, 0, 1, 0, 0, 0, 0, 0, 0, 0, 0, 0, 0, 0, 0, 0, 0, 0, 0, 0, 0, 0, 0, 0, 0, 0, 0, 0, 0, 0, 0, 0, 0, 0, 0, 0, 0, 0, 0, 1, 1, 0, 0, 0, 0, 0, 0, 0, 0, 0, 0, 0, 0, 0, 0, 1, 0, 0, 0, 0, 0, 0, 0, 0, 0, 0, 0, 0, 0, 0, 0, 0, 0, 0, 0, 0, 0, 0, 0, 0, 0, 0, 0, 0, 0, 0, 0, 0, 0, 0, 0, 0, 0, 0, 0, 0, 0, 0, 0, 0, 0, 0, 0, 0, 0, 0, 0, 0, 0, 0, 0, 0, 0, 0, 0, 0, 0, 0, 0, 0, 0, 0, 0, 1, 1, 1, 1, 1, 1, 1, 1, 0, 0, 0, 0, 0, 0, 0, 0, 0, 0, 0, 0, 0, 0, 0, 0, 0, 0, 0, 0, 0, 0, 0, 0, 0, 0, 0, 0, 0, 0, 0, 0, 0, 0, 0, 0, 0, 0, 0, 0, 0, 0, 0, 0, 0, 0, 0, 0, 0, 0, 0, 0, 0, 0, 0, 0, 0, 0, 0, 0, 1, 1, 1, 1, 1, 1, 0, 0, 0, 0, 0, 0, 0, 0, 0, 0, 0, 0, 0, 0, 0, 0, 0, 0, 0, 0, 0, 0, 0, 0, 0, 0, 0, 0, 0, 0, 0, 0, 0, 0, 0, 0, 0, 0, 0, 0, 0, 0, 0, 0, 0, 0, 0, 0, 0, 0, 0, 0, 0, 0, 0, 0, 0, 0, 0, 0, 0, 0, 0, 0, 0, 0, 0, 0, 0, 0, 0, 0, 0, 0, 0, 0, 0, 0, 0, 1, 0, 0, 0, 0, 0, 0, 0, 0, 0, 0, 0, 0, 0, 0, 0, 0, 0, 0, 0, 0, 0, 0, 0, 0, 0, 0, 0, 0, 0, 0, 0, 0, 0, 0, 0, 0, 0, 0, 0, 0, 0, 0, 0, 0, 0, 0, 0, 0, 0, 0, 0, 0, 0, 0, 0, 0, 0, 0, 0, 0, 0, 0, 0, 0, 0, 0, 0, 0, 0, 0, 0, 0, 0, 0, 0, 0, 0, 0, 0, 0, 0, 0, 0, 0, 0, 0, 0, 0, 0, 0, 0, 0, 0, 0, 0, 0, 0, 0, 0, 0, 0, 1, 1, 1, 1, 1, 0, 0, 0, 0, 0, 0, 0, 0, 0, 0, 0, 0, 0, 0, 0, 0, 0, 0, 0, 0, 0, 0, 0, 0, 0, 0, 0, 0, 0, 0, 0, 0, 0, 0, 0, 0, 0, 0, 1, 0, 0, 0, 0, 0, 0, 0, 0, 0, 0, 0, 0, 0, 0, 0, 0, 0, 0, 1, 1, 1, 0, 0, 0, 0, 0, 0, 0, 0, 0, 0, 0, 0, 0, 0, 0, 0, 0, 0, 0, 0, 0, 0, 0, 0, 0, 0, 0, 0, 0, 0, 0, 0, 0, 0, 0, 0, 0, 0, 0, 0, 0, 0, 0, 0, 0, 0, 0, 0, 0, 0, 0, 0, 0, 0, 0, 0, 0, 0, 0, 0, 0, 0, 0, 0, 0, 0, 0, 0, 0, 0, 0, 0, 0, 0, 0, 0, 0, 0, 0, 0, 0, 0, 0, 0, 0, 0, 0, 0, 0, 0, 0, 0, 0, 0, 0, 0, 0, 0, 0, 0, 0, 0, 0, 0, 0, 0, 0, 0, 0, 0, 0, 0, 0, 0, 0, 0, 0, 0, 0, 0, 0, 0, 0, 0, 0, 0, 0, 0, 0, 0, 0, 0, 0, 0, 0, 0, 0, 0, 0, 0, 0, 0, 0, 0, 0, 0, 0, 0, 0, 0, 0, 0, 0, 0, 0, 0, 0, 0, 0, 0, 0, 0, 0, 0, 0, 0, 0, 0, 0, 0, 0, 0, 0, 0, 0, 0, 0, 0, 0, 0, 0, 0, 0, 0, 0, 0, 0, 0, 0, 0, 0, 0, 0, 0, 0, 0, 0, 0, 0, 0, 0, 0, 0, 0, 0, 0, 0, 0, 0, 0, 0, 0, 0, 0, 0, 0, 0, 1, 1, 1, 1, 0, 0, 0, 0, 0, 0, 0, 0, 0, 0, 0, 0, 0, 0, 0, 0, 0, 0, 0, 0, 0, 0, 0, 0, 0, 0, 0, 0, 0, 0, 0, 0, 0, 0, 0, 0, 0, 0, 1, 1, 1, 1, 1, 1, 1, 1, 1, 1, 1, 0, 0, 0, 0, 0, 0, 0, 0, 0, 0, 0, 0, 0, 0, 0, 0, 0, 0, 0, 0, 0, 0, 1, 0, 1, 1, 1, 0, 0, 0, 0, 0, 0, 0, 0, 0, 0, 0, 0, 0, 0, 0, 0, 0, 0, 0, 0, 0, 0, 0, 0, 0, 0, 0, 0, 0, 0, 0, 0, 0, 0, 0, 0, 0, 0, 0, 0, 0, 0, 0, 0, 0, 0, 0, 0, 0, 0, 1, 1, 1, 1, 1, 1, 0, 0, 0, 0, 0, 0, 0, 0, 0, 0, 0, 0, 0, 0, 0, 0, 0, 0, 0, 0, 0, 0, 0, 0, 0, 0, 0, 0, 0, 0, 0, 0, 0, 0, 0, 0, 0, 0, 0, 0, 0, 0, 0, 0, 0, 0, 0, 0, 0, 0, 0, 0, 0, 0, 0, 0, 0, 0, 0, 0, 0, 0, 0, 0, 0, 0, 0, 0, 0, 0, 0, 0, 0, 0, 0, 0, 0, 0, 0, 0, 0, 0, 0, 0, 0, 0, 0, 0, 0, 0, 0, 0, 0, 0, 0, 0, 0, 0, 0, 0, 0, 0, 0, 0, 0, 0, 0, 0, 0, 0, 0, 0, 0, 0, 0, 0, 0, 0, 0, 0, 0, 0, 0, 0, 0, 0, 0, 0, 0, 0, 0, 0, 0, 0, 0, 0, 0, 0, 0, 0, 0, 0, 0, 0, 0, 0, 0, 0, 0, 0, 0, 0, 0, 0, 0, 0, 0, 0, 0, 0, 0, 0, 0, 0, 0, 0, 0, 0, 0, 0, 0, 0, 0, 0, 0, 0, 0, 0, 0, 0, 0, 0, 0, 0, 0, 0, 0, 0, 0, 1, 0, 0, 0, 0, 0, 0, 0, 0, 0, 0, 0, 0, 0, 0, 0, 0, 0, 0, 0, 0, 0, 0, 0, 0, 0, 0, 0, 0, 0, 0, 1, 1, 1, 1, 1, 0, 0, 0, 0, 0, 0, 0, 0, 0, 0, 0, 0, 0, 0, 0, 0, 0, 0, 0, 0, 0, 0, 0]\n"
     ]
    }
   ],
   "source": [
    "y_val_pred = model.predict(X_val[:, :, :])\n",
    "val_errors = [mean_absolute_error(y_val[i, :], y_val_pred[i, :]) for i in range(y_val_pred.shape[0])]\n",
    "results = [is_anomaly(x, dist.mean(), dist.std(), 1) for x in val_errors]\n",
    "print(results)\n"
   ]
  },
  {
   "cell_type": "code",
   "execution_count": 59,
   "metadata": {
    "colab": {
     "base_uri": "https://localhost:8080/",
     "height": 55
    },
    "colab_type": "code",
    "id": "TJGSqQBswlDS",
    "outputId": "7dee4211-ae79-4164-e2ff-7bcb033f1d50"
   },
   "outputs": [
    {
     "name": "stdout",
     "output_type": "stream",
     "text": [
      "[0, 0, 0, 0, 0, 0, 0, 0, 0, 0, 0, 0, 0, 0, 0, 0, 0, 0, 0, 0, 0, 0, 0, 0, 0, 0, 0, 0, 0, 0, 0, 0, 0, 0, 0, 0, 0, 0, 0, 1, 1, 0, 0, 0, 0, 0, 0, 0, 0, 0, 0, 0, 0, 0, 0, 0, 0, 0, 0, 0, 0, 0, 0, 0, 0, 0, 0, 0, 0, 0, 0, 0, 0, 0, 0, 0, 0, 0, 0, 0, 0, 0, 0, 0, 0, 0, 0, 0, 0, 0, 0, 0, 0, 0, 0, 0, 0, 0, 0, 0, 0, 0, 0, 0, 0, 0, 0, 0, 0, 0, 0, 0, 0, 0, 0, 0, 0, 0, 0, 0, 0, 0, 0, 0, 0, 0, 0, 0, 0, 0, 0, 1, 0, 0, 0, 0, 0, 0, 0, 0, 0, 0, 0, 0, 0, 0, 0, 0, 0, 0, 0, 0, 0, 0, 0, 0, 0, 0, 0, 0, 0, 0, 0, 0, 0, 0, 0, 0, 0, 0, 0, 0, 0, 0, 0, 0, 0, 0, 0, 0, 0, 0, 0, 0, 0, 0, 0, 0, 0, 0, 0, 0, 0, 0, 0, 0, 0, 0, 0, 0, 0, 0, 0, 0, 0, 0, 0, 0, 0, 0, 0, 0, 0, 0, 0, 0, 0, 0, 0, 0, 0, 0, 0, 0, 0, 0, 0, 0, 0, 0, 0, 0, 0, 0, 0, 0, 0, 0, 0, 0, 0, 0, 0, 0, 0, 0, 0, 0, 0, 0, 0, 0, 0, 0, 0, 0, 0, 0, 0, 0, 0, 0, 0, 0, 0, 0, 0, 0, 0, 0, 0, 0, 0, 0, 0, 0, 0, 0, 0, 0, 0, 0, 0, 0, 0, 0, 0, 0, 0, 0, 0, 0, 0, 0, 0, 0, 0, 0, 0, 0, 0, 0, 0, 0, 0, 0, 0, 0, 0, 0, 0, 0, 0, 0, 0, 0, 0, 0, 0, 0, 0, 0, 0, 0, 0, 0, 0, 0, 0, 0, 0, 0, 0, 0, 0, 0, 0, 0, 0, 0, 0, 0, 0, 0, 0, 0, 0, 0, 0, 0, 0, 0, 0, 0, 0, 0, 0, 0, 0, 0, 0, 0, 0, 0, 0, 0, 0, 0, 0, 0, 0, 0, 0, 0, 0, 0, 0, 0, 0, 0, 0, 0, 0, 0, 0, 0, 0, 0, 0, 0, 0, 0, 1, 0, 0, 0, 0, 0, 0, 0, 0, 0, 0, 0, 0, 0, 0, 0, 0, 0, 0, 0, 0, 0, 0, 0, 0, 0, 0, 0, 0, 0, 0, 0, 0, 0, 0, 0, 0, 1, 1, 0, 0, 0, 0, 0, 0, 0, 0, 0, 0, 0, 0, 0, 0, 1, 0, 0, 0, 0, 0, 0, 0, 0, 0, 0, 0, 0, 0, 0, 0, 0, 0, 0, 0, 0, 0, 0, 0, 0, 0, 0, 0, 0, 0, 0, 0, 0, 0, 0, 0, 0, 0, 0, 0, 0, 0, 0, 0, 0, 0, 0, 0, 0, 0, 0, 0, 0, 0, 0, 0, 0, 0, 0, 0, 0, 0, 0, 0, 0, 0, 0, 0, 1, 1, 1, 1, 1, 1, 1, 1, 0, 0, 0, 0, 0, 0, 0, 0, 0, 0, 0, 0, 0, 0, 0, 0, 0, 0, 0, 0, 0, 0, 0, 0, 0, 0, 0, 0, 0, 0, 0, 0, 0, 0, 0, 0, 0, 0, 0, 0, 0, 0, 0, 0, 0, 0, 0, 0, 0, 0, 0, 0, 0, 0, 0, 0, 0, 0, 0, 0, 1, 1, 1, 1, 1, 1, 0, 0, 0, 0, 0, 0, 0, 0, 0, 0, 0, 0, 0, 0, 0, 0, 0, 0, 0, 0, 0, 0, 0, 0, 0, 0, 0, 0, 0, 0, 0, 0, 0, 0, 0, 0, 0, 0, 0, 0, 0, 0, 0, 0, 0, 0, 0, 0, 0, 0, 0, 0, 0, 0, 0, 0, 0, 0, 0, 0, 0, 0, 0, 0, 0, 0, 0, 0, 0, 0, 0, 0, 0, 0, 0, 0, 0, 0, 0, 1, 0, 0, 0, 0, 0, 0, 0, 0, 0, 0, 0, 0, 0, 0, 0, 0, 0, 0, 0, 0, 0, 0, 0, 0, 0, 0, 0, 0, 0, 0, 0, 0, 0, 0, 0, 0, 0, 0, 0, 0, 0, 0, 0, 0, 0, 0, 0, 0, 0, 0, 0, 0, 0, 0, 0, 0, 0, 0, 0, 0, 0, 0, 0, 0, 0, 0, 0, 0, 0, 0, 0, 0, 0, 0, 0, 0, 0, 0, 0, 0, 0, 0, 0, 0, 0, 0, 0, 0, 0, 0, 0, 0, 0, 0, 0, 0, 0, 0, 0, 0, 0, 1, 1, 1, 1, 1, 0, 0, 0, 0, 0, 0, 0, 0, 0, 0, 0, 0, 0, 0, 0, 0, 0, 0, 0, 0, 0, 0, 0, 0, 0, 0, 0, 0, 0, 0, 0, 0, 0, 0, 0, 0, 0, 0, 1, 0, 0, 0, 0, 0, 0, 0, 0, 0, 0, 0, 0, 0, 0, 0, 0, 0, 0, 1, 1, 1, 0, 0, 0, 0, 0, 0, 0, 0, 0, 0, 0, 0, 0, 0, 0, 0, 0, 0, 0, 0, 0, 0, 0, 0, 0, 0, 0, 0, 0, 0, 0, 0, 0, 0, 0, 0, 0, 0, 0, 0, 0, 0, 0, 0, 0, 0, 0, 0, 0, 0, 0, 0, 0, 0, 0, 0, 0, 0, 0, 0, 0, 0, 0, 0, 0, 0, 0, 0, 0, 0, 0, 0, 0, 0, 0, 0, 0, 0, 0, 0, 0, 0, 0, 0, 0, 0, 0, 0, 0, 0, 0, 0, 0, 0, 0, 0, 0, 0, 0, 0, 0, 0, 0, 0, 0, 0, 0, 0, 0, 0, 0, 0, 0, 0, 0, 0, 0, 0, 0, 0, 0, 0, 0, 0, 0, 0, 0, 0, 0, 0, 0, 0, 0, 0, 0, 0, 0, 0, 0, 0, 0, 0, 0, 0, 0, 0, 0, 0, 0, 0, 0, 0, 0, 0, 0, 0, 0, 0, 0, 0, 0, 0, 0, 0, 0, 0, 0, 0, 0, 0, 0, 0, 0, 0, 0, 0, 0, 0, 0, 0, 0, 0, 0, 0, 0, 0, 0, 0, 0, 0, 0, 0, 0, 0, 0, 0, 0, 0, 0, 0, 0, 0, 0, 0, 0, 0, 0, 0, 0, 0, 0, 0, 0, 0, 0, 0, 0, 1, 1, 1, 1, 0, 0, 0, 0, 0, 0, 0, 0, 0, 0, 0, 0, 0, 0, 0, 0, 0, 0, 0, 0, 0, 0, 0, 0, 0, 0, 0, 0, 0, 0, 0, 0, 0, 0, 0, 0, 0, 0, 1, 1, 1, 1, 1, 1, 1, 1, 1, 1, 1, 0, 0, 0, 0, 0, 0, 0, 0, 0, 0, 0, 0, 0, 0, 0, 0, 0, 0, 0, 0, 0, 0, 1, 0, 1, 1, 1, 0, 0, 0, 0, 0, 0, 0, 0, 0, 0, 0, 0, 0, 0, 0, 0, 0, 0, 0, 0, 0, 0, 0, 0, 0, 0, 0, 0, 0, 0, 0, 0, 0, 0, 0, 0, 0, 0, 0, 0, 0, 0, 0, 0, 0, 0, 0, 0, 0, 0, 1, 1, 1, 1, 1, 1, 0, 0, 0, 0, 0, 0, 0, 0, 0, 0, 0, 0, 0, 0, 0, 0, 0, 0, 0, 0, 0, 0, 0, 0, 0, 0, 0, 0, 0, 0, 0, 0, 0, 0, 0, 0, 0, 0, 0, 0, 0, 0, 0, 0, 0, 0, 0, 0, 0, 0, 0, 0, 0, 0, 0, 0, 0, 0, 0, 0, 0, 0, 0, 0, 0, 0, 0, 0, 0, 0, 0, 0, 0, 0, 0, 0, 0, 0, 0, 0, 0, 0, 0, 0, 0, 0, 0, 0, 0, 0, 0, 0, 0, 0, 0, 0, 0, 0, 0, 0, 0, 0, 0, 0, 0, 0, 0, 0, 0, 0, 0, 0, 0, 0, 0, 0, 0, 0, 0, 0, 0, 0, 0, 0, 0, 0, 0, 0, 0, 0, 0, 0, 0, 0, 0, 0, 0, 0, 0, 0, 0, 0, 0, 0, 0, 0, 0, 0, 0, 0, 0, 0, 0, 0, 0, 0, 0, 0, 0, 0, 0, 0, 0, 0, 0, 0, 0, 0, 0, 0, 0, 0, 0, 0, 0, 0, 0, 0, 0, 0, 0, 0, 0, 0, 0, 0, 0, 0, 0, 1, 0, 0, 0, 0, 0, 0, 0, 0, 0, 0, 0, 0, 0, 0, 0, 0, 0, 0, 0, 0, 0, 0, 0, 0, 0, 0, 0, 0, 0, 0, 1, 1, 1, 1, 1, 0, 0, 0, 0, 0, 0, 0, 0, 0, 0, 0, 0, 0, 0, 0, 0, 0, 0, 0, 0, 0, 0, 0]\n"
     ]
    }
   ],
   "source": [
    "# MSE\n",
    "from sklearn.metrics import mean_squared_error\n",
    "y_val_pred = model.predict(X_val[:, :, :])\n",
    "# y_val = y_val.reshape(y_val.shape[0], y_val.shape[2])\n",
    "mse = [mean_squared_error(y_val[i, :], y_val_pred[i, :]) for i in range(y_val_pred.shape[0])]\n",
    "results_mse = [is_anomaly(x, mean(mse), stdev(mse), 1) for x in mse]\n",
    "print(results_mse)"
   ]
  },
  {
   "cell_type": "code",
   "execution_count": 60,
   "metadata": {
    "colab": {
     "base_uri": "https://localhost:8080/",
     "height": 55
    },
    "colab_type": "code",
    "collapsed": true,
    "id": "gNPVQD5lxs3e",
    "outputId": "fb8900f7-22b6-4368-b0e9-302655e0508f"
   },
   "outputs": [
    {
     "name": "stdout",
     "output_type": "stream",
     "text": [
      "[0, 0, 0, 0, 0, 0, 0, 0, 0, 0, 0, 0, 0, 0, 0, 0, 0, 0, 0, 0, 0, 0, 0, 0, 0, 0, 0, 0, 0, 0, 0, 0, 0, 0, 0, 0, 0, 0, 0, 1, 1, 0, 0, 0, 0, 0, 0, 0, 0, 0, 0, 0, 0, 0, 0, 0, 0, 0, 0, 0, 0, 0, 0, 0, 0, 0, 0, 0, 0, 0, 0, 0, 0, 0, 0, 0, 0, 0, 0, 0, 0, 0, 0, 0, 0, 0, 0, 0, 0, 0, 0, 0, 0, 0, 0, 0, 0, 0, 0, 0, 0, 0, 0, 0, 0, 0, 0, 0, 0, 0, 0, 0, 0, 0, 0, 0, 0, 0, 0, 0, 0, 0, 0, 0, 0, 0, 0, 0, 0, 0, 0, 1, 0, 0, 0, 0, 0, 0, 0, 0, 0, 0, 0, 0, 0, 0, 0, 0, 0, 0, 0, 0, 0, 0, 0, 0, 0, 0, 0, 0, 0, 0, 0, 0, 0, 0, 0, 0, 0, 0, 0, 0, 0, 0, 0, 0, 0, 0, 0, 0, 0, 0, 0, 0, 0, 0, 0, 0, 0, 0, 0, 0, 0, 0, 0, 0, 0, 0, 0, 0, 0, 0, 0, 0, 0, 0, 0, 0, 0, 0, 0, 0, 0, 0, 0, 0, 0, 0, 0, 0, 0, 0, 0, 0, 0, 0, 0, 0, 0, 0, 0, 0, 0, 0, 0, 0, 0, 0, 0, 0, 0, 0, 0, 0, 0, 0, 0, 0, 0, 0, 0, 0, 0, 0, 0, 0, 0, 0, 0, 0, 0, 0, 0, 0, 0, 0, 0, 0, 0, 0, 0, 0, 0, 0, 0, 0, 0, 0, 0, 0, 0, 0, 0, 0, 0, 0, 0, 0, 0, 0, 0, 0, 0, 0, 0, 0, 0, 0, 0, 0, 0, 0, 0, 0, 0, 0, 0, 0, 0, 0, 0, 0, 0, 0, 0, 0, 0, 0, 0, 0, 0, 0, 0, 0, 0, 0, 0, 0, 0, 0, 0, 0, 0, 0, 0, 0, 0, 0, 0, 0, 0, 0, 0, 0, 0, 0, 0, 0, 0, 0, 0, 0, 0, 0, 0, 0, 0, 0, 0, 0, 0, 0, 0, 0, 0, 0, 0, 0, 0, 0, 0, 0, 0, 0, 0, 0, 0, 0, 0, 0, 0, 0, 0, 0, 0, 0, 0, 0, 0, 0, 0, 0, 1, 0, 0, 0, 0, 0, 0, 0, 0, 0, 0, 0, 0, 0, 0, 0, 0, 0, 0, 0, 0, 0, 0, 0, 0, 0, 0, 0, 0, 0, 0, 0, 0, 0, 0, 0, 0, 1, 1, 0, 0, 0, 0, 0, 0, 0, 0, 0, 0, 0, 0, 0, 0, 1, 0, 0, 0, 0, 0, 0, 0, 0, 0, 0, 0, 0, 0, 0, 0, 0, 0, 0, 0, 0, 0, 0, 0, 0, 0, 0, 0, 0, 0, 0, 0, 0, 0, 0, 0, 0, 0, 0, 0, 0, 0, 0, 0, 0, 0, 0, 0, 0, 0, 0, 0, 0, 0, 0, 0, 0, 0, 0, 0, 0, 0, 0, 0, 0, 0, 0, 0, 1, 1, 1, 1, 1, 1, 1, 1, 0, 0, 0, 0, 0, 0, 0, 0, 0, 0, 0, 0, 0, 0, 0, 0, 0, 0, 0, 0, 0, 0, 0, 0, 0, 0, 0, 0, 0, 0, 0, 0, 0, 0, 0, 0, 0, 0, 0, 0, 0, 0, 0, 0, 0, 0, 0, 0, 0, 0, 0, 0, 0, 0, 0, 0, 0, 0, 0, 0, 1, 1, 1, 1, 1, 1, 0, 0, 0, 0, 0, 0, 0, 0, 0, 0, 0, 0, 0, 0, 0, 0, 0, 0, 0, 0, 0, 0, 0, 0, 0, 0, 0, 0, 0, 0, 0, 0, 0, 0, 0, 0, 0, 0, 0, 0, 0, 0, 0, 0, 0, 0, 0, 0, 0, 0, 0, 0, 0, 0, 0, 0, 0, 0, 0, 0, 0, 0, 0, 0, 0, 0, 0, 0, 0, 0, 0, 0, 0, 0, 0, 0, 0, 0, 0, 1, 0, 0, 0, 0, 0, 0, 0, 0, 0, 0, 0, 0, 0, 0, 0, 0, 0, 0, 0, 0, 0, 0, 0, 0, 0, 0, 0, 0, 0, 0, 0, 0, 0, 0, 0, 0, 0, 0, 0, 0, 0, 0, 0, 0, 0, 0, 0, 0, 0, 0, 0, 0, 0, 0, 0, 0, 0, 0, 0, 0, 0, 0, 0, 0, 0, 0, 0, 0, 0, 0, 0, 0, 0, 0, 0, 0, 0, 0, 0, 0, 0, 0, 0, 0, 0, 0, 0, 0, 0, 0, 0, 0, 0, 0, 0, 0, 0, 0, 0, 0, 0, 1, 1, 1, 1, 1, 0, 0, 0, 0, 0, 0, 0, 0, 0, 0, 0, 0, 0, 0, 0, 0, 0, 0, 0, 0, 0, 0, 0, 0, 0, 0, 0, 0, 0, 0, 0, 0, 0, 0, 0, 0, 0, 0, 1, 0, 0, 0, 0, 0, 0, 0, 0, 0, 0, 0, 0, 0, 0, 0, 0, 0, 0, 1, 1, 1, 0, 0, 0, 0, 0, 0, 0, 0, 0, 0, 0, 0, 0, 0, 0, 0, 0, 0, 0, 0, 0, 0, 0, 0, 0, 0, 0, 0, 0, 0, 0, 0, 0, 0, 0, 0, 0, 0, 0, 0, 0, 0, 0, 0, 0, 0, 0, 0, 0, 0, 0, 0, 0, 0, 0, 0, 0, 0, 0, 0, 0, 0, 0, 0, 0, 0, 0, 0, 0, 0, 0, 0, 0, 0, 0, 0, 0, 0, 0, 0, 0, 0, 0, 0, 0, 0, 0, 0, 0, 0, 0, 0, 0, 0, 0, 0, 0, 0, 0, 0, 0, 0, 0, 0, 0, 0, 0, 0, 0, 0, 0, 0, 0, 0, 0, 0, 0, 0, 0, 0, 0, 0, 0, 0, 0, 0, 0, 0, 0, 0, 0, 0, 0, 0, 0, 0, 0, 0, 0, 0, 0, 0, 0, 0, 0, 0, 0, 0, 0, 0, 0, 0, 0, 0, 0, 0, 0, 0, 0, 0, 0, 0, 0, 0, 0, 0, 0, 0, 0, 0, 0, 0, 0, 0, 0, 0, 0, 0, 0, 0, 0, 0, 0, 0, 0, 0, 0, 0, 0, 0, 0, 0, 0, 0, 0, 0, 0, 0, 0, 0, 0, 0, 0, 0, 0, 0, 0, 0, 0, 0, 0, 0, 0, 0, 0, 0, 0, 1, 1, 1, 1, 0, 0, 0, 0, 0, 0, 0, 0, 0, 0, 0, 0, 0, 0, 0, 0, 0, 0, 0, 0, 0, 0, 0, 0, 0, 0, 0, 0, 0, 0, 0, 0, 0, 0, 0, 0, 0, 0, 1, 1, 1, 1, 1, 1, 1, 1, 1, 1, 1, 0, 0, 0, 0, 0, 0, 0, 0, 0, 0, 0, 0, 0, 0, 0, 0, 0, 0, 0, 0, 0, 0, 1, 0, 1, 1, 1, 0, 0, 0, 0, 0, 0, 0, 0, 0, 0, 0, 0, 0, 0, 0, 0, 0, 0, 0, 0, 0, 0, 0, 0, 0, 0, 0, 0, 0, 0, 0, 0, 0, 0, 0, 0, 0, 0, 0, 0, 0, 0, 0, 0, 0, 0, 0, 0, 0, 0, 1, 1, 1, 1, 1, 1, 0, 0, 0, 0, 0, 0, 0, 0, 0, 0, 0, 0, 0, 0, 0, 0, 0, 0, 0, 0, 0, 0, 0, 0, 0, 0, 0, 0, 0, 0, 0, 0, 0, 0, 0, 0, 0, 0, 0, 0, 0, 0, 0, 0, 0, 0, 0, 0, 0, 0, 0, 0, 0, 0, 0, 0, 0, 0, 0, 0, 0, 0, 0, 0, 0, 0, 0, 0, 0, 0, 0, 0, 0, 0, 0, 0, 0, 0, 0, 0, 0, 0, 0, 0, 0, 0, 0, 0, 0, 0, 0, 0, 0, 0, 0, 0, 0, 0, 0, 0, 0, 0, 0, 0, 0, 0, 0, 0, 0, 0, 0, 0, 0, 0, 0, 0, 0, 0, 0, 0, 0, 0, 0, 0, 0, 0, 0, 0, 0, 0, 0, 0, 0, 0, 0, 0, 0, 0, 0, 0, 0, 0, 0, 0, 0, 0, 0, 0, 0, 0, 0, 0, 0, 0, 0, 0, 0, 0, 0, 0, 0, 0, 0, 0, 0, 0, 0, 0, 0, 0, 0, 0, 0, 0, 0, 0, 0, 0, 0, 0, 0, 0, 0, 0, 0, 0, 0, 0, 0, 1, 0, 0, 0, 0, 0, 0, 0, 0, 0, 0, 0, 0, 0, 0, 0, 0, 0, 0, 0, 0, 0, 0, 0, 0, 0, 0, 0, 0, 0, 0, 1, 1, 1, 1, 1, 0, 0, 0, 0, 0, 0, 0, 0, 0, 0, 0, 0, 0, 0, 0, 0, 0, 0, 0, 0, 0, 0, 0]\n"
     ]
    }
   ],
   "source": [
    "# R2 Score\n",
    "from sklearn.metrics import r2_score\n",
    "y_val_pred = model.predict(X_val[:, :, :])\n",
    "# y_val = y_val.reshape(y_val.shape[0], y_val.shape[2])\n",
    "r2 = [r2_score(y_val[i, :], y_val_pred[i, :]) for i in range(y_val_pred.shape[0])]\n",
    "results_r2 = [is_anomaly(x, mean(r2), stdev(r2), 1) for x in r2]\n",
    "print(results_r2)"
   ]
  },
  {
   "cell_type": "code",
   "execution_count": 60,
   "metadata": {
    "colab": {},
    "colab_type": "code",
    "id": "CWziMlpfr3WN"
   },
   "outputs": [],
   "source": []
  },
  {
   "cell_type": "code",
   "execution_count": 61,
   "metadata": {
    "colab": {
     "base_uri": "https://localhost:8080/",
     "height": 55
    },
    "colab_type": "code",
    "collapsed": true,
    "id": "Aq6CxQ7jsUyG",
    "outputId": "9db886fe-d157-4468-a36c-cbafb95d8715"
   },
   "outputs": [
    {
     "name": "stdout",
     "output_type": "stream",
     "text": [
      "[0.6199, 0.6266, 0.6498, 0.6853, 0.7496, 0.762, 0.7089, 0.7657, 0.7073, 0.7407, 0.6638, 0.621, 0.5944, 0.5902, 0.5547, 0.5301, 0.5499, 0.5475, 0.6481, 0.6916, 0.7052, 0.6229, 0.6192, 0.6229, 0.5453, 0.6526, 0.6688, 0.6471, 0.5285, 0.6251, 0.6523, 0.7495, 0.7802, 0.7437, 0.7222, 0.7143, 0.7832, 0.8005, 0.8281, 0.8426, 0.8612, 0.8086, 0.7225, 0.6942, 0.5373, 0.5899, 0.7062, 0.6934, 0.6773, 0.6874, 0.6736, 0.5786, 0.6264, 0.6717, 0.683, 0.629, 0.563, 0.5404, 0.5218, 0.568, 0.6201, 0.6303, 0.6546, 0.7417, 0.6377, 0.5923, 0.5226, 0.5097, 0.5163, 0.5343, 0.5145, 0.592, 0.5639, 0.5943, 0.6664, 0.7101, 0.7052, 0.7361, 0.8164, 0.8262, 0.789, 0.8003, 0.8331, 0.761, 0.8108, 0.8263, 0.7741, 0.7415, 0.7263, 0.7716, 0.8041, 0.791, 0.7765, 0.7955, 0.7538, 0.7425, 0.7544, 0.7539, 0.7506, 0.792, 0.8135, 0.8135, 0.7651, 0.8245, 0.8223, 0.8011, 0.7753, 0.7528, 0.7227, 0.7107, 0.6622, 0.6992, 0.6952, 0.7618, 0.8114, 0.7895, 0.8227, 0.7926, 0.8244, 0.744, 0.7431, 0.6918, 0.7433, 0.6693, 0.6547, 0.6517, 0.6222, 0.7145, 0.7357, 0.8135, 0.8247, 0.8566, 0.8046, 0.8328, 0.8113, 0.8132, 0.7717, 0.7893, 0.7407, 0.7186, 0.6417, 0.6501, 0.619, 0.5114, 0.5096, 0.5141, 0.5289, 0.5563, 0.5308, 0.6359, 0.7453, 0.7194, 0.7436, 0.7415, 0.767, 0.7677, 0.7832, 0.7891, 0.8087, 0.8132, 0.8162, 0.8322, 0.7574, 0.798, 0.7806, 0.817, 0.7327, 0.7479, 0.7525, 0.764, 0.7751, 0.8185, 0.8183, 0.8004, 0.7987, 0.7077, 0.67, 0.6161, 0.6084, 0.5051, 0.5203, 0.566, 0.6537, 0.5991, 0.7094, 0.7499, 0.7731, 0.7473, 0.7977, 0.7356, 0.7272, 0.7033, 0.6296, 0.5364, 0.5536, 0.6765, 0.6295, 0.5147, 0.5068, 0.6117, 0.7163, 0.755, 0.7087, 0.7361, 0.7296, 0.7219, 0.7237, 0.7313, 0.651, 0.6489, 0.5209, 0.5132, 0.5285, 0.5867, 0.6244, 0.5659, 0.6085, 0.6824, 0.7274, 0.8094, 0.7286, 0.6966, 0.7174, 0.7194, 0.6785, 0.7601, 0.8051, 0.8129, 0.8029, 0.8267, 0.7449, 0.7295, 0.6592, 0.6294, 0.5087, 0.5574, 0.5318, 0.6537, 0.7354, 0.7623, 0.7403, 0.762, 0.6716, 0.679, 0.6965, 0.719, 0.6432, 0.7048, 0.6452, 0.6065, 0.5373, 0.506, 0.5391, 0.5842, 0.7813, 0.7148, 0.6323, 0.5565, 0.5133, 0.7257, 0.699, 0.6875, 0.7022, 0.636, 0.6357, 0.6806, 0.7132, 0.7539, 0.7969, 0.7988, 0.82, 0.8395, 0.791, 0.7549, 0.6702, 0.6049, 0.5223, 0.5028, 0.5538, 0.6492, 0.7526, 0.7647, 0.7318, 0.7275, 0.7065, 0.6862, 0.6403, 0.7362, 0.7167, 0.7594, 0.6645, 0.6971, 0.617, 0.6581, 0.5849, 0.6862, 0.6663, 0.741, 0.7643, 0.6851, 0.5585, 0.5282, 0.5115, 0.5281, 0.5148, 0.5962, 0.6143, 0.5765, 0.7156, 0.6184, 0.5156, 0.6175, 0.6765, 0.7493, 0.6644, 0.6827, 0.6972, 0.7303, 0.7738, 0.7541, 0.8352, 0.8219, 0.8152, 0.8211, 0.7719, 0.7288, 0.7095, 0.7063, 0.6727, 0.7017, 0.6645, 0.7236, 0.7782, 0.7372, 0.7045, 0.7471, 0.7616, 0.7157, 0.7529, 0.6342, 0.6056, 0.617, 0.7017, 0.6088, 0.6388, 0.6068, 0.6026, 0.6306, 0.6563, 0.6992, 0.71, 0.7504, 0.7069, 0.5236, 0.5626, 0.5761, 0.6193, 0.6065, 0.792, 0.7281, 0.6476, 0.6504, 0.6122, 0.5571, 0.6644, 0.7828, 0.805, 0.7671, 0.7944, 0.7625, 0.7679, 0.8161, 0.7892, 0.7819, 0.7194, 0.6369, 0.6702, 0.7051, 0.6888, 0.7092, 0.6999, 0.6708, 0.7009, 0.6386, 0.6332, 0.708, 0.7327, 0.812, 0.8245, 0.8053, 0.8175, 0.8181, 0.8501, 0.8256, 0.7878, 0.7049, 0.7794, 0.7611, 0.7642, 0.7717, 0.7857, 0.822, 0.812, 0.7912, 0.7746, 0.7959, 0.8018, 0.8233, 0.8404, 0.8307, 0.82, 0.7751, 0.7089, 0.7448, 0.7082, 0.7526, 0.7575, 0.7691, 0.7498, 0.7008, 0.749, 0.7404, 0.7432, 0.7204, 0.7792, 0.811, 0.8012, 0.8188, 0.8164, 0.8441, 0.8544, 0.8371, 0.7706, 0.6647, 0.5649, 0.5187, 0.544, 0.5275, 0.6498, 0.6525, 0.7698, 0.7712, 0.7945, 0.7719, 0.8107, 0.8551, 0.818, 0.8089, 0.801, 0.7726, 0.7115, 0.6103, 0.6424, 0.6335, 0.6847, 0.7294, 0.8129, 0.8046, 0.8243, 0.7906, 0.7226, 0.7343, 0.7566, 0.6819, 0.5703, 0.6277, 0.6053, 0.534, 0.5664, 0.5729, 0.6469, 0.6581, 0.679, 0.5919, 0.5009, 0.5901, 0.7354, 0.7558, 0.7507, 0.7545, 0.7553, 0.7065, 0.7476, 0.6726, 0.7165, 0.7532, 0.7003, 0.6573, 0.7352, 0.7803, 0.7698, 0.8027, 0.8296, 0.7737, 0.7998, 0.6359, 0.5818, 0.5177, 0.5677, 0.5973, 0.5565, 0.5281, 0.5718, 0.6579, 0.6461, 0.6127, 0.5952, 0.6269, 0.6357, 0.7152, 0.6586, 0.5603, 0.776, 0.8729, 0.9011, 0.8908, 0.8896, 0.8897, 0.9203, 0.9136, 0.894, 0.7638, 0.5318, 0.7578, 0.6658, 0.6481, 0.6728, 0.738, 0.7278, 0.7548, 0.7709, 0.7838, 0.7498, 0.7788, 0.7027, 0.6703, 0.5137, 0.5521, 0.5866, 0.5745, 0.5953, 0.5092, 0.5725, 0.6013, 0.691, 0.7833, 0.8161, 0.786, 0.6271, 0.5369, 0.5323, 0.5743, 0.6642, 0.5418, 0.5548, 0.6144, 0.6829, 0.7476, 0.776, 0.7945, 0.8095, 0.7468, 0.6664, 0.7037, 0.5821, 0.5761, 0.5265, 0.6316, 0.5726, 0.5034, 0.554, 0.559, 0.6563, 0.6999, 0.7213, 0.7227, 0.6611, 0.7042, 0.6669, 0.5204, 0.7692, 0.9093, 0.9863, 0.9922, 0.9961, 0.9906, 0.9493, 0.6893, 0.5048, 0.6598, 0.7702, 0.767, 0.7857, 0.7154, 0.7304, 0.608, 0.5485, 0.5082, 0.6015, 0.581, 0.7029, 0.7267, 0.773, 0.6379, 0.6306, 0.5418, 0.5903, 0.6036, 0.7073, 0.7024, 0.6979, 0.6365, 0.5325, 0.5117, 0.5713, 0.5212, 0.6595, 0.741, 0.7348, 0.8214, 0.8302, 0.7594, 0.6634, 0.6729, 0.6633, 0.6763, 0.6594, 0.741, 0.7938, 0.789, 0.7626, 0.6265, 0.5537, 0.5283, 0.5107, 0.6379, 0.537, 0.5459, 0.5983, 0.5926, 0.5914, 0.5993, 0.7048, 0.6913, 0.7957, 0.7572, 0.7772, 0.7954, 0.8014, 0.7972, 0.691, 0.6028, 0.5328, 0.5477, 0.547, 0.5227, 0.6282, 0.763, 0.756, 0.7182, 0.69, 0.581, 0.6151, 0.6135, 0.6617, 0.7337, 0.8553, 0.7938, 0.7689, 0.7651, 0.7555, 0.7552, 0.71, 0.5376, 0.5681, 0.5178, 0.5129, 0.6194, 0.7283, 0.7021, 0.7337, 0.7179, 0.6711, 0.7163, 0.764, 0.773, 0.7311, 0.7443, 0.7412, 0.7322, 0.8095, 0.8363, 0.7963, 0.7767, 0.7884, 0.7573, 0.656, 0.6397, 0.6578, 0.6823, 0.628, 0.6919, 0.6944, 0.7614, 0.7283, 0.7952, 0.7588, 0.7928, 0.7888, 0.8193, 0.8254, 0.818, 0.8141, 0.8289, 0.8154, 0.7782, 0.7552, 0.7822, 0.7754, 0.7153, 0.6662, 0.6185, 0.6385, 0.6046, 0.6689, 0.703, 0.7864, 0.7586, 0.741, 0.7019, 0.7484, 0.7844, 0.7535, 0.7412, 0.7496, 0.7057, 0.6758, 0.701, 0.6825, 0.7224, 0.7204, 0.7351, 0.733, 0.7802, 0.7676, 0.7614, 0.642, 0.5396, 0.5324, 0.5838, 0.5945, 0.5121, 0.5022, 0.558, 0.6359, 0.6659, 0.6941, 0.7178, 0.7094, 0.6796, 0.6782, 0.5362, 0.5731, 0.5079, 0.5027, 0.591, 0.6265, 0.754, 0.8607, 0.9327, 0.9191, 0.9198, 0.8806, 0.7421, 0.5989, 0.5052, 0.5031, 0.5371, 0.5502, 0.5126, 0.5077, 0.6213, 0.5809, 0.6489, 0.6365, 0.6083, 0.5425, 0.5229, 0.5213, 0.6315, 0.5979, 0.5202, 0.5767, 0.66, 0.6365, 0.6638, 0.593, 0.658, 0.6059, 0.56, 0.5911, 0.6131, 0.601, 0.5366, 0.5478, 0.5109, 0.5048, 0.5873, 0.7452, 0.8213, 0.8409, 0.8693, 0.7883, 0.7525, 0.6144, 0.5171, 0.5306, 0.5031, 0.5635, 0.6507, 0.5739, 0.5989, 0.7028, 0.7618, 0.8355, 0.7151, 0.7869, 0.7057, 0.8016, 0.8156, 0.8801, 0.8639, 0.843, 0.6586, 0.5703, 0.5251, 0.587, 0.5198, 0.5286, 0.5644, 0.6854, 0.7615, 0.7635, 0.7369, 0.6996, 0.7324, 0.7194, 0.7052, 0.6821, 0.603, 0.5539, 0.5038, 0.6947, 0.654, 0.5665, 0.6085, 0.5858, 0.7002, 0.6853, 0.7797, 0.7945, 0.7913, 0.547, 0.5703, 0.6946, 0.7316, 0.6838, 0.6524, 0.632, 0.6313, 0.5107, 0.6318, 0.7184, 0.7126, 0.6924, 0.6158, 0.5396, 0.5538, 0.6232, 0.5706, 0.5944, 0.6195, 0.5544, 0.5501, 0.579, 0.5017, 0.5529, 0.5264, 0.6559, 0.5827, 0.5428, 0.5396, 0.5182, 0.5748, 0.5459, 0.5397, 0.5863, 0.5621, 0.6527, 0.6105, 0.616, 0.5892, 0.5102, 0.501, 0.5625, 0.5964, 0.5467, 0.5554, 0.5221, 0.6248, 0.776, 0.7554, 0.7899, 0.6885, 0.6243, 0.5634, 0.5375, 0.5936, 0.6246, 0.7039, 0.7195, 0.7644, 0.7316, 0.7334, 0.666, 0.6701, 0.5338, 0.5026, 0.589, 0.6359, 0.6292, 0.7062, 0.7145, 0.7001, 0.7238, 0.678, 0.7517, 0.7317, 0.6294, 0.5368, 0.5056, 0.5219, 0.5754, 0.5093, 0.595, 0.5839, 0.594, 0.568, 0.7325, 0.7492, 0.748, 0.7067, 0.7275, 0.7466, 0.7854, 0.7811, 0.6765, 0.5827, 0.5894, 0.6375, 0.5491, 0.5407, 0.5684, 0.6789, 0.6991, 0.765, 0.8089, 0.8316, 0.8, 0.7938, 0.7445, 0.7365, 0.7026, 0.6939, 0.7501, 0.7648, 0.717, 0.7474, 0.7836, 0.7537, 0.721, 0.726, 0.7791, 0.7854, 0.8155, 0.822, 0.7881, 0.7484, 0.6813, 0.6918, 0.5991, 0.5923, 0.6032, 0.7098, 0.7234, 0.7478, 0.7473, 0.701, 0.7328, 0.7623, 0.7949, 0.7328, 0.7807, 0.7431, 0.7513, 0.7125, 0.6617, 0.6499, 0.6873, 0.5922, 0.5145, 0.5432, 0.5375, 0.6, 0.704, 0.7246, 0.7497, 0.7143, 0.7133, 0.6024, 0.7409, 0.6141, 0.6487, 0.5864, 0.5223, 0.5269, 0.5422, 0.5238, 0.564, 0.6353, 0.5938, 0.7477, 0.5894, 0.5648, 0.546, 0.5472, 0.5058, 0.6001, 0.6097, 0.6387, 0.5467, 0.5941, 0.6039, 0.5669, 0.5287, 0.5737, 0.5873, 0.5139, 0.6242, 0.8127, 0.8732, 0.8904, 0.9129, 0.8585, 0.7146, 0.5676, 0.5304, 0.674, 0.7186, 0.7931, 0.7784, 0.7609, 0.6833, 0.6023, 0.5161, 0.5374, 0.6601, 0.6113, 0.6438, 0.5146, 0.5437, 0.5145, 0.5843, 0.5373, 0.5777, 0.6093, 0.6301, 0.6755, 0.5224, 0.5702, 0.5627, 0.6063, 0.5517, 0.6034, 0.6186, 0.6488, 0.6521, 0.5381, 0.5467, 0.6096, 0.7837, 0.7818, 0.9984, 1.0, 1.0, 1.0, 1.0, 0.9999, 0.9992, 0.9792, 0.9809, 0.8929, 0.8876, 0.6986, 0.7478, 0.5267, 0.6433, 0.6344, 0.7313, 0.8196, 0.7846, 0.7603, 0.7553, 0.6523, 0.5063, 0.5044, 0.6779, 0.6838, 0.7158, 0.7697, 0.6356, 0.6797, 0.6448, 0.6645, 0.7854, 0.8834, 0.8395, 0.8869, 0.8991, 0.8461, 0.6885, 0.6369, 0.6299, 0.5288, 0.5021, 0.5315, 0.6005, 0.5212, 0.5042, 0.5592, 0.6185, 0.6012, 0.6249, 0.5597, 0.509, 0.6012, 0.511, 0.5176, 0.5924, 0.6514, 0.6431, 0.6657, 0.6359, 0.6364, 0.5846, 0.5321, 0.5173, 0.5687, 0.5977, 0.6113, 0.7153, 0.6923, 0.6561, 0.7037, 0.5748, 0.5759, 0.5517, 0.5194, 0.521, 0.5805, 0.5673, 0.5039, 0.5444, 0.5952, 0.6616, 0.5361, 0.6038, 0.6786, 0.7188, 0.8031, 0.9078, 0.9552, 0.9527, 0.9509, 0.9539, 0.8508, 0.6655, 0.5221, 0.5554, 0.6244, 0.5236, 0.5892, 0.5428, 0.6028, 0.5555, 0.6254, 0.5902, 0.5367, 0.576, 0.5692, 0.6515, 0.6357, 0.6018, 0.5054, 0.5687, 0.5894, 0.5546, 0.5071, 0.5069, 0.6224, 0.6801, 0.6115, 0.6275, 0.7341, 0.6116, 0.6332, 0.7685, 0.6392, 0.5549, 0.5222, 0.5161, 0.6537, 0.577, 0.6142, 0.5717, 0.5774, 0.5815, 0.6538, 0.6426, 0.7088, 0.7722, 0.7578, 0.7741, 0.8092, 0.7555, 0.7602, 0.786, 0.692, 0.7155, 0.8088, 0.7261, 0.8075, 0.7025, 0.6588, 0.6613, 0.751, 0.735, 0.5699, 0.5566, 0.5811, 0.5476, 0.5659, 0.696, 0.7709, 0.7534, 0.8351, 0.7929, 0.7626, 0.8115, 0.7886, 0.8097, 0.8049, 0.791, 0.7521, 0.7618, 0.7955, 0.7802, 0.7378, 0.7558, 0.7541, 0.7587, 0.7271, 0.6536, 0.6573, 0.6674, 0.6313, 0.5713, 0.5634, 0.6039, 0.6098, 0.6574, 0.7629, 0.7931, 0.8116, 0.828, 0.84, 0.8407, 0.7886, 0.712, 0.7283, 0.749, 0.7196, 0.7117, 0.6309, 0.5425, 0.5379, 0.6292, 0.6722, 0.6683, 0.625, 0.5339, 0.5877, 0.6452, 0.6817, 0.7511, 0.7007, 0.6651, 0.6271, 0.5745, 0.5731, 0.5881, 0.5854, 0.5822, 0.5816, 0.501, 0.504, 0.7131, 0.721, 0.7046, 0.7198, 0.688, 0.5336, 0.5453, 0.5132, 0.527, 0.644, 0.6816, 0.6341, 0.5655, 0.6238, 0.5387, 0.6373, 0.5781, 0.6593, 0.6893, 0.6012, 0.5193, 0.5227, 0.6137, 0.644, 0.5689, 0.5378, 0.6024, 0.7329, 0.6534, 0.6237, 0.5769, 0.512, 0.5755, 0.5459, 0.5714, 0.5537, 0.5959, 0.5673, 0.5445, 0.5888, 0.5305, 0.596, 0.7618, 0.6184, 0.6492, 0.5845, 0.7747, 0.6718, 0.8102, 0.7592, 0.7743, 0.6967, 0.6289, 0.5198, 0.5967, 0.5372, 0.5743, 0.7305, 0.8241, 0.8447, 0.8201, 0.7355, 0.5829, 0.5728, 0.5638, 0.6473, 0.5225, 0.5765, 0.5906, 0.6111, 0.5497, 0.5822, 0.732, 0.7045, 0.7378, 0.5653, 0.519, 0.6381, 0.6271, 0.6525, 0.5329, 0.5154, 0.5009, 0.5384, 0.5676, 0.5576, 0.5593, 0.5535, 0.7174, 0.7843, 0.913, 0.9607, 0.9446, 0.9438, 0.9146, 0.7681, 0.74, 0.6149, 0.5433, 0.5206, 0.5496, 0.5818, 0.5613, 0.6161, 0.6784, 0.7202, 0.7303, 0.7982, 0.8106, 0.7759, 0.5637, 0.5558, 0.6279, 0.6408, 0.716, 0.509, 0.5654, 0.6889]\n"
     ]
    }
   ],
   "source": [
    "def anomaly_score(error, dist):\n",
    "    delta = np.abs(error - dist.mean())\n",
    "    return dist.cdf(dist.mean() + delta)\n",
    "\n",
    "\n",
    "result = [np.round(anomaly_score(x, dist), 4) for x in val_errors]\n"
   ]
  },
  {
   "cell_type": "code",
   "execution_count": 62,
   "metadata": {
    "colab": {},
    "colab_type": "code",
    "id": "3gxaO-sVfMGN"
   },
   "outputs": [],
   "source": [
    "f = []\n",
    "for i in range(len(y_val)):\n",
    "  f.append(y_val[i][0])\n"
   ]
  },
  {
   "cell_type": "code",
   "execution_count": 63,
   "metadata": {
    "colab": {
     "base_uri": "https://localhost:8080/",
     "height": 283
    },
    "colab_type": "code",
    "id": "BTk0i65SXonQ",
    "outputId": "f5594518-ca49-4fba-eaba-8a046e573d82"
   },
   "outputs": [
    {
     "data": {
      "text/plain": [
       "<matplotlib.legend.Legend at 0x7fc314384be0>"
      ]
     },
     "execution_count": 63,
     "metadata": {
      "tags": []
     },
     "output_type": "execute_result"
    },
    {
     "data": {
      "image/png": "[encoded data removed]",
      "text/plain": [
       "<Figure size 432x288 with 1 Axes>"
      ]
     },
     "metadata": {
      "needs_background": "light",
      "tags": []
     },
     "output_type": "display_data"
    }
   ],
   "source": [
    "import matplotlib.pyplot as plt\n",
    "\n",
    "plt.plot(y_val[:,0], label=\"Original\")\n",
    "plt.plot(y_val_pred[:,0],color=\"r\", label=\"Predicted\")\n",
    "plt.legend()"
   ]
  },
  {
   "cell_type": "markdown",
   "metadata": {
    "colab_type": "text",
    "id": "DMVOY92VsUyG"
   },
   "source": [
    "We could also come up with a continuous scoring system using the cumulative density function."
   ]
  },
  {
   "cell_type": "markdown",
   "metadata": {
    "colab_type": "text",
    "id": "Mx8m_XJcsUyI"
   },
   "source": [
    "The higher the number, the more likely the sample is to be an anomaly."
   ]
  },
  {
   "cell_type": "code",
   "execution_count": 63,
   "metadata": {
    "colab": {},
    "colab_type": "code",
    "id": "m_a-9itLsUyJ"
   },
   "outputs": [],
   "source": [
    "\n"
   ]
  },
  {
   "cell_type": "code",
   "execution_count": 64,
   "metadata": {
    "colab": {
     "base_uri": "https://localhost:8080/",
     "height": 55
    },
    "colab_type": "code",
    "id": "IZ1ALpyFoct3",
    "outputId": "c9fc0f7d-f912-496a-ae4b-e4af0268fd57"
   },
   "outputs": [
    {
     "name": "stdout",
     "output_type": "stream",
     "text": [
      "[array([63]), array([77]), array([23]), array([18]), array([20]), array([21]), array([20]), array([32]), array([64]), array([109]), array([95]), array([71]), array([51]), array([58]), array([98]), array([47]), array([59]), array([76]), array([92]), array([99]), array([126]), array([26]), array([55]), array([73]), array([66]), array([69]), array([99]), array([97]), array([90]), array([90]), array([102]), array([58]), array([59]), array([86]), array([90]), array([67]), array([78]), array([94]), array([73]), array([257]), array([164]), array([118]), array([106]), array([159]), array([111]), array([110]), array([83]), array([88]), array([105]), array([109]), array([65]), array([60]), array([53]), array([89]), array([102]), array([97]), array([83]), array([56]), array([89]), array([85]), array([85]), array([115])]\n"
     ]
    }
   ],
   "source": [
    "# For MAE plot\n",
    "plot_x=[]\n",
    "plot_y=[]\n",
    "for i in range(len(results)): \n",
    "  if results[i] == 1:\n",
    "    plot_x.append(i)\n",
    "    plot_y.append(y_val[i][0])\n",
    "print(plot_y)"
   ]
  },
  {
   "cell_type": "code",
   "execution_count": 65,
   "metadata": {
    "colab": {
     "base_uri": "https://localhost:8080/",
     "height": 299
    },
    "colab_type": "code",
    "id": "7dEpG19ArEuo",
    "outputId": "d557a52c-aa69-4362-cedd-0a2386737504"
   },
   "outputs": [
    {
     "data": {
      "text/plain": [
       "Text(0.5, 1.0, 'MAE Error Metric')"
      ]
     },
     "execution_count": 65,
     "metadata": {
      "tags": []
     },
     "output_type": "execute_result"
    },
    {
     "data": {
      "image/png": "[encoded data removed]",
      "text/plain": [
       "<Figure size 432x288 with 1 Axes>"
      ]
     },
     "metadata": {
      "needs_background": "light",
      "tags": []
     },
     "output_type": "display_data"
    }
   ],
   "source": [
    "plt.plot(y_val[:,0].squeeze())\n",
    "plt.scatter(plot_x,plot_y, color=\"r\",s=20)\n",
    "plt.title(\"MAE Error Metric\")\n"
   ]
  },
  {
   "cell_type": "code",
   "execution_count": 66,
   "metadata": {
    "colab": {
     "base_uri": "https://localhost:8080/",
     "height": 55
    },
    "colab_type": "code",
    "id": "J1NKnNKXxAQQ",
    "outputId": "ff8d8e18-c5b7-4e16-95d1-cece67002860"
   },
   "outputs": [
    {
     "name": "stdout",
     "output_type": "stream",
     "text": [
      "[array([63]), array([77]), array([23]), array([18]), array([20]), array([21]), array([20]), array([32]), array([64]), array([109]), array([95]), array([71]), array([51]), array([58]), array([98]), array([47]), array([59]), array([76]), array([92]), array([99]), array([126]), array([26]), array([55]), array([73]), array([66]), array([69]), array([99]), array([97]), array([90]), array([90]), array([102]), array([58]), array([59]), array([86]), array([90]), array([67]), array([78]), array([94]), array([73]), array([257]), array([164]), array([118]), array([106]), array([159]), array([111]), array([110]), array([83]), array([88]), array([105]), array([109]), array([65]), array([60]), array([53]), array([89]), array([102]), array([97]), array([83]), array([56]), array([89]), array([85]), array([85]), array([115])]\n"
     ]
    }
   ],
   "source": [
    "# For MSE plot\n",
    "plot_x=[]\n",
    "plot_y=[]\n",
    "for i in range(len(results_mse)): \n",
    "  if results_mse[i] == 1:\n",
    "    plot_x.append(i)\n",
    "    plot_y.append(y_val[i][0])\n",
    "print(plot_y)"
   ]
  },
  {
   "cell_type": "code",
   "execution_count": 67,
   "metadata": {
    "colab": {
     "base_uri": "https://localhost:8080/",
     "height": 299
    },
    "colab_type": "code",
    "id": "Zn03ZrwGxPOO",
    "outputId": "b89fc0e2-dc7a-4724-d94a-5823e63b8f5c"
   },
   "outputs": [
    {
     "data": {
      "text/plain": [
       "Text(0.5, 1.0, 'MSE Error Metric')"
      ]
     },
     "execution_count": 67,
     "metadata": {
      "tags": []
     },
     "output_type": "execute_result"
    },
    {
     "data": {
      "image/png": "[encoded data removed]",
      "text/plain": [
       "<Figure size 432x288 with 1 Axes>"
      ]
     },
     "metadata": {
      "needs_background": "light",
      "tags": []
     },
     "output_type": "display_data"
    }
   ],
   "source": [
    "plt.plot(y_val[:,0].squeeze())\n",
    "plt.scatter(plot_x,plot_y, color=\"r\",s=20)\n",
    "plt.title(\"MSE Error Metric\")"
   ]
  },
  {
   "cell_type": "code",
   "execution_count": 67,
   "metadata": {
    "colab": {},
    "colab_type": "code",
    "id": "zE3DBx2BxTMh"
   },
   "outputs": [],
   "source": []
  },
  {
   "cell_type": "code",
   "execution_count": 68,
   "metadata": {
    "colab": {
     "base_uri": "https://localhost:8080/",
     "height": 336
    },
    "colab_type": "code",
    "id": "6pVYAh9Eykov",
    "outputId": "8e6e64da-1752-4e98-9b22-5a70920265c0"
   },
   "outputs": [
    {
     "name": "stdout",
     "output_type": "stream",
     "text": [
      "[array([63]), array([77]), array([23]), array([18]), array([20]), array([21]), array([20]), array([32]), array([64]), array([109]), array([95]), array([71]), array([51]), array([58]), array([98]), array([47]), array([59]), array([76]), array([92]), array([99]), array([126]), array([26]), array([55]), array([73]), array([66]), array([69]), array([99]), array([97]), array([90]), array([90]), array([102]), array([58]), array([59]), array([86]), array([90]), array([67]), array([78]), array([94]), array([73]), array([257]), array([164]), array([118]), array([106]), array([159]), array([111]), array([110]), array([83]), array([88]), array([105]), array([109]), array([65]), array([60]), array([53]), array([89]), array([102]), array([97]), array([83]), array([56]), array([89]), array([85]), array([85]), array([115])]\n"
     ]
    },
    {
     "data": {
      "text/plain": [
       "Text(0.5, 1.0, 'R2 Score Metric')"
      ]
     },
     "execution_count": 68,
     "metadata": {
      "tags": []
     },
     "output_type": "execute_result"
    },
    {
     "data": {
      "image/png": "[encoded data removed]",
      "text/plain": [
       "<Figure size 432x288 with 1 Axes>"
      ]
     },
     "metadata": {
      "needs_background": "light",
      "tags": []
     },
     "output_type": "display_data"
    }
   ],
   "source": [
    "# For R2 plot\n",
    "plot_x=[]\n",
    "plot_y=[]\n",
    "for i in range(len(results_r2)): \n",
    "  if results_r2[i] == 1:\n",
    "    plot_x.append(i)\n",
    "    plot_y.append(y_val[i][0])\n",
    "print(plot_y)\n",
    "\n",
    "plt.plot(y_val[:,0].squeeze())\n",
    "plt.scatter(plot_x,plot_y, color=\"r\", s=20)\n",
    "plt.title(\"R2 Score Metric\")"
   ]
  },
  {
   "cell_type": "code",
   "execution_count": 69,
   "metadata": {
    "colab": {
     "base_uri": "https://localhost:8080/",
     "height": 313
    },
    "colab_type": "code",
    "id": "TNJoiiX1sDti",
    "outputId": "1f085e1d-dcad-4208-ef4f-2eeaf13a4528"
   },
   "outputs": [
    {
     "data": {
      "text/plain": [
       "<matplotlib.legend.Legend at 0x7fc3142430f0>"
      ]
     },
     "execution_count": 69,
     "metadata": {
      "tags": []
     },
     "output_type": "execute_result"
    },
    {
     "data": {
      "image/png": "[encoded data removed]",
      "text/plain": [
       "<Figure size 432x288 with 1 Axes>"
      ]
     },
     "metadata": {
      "needs_background": "light",
      "tags": []
     },
     "output_type": "display_data"
    }
   ],
   "source": [
    "plt.figure()\n",
    "plt.plot(history.history['loss'])\n",
    "plt.plot(history.history['val_loss'])\n",
    "plt.title('Train vs Validation Loss over time')\n",
    "plt.ylabel('loss')\n",
    "plt.xlabel('epoch')\n",
    "plt.legend(['Train', 'Validation'], loc='best')"
   ]
  },
  {
   "cell_type": "code",
   "execution_count": null,
   "metadata": {
    "colab": {},
    "colab_type": "code",
    "id": "XNgevzfsSJ5W"
   },
   "outputs": [],
   "source": []
  }
 ],
 "metadata": {
  "colab": {
   "name": "Part1P4_144.ipynb",
   "provenance": []
  },
  "kernelspec": {
   "display_name": "Python 3",
   "language": "python",
   "name": "python3"
  },
  "language_info": {
   "codemirror_mode": {
    "name": "ipython",
    "version": 3
   },
   "file_extension": ".py",
   "mimetype": "text/x-python",
   "name": "python",
   "nbconvert_exporter": "python",
   "pygments_lexer": "ipython3",
   "version": "3.7.6"
  }
 },
 "nbformat": 4,
 "nbformat_minor": 1
}
