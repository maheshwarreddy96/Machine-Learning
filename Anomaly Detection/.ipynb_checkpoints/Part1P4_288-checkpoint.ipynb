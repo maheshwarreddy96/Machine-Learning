{
 "cells": [
  {
   "cell_type": "markdown",
   "metadata": {
    "colab_type": "text",
    "id": "vRc-kljksUw8"
   },
   "source": [
    "## Anomaly Detection"
   ]
  },
  {
   "cell_type": "code",
   "execution_count": 35,
   "metadata": {
    "colab": {},
    "colab_type": "code",
    "id": "pR-QIZlssUw_"
   },
   "outputs": [],
   "source": [
    "%matplotlib inline\n",
    "import datetime\n",
    "import matplotlib.pyplot as plt\n",
    "import numpy as np\n",
    "import pandas as pd\n",
    "from keras import backend as K\n",
    "from keras.models import Model\n",
    "from keras.layers import Activation, BatchNormalization\n",
    "from keras.layers import Dropout, Dense, Input, LSTM\n",
    "from keras.optimizers import Adam"
   ]
  },
  {
   "cell_type": "markdown",
   "metadata": {
    "colab_type": "text",
    "id": "e7KUzvUHXuXw"
   },
   "source": [
    "Reading data from https://github.com/numenta/NAB/tree/master/data. The data is about the number of tweets by Amazon every 5 minutes."
   ]
  },
  {
   "cell_type": "code",
   "execution_count": 36,
   "metadata": {
    "colab": {
     "base_uri": "https://localhost:8080/",
     "height": 35
    },
    "colab_type": "code",
    "id": "1DxdMORisUxF",
    "outputId": "60250ea5-df4c-4dec-ecd1-3c5712dc5852"
   },
   "outputs": [
    {
     "data": {
      "text/plain": [
       "(15831, 2)"
      ]
     },
     "execution_count": 36,
     "metadata": {
      "tags": []
     },
     "output_type": "execute_result"
    }
   ],
   "source": [
    "data = pd.read_csv('https://raw.githubusercontent.com/numenta/NAB/master/data/realTweets/Twitter_volume_AMZN.csv')\n",
    "data.shape"
   ]
  },
  {
   "cell_type": "code",
   "execution_count": 62,
   "metadata": {
    "colab": {
     "base_uri": "https://localhost:8080/",
     "height": 409
    },
    "colab_type": "code",
    "id": "VNsSOE2vsUxO",
    "outputId": "125a2e10-c7a9-441f-9395-90f8d9d8e591",
    "scrolled": false
   },
   "outputs": [
    {
     "data": {
      "text/plain": [
       "Text(0.5, 1.0, 'Plot the Original data')"
      ]
     },
     "execution_count": 62,
     "metadata": {
      "tags": []
     },
     "output_type": "execute_result"
    },
    {
     "data": {
      "image/png": "[encoded data removed]",
      "text/plain": [
       "<Figure size 432x288 with 1 Axes>"
      ]
     },
     "metadata": {
      "needs_background": "light",
      "tags": []
     },
     "output_type": "display_data"
    }
   ],
   "source": [
    "data.set_index('timestamp').plot()\n",
    "plt.xticks(rotation='vertical')\n",
    "plt.title(\"Plot the Original data\")"
   ]
  },
  {
   "cell_type": "markdown",
   "metadata": {
    "colab_type": "text",
    "id": "ZexyL1qLX_--"
   },
   "source": [
    "Splitting the data into test and validation. We attempt to predict the next 5 values based on the data from the previous day."
   ]
  },
  {
   "cell_type": "code",
   "execution_count": 38,
   "metadata": {
    "colab": {
     "base_uri": "https://localhost:8080/",
     "height": 35
    },
    "colab_type": "code",
    "id": "IdRmPStssUxR",
    "outputId": "f0ae1e4c-1ec6-47d2-d87b-8db82149b5db"
   },
   "outputs": [
    {
     "data": {
      "text/plain": [
       "((14247, 1), (14247, 1), (1583, 1), (1583, 1))"
      ]
     },
     "execution_count": 38,
     "metadata": {
      "tags": []
     },
     "output_type": "execute_result"
    }
   ],
   "source": [
    "from sklearn.model_selection import train_test_split\n",
    "\n",
    "X = data['value'].values.reshape((len(data), 1))\n",
    "y = data['value'].values.reshape((len(data), 1))\n",
    "\n",
    "X = X[:-1, :]\n",
    "y = y[1:, :]\n",
    "\n",
    "# X_train, X_val, y_train, y_val = train_test_split(X, y, test_size=0.1, random_state=42)\n",
    "X_train, X_val, y_train, y_val = X[:int(len(X)*0.9)], X[int(len(X)*0.9):], y[:int(len(y)*0.9)], y[int(len(y)*0.9):]\n",
    "\n",
    "X_train.shape, y_train.shape, X_val.shape, y_val.shape"
   ]
  },
  {
   "cell_type": "code",
   "execution_count": 39,
   "metadata": {
    "colab": {},
    "colab_type": "code",
    "id": "luzZ7AXJsUxZ"
   },
   "outputs": [],
   "source": [
    "n_timesteps = 144\n",
    "n_samples = X_train.shape[0]\n",
    "n_features = X_train.shape[1]\n",
    "n_val_samples = X_val.shape[0]\n",
    "k=-5\n",
    "batch_size=128\n",
    "epochs=50\n"
   ]
  },
  {
   "cell_type": "code",
   "execution_count": 40,
   "metadata": {
    "colab": {
     "base_uri": "https://localhost:8080/",
     "height": 35
    },
    "colab_type": "code",
    "id": "LeXAJx9CsUxd",
    "outputId": "9ba1aa7a-b698-46e7-89ef-eb3f1da50d63"
   },
   "outputs": [
    {
     "name": "stdout",
     "output_type": "stream",
     "text": [
      "(14098, 144, 1) (14098, 5, 1) (1434, 144, 1) (1434, 5, 1)\n"
     ]
    }
   ],
   "source": [
    "X_train_list = [np.expand_dims(X_train[i-n_timesteps:i, :], axis=0) for i in range(n_timesteps, n_samples+1)]\n",
    "X_train_list = X_train_list[:k]\n",
    "X_train = np.concatenate(X_train_list, axis=0)\n",
    "y_train_list = [np.expand_dims(y_train[i:i+5, :], axis=0) for i in range(n_timesteps, n_samples -5 + 1)]\n",
    "y_train = np.concatenate(y_train_list, axis=0)\n",
    "X_train = X_train[:-1, :, :]\n",
    "y_train = y_train[1:, :, :]\n",
    "# y_train = y_train[n_timesteps-1:, :]\n",
    "\n",
    "\n",
    "X_val_list = [np.expand_dims(X_val[i-n_timesteps:i, :], axis=0) for i in range(n_timesteps, n_val_samples + 1)]\n",
    "X_val_list = X_val_list[:k]\n",
    "X_val = np.concatenate(X_val_list, axis=0)\n",
    "# y_val = y_val[n_timesteps-1:, :]\n",
    "y_val_list = [np.expand_dims(y_val[i:i+5, :], axis=0) for i in range(n_timesteps, n_val_samples- 5 + 1)]\n",
    "y_val = np.concatenate(y_val_list, axis=0)\n",
    "X_val = X_val[:-1, :, :]\n",
    "y_val = y_val[1:, :, :]\n",
    "print(X_train.shape, y_train.shape, X_val.shape, y_val.shape)"
   ]
  },
  {
   "cell_type": "code",
   "execution_count": 41,
   "metadata": {
    "colab": {},
    "colab_type": "code",
    "id": "HjxLtBrysUxg"
   },
   "outputs": [],
   "source": [
    "\n",
    "def Autoencoder(n_timesteps, n_features):\n",
    "    i = Input(shape=(n_timesteps,))\n",
    "    \n",
    "    # x = LSTM(50, return_sequences=True)(i)\n",
    "    x = Dense(200, kernel_initializer='he_normal')(i)\n",
    "    x = Dropout(0.4)(x)\n",
    "    \n",
    "    # x = LSTM(50)(x)\n",
    "    x = Dense(200, kernel_initializer='he_normal')(x)\n",
    "    x = Dropout(0.4)(x)\n",
    "\n",
    "    # x = LSTM(50)(x)\n",
    "    # x = Dense(200, kernel_initializer='he_normal')(x)\n",
    "    # x = Dropout(0.4)(x)\n",
    "\n",
    "    # x = Dense(200, kernel_initializer='he_normal')(x)\n",
    "    # x = Dropout(0.4)(x)\n",
    "\n",
    "    x = Dense(5, kernel_initializer='he_normal')(x)\n",
    "    x = Activation('linear')(x)\n",
    "\n",
    "    model = Model(inputs=i, outputs=x)\n",
    "    opt = Adam(lr=0.01)\n",
    "    model.compile(loss='mean_absolute_error', optimizer=opt)\n",
    "    \n",
    "    return model"
   ]
  },
  {
   "cell_type": "code",
   "execution_count": 42,
   "metadata": {
    "colab": {
     "base_uri": "https://localhost:8080/",
     "height": 399
    },
    "colab_type": "code",
    "id": "C9Zs146jsUxk",
    "outputId": "02b38b01-bb32-4b7e-f02d-b790c5bb6d29"
   },
   "outputs": [
    {
     "name": "stdout",
     "output_type": "stream",
     "text": [
      "Model: \"functional_3\"\n",
      "_________________________________________________________________\n",
      "Layer (type)                 Output Shape              Param #   \n",
      "=================================================================\n",
      "input_2 (InputLayer)         [(None, 144)]             0         \n",
      "_________________________________________________________________\n",
      "dense_3 (Dense)              (None, 200)               29000     \n",
      "_________________________________________________________________\n",
      "dropout_2 (Dropout)          (None, 200)               0         \n",
      "_________________________________________________________________\n",
      "dense_4 (Dense)              (None, 200)               40200     \n",
      "_________________________________________________________________\n",
      "dropout_3 (Dropout)          (None, 200)               0         \n",
      "_________________________________________________________________\n",
      "dense_5 (Dense)              (None, 5)                 1005      \n",
      "_________________________________________________________________\n",
      "activation_1 (Activation)    (None, 5)                 0         \n",
      "=================================================================\n",
      "Total params: 70,205\n",
      "Trainable params: 70,205\n",
      "Non-trainable params: 0\n",
      "_________________________________________________________________\n"
     ]
    }
   ],
   "source": [
    "model = Autoencoder(n_timesteps, 5)\n",
    "model.summary()"
   ]
  },
  {
   "cell_type": "code",
   "execution_count": 43,
   "metadata": {
    "colab": {
     "base_uri": "https://localhost:8080/",
     "height": 1000
    },
    "colab_type": "code",
    "id": "jN057xexsUxo",
    "outputId": "3a8f644f-a638-4d54-8d1a-7687e06e0b61"
   },
   "outputs": [
    {
     "name": "stdout",
     "output_type": "stream",
     "text": [
      "Epoch 1/50\n",
      "111/111 [==============================] - 0s 4ms/step - loss: 93.2626 - val_loss: 12.3570\n",
      "Epoch 2/50\n",
      "111/111 [==============================] - 0s 4ms/step - loss: 19.1985 - val_loss: 17.2394\n",
      "Epoch 3/50\n",
      "111/111 [==============================] - 0s 4ms/step - loss: 18.0136 - val_loss: 13.0862\n",
      "Epoch 4/50\n",
      "111/111 [==============================] - 0s 4ms/step - loss: 19.1969 - val_loss: 14.1100\n",
      "Epoch 5/50\n",
      "111/111 [==============================] - 0s 4ms/step - loss: 20.0939 - val_loss: 13.1809\n",
      "Epoch 6/50\n",
      "111/111 [==============================] - 0s 3ms/step - loss: 18.4660 - val_loss: 11.9549\n",
      "Epoch 7/50\n",
      "111/111 [==============================] - 0s 4ms/step - loss: 19.7846 - val_loss: 15.4691\n",
      "Epoch 8/50\n",
      "111/111 [==============================] - 0s 3ms/step - loss: 19.8044 - val_loss: 11.8244\n",
      "Epoch 9/50\n",
      "111/111 [==============================] - 0s 4ms/step - loss: 19.8571 - val_loss: 12.2250\n",
      "Epoch 10/50\n",
      "111/111 [==============================] - 0s 4ms/step - loss: 19.3544 - val_loss: 14.0809\n",
      "Epoch 11/50\n",
      "111/111 [==============================] - 0s 4ms/step - loss: 19.3416 - val_loss: 11.6259\n",
      "Epoch 12/50\n",
      "111/111 [==============================] - 0s 4ms/step - loss: 22.0110 - val_loss: 25.9032\n",
      "Epoch 13/50\n",
      "111/111 [==============================] - 0s 4ms/step - loss: 24.4428 - val_loss: 13.8007\n",
      "Epoch 14/50\n",
      "111/111 [==============================] - 0s 4ms/step - loss: 19.4552 - val_loss: 13.3273\n",
      "Epoch 15/50\n",
      "111/111 [==============================] - 0s 4ms/step - loss: 19.9052 - val_loss: 20.9332\n",
      "Epoch 16/50\n",
      "111/111 [==============================] - 0s 3ms/step - loss: 19.3254 - val_loss: 13.1396\n",
      "Epoch 17/50\n",
      "111/111 [==============================] - 0s 4ms/step - loss: 19.0988 - val_loss: 13.8079\n",
      "Epoch 18/50\n",
      "111/111 [==============================] - 0s 4ms/step - loss: 19.6795 - val_loss: 22.7286\n",
      "Epoch 19/50\n",
      "111/111 [==============================] - 0s 4ms/step - loss: 20.1037 - val_loss: 19.1653\n",
      "Epoch 20/50\n",
      "111/111 [==============================] - 0s 4ms/step - loss: 27.2481 - val_loss: 41.1930\n",
      "Epoch 21/50\n",
      "111/111 [==============================] - 0s 4ms/step - loss: 23.1506 - val_loss: 12.4962\n",
      "Epoch 22/50\n",
      "111/111 [==============================] - 0s 4ms/step - loss: 18.5295 - val_loss: 13.3279\n",
      "Epoch 23/50\n",
      "111/111 [==============================] - 0s 3ms/step - loss: 21.0740 - val_loss: 11.8620\n",
      "Epoch 24/50\n",
      "111/111 [==============================] - 0s 4ms/step - loss: 19.9812 - val_loss: 15.2121\n",
      "Epoch 25/50\n",
      "111/111 [==============================] - 0s 3ms/step - loss: 17.5732 - val_loss: 11.4877\n",
      "Epoch 26/50\n",
      "111/111 [==============================] - 0s 4ms/step - loss: 19.7517 - val_loss: 21.2770\n",
      "Epoch 27/50\n",
      "111/111 [==============================] - 0s 4ms/step - loss: 19.2943 - val_loss: 17.5772\n",
      "Epoch 28/50\n",
      "111/111 [==============================] - 0s 3ms/step - loss: 18.5001 - val_loss: 11.7885\n",
      "Epoch 29/50\n",
      "111/111 [==============================] - 0s 4ms/step - loss: 18.9536 - val_loss: 13.6060\n",
      "Epoch 30/50\n",
      "111/111 [==============================] - 0s 4ms/step - loss: 18.7338 - val_loss: 11.7032\n",
      "Epoch 31/50\n",
      "111/111 [==============================] - 0s 4ms/step - loss: 19.3728 - val_loss: 12.0814\n",
      "Epoch 32/50\n",
      "111/111 [==============================] - 0s 4ms/step - loss: 21.2080 - val_loss: 23.2953\n",
      "Epoch 33/50\n",
      "111/111 [==============================] - 0s 4ms/step - loss: 1001.5585 - val_loss: 188.6412\n",
      "Epoch 34/50\n",
      "111/111 [==============================] - 0s 4ms/step - loss: 43.5512 - val_loss: 11.1768\n",
      "Epoch 35/50\n",
      "111/111 [==============================] - 0s 3ms/step - loss: 15.4514 - val_loss: 11.3286\n",
      "Epoch 36/50\n",
      "111/111 [==============================] - 0s 4ms/step - loss: 14.8306 - val_loss: 11.0426\n",
      "Epoch 37/50\n",
      "111/111 [==============================] - 0s 4ms/step - loss: 14.8464 - val_loss: 11.3348\n",
      "Epoch 38/50\n",
      "111/111 [==============================] - 0s 4ms/step - loss: 14.8073 - val_loss: 11.0854\n",
      "Epoch 39/50\n",
      "111/111 [==============================] - 0s 4ms/step - loss: 14.7036 - val_loss: 11.6144\n",
      "Epoch 40/50\n",
      "111/111 [==============================] - 0s 3ms/step - loss: 14.9346 - val_loss: 11.1906\n",
      "Epoch 41/50\n",
      "111/111 [==============================] - 0s 4ms/step - loss: 14.8993 - val_loss: 11.0581\n",
      "Epoch 42/50\n",
      "111/111 [==============================] - 0s 4ms/step - loss: 14.8760 - val_loss: 11.2081\n",
      "Epoch 43/50\n",
      "111/111 [==============================] - 0s 4ms/step - loss: 14.8190 - val_loss: 11.3387\n",
      "Epoch 44/50\n",
      "111/111 [==============================] - 0s 4ms/step - loss: 14.9152 - val_loss: 11.2179\n",
      "Epoch 45/50\n",
      "111/111 [==============================] - 0s 3ms/step - loss: 14.9092 - val_loss: 11.4500\n",
      "Epoch 46/50\n",
      "111/111 [==============================] - 0s 3ms/step - loss: 14.8302 - val_loss: 11.5736\n",
      "Epoch 47/50\n",
      "111/111 [==============================] - 0s 4ms/step - loss: 14.8678 - val_loss: 11.2088\n",
      "Epoch 48/50\n",
      "111/111 [==============================] - 0s 3ms/step - loss: 14.9323 - val_loss: 11.6193\n",
      "Epoch 49/50\n",
      "111/111 [==============================] - 0s 4ms/step - loss: 15.2502 - val_loss: 11.2480\n",
      "Epoch 50/50\n",
      "111/111 [==============================] - 0s 3ms/step - loss: 15.2226 - val_loss: 11.8658\n"
     ]
    }
   ],
   "source": [
    "# model = Autoencoder(n_timesteps, 5)\n",
    "# model.summary()\n",
    "history = model.fit(x=X_train.squeeze(), y=y_train.squeeze(), batch_size=batch_size, epochs=epochs, verbose=1,\n",
    "                    callbacks=None, validation_data=(X_val, y_val), shuffle=False)"
   ]
  },
  {
   "cell_type": "code",
   "execution_count": 44,
   "metadata": {
    "colab": {},
    "colab_type": "code",
    "id": "wA_qhq81sUxr"
   },
   "outputs": [],
   "source": [
    "y_train_pred = model.predict(X_train)"
   ]
  },
  {
   "cell_type": "code",
   "execution_count": 45,
   "metadata": {
    "colab": {
     "base_uri": "https://localhost:8080/",
     "height": 35
    },
    "colab_type": "code",
    "id": "QxIFcDAeXAo-",
    "outputId": "00bee112-dc5e-4c1d-d31a-69961ae663bd"
   },
   "outputs": [
    {
     "data": {
      "text/plain": [
       "(14098, 5)"
      ]
     },
     "execution_count": 45,
     "metadata": {
      "tags": []
     },
     "output_type": "execute_result"
    }
   ],
   "source": [
    "y_train_pred.shape"
   ]
  },
  {
   "cell_type": "code",
   "execution_count": 46,
   "metadata": {
    "colab": {},
    "colab_type": "code",
    "id": "IdY_e3VHsUxv"
   },
   "outputs": [],
   "source": [
    "from sklearn.metrics import mean_absolute_error\n",
    "# y_train = y_train.reshape(y_train.shape[0], y_train.shape[1])\n",
    "errors = [mean_absolute_error(y_train[i, :], y_train_pred[i, :]) for i in range(y_train_pred.shape[0])]\n"
   ]
  },
  {
   "cell_type": "markdown",
   "metadata": {
    "colab_type": "text",
    "id": "1v9gGc1gV1oI"
   },
   "source": [
    "Since we have the list of errors, we plot to them to see how they are distributed."
   ]
  },
  {
   "cell_type": "code",
   "execution_count": 47,
   "metadata": {
    "colab": {
     "base_uri": "https://localhost:8080/",
     "height": 299
    },
    "colab_type": "code",
    "id": "XdBiBRfNsUxy",
    "outputId": "dc9595a7-35ff-437d-b01e-56e46de7837e",
    "scrolled": true
   },
   "outputs": [
    {
     "data": {
      "text/plain": [
       "Text(0.5, 1.0, 'Distribution of Errors')"
      ]
     },
     "execution_count": 47,
     "metadata": {
      "tags": []
     },
     "output_type": "execute_result"
    },
    {
     "data": {
      "image/png": "[encoded data removed]",
      "text/plain": [
       "<Figure size 432x288 with 1 Axes>"
      ]
     },
     "metadata": {
      "needs_background": "light",
      "tags": []
     },
     "output_type": "display_data"
    }
   ],
   "source": [
    "import seaborn as sb\n",
    "sb.kdeplot(errors, shade=True)\n",
    "plt.title(\"Distribution of Errors\")"
   ]
  },
  {
   "cell_type": "markdown",
   "metadata": {
    "colab_type": "text",
    "id": "0-nV9NC8bEEU"
   },
   "source": []
  },
  {
   "cell_type": "markdown",
   "metadata": {
    "colab_type": "text",
    "id": "V_fAegIEsUx2"
   },
   "source": [
    "\n",
    "If the errors for each value of the data set were normally distributed, we can consider all values away that are beyond 1 standard deviation from the mean as anomaly. Hence, we are now fitting this data to a normal distribution."
   ]
  },
  {
   "cell_type": "code",
   "execution_count": 48,
   "metadata": {
    "colab": {
     "base_uri": "https://localhost:8080/",
     "height": 35
    },
    "colab_type": "code",
    "id": "A6qaFTygsUx3",
    "outputId": "9f45acd1-36a4-4457-8d45-20530d4a9d44"
   },
   "outputs": [
    {
     "data": {
      "text/plain": [
       "(14.516582349189243, 15.687981174542685)"
      ]
     },
     "execution_count": 48,
     "metadata": {
      "tags": []
     },
     "output_type": "execute_result"
    }
   ],
   "source": [
    "from scipy.stats import norm\n",
    "params = norm.fit(errors)\n",
    "dist = norm(loc=params[0], scale=params[1])\n",
    "\n",
    "dist.mean(), dist.std()"
   ]
  },
  {
   "cell_type": "markdown",
   "metadata": {
    "colab_type": "text",
    "id": "o-eI0kcksUx6"
   },
   "source": [
    "We get the mean and standard deviation here. We can consider all the values that lie around 1 standard deviation away from the mean. Any value beyond this can be considered an anomaly. We can consider different ranges of error beyond which a value can be anomaly. We have chosen a range of 1 standard deviation from the mean to consider a value normal."
   ]
  },
  {
   "cell_type": "code",
   "execution_count": 49,
   "metadata": {
    "colab": {},
    "colab_type": "code",
    "id": "3b3ccnWKsUx_"
   },
   "outputs": [],
   "source": [
    "def is_anomaly(error, mean, std, threshold):\n",
    "    difference = np.abs(error - mean)\n",
    "    value = difference / std\n",
    "    if value < threshold:\n",
    "        return 0\n",
    "    else:\n",
    "        return 1"
   ]
  },
  {
   "cell_type": "code",
   "execution_count": 50,
   "metadata": {
    "colab": {
     "base_uri": "https://localhost:8080/",
     "height": 55
    },
    "colab_type": "code",
    "id": "OSmSdsZysUyD",
    "outputId": "31458f0b-a155-4948-b2cd-5b5e71dd4c74"
   },
   "outputs": [
    {
     "name": "stdout",
     "output_type": "stream",
     "text": [
      "[0, 0, 0, 0, 0, 0, 0, 0, 0, 0, 0, 0, 0, 0, 0, 0, 0, 0, 0, 0, 0, 0, 0, 0, 0, 0, 0, 0, 0, 0, 0, 0, 0, 0, 0, 0, 0, 0, 0, 0, 1, 0, 0, 0, 0, 0, 0, 0, 0, 0, 0, 0, 0, 0, 0, 0, 0, 0, 0, 0, 0, 0, 0, 0, 0, 0, 0, 0, 0, 0, 0, 0, 0, 0, 0, 0, 0, 0, 0, 0, 0, 0, 0, 0, 0, 0, 0, 0, 0, 0, 0, 0, 0, 0, 0, 0, 0, 0, 0, 0, 0, 0, 0, 0, 0, 0, 0, 0, 0, 0, 0, 0, 0, 0, 0, 0, 0, 0, 0, 0, 0, 0, 0, 0, 0, 0, 0, 0, 0, 0, 0, 0, 0, 0, 0, 0, 0, 0, 0, 0, 0, 0, 0, 0, 0, 0, 0, 0, 0, 0, 0, 0, 0, 0, 0, 0, 0, 0, 0, 0, 0, 0, 0, 0, 0, 0, 0, 0, 0, 0, 0, 0, 0, 0, 0, 0, 0, 0, 0, 0, 0, 0, 0, 0, 0, 0, 0, 0, 0, 0, 0, 0, 0, 0, 0, 0, 0, 0, 0, 0, 0, 0, 0, 0, 0, 0, 0, 0, 0, 0, 0, 0, 0, 0, 0, 0, 0, 0, 0, 0, 0, 0, 0, 0, 0, 0, 0, 0, 0, 0, 0, 0, 0, 0, 0, 0, 0, 0, 0, 0, 0, 0, 0, 0, 0, 0, 0, 0, 0, 0, 0, 0, 0, 0, 0, 0, 0, 0, 0, 0, 0, 0, 0, 0, 0, 0, 0, 0, 0, 0, 0, 0, 0, 0, 0, 0, 0, 0, 0, 0, 0, 0, 0, 0, 0, 0, 0, 0, 0, 0, 0, 0, 0, 0, 0, 0, 0, 0, 0, 0, 0, 0, 0, 0, 0, 0, 0, 0, 0, 0, 0, 0, 0, 0, 0, 0, 0, 0, 0, 0, 0, 0, 0, 0, 0, 0, 0, 0, 0, 0, 0, 0, 0, 0, 0, 0, 0, 0, 0, 0, 0, 0, 0, 0, 0, 0, 0, 0, 0, 0, 0, 0, 0, 0, 0, 0, 0, 0, 0, 0, 0, 0, 0, 0, 0, 0, 0, 0, 0, 0, 0, 0, 0, 0, 0, 0, 0, 0, 0, 0, 0, 0, 0, 0, 0, 0, 0, 0, 0, 0, 0, 0, 0, 0, 0, 0, 0, 0, 0, 0, 0, 0, 0, 0, 0, 0, 0, 0, 0, 0, 0, 0, 0, 0, 0, 0, 0, 0, 0, 0, 0, 0, 0, 0, 0, 0, 0, 0, 0, 0, 0, 0, 0, 0, 0, 0, 0, 0, 0, 0, 0, 0, 0, 0, 0, 0, 0, 0, 0, 0, 0, 0, 0, 0, 0, 0, 0, 0, 0, 0, 0, 0, 0, 0, 0, 0, 0, 0, 0, 0, 0, 0, 0, 0, 0, 0, 0, 0, 0, 0, 0, 0, 0, 0, 0, 0, 0, 0, 0, 0, 0, 0, 0, 0, 0, 0, 0, 0, 0, 0, 0, 0, 0, 0, 0, 0, 0, 0, 0, 0, 0, 0, 1, 1, 1, 1, 1, 0, 1, 0, 0, 0, 0, 0, 0, 1, 0, 0, 0, 0, 0, 0, 0, 0, 0, 0, 0, 0, 0, 0, 0, 0, 0, 0, 0, 0, 0, 0, 0, 0, 0, 0, 0, 0, 0, 0, 0, 0, 0, 0, 0, 0, 0, 0, 0, 0, 0, 0, 0, 0, 0, 0, 0, 0, 0, 0, 0, 0, 0, 0, 0, 1, 1, 1, 1, 1, 1, 0, 0, 0, 0, 0, 0, 0, 0, 0, 0, 0, 0, 0, 0, 0, 0, 0, 0, 0, 0, 0, 0, 0, 0, 0, 0, 0, 0, 0, 0, 0, 0, 0, 0, 0, 0, 0, 0, 0, 0, 0, 0, 0, 0, 0, 0, 0, 0, 0, 0, 0, 0, 0, 0, 0, 0, 0, 0, 0, 0, 0, 0, 0, 0, 0, 0, 0, 0, 0, 0, 0, 0, 0, 0, 0, 0, 0, 0, 0, 0, 0, 0, 0, 0, 0, 0, 0, 0, 0, 0, 0, 0, 0, 0, 0, 0, 0, 0, 0, 0, 0, 0, 0, 0, 0, 0, 0, 0, 0, 0, 0, 0, 0, 0, 0, 0, 0, 0, 0, 0, 0, 0, 0, 0, 0, 0, 0, 0, 0, 0, 0, 0, 0, 0, 0, 0, 0, 0, 0, 0, 0, 0, 0, 0, 0, 0, 0, 0, 0, 0, 0, 0, 0, 0, 0, 0, 0, 0, 0, 0, 0, 0, 0, 0, 0, 0, 0, 0, 0, 0, 0, 0, 0, 0, 0, 0, 0, 0, 0, 0, 0, 1, 1, 1, 1, 0, 0, 0, 0, 0, 0, 0, 0, 0, 0, 0, 0, 0, 0, 0, 0, 0, 0, 0, 0, 0, 0, 0, 0, 0, 0, 0, 0, 0, 0, 0, 0, 0, 0, 0, 0, 0, 0, 0, 0, 0, 0, 0, 0, 0, 0, 0, 0, 0, 0, 0, 0, 0, 0, 0, 0, 0, 0, 0, 0, 0, 0, 0, 0, 0, 0, 0, 0, 0, 0, 0, 0, 0, 0, 0, 0, 0, 0, 0, 0, 0, 0, 0, 0, 0, 0, 0, 0, 0, 0, 0, 0, 0, 0, 0, 0, 0, 0, 0, 0, 0, 0, 0, 0, 0, 0, 0, 0, 0, 0, 0, 0, 0, 0, 0, 0, 0, 0, 0, 0, 0, 0, 0, 0, 0, 0, 0, 0, 0, 0, 0, 0, 0, 0, 0, 0, 0, 0, 0, 0, 0, 0, 0, 0, 0, 0, 0, 0, 0, 0, 0, 0, 0, 0, 0, 0, 0, 0, 0, 0, 0, 0, 0, 0, 0, 0, 0, 0, 0, 0, 0, 0, 0, 0, 0, 0, 0, 0, 0, 0, 0, 0, 0, 0, 0, 0, 0, 0, 0, 0, 0, 0, 0, 0, 0, 0, 0, 0, 0, 0, 0, 0, 0, 0, 0, 0, 0, 0, 0, 0, 0, 0, 0, 0, 0, 0, 0, 0, 0, 0, 0, 0, 0, 0, 0, 0, 0, 0, 0, 0, 0, 0, 0, 0, 0, 0, 0, 0, 0, 0, 0, 0, 0, 0, 0, 0, 0, 0, 0, 0, 0, 0, 0, 0, 0, 0, 0, 0, 0, 0, 0, 0, 0, 0, 0, 0, 0, 0, 0, 0, 0, 0, 0, 0, 0, 0, 0, 0, 1, 1, 1, 0, 0, 0, 0, 0, 0, 0, 0, 0, 0, 0, 0, 0, 0, 0, 0, 0, 0, 0, 0, 0, 0, 0, 0, 0, 0, 0, 0, 0, 0, 0, 0, 0, 0, 0, 0, 0, 0, 0, 1, 1, 1, 1, 1, 1, 1, 0, 0, 0, 0, 0, 0, 0, 0, 0, 0, 0, 0, 0, 0, 0, 0, 0, 0, 0, 0, 0, 0, 0, 0, 0, 0, 0, 0, 0, 0, 0, 0, 0, 0, 0, 0, 0, 0, 0, 0, 0, 0, 0, 0, 0, 0, 0, 0, 0, 0, 0, 0, 0, 0, 0, 0, 0, 0, 0, 0, 0, 0, 0, 0, 0, 0, 0, 0, 0, 0, 0, 0, 0, 0, 0, 0, 0, 0, 0, 0, 0, 1, 1, 1, 1, 1, 0, 0, 0, 0, 0, 0, 0, 0, 0, 0, 0, 0, 0, 0, 0, 0, 0, 0, 0, 0, 0, 0, 0, 0, 0, 0, 0, 0, 0, 0, 0, 0, 0, 0, 0, 0, 0, 0, 0, 0, 0, 0, 0, 0, 0, 0, 0, 0, 0, 0, 0, 0, 0, 0, 0, 0, 0, 0, 0, 0, 0, 0, 0, 0, 0, 0, 0, 0, 0, 0, 0, 0, 0, 0, 0, 0, 0, 0, 0, 0, 0, 0, 0, 0, 0, 0, 0, 0, 0, 0, 0, 0, 0, 0, 0, 0, 0, 0, 0, 0, 0, 0, 0, 0, 0, 0, 0, 0, 0, 0, 0, 0, 0, 0, 0, 0, 0, 0, 0, 0, 0, 0, 0, 0, 0, 0, 0, 0, 0, 0, 0, 0, 0, 0, 0, 0, 0, 0, 0, 0, 0, 0, 0, 0, 0, 0, 0, 0, 0, 0, 0, 0, 0, 0, 0, 0, 0, 0, 0, 0, 0, 0, 0, 0, 0, 0, 0, 0, 0, 0, 0, 0, 0, 0, 0, 0, 0, 0, 0, 0, 0, 0, 0, 0, 0, 0, 0, 0, 0, 0, 0, 0, 0, 0, 0, 0, 0, 0, 0, 0, 0, 0, 0, 0, 0, 0, 0, 0, 0, 0, 0, 0, 0, 0, 0, 0, 0, 0, 0, 0, 0, 1, 1, 1, 1, 0, 0, 0, 0, 0, 0, 0, 0, 0, 0, 0, 0, 0, 0, 0, 0, 0, 0, 0, 0, 0, 0, 0, 0]\n"
     ]
    }
   ],
   "source": [
    "y_val_pred = model.predict(X_val[:, :, :])\n",
    "val_errors = [mean_absolute_error(y_val[i, :], y_val_pred[i, :]) for i in range(y_val_pred.shape[0])]\n",
    "results = [is_anomaly(x, dist.mean(), dist.std(), 1) for x in val_errors]\n",
    "print(results)\n"
   ]
  },
  {
   "cell_type": "code",
   "execution_count": 51,
   "metadata": {
    "colab": {
     "base_uri": "https://localhost:8080/",
     "height": 55
    },
    "colab_type": "code",
    "id": "TJGSqQBswlDS",
    "outputId": "9d4d715e-5aea-426d-bda1-b1b2e9dc786f"
   },
   "outputs": [
    {
     "name": "stdout",
     "output_type": "stream",
     "text": [
      "[0, 0, 0, 0, 0, 0, 0, 0, 0, 0, 0, 0, 0, 0, 0, 0, 0, 0, 0, 0, 0, 0, 0, 0, 0, 0, 0, 0, 0, 0, 0, 0, 0, 0, 0, 0, 0, 0, 0, 0, 1, 0, 0, 0, 0, 0, 0, 0, 0, 0, 0, 0, 0, 0, 0, 0, 0, 0, 0, 0, 0, 0, 0, 0, 0, 0, 0, 0, 0, 0, 0, 0, 0, 0, 0, 0, 0, 0, 0, 0, 0, 0, 0, 0, 0, 0, 0, 0, 0, 0, 0, 0, 0, 0, 0, 0, 0, 0, 0, 0, 0, 0, 0, 0, 0, 0, 0, 0, 0, 0, 0, 0, 0, 0, 0, 0, 0, 0, 0, 0, 0, 0, 0, 0, 0, 0, 0, 0, 0, 0, 0, 0, 0, 0, 0, 0, 0, 0, 0, 0, 0, 0, 0, 0, 0, 0, 0, 0, 0, 0, 0, 0, 0, 0, 0, 0, 0, 0, 0, 0, 0, 0, 0, 0, 0, 0, 0, 0, 0, 0, 0, 0, 0, 0, 0, 0, 0, 0, 0, 0, 0, 0, 0, 0, 0, 0, 0, 0, 0, 0, 0, 0, 0, 0, 0, 0, 0, 0, 0, 0, 0, 0, 0, 0, 0, 0, 0, 0, 0, 0, 0, 0, 0, 0, 0, 0, 0, 0, 0, 0, 0, 0, 0, 0, 0, 0, 0, 0, 0, 0, 0, 0, 0, 0, 0, 0, 0, 0, 0, 0, 0, 0, 0, 0, 0, 0, 0, 0, 0, 0, 0, 0, 0, 0, 0, 0, 0, 0, 0, 0, 0, 0, 0, 0, 0, 0, 0, 0, 0, 0, 0, 0, 0, 0, 0, 0, 0, 0, 0, 0, 0, 0, 0, 0, 0, 0, 0, 0, 0, 0, 0, 0, 0, 0, 0, 0, 0, 0, 0, 0, 0, 0, 0, 0, 0, 0, 0, 0, 0, 0, 0, 0, 0, 0, 0, 0, 0, 0, 0, 0, 0, 0, 0, 0, 0, 0, 0, 0, 0, 0, 0, 0, 0, 0, 0, 0, 0, 0, 0, 0, 0, 0, 0, 0, 0, 0, 0, 0, 0, 0, 0, 0, 0, 0, 0, 0, 0, 0, 0, 0, 0, 0, 0, 0, 0, 0, 0, 0, 0, 0, 0, 0, 0, 0, 0, 0, 0, 0, 0, 0, 0, 0, 0, 0, 0, 0, 0, 0, 0, 0, 0, 0, 0, 0, 0, 0, 0, 0, 0, 0, 0, 0, 0, 0, 0, 0, 0, 0, 0, 0, 0, 0, 0, 0, 0, 0, 0, 0, 0, 0, 0, 0, 0, 0, 0, 0, 0, 0, 0, 0, 0, 0, 0, 0, 0, 0, 0, 0, 0, 0, 0, 0, 0, 0, 0, 0, 0, 0, 0, 0, 0, 0, 0, 0, 0, 0, 0, 0, 0, 0, 0, 0, 0, 0, 0, 0, 0, 0, 0, 0, 0, 0, 0, 0, 0, 0, 0, 0, 0, 0, 0, 0, 0, 0, 0, 0, 0, 0, 0, 0, 0, 0, 0, 0, 0, 0, 0, 0, 0, 0, 0, 0, 0, 0, 0, 0, 0, 0, 0, 0, 0, 0, 1, 1, 1, 1, 1, 0, 1, 0, 0, 0, 0, 0, 0, 1, 0, 0, 0, 0, 0, 0, 0, 0, 0, 0, 0, 0, 0, 0, 0, 0, 0, 0, 0, 0, 0, 0, 0, 0, 0, 0, 0, 0, 0, 0, 0, 0, 0, 0, 0, 0, 0, 0, 0, 0, 0, 0, 0, 0, 0, 0, 0, 0, 0, 0, 0, 0, 0, 0, 0, 1, 1, 1, 1, 1, 1, 0, 0, 0, 0, 0, 0, 0, 0, 0, 0, 0, 0, 0, 0, 0, 0, 0, 0, 0, 0, 0, 0, 0, 0, 0, 0, 0, 0, 0, 0, 0, 0, 0, 0, 0, 0, 0, 0, 0, 0, 0, 0, 0, 0, 0, 0, 0, 0, 0, 0, 0, 0, 0, 0, 0, 0, 0, 0, 0, 0, 0, 0, 0, 0, 0, 0, 0, 0, 0, 0, 0, 0, 0, 0, 0, 0, 0, 0, 0, 0, 0, 0, 0, 0, 0, 0, 0, 0, 0, 0, 0, 0, 0, 0, 0, 0, 0, 0, 0, 0, 0, 0, 0, 0, 0, 0, 0, 0, 0, 0, 0, 0, 0, 0, 0, 0, 0, 0, 0, 0, 0, 0, 0, 0, 0, 0, 0, 0, 0, 0, 0, 0, 0, 0, 0, 0, 0, 0, 0, 0, 0, 0, 0, 0, 0, 0, 0, 0, 0, 0, 0, 0, 0, 0, 0, 0, 0, 0, 0, 0, 0, 0, 0, 0, 0, 0, 0, 0, 0, 0, 0, 0, 0, 0, 0, 0, 0, 0, 0, 0, 0, 1, 1, 1, 1, 0, 0, 0, 0, 0, 0, 0, 0, 0, 0, 0, 0, 0, 0, 0, 0, 0, 0, 0, 0, 0, 0, 0, 0, 0, 0, 0, 0, 0, 0, 0, 0, 0, 0, 0, 0, 0, 0, 0, 0, 0, 0, 0, 0, 0, 0, 0, 0, 0, 0, 0, 0, 0, 0, 0, 0, 0, 0, 0, 0, 0, 0, 0, 0, 0, 0, 0, 0, 0, 0, 0, 0, 0, 0, 0, 0, 0, 0, 0, 0, 0, 0, 0, 0, 0, 0, 0, 0, 0, 0, 0, 0, 0, 0, 0, 0, 0, 0, 0, 0, 0, 0, 0, 0, 0, 0, 0, 0, 0, 0, 0, 0, 0, 0, 0, 0, 0, 0, 0, 0, 0, 0, 0, 0, 0, 0, 0, 0, 0, 0, 0, 0, 0, 0, 0, 0, 0, 0, 0, 0, 0, 0, 0, 0, 0, 0, 0, 0, 0, 0, 0, 0, 0, 0, 0, 0, 0, 0, 0, 0, 0, 0, 0, 0, 0, 0, 0, 0, 0, 0, 0, 0, 0, 0, 0, 0, 0, 0, 0, 0, 0, 0, 0, 0, 0, 0, 0, 0, 0, 0, 0, 0, 0, 0, 0, 0, 0, 0, 0, 0, 0, 0, 0, 0, 0, 0, 0, 0, 0, 0, 0, 0, 0, 0, 0, 0, 0, 0, 0, 0, 0, 0, 0, 0, 0, 0, 0, 0, 0, 0, 0, 0, 0, 0, 0, 0, 0, 0, 0, 0, 0, 0, 0, 0, 0, 0, 0, 0, 0, 0, 0, 0, 0, 0, 0, 0, 0, 0, 0, 0, 0, 0, 0, 0, 0, 0, 0, 0, 0, 0, 0, 0, 0, 0, 0, 0, 0, 0, 1, 1, 1, 0, 0, 0, 0, 0, 0, 0, 0, 0, 0, 0, 0, 0, 0, 0, 0, 0, 0, 0, 0, 0, 0, 0, 0, 0, 0, 0, 0, 0, 0, 0, 0, 0, 0, 0, 0, 0, 0, 0, 1, 1, 1, 1, 1, 1, 1, 0, 0, 0, 0, 0, 0, 0, 0, 0, 0, 0, 0, 0, 0, 0, 0, 0, 0, 0, 0, 0, 0, 0, 0, 0, 0, 0, 0, 0, 0, 0, 0, 0, 0, 0, 0, 0, 0, 0, 0, 0, 0, 0, 0, 0, 0, 0, 0, 0, 0, 0, 0, 0, 0, 0, 0, 0, 0, 0, 0, 0, 0, 0, 0, 0, 0, 0, 0, 0, 0, 0, 0, 0, 0, 0, 0, 0, 0, 0, 0, 0, 1, 1, 1, 1, 1, 0, 0, 0, 0, 0, 0, 0, 0, 0, 0, 0, 0, 0, 0, 0, 0, 0, 0, 0, 0, 0, 0, 0, 0, 0, 0, 0, 0, 0, 0, 0, 0, 0, 0, 0, 0, 0, 0, 0, 0, 0, 0, 0, 0, 0, 0, 0, 0, 0, 0, 0, 0, 0, 0, 0, 0, 0, 0, 0, 0, 0, 0, 0, 0, 0, 0, 0, 0, 0, 0, 0, 0, 0, 0, 0, 0, 0, 0, 0, 0, 0, 0, 0, 0, 0, 0, 0, 0, 0, 0, 0, 0, 0, 0, 0, 0, 0, 0, 0, 0, 0, 0, 0, 0, 0, 0, 0, 0, 0, 0, 0, 0, 0, 0, 0, 0, 0, 0, 0, 0, 0, 0, 0, 0, 0, 0, 0, 0, 0, 0, 0, 0, 0, 0, 0, 0, 0, 0, 0, 0, 0, 0, 0, 0, 0, 0, 0, 0, 0, 0, 0, 0, 0, 0, 0, 0, 0, 0, 0, 0, 0, 0, 0, 0, 0, 0, 0, 0, 0, 0, 0, 0, 0, 0, 0, 0, 0, 0, 0, 0, 0, 0, 0, 0, 0, 0, 0, 0, 0, 0, 0, 0, 0, 0, 0, 0, 0, 0, 0, 0, 0, 0, 0, 0, 0, 0, 0, 0, 0, 0, 0, 0, 0, 0, 0, 0, 0, 0, 0, 0, 0, 1, 1, 1, 1, 0, 0, 0, 0, 0, 0, 0, 0, 0, 0, 0, 0, 0, 0, 0, 0, 0, 0, 0, 0, 0, 0, 0, 0]\n"
     ]
    }
   ],
   "source": [
    "# MSE\n",
    "from sklearn.metrics import mean_squared_error\n",
    "y_val_pred = model.predict(X_val[:, :, :])\n",
    "# y_val = y_val.reshape(y_val.shape[0], y_val.shape[2])\n",
    "mse = [mean_squared_error(y_val[i, :], y_val_pred[i, :]) for i in range(y_val_pred.shape[0])]\n",
    "results_mse = [is_anomaly(x, mean(mse), stdev(mse), 1) for x in mse]\n",
    "print(results_mse)"
   ]
  },
  {
   "cell_type": "code",
   "execution_count": 52,
   "metadata": {
    "colab": {
     "base_uri": "https://localhost:8080/",
     "height": 55
    },
    "colab_type": "code",
    "id": "gNPVQD5lxs3e",
    "outputId": "9761191d-e33d-40eb-da9e-0c4ef2913378"
   },
   "outputs": [
    {
     "name": "stdout",
     "output_type": "stream",
     "text": [
      "[0, 0, 0, 0, 0, 0, 0, 0, 0, 0, 0, 0, 0, 0, 0, 0, 0, 0, 0, 0, 0, 0, 0, 0, 0, 0, 0, 0, 0, 0, 0, 0, 0, 0, 0, 0, 0, 0, 0, 0, 1, 0, 0, 0, 0, 0, 0, 0, 0, 0, 0, 0, 0, 0, 0, 0, 0, 0, 0, 0, 0, 0, 0, 0, 0, 0, 0, 0, 0, 0, 0, 0, 0, 0, 0, 0, 0, 0, 0, 0, 0, 0, 0, 0, 0, 0, 0, 0, 0, 0, 0, 0, 0, 0, 0, 0, 0, 0, 0, 0, 0, 0, 0, 0, 0, 0, 0, 0, 0, 0, 0, 0, 0, 0, 0, 0, 0, 0, 0, 0, 0, 0, 0, 0, 0, 0, 0, 0, 0, 0, 0, 0, 0, 0, 0, 0, 0, 0, 0, 0, 0, 0, 0, 0, 0, 0, 0, 0, 0, 0, 0, 0, 0, 0, 0, 0, 0, 0, 0, 0, 0, 0, 0, 0, 0, 0, 0, 0, 0, 0, 0, 0, 0, 0, 0, 0, 0, 0, 0, 0, 0, 0, 0, 0, 0, 0, 0, 0, 0, 0, 0, 0, 0, 0, 0, 0, 0, 0, 0, 0, 0, 0, 0, 0, 0, 0, 0, 0, 0, 0, 0, 0, 0, 0, 0, 0, 0, 0, 0, 0, 0, 0, 0, 0, 0, 0, 0, 0, 0, 0, 0, 0, 0, 0, 0, 0, 0, 0, 0, 0, 0, 0, 0, 0, 0, 0, 0, 0, 0, 0, 0, 0, 0, 0, 0, 0, 0, 0, 0, 0, 0, 0, 0, 0, 0, 0, 0, 0, 0, 0, 0, 0, 0, 0, 0, 0, 0, 0, 0, 0, 0, 0, 0, 0, 0, 0, 0, 0, 0, 0, 0, 0, 0, 0, 0, 0, 0, 0, 0, 0, 0, 0, 0, 0, 0, 0, 0, 0, 0, 0, 0, 0, 0, 0, 0, 0, 0, 0, 0, 0, 0, 0, 0, 0, 0, 0, 0, 0, 0, 0, 0, 0, 0, 0, 0, 0, 0, 0, 0, 0, 0, 0, 0, 0, 0, 0, 0, 0, 0, 0, 0, 0, 0, 0, 0, 0, 0, 0, 0, 0, 0, 0, 0, 0, 0, 0, 0, 0, 0, 0, 0, 0, 0, 0, 0, 0, 0, 0, 0, 0, 0, 0, 0, 0, 0, 0, 0, 0, 0, 0, 0, 0, 0, 0, 0, 0, 0, 0, 0, 0, 0, 0, 0, 0, 0, 0, 0, 0, 0, 0, 0, 0, 0, 0, 0, 0, 0, 0, 0, 0, 0, 0, 0, 0, 0, 0, 0, 0, 0, 0, 0, 0, 0, 0, 0, 0, 0, 0, 0, 0, 0, 0, 0, 0, 0, 0, 0, 0, 0, 0, 0, 0, 0, 0, 0, 0, 0, 0, 0, 0, 0, 0, 0, 0, 0, 0, 0, 0, 0, 0, 0, 0, 0, 0, 0, 0, 0, 0, 0, 0, 0, 0, 0, 0, 0, 0, 0, 0, 0, 0, 0, 0, 0, 0, 0, 0, 0, 0, 0, 0, 0, 0, 0, 0, 0, 0, 0, 0, 0, 0, 0, 0, 1, 1, 1, 1, 1, 0, 1, 0, 0, 0, 0, 0, 0, 1, 0, 0, 0, 0, 0, 0, 0, 0, 0, 0, 0, 0, 0, 0, 0, 0, 0, 0, 0, 0, 0, 0, 0, 0, 0, 0, 0, 0, 0, 0, 0, 0, 0, 0, 0, 0, 0, 0, 0, 0, 0, 0, 0, 0, 0, 0, 0, 0, 0, 0, 0, 0, 0, 0, 0, 1, 1, 1, 1, 1, 1, 0, 0, 0, 0, 0, 0, 0, 0, 0, 0, 0, 0, 0, 0, 0, 0, 0, 0, 0, 0, 0, 0, 0, 0, 0, 0, 0, 0, 0, 0, 0, 0, 0, 0, 0, 0, 0, 0, 0, 0, 0, 0, 0, 0, 0, 0, 0, 0, 0, 0, 0, 0, 0, 0, 0, 0, 0, 0, 0, 0, 0, 0, 0, 0, 0, 0, 0, 0, 0, 0, 0, 0, 0, 0, 0, 0, 0, 0, 0, 0, 0, 0, 0, 0, 0, 0, 0, 0, 0, 0, 0, 0, 0, 0, 0, 0, 0, 0, 0, 0, 0, 0, 0, 0, 0, 0, 0, 0, 0, 0, 0, 0, 0, 0, 0, 0, 0, 0, 0, 0, 0, 0, 0, 0, 0, 0, 0, 0, 0, 0, 0, 0, 0, 0, 0, 0, 0, 0, 0, 0, 0, 0, 0, 0, 0, 0, 0, 0, 0, 0, 0, 0, 0, 0, 0, 0, 0, 0, 0, 0, 0, 0, 0, 0, 0, 0, 0, 0, 0, 0, 0, 0, 0, 0, 0, 0, 0, 0, 0, 0, 0, 1, 1, 1, 1, 0, 0, 0, 0, 0, 0, 0, 0, 0, 0, 0, 0, 0, 0, 0, 0, 0, 0, 0, 0, 0, 0, 0, 0, 0, 0, 0, 0, 0, 0, 0, 0, 0, 0, 0, 0, 0, 0, 0, 0, 0, 0, 0, 0, 0, 0, 0, 0, 0, 0, 0, 0, 0, 0, 0, 0, 0, 0, 0, 0, 0, 0, 0, 0, 0, 0, 0, 0, 0, 0, 0, 0, 0, 0, 0, 0, 0, 0, 0, 0, 0, 0, 0, 0, 0, 0, 0, 0, 0, 0, 0, 0, 0, 0, 0, 0, 0, 0, 0, 0, 0, 0, 0, 0, 0, 0, 0, 0, 0, 0, 0, 0, 0, 0, 0, 0, 0, 0, 0, 0, 0, 0, 0, 0, 0, 0, 0, 0, 0, 0, 0, 0, 0, 0, 0, 0, 0, 0, 0, 0, 0, 0, 0, 0, 0, 0, 0, 0, 0, 0, 0, 0, 0, 0, 0, 0, 0, 0, 0, 0, 0, 0, 0, 0, 0, 0, 0, 0, 0, 0, 0, 0, 0, 0, 0, 0, 0, 0, 0, 0, 0, 0, 0, 0, 0, 0, 0, 0, 0, 0, 0, 0, 0, 0, 0, 0, 0, 0, 0, 0, 0, 0, 0, 0, 0, 0, 0, 0, 0, 0, 0, 0, 0, 0, 0, 0, 0, 0, 0, 0, 0, 0, 0, 0, 0, 0, 0, 0, 0, 0, 0, 0, 0, 0, 0, 0, 0, 0, 0, 0, 0, 0, 0, 0, 0, 0, 0, 0, 0, 0, 0, 0, 0, 0, 0, 0, 0, 0, 0, 0, 0, 0, 0, 0, 0, 0, 0, 0, 0, 0, 0, 0, 0, 0, 0, 0, 0, 0, 1, 1, 1, 0, 0, 0, 0, 0, 0, 0, 0, 0, 0, 0, 0, 0, 0, 0, 0, 0, 0, 0, 0, 0, 0, 0, 0, 0, 0, 0, 0, 0, 0, 0, 0, 0, 0, 0, 0, 0, 0, 0, 1, 1, 1, 1, 1, 1, 1, 0, 0, 0, 0, 0, 0, 0, 0, 0, 0, 0, 0, 0, 0, 0, 0, 0, 0, 0, 0, 0, 0, 0, 0, 0, 0, 0, 0, 0, 0, 0, 0, 0, 0, 0, 0, 0, 0, 0, 0, 0, 0, 0, 0, 0, 0, 0, 0, 0, 0, 0, 0, 0, 0, 0, 0, 0, 0, 0, 0, 0, 0, 0, 0, 0, 0, 0, 0, 0, 0, 0, 0, 0, 0, 0, 0, 0, 0, 0, 0, 0, 1, 1, 1, 1, 1, 0, 0, 0, 0, 0, 0, 0, 0, 0, 0, 0, 0, 0, 0, 0, 0, 0, 0, 0, 0, 0, 0, 0, 0, 0, 0, 0, 0, 0, 0, 0, 0, 0, 0, 0, 0, 0, 0, 0, 0, 0, 0, 0, 0, 0, 0, 0, 0, 0, 0, 0, 0, 0, 0, 0, 0, 0, 0, 0, 0, 0, 0, 0, 0, 0, 0, 0, 0, 0, 0, 0, 0, 0, 0, 0, 0, 0, 0, 0, 0, 0, 0, 0, 0, 0, 0, 0, 0, 0, 0, 0, 0, 0, 0, 0, 0, 0, 0, 0, 0, 0, 0, 0, 0, 0, 0, 0, 0, 0, 0, 0, 0, 0, 0, 0, 0, 0, 0, 0, 0, 0, 0, 0, 0, 0, 0, 0, 0, 0, 0, 0, 0, 0, 0, 0, 0, 0, 0, 0, 0, 0, 0, 0, 0, 0, 0, 0, 0, 0, 0, 0, 0, 0, 0, 0, 0, 0, 0, 0, 0, 0, 0, 0, 0, 0, 0, 0, 0, 0, 0, 0, 0, 0, 0, 0, 0, 0, 0, 0, 0, 0, 0, 0, 0, 0, 0, 0, 0, 0, 0, 0, 0, 0, 0, 0, 0, 0, 0, 0, 0, 0, 0, 0, 0, 0, 0, 0, 0, 0, 0, 0, 0, 0, 0, 0, 0, 0, 0, 0, 0, 0, 1, 1, 1, 1, 0, 0, 0, 0, 0, 0, 0, 0, 0, 0, 0, 0, 0, 0, 0, 0, 0, 0, 0, 0, 0, 0, 0, 0]\n"
     ]
    }
   ],
   "source": [
    "# R2 Score\n",
    "from sklearn.metrics import r2_score\n",
    "y_val_pred = model.predict(X_val[:, :, :])\n",
    "# y_val = y_val.reshape(y_val.shape[0], y_val.shape[2])\n",
    "r2 = [r2_score(y_val[i, :], y_val_pred[i, :]) for i in range(y_val_pred.shape[0])]\n",
    "results_r2 = [is_anomaly(x, mean(r2), stdev(r2), 1) for x in r2]\n",
    "print(results_r2)"
   ]
  },
  {
   "cell_type": "code",
   "execution_count": 52,
   "metadata": {
    "colab": {},
    "colab_type": "code",
    "id": "CWziMlpfr3WN"
   },
   "outputs": [],
   "source": []
  },
  {
   "cell_type": "code",
   "execution_count": 53,
   "metadata": {
    "colab": {
     "base_uri": "https://localhost:8080/",
     "height": 55
    },
    "colab_type": "code",
    "id": "Aq6CxQ7jsUyG",
    "outputId": "29f811a0-982c-449a-c4b0-9df44826fa5a"
   },
   "outputs": [
    {
     "name": "stdout",
     "output_type": "stream",
     "text": [
      "[0.6656, 0.665, 0.7428, 0.7502, 0.7127, 0.6943, 0.6518, 0.6686, 0.7423, 0.757, 0.7455, 0.6772, 0.6086, 0.6465, 0.5498, 0.5181, 0.5357, 0.5426, 0.5733, 0.6344, 0.6754, 0.5285, 0.5144, 0.5755, 0.5747, 0.6739, 0.6397, 0.6187, 0.5594, 0.6798, 0.7001, 0.7487, 0.8185, 0.7838, 0.7208, 0.5902, 0.7336, 0.7688, 0.8015, 0.8032, 0.8503, 0.8002, 0.6902, 0.5271, 0.6088, 0.7011, 0.7833, 0.7743, 0.7771, 0.7536, 0.7433, 0.6748, 0.683, 0.6901, 0.6833, 0.6147, 0.5841, 0.5111, 0.5034, 0.511, 0.5137, 0.5657, 0.6402, 0.7231, 0.6645, 0.6069, 0.5266, 0.5327, 0.5323, 0.5231, 0.5047, 0.6678, 0.6274, 0.6309, 0.6384, 0.6783, 0.6606, 0.7348, 0.7382, 0.7465, 0.7093, 0.7505, 0.7404, 0.7076, 0.6716, 0.6969, 0.7046, 0.6588, 0.6801, 0.7089, 0.7031, 0.6898, 0.7468, 0.7257, 0.695, 0.7115, 0.7183, 0.7102, 0.7167, 0.7637, 0.7607, 0.7751, 0.777, 0.755, 0.778, 0.7795, 0.7214, 0.6761, 0.6444, 0.5969, 0.5265, 0.5842, 0.6452, 0.6856, 0.7176, 0.7659, 0.7813, 0.7376, 0.7482, 0.7356, 0.6828, 0.6583, 0.6522, 0.5803, 0.5534, 0.5546, 0.544, 0.6648, 0.661, 0.7672, 0.7928, 0.7818, 0.7893, 0.7745, 0.7316, 0.736, 0.7348, 0.6852, 0.6818, 0.6315, 0.5443, 0.5571, 0.5247, 0.5904, 0.5632, 0.6051, 0.5301, 0.6006, 0.5042, 0.6123, 0.6538, 0.6145, 0.7015, 0.6946, 0.7253, 0.7675, 0.7913, 0.7908, 0.7822, 0.7684, 0.7419, 0.7272, 0.6792, 0.6885, 0.714, 0.7012, 0.6722, 0.7087, 0.7014, 0.7521, 0.7344, 0.757, 0.7349, 0.7128, 0.6975, 0.6839, 0.5946, 0.5828, 0.5987, 0.5569, 0.5738, 0.5546, 0.633, 0.5443, 0.6677, 0.7214, 0.686, 0.6826, 0.7611, 0.7055, 0.729, 0.7324, 0.6249, 0.567, 0.5195, 0.6549, 0.6014, 0.5441, 0.5448, 0.5711, 0.6734, 0.6052, 0.6164, 0.6553, 0.6367, 0.6598, 0.6996, 0.6735, 0.6311, 0.6807, 0.5107, 0.5271, 0.511, 0.5726, 0.5631, 0.5818, 0.5553, 0.6317, 0.5797, 0.5619, 0.5729, 0.5447, 0.6189, 0.6436, 0.6074, 0.6571, 0.6942, 0.6233, 0.6202, 0.699, 0.6811, 0.7057, 0.6678, 0.6036, 0.5698, 0.6387, 0.5877, 0.6489, 0.7144, 0.7284, 0.6749, 0.6921, 0.7207, 0.7184, 0.6798, 0.7305, 0.6343, 0.6362, 0.6519, 0.644, 0.5078, 0.5584, 0.5254, 0.5133, 0.7446, 0.6416, 0.6309, 0.5791, 0.5371, 0.7325, 0.6746, 0.726, 0.7258, 0.6796, 0.6949, 0.7092, 0.736, 0.7235, 0.7253, 0.7027, 0.6273, 0.6018, 0.6009, 0.6104, 0.6263, 0.5711, 0.525, 0.5515, 0.5285, 0.5647, 0.6164, 0.6381, 0.5666, 0.641, 0.6785, 0.7069, 0.6655, 0.7485, 0.6697, 0.7266, 0.6688, 0.678, 0.6474, 0.6819, 0.6062, 0.7036, 0.6768, 0.7245, 0.7032, 0.5748, 0.5261, 0.5182, 0.5711, 0.5171, 0.5106, 0.5931, 0.5701, 0.5252, 0.6429, 0.5208, 0.5303, 0.6754, 0.726, 0.7239, 0.7753, 0.7299, 0.701, 0.6562, 0.6469, 0.5684, 0.5998, 0.6295, 0.5733, 0.6124, 0.6259, 0.6496, 0.6478, 0.6616, 0.6828, 0.686, 0.6521, 0.7116, 0.6953, 0.6248, 0.641, 0.6902, 0.685, 0.705, 0.7245, 0.5709, 0.5744, 0.5879, 0.6089, 0.5455, 0.6442, 0.6005, 0.6673, 0.6311, 0.6202, 0.6788, 0.6369, 0.6319, 0.6594, 0.5336, 0.5456, 0.5514, 0.5523, 0.5565, 0.6201, 0.6175, 0.5684, 0.6159, 0.6172, 0.5428, 0.6501, 0.7489, 0.7052, 0.5824, 0.6509, 0.6502, 0.6761, 0.7162, 0.7112, 0.7015, 0.5968, 0.5791, 0.5396, 0.5438, 0.5397, 0.6429, 0.6207, 0.5881, 0.6154, 0.5847, 0.5819, 0.6295, 0.6852, 0.6727, 0.6368, 0.6678, 0.6868, 0.7339, 0.738, 0.767, 0.7241, 0.6893, 0.6943, 0.6649, 0.6528, 0.7323, 0.7471, 0.7593, 0.7647, 0.7435, 0.725, 0.7264, 0.7168, 0.733, 0.7746, 0.7165, 0.6964, 0.6958, 0.6408, 0.6426, 0.6121, 0.6162, 0.667, 0.6353, 0.66, 0.6237, 0.649, 0.6093, 0.63, 0.6445, 0.6832, 0.6999, 0.6967, 0.7357, 0.773, 0.7266, 0.7829, 0.7518, 0.6864, 0.5624, 0.5009, 0.6408, 0.6783, 0.5748, 0.5023, 0.5308, 0.621, 0.5956, 0.5735, 0.6496, 0.631, 0.7343, 0.6967, 0.7082, 0.7245, 0.6737, 0.6348, 0.5566, 0.5369, 0.5574, 0.6293, 0.6373, 0.7357, 0.6946, 0.5937, 0.6309, 0.5929, 0.6296, 0.6161, 0.5514, 0.5241, 0.5292, 0.5341, 0.5507, 0.6136, 0.6528, 0.6921, 0.6611, 0.7066, 0.5794, 0.6092, 0.719, 0.7407, 0.7321, 0.7256, 0.7175, 0.6852, 0.7203, 0.7222, 0.7401, 0.708, 0.6952, 0.6094, 0.6105, 0.6254, 0.646, 0.6412, 0.7068, 0.7339, 0.6436, 0.6781, 0.5927, 0.509, 0.5743, 0.6017, 0.6054, 0.5479, 0.5328, 0.5971, 0.6945, 0.6345, 0.7024, 0.6617, 0.6681, 0.6656, 0.6304, 0.567, 0.6792, 0.8468, 0.8925, 0.8771, 0.876, 0.8759, 0.8349, 0.8428, 0.8257, 0.8401, 0.7427, 0.6203, 0.5232, 0.7179, 0.8542, 0.784, 0.6965, 0.614, 0.5643, 0.5125, 0.5856, 0.5952, 0.6111, 0.6457, 0.6384, 0.6261, 0.5443, 0.5275, 0.5514, 0.5524, 0.6057, 0.7014, 0.659, 0.6927, 0.771, 0.6809, 0.631, 0.602, 0.5535, 0.5669, 0.5561, 0.5324, 0.538, 0.6245, 0.5667, 0.5372, 0.5922, 0.5844, 0.5071, 0.5368, 0.599, 0.6633, 0.6543, 0.6848, 0.6619, 0.6096, 0.5041, 0.553, 0.5593, 0.5972, 0.6526, 0.7249, 0.6946, 0.6204, 0.6115, 0.5381, 0.564, 0.5927, 0.5142, 0.7877, 0.9289, 0.9932, 0.9944, 0.9976, 0.9943, 0.9532, 0.7649, 0.7043, 0.6815, 0.6909, 0.7702, 0.6259, 0.5579, 0.6514, 0.5628, 0.6497, 0.6067, 0.6329, 0.6103, 0.7414, 0.7724, 0.7271, 0.6478, 0.6026, 0.5881, 0.5744, 0.5206, 0.6188, 0.6373, 0.6539, 0.6205, 0.6011, 0.5469, 0.6195, 0.5042, 0.6012, 0.6712, 0.6348, 0.5691, 0.6508, 0.6526, 0.6049, 0.5933, 0.6488, 0.616, 0.6242, 0.7568, 0.755, 0.742, 0.7546, 0.6805, 0.5908, 0.5194, 0.5273, 0.6019, 0.514, 0.5059, 0.6038, 0.5648, 0.614, 0.6168, 0.6896, 0.6045, 0.6561, 0.6264, 0.5221, 0.5383, 0.5915, 0.6649, 0.6672, 0.5375, 0.5641, 0.6205, 0.6374, 0.5525, 0.5891, 0.675, 0.7269, 0.7278, 0.6468, 0.5774, 0.6054, 0.5562, 0.5777, 0.6391, 0.6873, 0.6039, 0.5197, 0.5597, 0.5646, 0.6026, 0.5945, 0.5551, 0.569, 0.6007, 0.5726, 0.5055, 0.6193, 0.6295, 0.6791, 0.6827, 0.7102, 0.7111, 0.7198, 0.6431, 0.5842, 0.5771, 0.5946, 0.576, 0.6825, 0.7556, 0.7296, 0.7116, 0.7017, 0.7248, 0.6364, 0.5811, 0.6115, 0.6232, 0.5156, 0.5899, 0.6314, 0.6658, 0.6611, 0.6908, 0.6915, 0.6426, 0.7043, 0.6808, 0.7528, 0.7063, 0.756, 0.7496, 0.7396, 0.7136, 0.7169, 0.6924, 0.7275, 0.6422, 0.621, 0.5371, 0.5559, 0.5348, 0.627, 0.6508, 0.6711, 0.7147, 0.6539, 0.6461, 0.6989, 0.7218, 0.6508, 0.7085, 0.6783, 0.686, 0.7086, 0.71, 0.6397, 0.714, 0.69, 0.7339, 0.7202, 0.745, 0.7278, 0.6588, 0.5489, 0.5034, 0.619, 0.6278, 0.6126, 0.5453, 0.5071, 0.6146, 0.6756, 0.7199, 0.7028, 0.6924, 0.6876, 0.6672, 0.6704, 0.6082, 0.61, 0.5653, 0.5779, 0.5378, 0.5799, 0.7074, 0.8416, 0.9294, 0.9068, 0.8901, 0.7921, 0.5905, 0.602, 0.7077, 0.6912, 0.7066, 0.6871, 0.6264, 0.6423, 0.7338, 0.724, 0.7651, 0.7539, 0.6896, 0.5401, 0.5505, 0.5374, 0.6208, 0.5651, 0.5316, 0.5505, 0.5331, 0.5327, 0.5069, 0.6026, 0.5424, 0.5773, 0.63, 0.6404, 0.645, 0.6054, 0.6884, 0.7109, 0.7206, 0.7221, 0.5653, 0.5501, 0.6682, 0.7235, 0.7409, 0.5941, 0.5471, 0.6438, 0.7482, 0.6719, 0.6944, 0.6984, 0.6625, 0.5932, 0.6121, 0.6769, 0.6845, 0.6581, 0.5749, 0.6519, 0.5609, 0.6724, 0.5968, 0.6775, 0.7134, 0.6171, 0.6039, 0.5561, 0.5495, 0.5084, 0.589, 0.5675, 0.5015, 0.5386, 0.5401, 0.6601, 0.7478, 0.7446, 0.7566, 0.6113, 0.5468, 0.6068, 0.5942, 0.6182, 0.5227, 0.6057, 0.5974, 0.5253, 0.5239, 0.5013, 0.6512, 0.6417, 0.6701, 0.6748, 0.6832, 0.5635, 0.641, 0.6957, 0.7158, 0.6797, 0.7253, 0.7413, 0.7011, 0.5777, 0.5394, 0.6347, 0.6462, 0.6418, 0.5827, 0.5579, 0.6425, 0.7312, 0.7206, 0.7341, 0.7276, 0.6204, 0.6288, 0.6131, 0.5014, 0.5325, 0.5023, 0.6867, 0.517, 0.5233, 0.5204, 0.5078, 0.6053, 0.5181, 0.5602, 0.5754, 0.5797, 0.6573, 0.5794, 0.5656, 0.5512, 0.5521, 0.5683, 0.636, 0.6941, 0.6099, 0.6037, 0.542, 0.5936, 0.7297, 0.7125, 0.7915, 0.6616, 0.5796, 0.5275, 0.5777, 0.6677, 0.7135, 0.6906, 0.6955, 0.7287, 0.7318, 0.7089, 0.6924, 0.693, 0.5107, 0.539, 0.5567, 0.6063, 0.6193, 0.7418, 0.6945, 0.6631, 0.7122, 0.7282, 0.712, 0.7649, 0.6532, 0.5111, 0.5113, 0.5075, 0.6014, 0.5354, 0.5473, 0.5611, 0.5659, 0.5944, 0.6705, 0.6702, 0.6704, 0.6689, 0.6975, 0.7096, 0.7354, 0.7014, 0.5403, 0.5204, 0.544, 0.5119, 0.575, 0.531, 0.5503, 0.5895, 0.5807, 0.6921, 0.7244, 0.6604, 0.6892, 0.6584, 0.705, 0.7025, 0.6602, 0.5881, 0.6174, 0.6459, 0.6243, 0.6726, 0.7437, 0.6806, 0.6561, 0.6611, 0.7287, 0.6991, 0.7279, 0.7409, 0.6686, 0.6622, 0.607, 0.5892, 0.5028, 0.5023, 0.5003, 0.6654, 0.6878, 0.7726, 0.7539, 0.6761, 0.6547, 0.6504, 0.6892, 0.6654, 0.7052, 0.688, 0.7179, 0.6308, 0.5788, 0.5585, 0.6242, 0.5543, 0.5331, 0.5247, 0.5439, 0.5586, 0.6455, 0.6752, 0.6532, 0.5684, 0.6074, 0.5954, 0.689, 0.5598, 0.6381, 0.5473, 0.5072, 0.5421, 0.5283, 0.5393, 0.5553, 0.5821, 0.6608, 0.7472, 0.5613, 0.56, 0.5023, 0.5373, 0.547, 0.6197, 0.6244, 0.6705, 0.6164, 0.5143, 0.524, 0.5623, 0.5327, 0.5417, 0.5674, 0.543, 0.626, 0.7501, 0.8446, 0.9129, 0.9176, 0.812, 0.6247, 0.5941, 0.6733, 0.7615, 0.7031, 0.5537, 0.6395, 0.6258, 0.6362, 0.6243, 0.6464, 0.5742, 0.6056, 0.5132, 0.5629, 0.5897, 0.5976, 0.697, 0.6266, 0.7472, 0.7279, 0.7153, 0.7444, 0.7203, 0.6116, 0.5277, 0.5369, 0.5264, 0.5111, 0.643, 0.6408, 0.7071, 0.6574, 0.5949, 0.5812, 0.5442, 0.696, 0.6524, 0.9984, 1.0, 1.0, 1.0, 1.0, 0.9997, 0.9982, 0.7322, 0.7385, 0.5601, 0.6331, 0.6696, 0.6603, 0.65, 0.5536, 0.5349, 0.6855, 0.721, 0.6227, 0.7432, 0.6242, 0.5474, 0.5314, 0.5035, 0.5866, 0.6299, 0.5092, 0.5133, 0.5753, 0.5393, 0.5938, 0.5483, 0.5309, 0.7435, 0.7052, 0.7546, 0.7531, 0.6961, 0.5457, 0.545, 0.6189, 0.615, 0.5783, 0.6085, 0.5847, 0.5872, 0.6087, 0.5828, 0.6688, 0.5358, 0.5853, 0.6042, 0.6163, 0.6174, 0.7367, 0.7472, 0.7215, 0.7325, 0.6893, 0.7003, 0.6799, 0.6833, 0.6175, 0.5696, 0.5941, 0.6364, 0.5888, 0.5818, 0.6591, 0.6695, 0.6186, 0.6264, 0.5079, 0.5557, 0.5759, 0.541, 0.5895, 0.5417, 0.5436, 0.504, 0.6588, 0.6306, 0.5912, 0.5011, 0.5528, 0.6189, 0.6496, 0.7754, 0.8923, 0.9451, 0.9437, 0.9532, 0.9316, 0.8298, 0.5693, 0.6065, 0.6826, 0.7303, 0.7081, 0.7048, 0.6867, 0.6095, 0.5983, 0.6577, 0.5947, 0.5207, 0.5864, 0.5768, 0.6218, 0.6745, 0.6698, 0.5709, 0.5371, 0.6879, 0.6579, 0.6974, 0.6341, 0.5858, 0.6868, 0.5913, 0.6008, 0.6883, 0.6243, 0.648, 0.6433, 0.6201, 0.6157, 0.5387, 0.572, 0.6192, 0.5641, 0.697, 0.6509, 0.6512, 0.6436, 0.6494, 0.7142, 0.653, 0.6959, 0.696, 0.6975, 0.7368, 0.6559, 0.7079, 0.6618, 0.6423, 0.5992, 0.7114, 0.6441, 0.6621, 0.6001, 0.6158, 0.609, 0.6022, 0.6088, 0.5146, 0.5585, 0.5029, 0.529, 0.5564, 0.6267, 0.6906, 0.7745, 0.7566, 0.7657, 0.7713, 0.7585, 0.7205, 0.7179, 0.7078, 0.7263, 0.683, 0.7317, 0.7487, 0.7298, 0.6794, 0.708, 0.6842, 0.6835, 0.6077, 0.5517, 0.5735, 0.5629, 0.5322, 0.5919, 0.5376, 0.5134, 0.5491, 0.5785, 0.6956, 0.7555, 0.768, 0.7817, 0.7675, 0.7479, 0.735, 0.6539, 0.6415, 0.6743, 0.5951, 0.6069, 0.548, 0.5288, 0.588, 0.7107, 0.7613, 0.7429, 0.6969, 0.5704, 0.593, 0.6495, 0.7014, 0.7548, 0.6541, 0.6247, 0.6333, 0.5108, 0.5601, 0.5446, 0.5984, 0.6043, 0.5786, 0.5056, 0.5359, 0.7263, 0.7325, 0.7127, 0.7398, 0.63, 0.5444, 0.5312, 0.5582, 0.5109, 0.5805, 0.5393, 0.5449, 0.5228, 0.6481, 0.5446, 0.5815, 0.5914, 0.554, 0.5676, 0.5157, 0.5444, 0.6243, 0.5326, 0.531, 0.5574, 0.6519, 0.6371, 0.64, 0.6277, 0.6322, 0.6207, 0.6048, 0.5503, 0.5495, 0.6153, 0.604, 0.6705, 0.6267, 0.5774, 0.5605, 0.5764, 0.5532, 0.735, 0.5814, 0.5898, 0.5223, 0.7024, 0.5615, 0.6567, 0.557, 0.6575, 0.5438, 0.5637, 0.6961, 0.6883, 0.6571, 0.6148, 0.5575, 0.6663, 0.7185, 0.7082, 0.6433, 0.5014, 0.6788, 0.643, 0.6125, 0.7321, 0.7536, 0.6968, 0.6928, 0.5123, 0.5349, 0.615, 0.5586, 0.6416, 0.5491, 0.5853, 0.7214, 0.7272, 0.6252, 0.6129, 0.6773, 0.6157, 0.6678, 0.6445, 0.6653, 0.6986, 0.5382, 0.5959, 0.6901, 0.8574, 0.9373, 0.8919, 0.9199, 0.8231, 0.5319, 0.524, 0.6064, 0.6278, 0.6572, 0.6644, 0.7785, 0.745, 0.7623, 0.7479, 0.7224, 0.7068, 0.6177, 0.6072, 0.6111, 0.5184, 0.6188, 0.6299, 0.5865, 0.6103, 0.5526, 0.6421, 0.7708]\n"
     ]
    }
   ],
   "source": [
    "def anomaly_score(error, dist):\n",
    "    delta = np.abs(error - dist.mean())\n",
    "    return dist.cdf(dist.mean() + delta)\n",
    "\n",
    "\n",
    "result = [np.round(anomaly_score(x, dist), 4) for x in val_errors]\n",
    "print(result)"
   ]
  },
  {
   "cell_type": "code",
   "execution_count": 54,
   "metadata": {
    "colab": {},
    "colab_type": "code",
    "id": "3gxaO-sVfMGN"
   },
   "outputs": [],
   "source": [
    "f = []\n",
    "for i in range(len(y_val)):\n",
    "  f.append(y_val[i][0])\n"
   ]
  },
  {
   "cell_type": "code",
   "execution_count": 55,
   "metadata": {
    "colab": {
     "base_uri": "https://localhost:8080/",
     "height": 283
    },
    "colab_type": "code",
    "id": "BTk0i65SXonQ",
    "outputId": "215e53e5-fadc-428b-8926-9110692e7f32"
   },
   "outputs": [
    {
     "data": {
      "text/plain": [
       "<matplotlib.legend.Legend at 0x7f13e3347940>"
      ]
     },
     "execution_count": 55,
     "metadata": {
      "tags": []
     },
     "output_type": "execute_result"
    },
    {
     "data": {
      "image/png": "[encoded data removed]",
      "text/plain": [
       "<Figure size 432x288 with 1 Axes>"
      ]
     },
     "metadata": {
      "needs_background": "light",
      "tags": []
     },
     "output_type": "display_data"
    }
   ],
   "source": [
    "import matplotlib.pyplot as plt\n",
    "\n",
    "plt.plot(y_val[:,0], label=\"Original\")\n",
    "plt.plot(y_val_pred[:,0],color=\"r\", label=\"Predicted\")\n",
    "plt.legend()"
   ]
  },
  {
   "cell_type": "code",
   "execution_count": 55,
   "metadata": {
    "colab": {},
    "colab_type": "code",
    "id": "m_a-9itLsUyJ"
   },
   "outputs": [],
   "source": [
    "\n"
   ]
  },
  {
   "cell_type": "code",
   "execution_count": 56,
   "metadata": {
    "colab": {
     "base_uri": "https://localhost:8080/",
     "height": 55
    },
    "colab_type": "code",
    "id": "IZ1ALpyFoct3",
    "outputId": "e334ba5a-0f6e-4b15-8ad1-7bd72b6b897a"
   },
   "outputs": [
    {
     "name": "stdout",
     "output_type": "stream",
     "text": [
      "[array([77]), array([37]), array([32]), array([64]), array([109]), array([95]), array([51]), array([45]), array([47]), array([59]), array([76]), array([92]), array([99]), array([126]), array([55]), array([73]), array([66]), array([69]), array([58]), array([59]), array([86]), array([67]), array([78]), array([94]), array([73]), array([257]), array([164]), array([118]), array([65]), array([60]), array([53]), array([89]), array([102]), array([56]), array([89]), array([85]), array([85])]\n"
     ]
    }
   ],
   "source": [
    "# For MAE plot\n",
    "plot_x=[]\n",
    "plot_y=[]\n",
    "for i in range(len(results)): \n",
    "  if results[i] == 1:\n",
    "    plot_x.append(i)\n",
    "    plot_y.append(y_val[i][0])\n",
    "print(plot_y)"
   ]
  },
  {
   "cell_type": "code",
   "execution_count": 57,
   "metadata": {
    "colab": {
     "base_uri": "https://localhost:8080/",
     "height": 299
    },
    "colab_type": "code",
    "id": "7dEpG19ArEuo",
    "outputId": "97669be1-aa30-4a24-ffdc-47ff6ca34229"
   },
   "outputs": [
    {
     "data": {
      "text/plain": [
       "Text(0.5, 1.0, 'MAE Error Metric')"
      ]
     },
     "execution_count": 57,
     "metadata": {
      "tags": []
     },
     "output_type": "execute_result"
    },
    {
     "data": {
      "image/png": "[encoded data removed]",
      "text/plain": [
       "<Figure size 432x288 with 1 Axes>"
      ]
     },
     "metadata": {
      "needs_background": "light",
      "tags": []
     },
     "output_type": "display_data"
    }
   ],
   "source": [
    "plt.plot(y_val[:,0].squeeze())\n",
    "plt.scatter(plot_x,plot_y, color=\"r\",s=20)\n",
    "plt.title(\"MAE Error Metric\")\n"
   ]
  },
  {
   "cell_type": "code",
   "execution_count": 58,
   "metadata": {
    "colab": {
     "base_uri": "https://localhost:8080/",
     "height": 55
    },
    "colab_type": "code",
    "id": "J1NKnNKXxAQQ",
    "outputId": "b74d6c03-81ed-4971-ad24-a7761217ca2f"
   },
   "outputs": [
    {
     "name": "stdout",
     "output_type": "stream",
     "text": [
      "[array([77]), array([37]), array([32]), array([64]), array([109]), array([95]), array([51]), array([45]), array([47]), array([59]), array([76]), array([92]), array([99]), array([126]), array([55]), array([73]), array([66]), array([69]), array([58]), array([59]), array([86]), array([67]), array([78]), array([94]), array([73]), array([257]), array([164]), array([118]), array([65]), array([60]), array([53]), array([89]), array([102]), array([56]), array([89]), array([85]), array([85])]\n"
     ]
    }
   ],
   "source": [
    "# For MSE plot\n",
    "plot_x=[]\n",
    "plot_y=[]\n",
    "for i in range(len(results_mse)): \n",
    "  if results_mse[i] == 1:\n",
    "    plot_x.append(i)\n",
    "    plot_y.append(y_val[i][0])\n",
    "print(plot_y)"
   ]
  },
  {
   "cell_type": "code",
   "execution_count": 59,
   "metadata": {
    "colab": {
     "base_uri": "https://localhost:8080/",
     "height": 299
    },
    "colab_type": "code",
    "id": "Zn03ZrwGxPOO",
    "outputId": "e848ef3a-3c33-49cd-d9a5-c04a958fdcf4"
   },
   "outputs": [
    {
     "data": {
      "text/plain": [
       "Text(0.5, 1.0, 'MSE Error Metric')"
      ]
     },
     "execution_count": 59,
     "metadata": {
      "tags": []
     },
     "output_type": "execute_result"
    },
    {
     "data": {
      "image/png": "[encoded data removed]",
      "text/plain": [
       "<Figure size 432x288 with 1 Axes>"
      ]
     },
     "metadata": {
      "needs_background": "light",
      "tags": []
     },
     "output_type": "display_data"
    }
   ],
   "source": [
    "plt.plot(y_val[:,0].squeeze())\n",
    "plt.scatter(plot_x,plot_y, color=\"r\",s=20)\n",
    "plt.title(\"MSE Error Metric\")"
   ]
  },
  {
   "cell_type": "code",
   "execution_count": 59,
   "metadata": {
    "colab": {},
    "colab_type": "code",
    "id": "zE3DBx2BxTMh"
   },
   "outputs": [],
   "source": []
  },
  {
   "cell_type": "code",
   "execution_count": 60,
   "metadata": {
    "colab": {
     "base_uri": "https://localhost:8080/",
     "height": 336
    },
    "colab_type": "code",
    "id": "6pVYAh9Eykov",
    "outputId": "3a342730-f80b-4ad3-ecac-decd3c4cf35a"
   },
   "outputs": [
    {
     "name": "stdout",
     "output_type": "stream",
     "text": [
      "[array([77]), array([37]), array([32]), array([64]), array([109]), array([95]), array([51]), array([45]), array([47]), array([59]), array([76]), array([92]), array([99]), array([126]), array([55]), array([73]), array([66]), array([69]), array([58]), array([59]), array([86]), array([67]), array([78]), array([94]), array([73]), array([257]), array([164]), array([118]), array([65]), array([60]), array([53]), array([89]), array([102]), array([56]), array([89]), array([85]), array([85])]\n"
     ]
    },
    {
     "data": {
      "text/plain": [
       "Text(0.5, 1.0, 'R2 Score Metric')"
      ]
     },
     "execution_count": 60,
     "metadata": {
      "tags": []
     },
     "output_type": "execute_result"
    },
    {
     "data": {
      "image/png": "[encoded data removed]",
      "text/plain": [
       "<Figure size 432x288 with 1 Axes>"
      ]
     },
     "metadata": {
      "needs_background": "light",
      "tags": []
     },
     "output_type": "display_data"
    }
   ],
   "source": [
    "# For R2 plot\n",
    "plot_x=[]\n",
    "plot_y=[]\n",
    "for i in range(len(results_r2)): \n",
    "  if results_r2[i] == 1:\n",
    "    plot_x.append(i)\n",
    "    plot_y.append(y_val[i][0])\n",
    "print(plot_y)\n",
    "\n",
    "plt.plot(y_val[:,0].squeeze())\n",
    "plt.scatter(plot_x,plot_y, color=\"r\", s=20)\n",
    "plt.title(\"R2 Score Metric\")"
   ]
  },
  {
   "cell_type": "code",
   "execution_count": 61,
   "metadata": {
    "colab": {
     "base_uri": "https://localhost:8080/",
     "height": 313
    },
    "colab_type": "code",
    "id": "TNJoiiX1sDti",
    "outputId": "6baff57c-5129-48df-fbab-aab9131782cd"
   },
   "outputs": [
    {
     "data": {
      "text/plain": [
       "<matplotlib.legend.Legend at 0x7f13d6ae5710>"
      ]
     },
     "execution_count": 61,
     "metadata": {
      "tags": []
     },
     "output_type": "execute_result"
    },
    {
     "data": {
      "image/png": "[encoded data removed]",
      "text/plain": [
       "<Figure size 432x288 with 1 Axes>"
      ]
     },
     "metadata": {
      "needs_background": "light",
      "tags": []
     },
     "output_type": "display_data"
    }
   ],
   "source": [
    "plt.figure()\n",
    "plt.plot(history.history['loss'])\n",
    "plt.plot(history.history['val_loss'])\n",
    "plt.title('Train vs Validation Loss over time')\n",
    "plt.ylabel('loss')\n",
    "plt.xlabel('epoch')\n",
    "plt.legend(['train', 'test'], loc='best')"
   ]
  },
  {
   "cell_type": "code",
   "execution_count": 61,
   "metadata": {
    "colab": {},
    "colab_type": "code",
    "id": "XNgevzfsSJ5W"
   },
   "outputs": [],
   "source": []
  }
 ],
 "metadata": {
  "colab": {
   "name": "Part1P4_288.ipynb",
   "provenance": []
  },
  "kernelspec": {
   "display_name": "Python 3",
   "language": "python",
   "name": "python3"
  },
  "language_info": {
   "codemirror_mode": {
    "name": "ipython",
    "version": 3
   },
   "file_extension": ".py",
   "mimetype": "text/x-python",
   "name": "python",
   "nbconvert_exporter": "python",
   "pygments_lexer": "ipython3",
   "version": "3.7.6"
  }
 },
 "nbformat": 4,
 "nbformat_minor": 1
}
