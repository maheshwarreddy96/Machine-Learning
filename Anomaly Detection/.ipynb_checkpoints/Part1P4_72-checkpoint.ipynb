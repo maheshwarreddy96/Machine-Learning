{
 "cells": [
  {
   "cell_type": "markdown",
   "metadata": {
    "colab_type": "text",
    "id": "vRc-kljksUw8"
   },
   "source": [
    "## Anomaly Detection"
   ]
  },
  {
   "cell_type": "code",
   "execution_count": 1,
   "metadata": {
    "colab": {},
    "colab_type": "code",
    "id": "pR-QIZlssUw_"
   },
   "outputs": [],
   "source": [
    "%matplotlib inline\n",
    "import datetime\n",
    "import matplotlib.pyplot as plt\n",
    "import numpy as np\n",
    "import pandas as pd\n",
    "from keras import backend as K\n",
    "from keras.models import Model\n",
    "from keras.layers import Activation, BatchNormalization\n",
    "from keras.layers import Dropout, Dense, Input, LSTM\n",
    "from keras.optimizers import Adam"
   ]
  },
  {
   "cell_type": "markdown",
   "metadata": {
    "colab_type": "text",
    "id": "iMnneuhIXs3k"
   },
   "source": [
    "Reading data from https://github.com/numenta/NAB/tree/master/data. The data is about the number of tweets by Amazon every 5 minutes."
   ]
  },
  {
   "cell_type": "code",
   "execution_count": 2,
   "metadata": {
    "colab": {
     "base_uri": "https://localhost:8080/",
     "height": 35
    },
    "colab_type": "code",
    "id": "1DxdMORisUxF",
    "outputId": "65fae1cf-bab4-4613-d2cc-e4ef1c86adfd"
   },
   "outputs": [
    {
     "data": {
      "text/plain": [
       "(15831, 2)"
      ]
     },
     "execution_count": 2,
     "metadata": {
      "tags": []
     },
     "output_type": "execute_result"
    }
   ],
   "source": [
    "data = pd.read_csv('https://raw.githubusercontent.com/numenta/NAB/master/data/realTweets/Twitter_volume_AMZN.csv')\n",
    "data.shape"
   ]
  },
  {
   "cell_type": "code",
   "execution_count": 3,
   "metadata": {
    "colab": {
     "base_uri": "https://localhost:8080/",
     "height": 413
    },
    "colab_type": "code",
    "id": "VNsSOE2vsUxO",
    "outputId": "74997c2d-9602-4452-912e-05b490688ea9",
    "scrolled": false
   },
   "outputs": [
    {
     "data": {
      "text/plain": [
       "(array([-2000.,     0.,  2000.,  4000.,  6000.,  8000., 10000., 12000.,\n",
       "        14000., 16000., 18000.]), <a list of 11 Text major ticklabel objects>)"
      ]
     },
     "execution_count": 3,
     "metadata": {
      "tags": []
     },
     "output_type": "execute_result"
    },
    {
     "data": {
      "image/png": "[encoded data removed]",
      "text/plain": [
       "<Figure size 432x288 with 1 Axes>"
      ]
     },
     "metadata": {
      "needs_background": "light",
      "tags": []
     },
     "output_type": "display_data"
    }
   ],
   "source": [
    "data.set_index('timestamp').plot()\n",
    "plt.xticks(rotation='vertical')\n",
    "plt.title(\"Plot the Original data\")"
   ]
  },
  {
   "cell_type": "markdown",
   "metadata": {
    "colab_type": "text",
    "id": "k-xiXnaRX-LZ"
   },
   "source": [
    "Splitting the data into test and validation. We attempt to predict the next 5 values based on the previous 72 values (6 hours)."
   ]
  },
  {
   "cell_type": "code",
   "execution_count": 4,
   "metadata": {
    "colab": {
     "base_uri": "https://localhost:8080/",
     "height": 35
    },
    "colab_type": "code",
    "id": "IdRmPStssUxR",
    "outputId": "89bf0166-bb63-4709-9f2d-6b9619612d55"
   },
   "outputs": [
    {
     "data": {
      "text/plain": [
       "((14247, 1), (14247, 1), (1583, 1), (1583, 1))"
      ]
     },
     "execution_count": 4,
     "metadata": {
      "tags": []
     },
     "output_type": "execute_result"
    }
   ],
   "source": [
    "from sklearn.model_selection import train_test_split\n",
    "\n",
    "X = data['value'].values.reshape((len(data), 1))\n",
    "y = data['value'].values.reshape((len(data), 1))\n",
    "\n",
    "X = X[:-1, :]\n",
    "y = y[1:, :]\n",
    "\n",
    "# X_train, X_val, y_train, y_val = train_test_split(X, y, test_size=0.1, random_state=42)\n",
    "X_train, X_val, y_train, y_val = X[:int(len(X)*0.9)], X[int(len(X)*0.9):], y[:int(len(y)*0.9)], y[int(len(y)*0.9):]\n",
    "\n",
    "X_train.shape, y_train.shape, X_val.shape, y_val.shape"
   ]
  },
  {
   "cell_type": "code",
   "execution_count": 5,
   "metadata": {
    "colab": {},
    "colab_type": "code",
    "id": "luzZ7AXJsUxZ"
   },
   "outputs": [],
   "source": [
    "n_timesteps = 72\n",
    "n_samples = X_train.shape[0]\n",
    "n_features = X_train.shape[1]\n",
    "n_val_samples = X_val.shape[0]\n",
    "k=-5\n",
    "batch_size=128\n",
    "epochs=50\n"
   ]
  },
  {
   "cell_type": "code",
   "execution_count": 6,
   "metadata": {
    "colab": {
     "base_uri": "https://localhost:8080/",
     "height": 35
    },
    "colab_type": "code",
    "id": "LeXAJx9CsUxd",
    "outputId": "b0fc3ff5-ed24-46e1-f4b6-be831f5b9d0a"
   },
   "outputs": [
    {
     "name": "stdout",
     "output_type": "stream",
     "text": [
      "(14170, 72, 1) (14170, 5, 1) (1506, 72, 1) (1506, 5, 1)\n"
     ]
    }
   ],
   "source": [
    "X_train_list = [np.expand_dims(X_train[i-n_timesteps:i, :], axis=0) for i in range(n_timesteps, n_samples+1)]\n",
    "X_train_list = X_train_list[:k]\n",
    "X_train = np.concatenate(X_train_list, axis=0)\n",
    "y_train_list = [np.expand_dims(y_train[i:i+5, :], axis=0) for i in range(n_timesteps, n_samples -5 + 1)]\n",
    "y_train = np.concatenate(y_train_list, axis=0)\n",
    "X_train = X_train[:-1, :, :]\n",
    "y_train = y_train[1:, :, :]\n",
    "# y_train = y_train[n_timesteps-1:, :]\n",
    "\n",
    "\n",
    "X_val_list = [np.expand_dims(X_val[i-n_timesteps:i, :], axis=0) for i in range(n_timesteps, n_val_samples + 1)]\n",
    "X_val_list = X_val_list[:k]\n",
    "X_val = np.concatenate(X_val_list, axis=0)\n",
    "# y_val = y_val[n_timesteps-1:, :]\n",
    "y_val_list = [np.expand_dims(y_val[i:i+5, :], axis=0) for i in range(n_timesteps, n_val_samples- 5 + 1)]\n",
    "y_val = np.concatenate(y_val_list, axis=0)\n",
    "X_val = X_val[:-1, :, :]\n",
    "y_val = y_val[1:, :, :]\n",
    "print(X_train.shape, y_train.shape, X_val.shape, y_val.shape)"
   ]
  },
  {
   "cell_type": "code",
   "execution_count": 7,
   "metadata": {
    "colab": {},
    "colab_type": "code",
    "id": "HjxLtBrysUxg"
   },
   "outputs": [],
   "source": [
    "\n",
    "def Autoencoder(n_timesteps, n_features):\n",
    "    i = Input(shape=(n_timesteps,))\n",
    "    \n",
    "    # x = LSTM(50, return_sequences=True)(i)\n",
    "    x = Dense(200, kernel_initializer='he_normal')(i)\n",
    "    x = Dropout(0.4)(x)\n",
    "    \n",
    "    # x = LSTM(50)(x)\n",
    "    x = Dense(200, kernel_initializer='he_normal')(x)\n",
    "    x = Dropout(0.4)(x)\n",
    "\n",
    "    # x = LSTM(50)(x)\n",
    "    # x = Dense(200, kernel_initializer='he_normal')(x)\n",
    "    # x = Dropout(0.4)(x)\n",
    "\n",
    "    # x = Dense(200, kernel_initializer='he_normal')(x)\n",
    "    # x = Dropout(0.4)(x)\n",
    "\n",
    "    x = Dense(5, kernel_initializer='he_normal')(x)\n",
    "    x = Activation('linear')(x)\n",
    "\n",
    "    model = Model(inputs=i, outputs=x)\n",
    "    opt = Adam(lr=0.01)\n",
    "    model.compile(loss='mean_absolute_error', optimizer=opt)\n",
    "    \n",
    "    return model"
   ]
  },
  {
   "cell_type": "code",
   "execution_count": 8,
   "metadata": {
    "colab": {
     "base_uri": "https://localhost:8080/",
     "height": 399
    },
    "colab_type": "code",
    "id": "C9Zs146jsUxk",
    "outputId": "16efbefc-8d27-4d67-c130-2fc3177ec1e1"
   },
   "outputs": [
    {
     "name": "stdout",
     "output_type": "stream",
     "text": [
      "Model: \"functional_1\"\n",
      "_________________________________________________________________\n",
      "Layer (type)                 Output Shape              Param #   \n",
      "=================================================================\n",
      "input_1 (InputLayer)         [(None, 72)]              0         \n",
      "_________________________________________________________________\n",
      "dense (Dense)                (None, 200)               14600     \n",
      "_________________________________________________________________\n",
      "dropout (Dropout)            (None, 200)               0         \n",
      "_________________________________________________________________\n",
      "dense_1 (Dense)              (None, 200)               40200     \n",
      "_________________________________________________________________\n",
      "dropout_1 (Dropout)          (None, 200)               0         \n",
      "_________________________________________________________________\n",
      "dense_2 (Dense)              (None, 5)                 1005      \n",
      "_________________________________________________________________\n",
      "activation (Activation)      (None, 5)                 0         \n",
      "=================================================================\n",
      "Total params: 55,805\n",
      "Trainable params: 55,805\n",
      "Non-trainable params: 0\n",
      "_________________________________________________________________\n"
     ]
    }
   ],
   "source": [
    "model = Autoencoder(n_timesteps, 5)\n",
    "model.summary()"
   ]
  },
  {
   "cell_type": "code",
   "execution_count": 9,
   "metadata": {
    "colab": {
     "base_uri": "https://localhost:8080/",
     "height": 1000
    },
    "colab_type": "code",
    "id": "jN057xexsUxo",
    "outputId": "649fe1b4-a9c6-447a-c148-cb886a65b374"
   },
   "outputs": [
    {
     "name": "stdout",
     "output_type": "stream",
     "text": [
      "Epoch 1/50\n",
      "111/111 [==============================] - 0s 4ms/step - loss: 60.4821 - val_loss: 11.9193\n",
      "Epoch 2/50\n",
      "111/111 [==============================] - 0s 4ms/step - loss: 18.3815 - val_loss: 13.4576\n",
      "Epoch 3/50\n",
      "111/111 [==============================] - 0s 3ms/step - loss: 18.5731 - val_loss: 20.8403\n",
      "Epoch 4/50\n",
      "111/111 [==============================] - 0s 3ms/step - loss: 18.4427 - val_loss: 21.9280\n",
      "Epoch 5/50\n",
      "111/111 [==============================] - 0s 3ms/step - loss: 19.2173 - val_loss: 12.1583\n",
      "Epoch 6/50\n",
      "111/111 [==============================] - 0s 3ms/step - loss: 19.1196 - val_loss: 19.6569\n",
      "Epoch 7/50\n",
      "111/111 [==============================] - 0s 3ms/step - loss: 19.7204 - val_loss: 12.5641\n",
      "Epoch 8/50\n",
      "111/111 [==============================] - 0s 3ms/step - loss: 19.2461 - val_loss: 14.2582\n",
      "Epoch 9/50\n",
      "111/111 [==============================] - 0s 3ms/step - loss: 20.1442 - val_loss: 16.4364\n",
      "Epoch 10/50\n",
      "111/111 [==============================] - 0s 3ms/step - loss: 20.1756 - val_loss: 14.2276\n",
      "Epoch 11/50\n",
      "111/111 [==============================] - 0s 3ms/step - loss: 18.3251 - val_loss: 21.8887\n",
      "Epoch 12/50\n",
      "111/111 [==============================] - 0s 3ms/step - loss: 19.2806 - val_loss: 12.0239\n",
      "Epoch 13/50\n",
      "111/111 [==============================] - 0s 3ms/step - loss: 19.3009 - val_loss: 11.7355\n",
      "Epoch 14/50\n",
      "111/111 [==============================] - 0s 3ms/step - loss: 19.5102 - val_loss: 11.9190\n",
      "Epoch 15/50\n",
      "111/111 [==============================] - 0s 3ms/step - loss: 18.6796 - val_loss: 14.1920\n",
      "Epoch 16/50\n",
      "111/111 [==============================] - 0s 3ms/step - loss: 20.1223 - val_loss: 12.3131\n",
      "Epoch 17/50\n",
      "111/111 [==============================] - 0s 3ms/step - loss: 19.7431 - val_loss: 11.8097\n",
      "Epoch 18/50\n",
      "111/111 [==============================] - 0s 3ms/step - loss: 18.6517 - val_loss: 12.2844\n",
      "Epoch 19/50\n",
      "111/111 [==============================] - 0s 3ms/step - loss: 17.8572 - val_loss: 11.5381\n",
      "Epoch 20/50\n",
      "111/111 [==============================] - 0s 4ms/step - loss: 17.8946 - val_loss: 12.2220\n",
      "Epoch 21/50\n",
      "111/111 [==============================] - 0s 4ms/step - loss: 18.9565 - val_loss: 21.2352\n",
      "Epoch 22/50\n",
      "111/111 [==============================] - 0s 3ms/step - loss: 19.7596 - val_loss: 11.7443\n",
      "Epoch 23/50\n",
      "111/111 [==============================] - 0s 3ms/step - loss: 17.5267 - val_loss: 16.2434\n",
      "Epoch 24/50\n",
      "111/111 [==============================] - 0s 3ms/step - loss: 18.8408 - val_loss: 12.9209\n",
      "Epoch 25/50\n",
      "111/111 [==============================] - 0s 3ms/step - loss: 18.1218 - val_loss: 11.6093\n",
      "Epoch 26/50\n",
      "111/111 [==============================] - 0s 3ms/step - loss: 18.5115 - val_loss: 16.3638\n",
      "Epoch 27/50\n",
      "111/111 [==============================] - 0s 4ms/step - loss: 17.2225 - val_loss: 12.7294\n",
      "Epoch 28/50\n",
      "111/111 [==============================] - 0s 3ms/step - loss: 18.7355 - val_loss: 23.5946\n",
      "Epoch 29/50\n",
      "111/111 [==============================] - 0s 3ms/step - loss: 17.3683 - val_loss: 16.1834\n",
      "Epoch 30/50\n",
      "111/111 [==============================] - 0s 3ms/step - loss: 17.6550 - val_loss: 11.6103\n",
      "Epoch 31/50\n",
      "111/111 [==============================] - 0s 3ms/step - loss: 17.6411 - val_loss: 18.6031\n",
      "Epoch 32/50\n",
      "111/111 [==============================] - 0s 3ms/step - loss: 45.7362 - val_loss: 203.3660\n",
      "Epoch 33/50\n",
      "111/111 [==============================] - 0s 3ms/step - loss: 211.0117 - val_loss: 34.8004\n",
      "Epoch 34/50\n",
      "111/111 [==============================] - 0s 3ms/step - loss: 19.8948 - val_loss: 11.5815\n",
      "Epoch 35/50\n",
      "111/111 [==============================] - 0s 3ms/step - loss: 15.1815 - val_loss: 11.4185\n",
      "Epoch 36/50\n",
      "111/111 [==============================] - 0s 3ms/step - loss: 14.9757 - val_loss: 11.9094\n",
      "Epoch 37/50\n",
      "111/111 [==============================] - 0s 3ms/step - loss: 14.8041 - val_loss: 12.0368\n",
      "Epoch 38/50\n",
      "111/111 [==============================] - 0s 3ms/step - loss: 15.0944 - val_loss: 11.5217\n",
      "Epoch 39/50\n",
      "111/111 [==============================] - 0s 4ms/step - loss: 15.0072 - val_loss: 11.4819\n",
      "Epoch 40/50\n",
      "111/111 [==============================] - 0s 3ms/step - loss: 14.8213 - val_loss: 12.6265\n",
      "Epoch 41/50\n",
      "111/111 [==============================] - 0s 3ms/step - loss: 15.2689 - val_loss: 11.5242\n",
      "Epoch 42/50\n",
      "111/111 [==============================] - 0s 3ms/step - loss: 15.7177 - val_loss: 11.6154\n",
      "Epoch 43/50\n",
      "111/111 [==============================] - 0s 4ms/step - loss: 15.6009 - val_loss: 11.6432\n",
      "Epoch 44/50\n",
      "111/111 [==============================] - 0s 4ms/step - loss: 15.9943 - val_loss: 14.2293\n",
      "Epoch 45/50\n",
      "111/111 [==============================] - 0s 3ms/step - loss: 15.9865 - val_loss: 11.6605\n",
      "Epoch 46/50\n",
      "111/111 [==============================] - 0s 3ms/step - loss: 15.5327 - val_loss: 12.3428\n",
      "Epoch 47/50\n",
      "111/111 [==============================] - 0s 3ms/step - loss: 15.9460 - val_loss: 11.7069\n",
      "Epoch 48/50\n",
      "111/111 [==============================] - 0s 3ms/step - loss: 15.7243 - val_loss: 13.0890\n",
      "Epoch 49/50\n",
      "111/111 [==============================] - 0s 3ms/step - loss: 17.4230 - val_loss: 13.8313\n",
      "Epoch 50/50\n",
      "111/111 [==============================] - 0s 3ms/step - loss: 16.1600 - val_loss: 13.2016\n"
     ]
    }
   ],
   "source": [
    "# model = Autoencoder(n_timesteps, 5)\n",
    "# model.summary()\n",
    "history = model.fit(x=X_train.squeeze(), y=y_train.squeeze(), batch_size=batch_size, epochs=epochs, verbose=1,\n",
    "                    callbacks=None, validation_data=(X_val, y_val), shuffle=False)"
   ]
  },
  {
   "cell_type": "code",
   "execution_count": 10,
   "metadata": {
    "colab": {},
    "colab_type": "code",
    "id": "wA_qhq81sUxr"
   },
   "outputs": [],
   "source": [
    "y_train_pred = model.predict(X_train)"
   ]
  },
  {
   "cell_type": "code",
   "execution_count": 11,
   "metadata": {
    "colab": {
     "base_uri": "https://localhost:8080/",
     "height": 35
    },
    "colab_type": "code",
    "id": "QxIFcDAeXAo-",
    "outputId": "13b7a2f2-48f0-4d03-d2be-752be2b2b4c4"
   },
   "outputs": [
    {
     "data": {
      "text/plain": [
       "(14170, 5)"
      ]
     },
     "execution_count": 11,
     "metadata": {
      "tags": []
     },
     "output_type": "execute_result"
    }
   ],
   "source": [
    "y_train_pred.shape"
   ]
  },
  {
   "cell_type": "code",
   "execution_count": 12,
   "metadata": {
    "colab": {},
    "colab_type": "code",
    "id": "IdY_e3VHsUxv"
   },
   "outputs": [],
   "source": [
    "from sklearn.metrics import mean_absolute_error\n",
    "# y_train = y_train.reshape(y_train.shape[0], y_train.shape[1])\n",
    "errors = [mean_absolute_error(y_train[i, :], y_train_pred[i, :]) for i in range(y_train_pred.shape[0])]\n"
   ]
  },
  {
   "cell_type": "markdown",
   "metadata": {
    "colab_type": "text",
    "id": "rrD3hBk_W4iF"
   },
   "source": [
    "Since we have the list of errors, we plot to them to see how they are distributed."
   ]
  },
  {
   "cell_type": "code",
   "execution_count": 14,
   "metadata": {
    "colab": {
     "base_uri": "https://localhost:8080/",
     "height": 353
    },
    "colab_type": "code",
    "id": "XdBiBRfNsUxy",
    "outputId": "1bd1a57b-e4c3-4f4a-a341-79a6d3779971",
    "scrolled": true
   },
   "outputs": [
    {
     "name": "stderr",
     "output_type": "stream",
     "text": [
      "/usr/local/lib/python3.6/dist-packages/statsmodels/tools/_testing.py:19: FutureWarning: pandas.util.testing is deprecated. Use the functions in the public API at pandas.testing instead.\n",
      "  import pandas.util.testing as tm\n"
     ]
    },
    {
     "data": {
      "text/plain": [
       "Text(0.5, 1.0, 'Distribution of Errors')"
      ]
     },
     "execution_count": 14,
     "metadata": {
      "tags": []
     },
     "output_type": "execute_result"
    },
    {
     "data": {
      "image/png": "[encoded data removed]",
      "text/plain": [
       "<Figure size 432x288 with 1 Axes>"
      ]
     },
     "metadata": {
      "needs_background": "light",
      "tags": []
     },
     "output_type": "display_data"
    }
   ],
   "source": [
    "import seaborn as sb\n",
    "sb.kdeplot(errors, shade=True)\n",
    "plt.title(\"Distribution of Errors\")"
   ]
  },
  {
   "cell_type": "markdown",
   "metadata": {
    "colab_type": "text",
    "id": "FGxWAwcobBxH"
   },
   "source": [
    "If the errors for each value of the data set were normally distributed, we can consider all values away that are beyond 1 standard deviation from the mean as anomaly. Hence, we are now fitting this data to a normal distribution."
   ]
  },
  {
   "cell_type": "code",
   "execution_count": 15,
   "metadata": {
    "colab": {
     "base_uri": "https://localhost:8080/",
     "height": 35
    },
    "colab_type": "code",
    "id": "A6qaFTygsUx3",
    "outputId": "0b12e92a-9e61-40e4-cd88-a129e185f883"
   },
   "outputs": [
    {
     "data": {
      "text/plain": [
       "(15.645612844831943, 16.59118115420971)"
      ]
     },
     "execution_count": 15,
     "metadata": {
      "tags": []
     },
     "output_type": "execute_result"
    }
   ],
   "source": [
    "from scipy.stats import norm\n",
    "params = norm.fit(errors)\n",
    "dist = norm(loc=params[0], scale=params[1])\n",
    "\n",
    "dist.mean(), dist.std()"
   ]
  },
  {
   "cell_type": "markdown",
   "metadata": {
    "colab_type": "text",
    "id": "o-eI0kcksUx6"
   },
   "source": [
    "We get the mean and standard deviation here. We can consider all the values that lie around 1 standard deviation away from the mean. Any value beyond this can be considered an anomaly. We can consider different ranges of error beyond which a value can be anomaly. We have chosen a range of 1 standard deviation from the mean to consider a value normal."
   ]
  },
  {
   "cell_type": "code",
   "execution_count": 16,
   "metadata": {
    "colab": {},
    "colab_type": "code",
    "id": "3b3ccnWKsUx_"
   },
   "outputs": [],
   "source": [
    "def is_anomaly(error, mean, std, threshold):\n",
    "    difference = np.abs(error - mean)\n",
    "    value = difference / std\n",
    "    if value < threshold:\n",
    "        return 0\n",
    "    else:\n",
    "        return 1"
   ]
  },
  {
   "cell_type": "code",
   "execution_count": 17,
   "metadata": {
    "colab": {
     "base_uri": "https://localhost:8080/",
     "height": 55
    },
    "colab_type": "code",
    "id": "OSmSdsZysUyD",
    "outputId": "7021167d-dbe7-445f-875c-50dcd0730f2a"
   },
   "outputs": [
    {
     "name": "stdout",
     "output_type": "stream",
     "text": [
      "[0, 0, 0, 0, 0, 0, 0, 0, 0, 0, 0, 0, 0, 0, 0, 0, 0, 0, 0, 0, 0, 0, 0, 0, 0, 1, 1, 0, 0, 0, 0, 1, 1, 1, 1, 1, 1, 0, 0, 0, 0, 0, 0, 0, 0, 0, 0, 0, 0, 0, 0, 0, 0, 0, 0, 0, 0, 0, 0, 0, 0, 0, 0, 0, 0, 0, 0, 0, 0, 0, 0, 0, 0, 0, 0, 0, 0, 0, 0, 0, 0, 0, 0, 0, 0, 0, 0, 0, 0, 0, 0, 0, 0, 0, 0, 0, 0, 0, 0, 0, 0, 0, 0, 0, 1, 1, 0, 0, 1, 0, 0, 0, 1, 0, 0, 0, 0, 0, 0, 0, 0, 0, 0, 0, 0, 0, 0, 0, 0, 0, 0, 0, 0, 0, 0, 0, 0, 0, 0, 0, 0, 0, 0, 0, 0, 0, 0, 0, 0, 0, 0, 0, 0, 0, 0, 0, 0, 0, 0, 0, 0, 0, 0, 0, 0, 0, 0, 0, 0, 0, 0, 0, 0, 0, 0, 0, 0, 0, 0, 0, 0, 0, 0, 0, 0, 0, 0, 0, 0, 0, 0, 0, 0, 0, 0, 0, 0, 0, 0, 0, 0, 0, 0, 0, 0, 0, 0, 0, 0, 0, 0, 0, 0, 0, 0, 0, 0, 0, 0, 0, 0, 0, 0, 0, 0, 0, 0, 0, 0, 0, 0, 0, 0, 0, 0, 0, 0, 0, 0, 0, 0, 0, 0, 0, 0, 0, 0, 0, 0, 0, 0, 0, 0, 0, 0, 0, 0, 0, 0, 0, 0, 0, 0, 0, 0, 0, 0, 0, 0, 0, 0, 0, 0, 0, 0, 0, 0, 0, 0, 0, 0, 0, 0, 0, 0, 0, 0, 0, 0, 0, 0, 0, 0, 0, 0, 0, 0, 0, 0, 0, 0, 0, 0, 0, 0, 0, 0, 0, 0, 0, 0, 0, 0, 0, 0, 0, 0, 0, 0, 0, 0, 0, 0, 0, 0, 0, 0, 0, 0, 0, 0, 0, 0, 0, 0, 0, 0, 0, 0, 0, 0, 0, 0, 0, 0, 0, 0, 0, 0, 0, 0, 0, 0, 0, 0, 0, 0, 0, 0, 0, 0, 0, 0, 0, 0, 0, 0, 0, 0, 0, 0, 0, 0, 0, 0, 0, 0, 0, 0, 0, 0, 0, 0, 0, 0, 0, 0, 0, 0, 0, 0, 0, 0, 0, 0, 0, 0, 0, 0, 0, 0, 0, 0, 0, 0, 0, 0, 0, 0, 0, 0, 0, 0, 0, 0, 0, 0, 0, 0, 0, 0, 0, 0, 0, 0, 0, 0, 0, 0, 0, 0, 0, 0, 0, 0, 0, 0, 0, 0, 0, 0, 0, 0, 0, 0, 0, 0, 0, 0, 0, 0, 0, 0, 0, 0, 0, 0, 0, 0, 0, 0, 0, 0, 0, 0, 0, 0, 0, 0, 0, 0, 0, 0, 0, 0, 0, 0, 0, 0, 0, 0, 0, 0, 0, 0, 0, 0, 0, 0, 0, 0, 0, 0, 0, 0, 0, 0, 0, 0, 0, 0, 0, 0, 0, 0, 0, 0, 0, 0, 0, 0, 0, 0, 0, 0, 0, 0, 0, 0, 0, 0, 0, 0, 0, 0, 0, 0, 0, 0, 0, 0, 0, 0, 0, 0, 0, 0, 0, 0, 0, 0, 0, 0, 0, 0, 0, 0, 0, 0, 0, 0, 0, 0, 0, 0, 0, 0, 0, 0, 0, 0, 0, 0, 0, 0, 0, 0, 0, 0, 0, 0, 0, 0, 0, 0, 0, 0, 0, 0, 0, 0, 0, 0, 0, 0, 1, 1, 1, 1, 1, 0, 0, 1, 0, 0, 0, 0, 0, 0, 0, 0, 0, 0, 0, 0, 0, 0, 0, 0, 0, 0, 0, 0, 0, 0, 0, 0, 0, 0, 0, 0, 0, 0, 0, 0, 0, 0, 0, 0, 0, 0, 0, 0, 0, 0, 0, 0, 0, 0, 0, 0, 0, 0, 0, 0, 0, 0, 0, 0, 0, 0, 0, 1, 1, 1, 1, 1, 1, 1, 0, 0, 0, 0, 0, 0, 0, 0, 0, 0, 0, 0, 0, 0, 0, 0, 0, 0, 0, 0, 0, 0, 0, 0, 0, 0, 0, 0, 0, 0, 0, 0, 0, 0, 0, 0, 0, 0, 0, 0, 0, 0, 0, 0, 0, 0, 0, 0, 0, 0, 0, 0, 0, 0, 0, 0, 0, 0, 0, 0, 0, 0, 0, 0, 0, 0, 0, 0, 0, 0, 0, 0, 0, 0, 0, 0, 0, 0, 0, 0, 0, 0, 0, 0, 0, 0, 0, 0, 0, 0, 0, 0, 0, 0, 0, 0, 0, 0, 0, 0, 0, 0, 0, 0, 0, 0, 0, 0, 0, 0, 0, 0, 0, 0, 0, 0, 0, 0, 0, 0, 0, 0, 0, 0, 0, 0, 0, 0, 0, 0, 0, 0, 0, 0, 0, 0, 0, 0, 0, 0, 0, 0, 0, 0, 0, 0, 0, 0, 0, 0, 0, 0, 0, 0, 0, 0, 0, 0, 0, 0, 0, 0, 0, 0, 0, 0, 0, 0, 0, 0, 0, 0, 0, 0, 0, 0, 0, 0, 0, 0, 0, 0, 1, 1, 1, 0, 0, 0, 0, 0, 0, 0, 0, 0, 0, 0, 0, 0, 0, 0, 0, 0, 0, 0, 0, 0, 0, 0, 0, 0, 0, 0, 0, 0, 0, 0, 0, 0, 0, 0, 0, 0, 0, 0, 0, 0, 0, 0, 0, 0, 0, 0, 0, 0, 0, 0, 0, 0, 0, 0, 0, 0, 0, 0, 0, 0, 0, 0, 0, 0, 0, 0, 0, 0, 0, 0, 0, 0, 0, 0, 0, 0, 0, 0, 0, 0, 0, 0, 0, 0, 0, 0, 0, 0, 0, 0, 0, 0, 0, 0, 0, 0, 0, 0, 0, 0, 0, 0, 0, 0, 0, 0, 0, 0, 0, 0, 0, 0, 0, 0, 0, 0, 0, 0, 0, 0, 0, 0, 0, 0, 0, 0, 0, 0, 0, 0, 0, 0, 0, 0, 0, 0, 0, 0, 0, 0, 0, 0, 0, 0, 0, 0, 0, 0, 0, 0, 0, 0, 0, 0, 0, 0, 0, 0, 0, 0, 0, 0, 0, 0, 0, 0, 0, 0, 0, 0, 0, 0, 0, 0, 0, 0, 0, 0, 0, 0, 0, 0, 0, 0, 0, 0, 0, 0, 0, 0, 0, 0, 0, 0, 0, 0, 0, 0, 0, 0, 0, 0, 0, 0, 0, 0, 0, 0, 0, 0, 0, 0, 0, 0, 0, 0, 0, 0, 0, 0, 0, 0, 0, 0, 0, 0, 0, 0, 0, 0, 0, 0, 0, 0, 0, 0, 0, 0, 0, 0, 0, 0, 0, 0, 0, 0, 0, 0, 0, 0, 0, 0, 0, 0, 0, 0, 0, 0, 0, 0, 0, 0, 0, 0, 0, 0, 0, 0, 0, 0, 0, 0, 0, 0, 0, 0, 0, 0, 1, 1, 0, 0, 0, 0, 0, 0, 0, 0, 0, 0, 0, 0, 0, 0, 0, 0, 0, 0, 0, 0, 0, 0, 0, 0, 0, 0, 0, 0, 0, 0, 0, 0, 0, 0, 0, 0, 0, 0, 0, 1, 1, 1, 1, 1, 1, 1, 0, 0, 0, 0, 0, 0, 0, 0, 0, 0, 0, 0, 0, 0, 0, 0, 0, 0, 0, 0, 0, 0, 0, 0, 0, 0, 1, 0, 1, 1, 0, 0, 0, 0, 0, 0, 0, 0, 0, 0, 0, 0, 0, 0, 0, 0, 0, 0, 0, 0, 0, 0, 0, 0, 0, 0, 0, 0, 0, 0, 0, 0, 1, 0, 0, 0, 0, 0, 0, 0, 0, 0, 0, 0, 0, 0, 0, 0, 0, 0, 0, 1, 1, 1, 1, 1, 0, 0, 0, 0, 0, 0, 0, 0, 0, 0, 0, 0, 0, 0, 0, 0, 0, 0, 0, 0, 0, 0, 0, 0, 0, 0, 0, 0, 0, 0, 0, 0, 0, 0, 0, 0, 0, 0, 0, 0, 0, 0, 0, 0, 0, 0, 0, 0, 0, 0, 0, 0, 0, 0, 0, 0, 0, 0, 0, 0, 0, 0, 0, 0, 0, 0, 0, 0, 0, 0, 0, 0, 0, 0, 0, 0, 0, 0, 0, 0, 0, 0, 0, 0, 0, 0, 0, 0, 0, 0, 0, 0, 0, 0, 0, 0, 0, 0, 0, 0, 0, 0, 0, 0, 0, 0, 0, 0, 0, 0, 0, 0, 0, 0, 0, 0, 0, 0, 0, 0, 0, 0, 0, 0, 0, 0, 0, 0, 0, 0, 0, 0, 0, 0, 0, 0, 0, 0, 0, 0, 0, 0, 0, 0, 0, 0, 0, 0, 0, 0, 0, 0, 0, 0, 0, 0, 0, 0, 0, 0, 0, 0, 0, 0, 0, 0, 0, 0, 0, 0, 0, 0, 0, 0, 0, 0, 0, 0, 0, 0, 0, 0, 0, 0, 0, 0, 0, 0, 0, 0, 0, 0, 0, 0, 0, 0, 0, 0, 0, 0, 0, 0, 0, 0, 0, 0, 0, 0, 0, 0, 0, 0, 0, 0, 0, 0, 0, 0, 0, 0, 0, 1, 1, 1, 1, 1, 0, 0, 0, 0, 0, 0, 0, 0, 0, 0, 0, 0, 0, 0, 0, 0, 0, 0, 0, 0, 0, 0, 0]\n"
     ]
    }
   ],
   "source": [
    "# MAE\n",
    "y_val_pred = model.predict(X_val[:, :, :])\n",
    "val_errors = [mean_absolute_error(y_val[i, :], y_val_pred[i, :]) for i in range(y_val_pred.shape[0])]\n",
    "results = [is_anomaly(x, dist.mean(), dist.std(), 1) for x in val_errors]\n",
    "print(results)\n"
   ]
  },
  {
   "cell_type": "code",
   "execution_count": 18,
   "metadata": {
    "colab": {
     "base_uri": "https://localhost:8080/",
     "height": 55
    },
    "colab_type": "code",
    "id": "TJGSqQBswlDS",
    "outputId": "46a0766f-1a48-4241-cc0e-cc47b8454442"
   },
   "outputs": [
    {
     "name": "stdout",
     "output_type": "stream",
     "text": [
      "[0, 0, 0, 0, 0, 0, 0, 0, 0, 0, 0, 0, 0, 0, 0, 0, 0, 0, 0, 0, 0, 0, 0, 0, 0, 1, 1, 0, 0, 0, 0, 1, 1, 1, 1, 1, 1, 0, 0, 0, 0, 0, 0, 0, 0, 0, 0, 0, 0, 0, 0, 0, 0, 0, 0, 0, 0, 0, 0, 0, 0, 0, 0, 0, 0, 0, 0, 0, 0, 0, 0, 0, 0, 0, 0, 0, 0, 0, 0, 0, 0, 0, 0, 0, 0, 0, 0, 0, 0, 0, 0, 0, 0, 0, 0, 0, 0, 0, 0, 0, 0, 0, 0, 0, 1, 1, 0, 0, 1, 0, 0, 0, 1, 0, 0, 0, 0, 0, 0, 0, 0, 0, 0, 0, 0, 0, 0, 0, 0, 0, 0, 0, 0, 0, 0, 0, 0, 0, 0, 0, 0, 0, 0, 0, 0, 0, 0, 0, 0, 0, 0, 0, 0, 0, 0, 0, 0, 0, 0, 0, 0, 0, 0, 0, 0, 0, 0, 0, 0, 0, 0, 0, 0, 0, 0, 0, 0, 0, 0, 0, 0, 0, 0, 0, 0, 0, 0, 0, 0, 0, 0, 0, 0, 0, 0, 0, 0, 0, 0, 0, 0, 0, 0, 0, 0, 0, 0, 0, 0, 0, 0, 0, 0, 0, 0, 0, 0, 0, 0, 0, 0, 0, 0, 0, 0, 0, 0, 0, 0, 0, 0, 0, 0, 0, 0, 0, 0, 0, 0, 0, 0, 0, 0, 0, 0, 0, 0, 0, 0, 0, 0, 0, 0, 0, 0, 0, 0, 0, 0, 0, 0, 0, 0, 0, 0, 0, 0, 0, 0, 0, 0, 0, 0, 0, 0, 0, 0, 0, 0, 0, 0, 0, 0, 0, 0, 0, 0, 0, 0, 0, 0, 0, 0, 0, 0, 0, 0, 0, 0, 0, 0, 0, 0, 0, 0, 0, 0, 0, 0, 0, 0, 0, 0, 0, 0, 0, 0, 0, 0, 0, 0, 0, 0, 0, 0, 0, 0, 0, 0, 0, 0, 0, 0, 0, 0, 0, 0, 0, 0, 0, 0, 0, 0, 0, 0, 0, 0, 0, 0, 0, 0, 0, 0, 0, 0, 0, 0, 0, 0, 0, 0, 0, 0, 0, 0, 0, 0, 0, 0, 0, 0, 0, 0, 0, 0, 0, 0, 0, 0, 0, 0, 0, 0, 0, 0, 0, 0, 0, 0, 0, 0, 0, 0, 0, 0, 0, 0, 0, 0, 0, 0, 0, 0, 0, 0, 0, 0, 0, 0, 0, 0, 0, 0, 0, 0, 0, 0, 0, 0, 0, 0, 0, 0, 0, 0, 0, 0, 0, 0, 0, 0, 0, 0, 0, 0, 0, 0, 0, 0, 0, 0, 0, 0, 0, 0, 0, 0, 0, 0, 0, 0, 0, 0, 0, 0, 0, 0, 0, 0, 0, 0, 0, 0, 0, 0, 0, 0, 0, 0, 0, 0, 0, 0, 0, 0, 0, 0, 0, 0, 0, 0, 0, 0, 0, 0, 0, 0, 0, 0, 0, 0, 0, 0, 0, 0, 0, 0, 0, 0, 0, 0, 0, 0, 0, 0, 0, 0, 0, 0, 0, 0, 0, 0, 0, 0, 0, 0, 0, 0, 0, 0, 0, 0, 0, 0, 0, 0, 0, 0, 0, 0, 0, 0, 0, 0, 0, 0, 0, 0, 0, 0, 0, 0, 0, 0, 0, 0, 0, 0, 0, 0, 0, 0, 0, 0, 0, 0, 0, 0, 0, 0, 0, 0, 0, 0, 0, 0, 0, 0, 0, 0, 0, 0, 0, 0, 0, 0, 0, 0, 0, 0, 0, 0, 0, 0, 1, 1, 1, 1, 1, 0, 0, 1, 0, 0, 0, 0, 0, 0, 0, 0, 0, 0, 0, 0, 0, 0, 0, 0, 0, 0, 0, 0, 0, 0, 0, 0, 0, 0, 0, 0, 0, 0, 0, 0, 0, 0, 0, 0, 0, 0, 0, 0, 0, 0, 0, 0, 0, 0, 0, 0, 0, 0, 0, 0, 0, 0, 0, 0, 0, 0, 0, 1, 1, 1, 1, 1, 1, 1, 0, 0, 0, 0, 0, 0, 0, 0, 0, 0, 0, 0, 0, 0, 0, 0, 0, 0, 0, 0, 0, 0, 0, 0, 0, 0, 0, 0, 0, 0, 0, 0, 0, 0, 0, 0, 0, 0, 0, 0, 0, 0, 0, 0, 0, 0, 0, 0, 0, 0, 0, 0, 0, 0, 0, 0, 0, 0, 0, 0, 0, 0, 0, 0, 0, 0, 0, 0, 0, 0, 0, 0, 0, 0, 0, 0, 0, 0, 0, 0, 0, 0, 0, 0, 0, 0, 0, 0, 0, 0, 0, 0, 0, 0, 0, 0, 0, 0, 0, 0, 0, 0, 0, 0, 0, 0, 0, 0, 0, 0, 0, 0, 0, 0, 0, 0, 0, 0, 0, 0, 0, 0, 0, 0, 0, 0, 0, 0, 0, 0, 0, 0, 0, 0, 0, 0, 0, 0, 0, 0, 0, 0, 0, 0, 0, 0, 0, 0, 0, 0, 0, 0, 0, 0, 0, 0, 0, 0, 0, 0, 0, 0, 0, 0, 0, 0, 0, 0, 0, 0, 0, 0, 0, 0, 0, 0, 0, 0, 0, 0, 0, 0, 1, 1, 1, 0, 0, 0, 0, 0, 0, 0, 0, 0, 0, 0, 0, 0, 0, 0, 0, 0, 0, 0, 0, 0, 0, 0, 0, 0, 0, 0, 0, 0, 0, 0, 0, 0, 0, 0, 0, 0, 0, 0, 0, 0, 0, 0, 0, 0, 0, 0, 0, 0, 0, 0, 0, 0, 0, 0, 0, 0, 0, 0, 0, 0, 0, 0, 0, 0, 0, 0, 0, 0, 0, 0, 0, 0, 0, 0, 0, 0, 0, 0, 0, 0, 0, 0, 0, 0, 0, 0, 0, 0, 0, 0, 0, 0, 0, 0, 0, 0, 0, 0, 0, 0, 0, 0, 0, 0, 0, 0, 0, 0, 0, 0, 0, 0, 0, 0, 0, 0, 0, 0, 0, 0, 0, 0, 0, 0, 0, 0, 0, 0, 0, 0, 0, 0, 0, 0, 0, 0, 0, 0, 0, 0, 0, 0, 0, 0, 0, 0, 0, 0, 0, 0, 0, 0, 0, 0, 0, 0, 0, 0, 0, 0, 0, 0, 0, 0, 0, 0, 0, 0, 0, 0, 0, 0, 0, 0, 0, 0, 0, 0, 0, 0, 0, 0, 0, 0, 0, 0, 0, 0, 0, 0, 0, 0, 0, 0, 0, 0, 0, 0, 0, 0, 0, 0, 0, 0, 0, 0, 0, 0, 0, 0, 0, 0, 0, 0, 0, 0, 0, 0, 0, 0, 0, 0, 0, 0, 0, 0, 0, 0, 0, 0, 0, 0, 0, 0, 0, 0, 0, 0, 0, 0, 0, 0, 0, 0, 0, 0, 0, 0, 0, 0, 0, 0, 0, 0, 0, 0, 0, 0, 0, 0, 0, 0, 0, 0, 0, 0, 0, 0, 0, 0, 0, 0, 0, 0, 0, 0, 0, 0, 1, 1, 0, 0, 0, 0, 0, 0, 0, 0, 0, 0, 0, 0, 0, 0, 0, 0, 0, 0, 0, 0, 0, 0, 0, 0, 0, 0, 0, 0, 0, 0, 0, 0, 0, 0, 0, 0, 0, 0, 0, 1, 1, 1, 1, 1, 1, 1, 0, 0, 0, 0, 0, 0, 0, 0, 0, 0, 0, 0, 0, 0, 0, 0, 0, 0, 0, 0, 0, 0, 0, 0, 0, 0, 1, 0, 1, 1, 0, 0, 0, 0, 0, 0, 0, 0, 0, 0, 0, 0, 0, 0, 0, 0, 0, 0, 0, 0, 0, 0, 0, 0, 0, 0, 0, 0, 0, 0, 0, 0, 1, 0, 0, 0, 0, 0, 0, 0, 0, 0, 0, 0, 0, 0, 0, 0, 0, 0, 0, 1, 1, 1, 1, 1, 0, 0, 0, 0, 0, 0, 0, 0, 0, 0, 0, 0, 0, 0, 0, 0, 0, 0, 0, 0, 0, 0, 0, 0, 0, 0, 0, 0, 0, 0, 0, 0, 0, 0, 0, 0, 0, 0, 0, 0, 0, 0, 0, 0, 0, 0, 0, 0, 0, 0, 0, 0, 0, 0, 0, 0, 0, 0, 0, 0, 0, 0, 0, 0, 0, 0, 0, 0, 0, 0, 0, 0, 0, 0, 0, 0, 0, 0, 0, 0, 0, 0, 0, 0, 0, 0, 0, 0, 0, 0, 0, 0, 0, 0, 0, 0, 0, 0, 0, 0, 0, 0, 0, 0, 0, 0, 0, 0, 0, 0, 0, 0, 0, 0, 0, 0, 0, 0, 0, 0, 0, 0, 0, 0, 0, 0, 0, 0, 0, 0, 0, 0, 0, 0, 0, 0, 0, 0, 0, 0, 0, 0, 0, 0, 0, 0, 0, 0, 0, 0, 0, 0, 0, 0, 0, 0, 0, 0, 0, 0, 0, 0, 0, 0, 0, 0, 0, 0, 0, 0, 0, 0, 0, 0, 0, 0, 0, 0, 0, 0, 0, 0, 0, 0, 0, 0, 0, 0, 0, 0, 0, 0, 0, 0, 0, 0, 0, 0, 0, 0, 0, 0, 0, 0, 0, 0, 0, 0, 0, 0, 0, 0, 0, 0, 0, 0, 0, 0, 0, 0, 0, 1, 1, 1, 1, 1, 0, 0, 0, 0, 0, 0, 0, 0, 0, 0, 0, 0, 0, 0, 0, 0, 0, 0, 0, 0, 0, 0, 0]\n"
     ]
    }
   ],
   "source": [
    "#MSE\n",
    "from sklearn.metrics import mean_squared_error\n",
    "y_val_pred = model.predict(X_val[:, :, :])\n",
    "# y_val = y_val.reshape(y_val.shape[0], y_val.shape[2])\n",
    "mse = [mean_squared_error(y_val[i, :], y_val_pred[i, :]) for i in range(y_val_pred.shape[0])]\n",
    "results_mse = [is_anomaly(x, mean(mse), stdev(mse), 1) for x in mse]\n",
    "print(results_mse)"
   ]
  },
  {
   "cell_type": "code",
   "execution_count": 19,
   "metadata": {
    "colab": {
     "base_uri": "https://localhost:8080/",
     "height": 55
    },
    "colab_type": "code",
    "id": "gNPVQD5lxs3e",
    "outputId": "a696ea7f-36c2-4322-a643-eaef2fad8263"
   },
   "outputs": [
    {
     "name": "stdout",
     "output_type": "stream",
     "text": [
      "[0, 0, 0, 0, 0, 0, 0, 0, 0, 0, 0, 0, 0, 0, 0, 0, 0, 0, 0, 0, 0, 0, 0, 0, 0, 1, 1, 0, 0, 0, 0, 1, 1, 1, 1, 1, 1, 0, 0, 0, 0, 0, 0, 0, 0, 0, 0, 0, 0, 0, 0, 0, 0, 0, 0, 0, 0, 0, 0, 0, 0, 0, 0, 0, 0, 0, 0, 0, 0, 0, 0, 0, 0, 0, 0, 0, 0, 0, 0, 0, 0, 0, 0, 0, 0, 0, 0, 0, 0, 0, 0, 0, 0, 0, 0, 0, 0, 0, 0, 0, 0, 0, 0, 0, 1, 1, 0, 0, 1, 0, 0, 0, 1, 0, 0, 0, 0, 0, 0, 0, 0, 0, 0, 0, 0, 0, 0, 0, 0, 0, 0, 0, 0, 0, 0, 0, 0, 0, 0, 0, 0, 0, 0, 0, 0, 0, 0, 0, 0, 0, 0, 0, 0, 0, 0, 0, 0, 0, 0, 0, 0, 0, 0, 0, 0, 0, 0, 0, 0, 0, 0, 0, 0, 0, 0, 0, 0, 0, 0, 0, 0, 0, 0, 0, 0, 0, 0, 0, 0, 0, 0, 0, 0, 0, 0, 0, 0, 0, 0, 0, 0, 0, 0, 0, 0, 0, 0, 0, 0, 0, 0, 0, 0, 0, 0, 0, 0, 0, 0, 0, 0, 0, 0, 0, 0, 0, 0, 0, 0, 0, 0, 0, 0, 0, 0, 0, 0, 0, 0, 0, 0, 0, 0, 0, 0, 0, 0, 0, 0, 0, 0, 0, 0, 0, 0, 0, 0, 0, 0, 0, 0, 0, 0, 0, 0, 0, 0, 0, 0, 0, 0, 0, 0, 0, 0, 0, 0, 0, 0, 0, 0, 0, 0, 0, 0, 0, 0, 0, 0, 0, 0, 0, 0, 0, 0, 0, 0, 0, 0, 0, 0, 0, 0, 0, 0, 0, 0, 0, 0, 0, 0, 0, 0, 0, 0, 0, 0, 0, 0, 0, 0, 0, 0, 0, 0, 0, 0, 0, 0, 0, 0, 0, 0, 0, 0, 0, 0, 0, 0, 0, 0, 0, 0, 0, 0, 0, 0, 0, 0, 0, 0, 0, 0, 0, 0, 0, 0, 0, 0, 0, 0, 0, 0, 0, 0, 0, 0, 0, 0, 0, 0, 0, 0, 0, 0, 0, 0, 0, 0, 0, 0, 0, 0, 0, 0, 0, 0, 0, 0, 0, 0, 0, 0, 0, 0, 0, 0, 0, 0, 0, 0, 0, 0, 0, 0, 0, 0, 0, 0, 0, 0, 0, 0, 0, 0, 0, 0, 0, 0, 0, 0, 0, 0, 0, 0, 0, 0, 0, 0, 0, 0, 0, 0, 0, 0, 0, 0, 0, 0, 0, 0, 0, 0, 0, 0, 0, 0, 0, 0, 0, 0, 0, 0, 0, 0, 0, 0, 0, 0, 0, 0, 0, 0, 0, 0, 0, 0, 0, 0, 0, 0, 0, 0, 0, 0, 0, 0, 0, 0, 0, 0, 0, 0, 0, 0, 0, 0, 0, 0, 0, 0, 0, 0, 0, 0, 0, 0, 0, 0, 0, 0, 0, 0, 0, 0, 0, 0, 0, 0, 0, 0, 0, 0, 0, 0, 0, 0, 0, 0, 0, 0, 0, 0, 0, 0, 0, 0, 0, 0, 0, 0, 0, 0, 0, 0, 0, 0, 0, 0, 0, 0, 0, 0, 0, 0, 0, 0, 0, 0, 0, 0, 0, 0, 0, 0, 0, 0, 0, 0, 0, 0, 0, 0, 0, 0, 0, 0, 0, 0, 0, 0, 0, 0, 0, 0, 0, 0, 0, 0, 0, 0, 0, 0, 0, 0, 1, 1, 1, 1, 1, 0, 0, 1, 0, 0, 0, 0, 0, 0, 0, 0, 0, 0, 0, 0, 0, 0, 0, 0, 0, 0, 0, 0, 0, 0, 0, 0, 0, 0, 0, 0, 0, 0, 0, 0, 0, 0, 0, 0, 0, 0, 0, 0, 0, 0, 0, 0, 0, 0, 0, 0, 0, 0, 0, 0, 0, 0, 0, 0, 0, 0, 0, 1, 1, 1, 1, 1, 1, 1, 0, 0, 0, 0, 0, 0, 0, 0, 0, 0, 0, 0, 0, 0, 0, 0, 0, 0, 0, 0, 0, 0, 0, 0, 0, 0, 0, 0, 0, 0, 0, 0, 0, 0, 0, 0, 0, 0, 0, 0, 0, 0, 0, 0, 0, 0, 0, 0, 0, 0, 0, 0, 0, 0, 0, 0, 0, 0, 0, 0, 0, 0, 0, 0, 0, 0, 0, 0, 0, 0, 0, 0, 0, 0, 0, 0, 0, 0, 0, 0, 0, 0, 0, 0, 0, 0, 0, 0, 0, 0, 0, 0, 0, 0, 0, 0, 0, 0, 0, 0, 0, 0, 0, 0, 0, 0, 0, 0, 0, 0, 0, 0, 0, 0, 0, 0, 0, 0, 0, 0, 0, 0, 0, 0, 0, 0, 0, 0, 0, 0, 0, 0, 0, 0, 0, 0, 0, 0, 0, 0, 0, 0, 0, 0, 0, 0, 0, 0, 0, 0, 0, 0, 0, 0, 0, 0, 0, 0, 0, 0, 0, 0, 0, 0, 0, 0, 0, 0, 0, 0, 0, 0, 0, 0, 0, 0, 0, 0, 0, 0, 0, 0, 1, 1, 1, 0, 0, 0, 0, 0, 0, 0, 0, 0, 0, 0, 0, 0, 0, 0, 0, 0, 0, 0, 0, 0, 0, 0, 0, 0, 0, 0, 0, 0, 0, 0, 0, 0, 0, 0, 0, 0, 0, 0, 0, 0, 0, 0, 0, 0, 0, 0, 0, 0, 0, 0, 0, 0, 0, 0, 0, 0, 0, 0, 0, 0, 0, 0, 0, 0, 0, 0, 0, 0, 0, 0, 0, 0, 0, 0, 0, 0, 0, 0, 0, 0, 0, 0, 0, 0, 0, 0, 0, 0, 0, 0, 0, 0, 0, 0, 0, 0, 0, 0, 0, 0, 0, 0, 0, 0, 0, 0, 0, 0, 0, 0, 0, 0, 0, 0, 0, 0, 0, 0, 0, 0, 0, 0, 0, 0, 0, 0, 0, 0, 0, 0, 0, 0, 0, 0, 0, 0, 0, 0, 0, 0, 0, 0, 0, 0, 0, 0, 0, 0, 0, 0, 0, 0, 0, 0, 0, 0, 0, 0, 0, 0, 0, 0, 0, 0, 0, 0, 0, 0, 0, 0, 0, 0, 0, 0, 0, 0, 0, 0, 0, 0, 0, 0, 0, 0, 0, 0, 0, 0, 0, 0, 0, 0, 0, 0, 0, 0, 0, 0, 0, 0, 0, 0, 0, 0, 0, 0, 0, 0, 0, 0, 0, 0, 0, 0, 0, 0, 0, 0, 0, 0, 0, 0, 0, 0, 0, 0, 0, 0, 0, 0, 0, 0, 0, 0, 0, 0, 0, 0, 0, 0, 0, 0, 0, 0, 0, 0, 0, 0, 0, 0, 0, 0, 0, 0, 0, 0, 0, 0, 0, 0, 0, 0, 0, 0, 0, 0, 0, 0, 0, 0, 0, 0, 0, 0, 0, 0, 0, 0, 1, 1, 0, 0, 0, 0, 0, 0, 0, 0, 0, 0, 0, 0, 0, 0, 0, 0, 0, 0, 0, 0, 0, 0, 0, 0, 0, 0, 0, 0, 0, 0, 0, 0, 0, 0, 0, 0, 0, 0, 0, 1, 1, 1, 1, 1, 1, 1, 0, 0, 0, 0, 0, 0, 0, 0, 0, 0, 0, 0, 0, 0, 0, 0, 0, 0, 0, 0, 0, 0, 0, 0, 0, 0, 1, 0, 1, 1, 0, 0, 0, 0, 0, 0, 0, 0, 0, 0, 0, 0, 0, 0, 0, 0, 0, 0, 0, 0, 0, 0, 0, 0, 0, 0, 0, 0, 0, 0, 0, 0, 1, 0, 0, 0, 0, 0, 0, 0, 0, 0, 0, 0, 0, 0, 0, 0, 0, 0, 0, 1, 1, 1, 1, 1, 0, 0, 0, 0, 0, 0, 0, 0, 0, 0, 0, 0, 0, 0, 0, 0, 0, 0, 0, 0, 0, 0, 0, 0, 0, 0, 0, 0, 0, 0, 0, 0, 0, 0, 0, 0, 0, 0, 0, 0, 0, 0, 0, 0, 0, 0, 0, 0, 0, 0, 0, 0, 0, 0, 0, 0, 0, 0, 0, 0, 0, 0, 0, 0, 0, 0, 0, 0, 0, 0, 0, 0, 0, 0, 0, 0, 0, 0, 0, 0, 0, 0, 0, 0, 0, 0, 0, 0, 0, 0, 0, 0, 0, 0, 0, 0, 0, 0, 0, 0, 0, 0, 0, 0, 0, 0, 0, 0, 0, 0, 0, 0, 0, 0, 0, 0, 0, 0, 0, 0, 0, 0, 0, 0, 0, 0, 0, 0, 0, 0, 0, 0, 0, 0, 0, 0, 0, 0, 0, 0, 0, 0, 0, 0, 0, 0, 0, 0, 0, 0, 0, 0, 0, 0, 0, 0, 0, 0, 0, 0, 0, 0, 0, 0, 0, 0, 0, 0, 0, 0, 0, 0, 0, 0, 0, 0, 0, 0, 0, 0, 0, 0, 0, 0, 0, 0, 0, 0, 0, 0, 0, 0, 0, 0, 0, 0, 0, 0, 0, 0, 0, 0, 0, 0, 0, 0, 0, 0, 0, 0, 0, 0, 0, 0, 0, 0, 0, 0, 0, 0, 0, 1, 1, 1, 1, 1, 0, 0, 0, 0, 0, 0, 0, 0, 0, 0, 0, 0, 0, 0, 0, 0, 0, 0, 0, 0, 0, 0, 0]\n"
     ]
    }
   ],
   "source": [
    "# R2 Score\n",
    "from sklearn.metrics import r2_score\n",
    "y_val_pred = model.predict(X_val[:, :, :])\n",
    "# y_val = y_val.reshape(y_val.shape[0], y_val.shape[2])\n",
    "r2 = [r2_score(y_val[i, :], y_val_pred[i, :]) for i in range(y_val_pred.shape[0])]\n",
    "results_r2 = [is_anomaly(x, mean(r2), stdev(r2), 1) for x in r2]\n",
    "print(results_r2)"
   ]
  },
  {
   "cell_type": "code",
   "execution_count": 19,
   "metadata": {
    "colab": {},
    "colab_type": "code",
    "id": "CWziMlpfr3WN"
   },
   "outputs": [],
   "source": []
  },
  {
   "cell_type": "code",
   "execution_count": 20,
   "metadata": {
    "colab": {
     "base_uri": "https://localhost:8080/",
     "height": 55
    },
    "colab_type": "code",
    "id": "Aq6CxQ7jsUyG",
    "outputId": "60e2b9ca-04a2-4682-8d8e-aaabd58e5ec0"
   },
   "outputs": [
    {
     "name": "stdout",
     "output_type": "stream",
     "text": [
      "[0.5257, 0.5288, 0.582, 0.5809, 0.6937, 0.7187, 0.7501, 0.7205, 0.7461, 0.6225, 0.5305, 0.6757, 0.6923, 0.6942, 0.6561, 0.7226, 0.7194, 0.6397, 0.6135, 0.5455, 0.5224, 0.5205, 0.5762, 0.7033, 0.8011, 0.8905, 0.8425, 0.8045, 0.8224, 0.757, 0.827, 0.905, 0.9752, 0.9926, 0.9795, 0.9743, 0.8716, 0.7619, 0.5931, 0.7666, 0.6641, 0.6352, 0.7167, 0.6902, 0.5281, 0.5616, 0.6389, 0.6173, 0.5911, 0.5256, 0.5323, 0.5386, 0.6268, 0.7057, 0.5415, 0.5417, 0.7131, 0.7794, 0.7516, 0.6349, 0.5699, 0.7151, 0.6992, 0.7165, 0.7219, 0.7179, 0.6967, 0.5185, 0.525, 0.5407, 0.6348, 0.7164, 0.5246, 0.5892, 0.6766, 0.6435, 0.6474, 0.6963, 0.6948, 0.7413, 0.6181, 0.6556, 0.5873, 0.5784, 0.5279, 0.5829, 0.5911, 0.6364, 0.6233, 0.6159, 0.6473, 0.7356, 0.7378, 0.6216, 0.6363, 0.6377, 0.5169, 0.5893, 0.5964, 0.6136, 0.6147, 0.7037, 0.7196, 0.7725, 0.8639, 0.8556, 0.7833, 0.6755, 0.8549, 0.7999, 0.816, 0.8372, 0.8483, 0.7715, 0.704, 0.5532, 0.6422, 0.7083, 0.7709, 0.7924, 0.7801, 0.7443, 0.7274, 0.7128, 0.719, 0.6986, 0.7147, 0.6126, 0.6202, 0.5317, 0.5169, 0.5146, 0.5083, 0.5977, 0.7106, 0.7048, 0.674, 0.6351, 0.5248, 0.545, 0.5368, 0.5378, 0.5246, 0.6439, 0.6915, 0.6472, 0.6457, 0.6743, 0.694, 0.707, 0.7327, 0.723, 0.6804, 0.7512, 0.7506, 0.6737, 0.6793, 0.7068, 0.6955, 0.7111, 0.7247, 0.709, 0.7093, 0.6778, 0.7484, 0.7556, 0.7218, 0.7319, 0.7335, 0.6968, 0.7286, 0.7625, 0.7997, 0.7821, 0.7716, 0.7887, 0.778, 0.755, 0.6786, 0.6872, 0.6533, 0.6001, 0.5694, 0.6181, 0.6506, 0.6952, 0.7359, 0.7724, 0.7706, 0.7556, 0.7457, 0.7575, 0.7251, 0.7102, 0.7047, 0.6528, 0.6406, 0.6271, 0.6194, 0.6969, 0.7353, 0.7646, 0.7666, 0.7313, 0.7555, 0.769, 0.7653, 0.7438, 0.7561, 0.7276, 0.7325, 0.687, 0.6478, 0.6376, 0.5811, 0.5067, 0.5033, 0.5079, 0.5834, 0.5205, 0.599, 0.6791, 0.6686, 0.6413, 0.6697, 0.6754, 0.6775, 0.7244, 0.7909, 0.7938, 0.7476, 0.7309, 0.7275, 0.6858, 0.6922, 0.6822, 0.7121, 0.7233, 0.6975, 0.7404, 0.7423, 0.7425, 0.7177, 0.7757, 0.7264, 0.6917, 0.7137, 0.7021, 0.6367, 0.615, 0.617, 0.5353, 0.5473, 0.603, 0.6449, 0.5903, 0.6496, 0.7223, 0.6857, 0.7045, 0.7612, 0.7475, 0.7494, 0.732, 0.6465, 0.5415, 0.5227, 0.6479, 0.6029, 0.5443, 0.5023, 0.5853, 0.6751, 0.6118, 0.6557, 0.6483, 0.6862, 0.6914, 0.691, 0.7122, 0.6156, 0.6732, 0.5399, 0.5024, 0.5283, 0.5912, 0.6288, 0.5324, 0.5406, 0.6159, 0.6042, 0.6128, 0.6371, 0.6023, 0.6284, 0.6686, 0.6198, 0.6814, 0.7645, 0.6971, 0.6688, 0.7509, 0.7382, 0.7201, 0.648, 0.5656, 0.5059, 0.5629, 0.5543, 0.6434, 0.7164, 0.7408, 0.7304, 0.73, 0.7531, 0.6669, 0.6657, 0.7206, 0.6508, 0.6836, 0.6319, 0.6199, 0.5356, 0.5266, 0.631, 0.5785, 0.7722, 0.6816, 0.6556, 0.5419, 0.5407, 0.7545, 0.7416, 0.7677, 0.7384, 0.6664, 0.6651, 0.717, 0.7443, 0.6938, 0.7439, 0.7154, 0.7042, 0.7185, 0.6905, 0.6688, 0.6472, 0.5744, 0.5295, 0.5047, 0.5214, 0.5352, 0.6235, 0.6945, 0.6428, 0.6951, 0.7154, 0.6137, 0.5918, 0.6668, 0.6334, 0.7329, 0.6679, 0.6864, 0.6243, 0.6914, 0.5789, 0.6954, 0.696, 0.7082, 0.7142, 0.6384, 0.5174, 0.5255, 0.5668, 0.5626, 0.5114, 0.5988, 0.5693, 0.5197, 0.6789, 0.5561, 0.5328, 0.688, 0.7073, 0.7761, 0.7718, 0.7537, 0.6915, 0.631, 0.6504, 0.639, 0.6702, 0.729, 0.6308, 0.7029, 0.6996, 0.6767, 0.6678, 0.6502, 0.6463, 0.6519, 0.5592, 0.6607, 0.6794, 0.6457, 0.6407, 0.7167, 0.724, 0.7178, 0.7209, 0.5531, 0.5678, 0.5868, 0.648, 0.5675, 0.6719, 0.633, 0.6476, 0.6216, 0.6249, 0.6563, 0.643, 0.6787, 0.6704, 0.5156, 0.542, 0.5411, 0.5476, 0.503, 0.6915, 0.6757, 0.6114, 0.6493, 0.606, 0.5692, 0.6257, 0.7323, 0.7053, 0.5608, 0.6946, 0.6812, 0.6937, 0.7247, 0.7004, 0.7185, 0.6451, 0.5909, 0.5621, 0.571, 0.5674, 0.6673, 0.6576, 0.6357, 0.6433, 0.5652, 0.5322, 0.665, 0.6785, 0.6862, 0.6416, 0.644, 0.6973, 0.7425, 0.7165, 0.7876, 0.7353, 0.7079, 0.6994, 0.6567, 0.6749, 0.7343, 0.7733, 0.7552, 0.7974, 0.766, 0.7519, 0.7408, 0.7038, 0.7285, 0.7884, 0.7041, 0.6878, 0.7268, 0.6752, 0.6512, 0.6238, 0.6215, 0.6555, 0.6669, 0.6758, 0.6557, 0.6586, 0.6301, 0.6502, 0.6266, 0.7018, 0.6998, 0.6885, 0.7055, 0.7599, 0.7583, 0.7638, 0.7532, 0.6957, 0.6011, 0.547, 0.5734, 0.6366, 0.551, 0.5161, 0.5402, 0.5947, 0.5818, 0.5002, 0.6335, 0.6293, 0.7078, 0.6848, 0.7317, 0.7162, 0.7028, 0.6654, 0.576, 0.5646, 0.5977, 0.6754, 0.7027, 0.7187, 0.679, 0.5947, 0.666, 0.6273, 0.6461, 0.6298, 0.599, 0.5196, 0.5704, 0.5862, 0.585, 0.5681, 0.593, 0.6297, 0.6135, 0.6542, 0.554, 0.6713, 0.7476, 0.737, 0.7528, 0.7101, 0.7123, 0.7201, 0.7044, 0.7609, 0.742, 0.6925, 0.6979, 0.6391, 0.6285, 0.6318, 0.6653, 0.6523, 0.7309, 0.7421, 0.6972, 0.6885, 0.6207, 0.543, 0.539, 0.5677, 0.6107, 0.5224, 0.5202, 0.5954, 0.6947, 0.6584, 0.6926, 0.6599, 0.6274, 0.6127, 0.641, 0.6057, 0.6269, 0.8145, 0.8602, 0.8567, 0.8794, 0.874, 0.8676, 0.8364, 0.8328, 0.8453, 0.7215, 0.5748, 0.5577, 0.6469, 0.7947, 0.6437, 0.5537, 0.5181, 0.6281, 0.6017, 0.6826, 0.6808, 0.7213, 0.6795, 0.6747, 0.5053, 0.6364, 0.6726, 0.6623, 0.6247, 0.529, 0.5786, 0.6294, 0.7062, 0.7454, 0.7561, 0.7125, 0.6193, 0.5417, 0.5071, 0.5711, 0.6589, 0.5863, 0.5538, 0.53, 0.572, 0.6524, 0.7272, 0.6168, 0.66, 0.6815, 0.6702, 0.6847, 0.556, 0.5442, 0.5243, 0.5922, 0.5245, 0.521, 0.509, 0.5511, 0.698, 0.6429, 0.599, 0.6177, 0.6034, 0.6296, 0.6235, 0.506, 0.8464, 0.9471, 0.9947, 0.9965, 0.9977, 0.9951, 0.9587, 0.7767, 0.6784, 0.6321, 0.6295, 0.6963, 0.5402, 0.6768, 0.6612, 0.5835, 0.6021, 0.5906, 0.5742, 0.634, 0.7505, 0.7424, 0.7798, 0.6709, 0.6292, 0.5697, 0.515, 0.5045, 0.6185, 0.6465, 0.6815, 0.6341, 0.5679, 0.5503, 0.6104, 0.5767, 0.5539, 0.6809, 0.6847, 0.6706, 0.7533, 0.7308, 0.6234, 0.5648, 0.5803, 0.5983, 0.6176, 0.7496, 0.7519, 0.752, 0.7626, 0.6742, 0.6279, 0.5277, 0.508, 0.5875, 0.5853, 0.518, 0.6182, 0.5883, 0.6268, 0.6072, 0.6519, 0.5825, 0.6554, 0.623, 0.5271, 0.6073, 0.7016, 0.7483, 0.6489, 0.5102, 0.6426, 0.6774, 0.6736, 0.5842, 0.5953, 0.682, 0.7257, 0.7228, 0.6413, 0.5652, 0.5844, 0.5841, 0.5842, 0.6423, 0.6963, 0.5484, 0.516, 0.5427, 0.6089, 0.655, 0.6553, 0.5013, 0.5364, 0.5563, 0.5599, 0.5023, 0.6598, 0.6585, 0.6854, 0.7203, 0.7563, 0.7381, 0.7221, 0.6417, 0.5947, 0.6374, 0.629, 0.624, 0.7079, 0.8013, 0.7443, 0.7313, 0.7437, 0.7428, 0.6841, 0.6489, 0.6526, 0.6438, 0.5747, 0.6485, 0.7159, 0.6322, 0.6776, 0.6751, 0.7047, 0.6368, 0.7116, 0.7203, 0.7462, 0.7169, 0.7359, 0.7402, 0.7615, 0.7343, 0.7405, 0.7373, 0.7687, 0.6689, 0.6369, 0.6175, 0.5904, 0.6075, 0.6593, 0.6554, 0.7048, 0.7108, 0.6965, 0.6817, 0.7003, 0.7404, 0.6974, 0.7226, 0.7281, 0.7331, 0.748, 0.7315, 0.6847, 0.7458, 0.7515, 0.7441, 0.7311, 0.7491, 0.7129, 0.6981, 0.5784, 0.5481, 0.5822, 0.5877, 0.5593, 0.5031, 0.5837, 0.7262, 0.7171, 0.7155, 0.6906, 0.7042, 0.7191, 0.7027, 0.7041, 0.652, 0.6289, 0.6318, 0.6256, 0.5186, 0.5668, 0.6867, 0.8057, 0.9197, 0.875, 0.8651, 0.7464, 0.578, 0.611, 0.7445, 0.7402, 0.6851, 0.7003, 0.6368, 0.6458, 0.7226, 0.7376, 0.7295, 0.756, 0.7375, 0.5568, 0.5711, 0.5576, 0.5993, 0.5374, 0.5749, 0.5456, 0.5427, 0.5246, 0.5921, 0.5718, 0.5306, 0.5115, 0.5304, 0.596, 0.5824, 0.5137, 0.6081, 0.5728, 0.621, 0.5618, 0.5249, 0.6122, 0.734, 0.7838, 0.8387, 0.6823, 0.6699, 0.5616, 0.6694, 0.677, 0.6295, 0.7068, 0.6954, 0.5021, 0.5325, 0.7052, 0.7501, 0.8149, 0.693, 0.7907, 0.6434, 0.6916, 0.7401, 0.7998, 0.8005, 0.7258, 0.5534, 0.5376, 0.5499, 0.5095, 0.6401, 0.572, 0.5039, 0.6142, 0.6698, 0.6053, 0.5029, 0.5312, 0.5498, 0.6339, 0.6622, 0.6263, 0.5157, 0.529, 0.671, 0.7451, 0.6968, 0.6684, 0.6402, 0.5951, 0.7533, 0.7272, 0.7539, 0.7342, 0.8389, 0.6079, 0.5672, 0.7114, 0.7254, 0.7159, 0.6761, 0.6419, 0.5607, 0.5538, 0.665, 0.7395, 0.7596, 0.757, 0.6613, 0.5605, 0.5824, 0.7104, 0.6236, 0.6562, 0.6748, 0.6033, 0.6162, 0.5786, 0.5602, 0.5551, 0.5151, 0.6777, 0.5536, 0.5642, 0.5309, 0.523, 0.5819, 0.5507, 0.5223, 0.5805, 0.5864, 0.729, 0.578, 0.6161, 0.5646, 0.5724, 0.5444, 0.5932, 0.6381, 0.6118, 0.6307, 0.5587, 0.5643, 0.7101, 0.69, 0.7619, 0.6117, 0.5206, 0.5379, 0.6179, 0.7323, 0.7105, 0.665, 0.668, 0.7418, 0.7634, 0.7421, 0.7066, 0.6465, 0.501, 0.5297, 0.5412, 0.5913, 0.6018, 0.7355, 0.6876, 0.6742, 0.7096, 0.7129, 0.7265, 0.7527, 0.6859, 0.5109, 0.514, 0.51, 0.577, 0.5409, 0.5373, 0.6111, 0.5965, 0.6062, 0.6724, 0.6674, 0.7007, 0.6952, 0.7093, 0.7369, 0.7144, 0.6847, 0.5858, 0.5471, 0.5642, 0.5627, 0.5898, 0.5241, 0.5561, 0.58, 0.6041, 0.6879, 0.7637, 0.6672, 0.6569, 0.7128, 0.7162, 0.7259, 0.6707, 0.5834, 0.6274, 0.6482, 0.6398, 0.7116, 0.7643, 0.7263, 0.6637, 0.6647, 0.7007, 0.6849, 0.7373, 0.7426, 0.6776, 0.7095, 0.6559, 0.6505, 0.5605, 0.5318, 0.5599, 0.687, 0.7201, 0.8022, 0.7877, 0.7342, 0.6878, 0.6637, 0.6709, 0.6789, 0.7167, 0.7324, 0.7759, 0.6741, 0.6643, 0.6344, 0.6599, 0.6273, 0.5193, 0.5817, 0.5941, 0.5777, 0.6688, 0.6998, 0.6419, 0.6054, 0.6472, 0.641, 0.7148, 0.6346, 0.6855, 0.5895, 0.5946, 0.5021, 0.5259, 0.5396, 0.6132, 0.6258, 0.6857, 0.783, 0.6106, 0.6229, 0.5558, 0.553, 0.5854, 0.6286, 0.6837, 0.7162, 0.6856, 0.5772, 0.5278, 0.5129, 0.5257, 0.5829, 0.5772, 0.5857, 0.5924, 0.686, 0.8085, 0.8691, 0.8875, 0.7755, 0.6156, 0.5815, 0.6534, 0.7442, 0.6955, 0.5816, 0.6592, 0.7065, 0.6789, 0.6428, 0.5884, 0.5109, 0.6538, 0.5823, 0.5812, 0.5366, 0.5775, 0.6938, 0.6031, 0.7148, 0.6557, 0.706, 0.7066, 0.7491, 0.6262, 0.5121, 0.5279, 0.5527, 0.5323, 0.6156, 0.6737, 0.6883, 0.6794, 0.6007, 0.5011, 0.5087, 0.7841, 0.7462, 0.9989, 1.0, 1.0, 1.0, 1.0, 0.9998, 0.9983, 0.7325, 0.7003, 0.519, 0.5439, 0.704, 0.6713, 0.6115, 0.5818, 0.512, 0.5475, 0.5338, 0.5588, 0.544, 0.6224, 0.5881, 0.5098, 0.5111, 0.6339, 0.6589, 0.792, 0.7553, 0.6345, 0.5992, 0.5198, 0.659, 0.6864, 0.8627, 0.8399, 0.8864, 0.8477, 0.8392, 0.6775, 0.538, 0.5197, 0.5263, 0.5757, 0.5048, 0.535, 0.5318, 0.5246, 0.5277, 0.6499, 0.586, 0.6295, 0.6756, 0.51, 0.5633, 0.5152, 0.5402, 0.6667, 0.7172, 0.6101, 0.6939, 0.657, 0.6594, 0.5129, 0.5501, 0.5733, 0.5523, 0.7296, 0.7096, 0.7541, 0.8651, 0.772, 0.765, 0.66, 0.5981, 0.5263, 0.5277, 0.6264, 0.7391, 0.6771, 0.6526, 0.5308, 0.5193, 0.6104, 0.5107, 0.5388, 0.6149, 0.6609, 0.8362, 0.9078, 0.9358, 0.9411, 0.9409, 0.9105, 0.8101, 0.5346, 0.6727, 0.7163, 0.7228, 0.6695, 0.6882, 0.609, 0.586, 0.5685, 0.6217, 0.6195, 0.5403, 0.5564, 0.6042, 0.7269, 0.7913, 0.6781, 0.531, 0.5339, 0.7338, 0.6139, 0.6739, 0.6708, 0.5197, 0.634, 0.5072, 0.5011, 0.6494, 0.5206, 0.5723, 0.5148, 0.6219, 0.5574, 0.5286, 0.5755, 0.6751, 0.6072, 0.6849, 0.6927, 0.6801, 0.6785, 0.6375, 0.6471, 0.6576, 0.692, 0.7081, 0.7363, 0.7817, 0.6927, 0.7089, 0.704, 0.6103, 0.6521, 0.7104, 0.6276, 0.6876, 0.6349, 0.6442, 0.6153, 0.6638, 0.6273, 0.5261, 0.525, 0.5053, 0.504, 0.5333, 0.5863, 0.7002, 0.7661, 0.7906, 0.7744, 0.7695, 0.7493, 0.7206, 0.6987, 0.7011, 0.7471, 0.7133, 0.7329, 0.7637, 0.7346, 0.6742, 0.7411, 0.6948, 0.745, 0.7047, 0.6391, 0.6113, 0.6318, 0.5857, 0.5359, 0.6051, 0.5874, 0.6277, 0.6967, 0.7373, 0.7671, 0.7198, 0.7503, 0.7608, 0.6899, 0.7377, 0.6692, 0.7025, 0.685, 0.6467, 0.6522, 0.6346, 0.5658, 0.546, 0.61, 0.6437, 0.6086, 0.5143, 0.5864, 0.6767, 0.7352, 0.7594, 0.748, 0.7006, 0.6882, 0.679, 0.5893, 0.6064, 0.6574, 0.6551, 0.6651, 0.6722, 0.5708, 0.6273, 0.6212, 0.6185, 0.615, 0.6517, 0.5854, 0.6031, 0.6086, 0.6171, 0.5586, 0.5109, 0.5232, 0.51, 0.5005, 0.6953, 0.5796, 0.534, 0.5324, 0.5023, 0.5315, 0.5058, 0.5407, 0.674, 0.5902, 0.5001, 0.5851, 0.6508, 0.6293, 0.7275, 0.6562, 0.6432, 0.6604, 0.6045, 0.5522, 0.5086, 0.5376, 0.5605, 0.6136, 0.6411, 0.6349, 0.588, 0.5229, 0.6062, 0.7298, 0.6126, 0.5861, 0.5214, 0.7347, 0.5813, 0.7484, 0.6486, 0.7083, 0.6031, 0.5112, 0.6391, 0.7075, 0.5515, 0.5783, 0.6262, 0.7804, 0.8131, 0.8057, 0.7497, 0.5665, 0.6305, 0.6787, 0.683, 0.6691, 0.6641, 0.5564, 0.663, 0.5341, 0.5473, 0.6505, 0.6808, 0.6997, 0.5783, 0.5172, 0.729, 0.7054, 0.6744, 0.5233, 0.613, 0.552, 0.538, 0.5424, 0.5094, 0.5481, 0.5154, 0.6809, 0.7903, 0.9272, 0.971, 0.944, 0.9496, 0.8649, 0.6284, 0.6491, 0.5623, 0.6435, 0.6766, 0.5719, 0.749, 0.677, 0.7158, 0.6631, 0.7015, 0.7642, 0.7284, 0.7088, 0.7246, 0.5214, 0.598, 0.6511, 0.709, 0.7437, 0.6358, 0.5037, 0.746]\n"
     ]
    }
   ],
   "source": [
    "def anomaly_score(error, dist):\n",
    "    delta = np.abs(error - dist.mean())\n",
    "    return dist.cdf(dist.mean() + delta)\n",
    "\n",
    "\n",
    "result = [np.round(anomaly_score(x, dist), 4) for x in val_errors]\n",
    "print(result)"
   ]
  },
  {
   "cell_type": "code",
   "execution_count": 21,
   "metadata": {
    "colab": {},
    "colab_type": "code",
    "id": "3gxaO-sVfMGN"
   },
   "outputs": [],
   "source": [
    "f = []\n",
    "for i in range(len(y_val)):\n",
    "  f.append(y_val[i][0])\n"
   ]
  },
  {
   "cell_type": "code",
   "execution_count": 22,
   "metadata": {
    "colab": {
     "base_uri": "https://localhost:8080/",
     "height": 283
    },
    "colab_type": "code",
    "id": "BTk0i65SXonQ",
    "outputId": "84aa4a5e-864d-430f-bfd1-6af5608d1091"
   },
   "outputs": [
    {
     "data": {
      "text/plain": [
       "<matplotlib.legend.Legend at 0x7f94f3669908>"
      ]
     },
     "execution_count": 22,
     "metadata": {
      "tags": []
     },
     "output_type": "execute_result"
    },
    {
     "data": {
      "image/png": "[encoded data removed]",
      "text/plain": [
       "<Figure size 432x288 with 1 Axes>"
      ]
     },
     "metadata": {
      "needs_background": "light",
      "tags": []
     },
     "output_type": "display_data"
    }
   ],
   "source": [
    "import matplotlib.pyplot as plt\n",
    "\n",
    "plt.plot(y_val[:,0], label=\"Original\")\n",
    "plt.plot(y_val_pred[:,0],color=\"r\", label=\"Predicted\")\n",
    "plt.legend()"
   ]
  },
  {
   "cell_type": "markdown",
   "metadata": {
    "colab_type": "text",
    "id": "Mx8m_XJcsUyI"
   },
   "source": [
    "The higher the number, the more likely the sample is to be an anomaly."
   ]
  },
  {
   "cell_type": "code",
   "execution_count": 23,
   "metadata": {
    "colab": {},
    "colab_type": "code",
    "id": "m_a-9itLsUyJ"
   },
   "outputs": [],
   "source": [
    "\n"
   ]
  },
  {
   "cell_type": "code",
   "execution_count": 24,
   "metadata": {
    "colab": {
     "base_uri": "https://localhost:8080/",
     "height": 55
    },
    "colab_type": "code",
    "id": "IZ1ALpyFoct3",
    "outputId": "887fcd1b-310d-44cf-ab79-75079e451f4d"
   },
   "outputs": [
    {
     "name": "stdout",
     "output_type": "stream",
     "text": [
      "[array([40]), array([95]), array([66]), array([70]), array([125]), array([114]), array([115]), array([113]), array([95]), array([67]), array([68]), array([77]), array([32]), array([64]), array([109]), array([95]), array([71]), array([98]), array([58]), array([47]), array([59]), array([76]), array([92]), array([99]), array([126]), array([73]), array([66]), array([69]), array([59]), array([86]), array([67]), array([78]), array([94]), array([73]), array([257]), array([164]), array([118]), array([83]), array([88]), array([105]), array([59]), array([65]), array([60]), array([53]), array([89]), array([102]), array([56]), array([89]), array([85]), array([85]), array([115])]\n"
     ]
    }
   ],
   "source": [
    "# For MAE plot\n",
    "plot_x=[]\n",
    "plot_y=[]\n",
    "for i in range(len(results)): \n",
    "  if results[i] == 1:\n",
    "    plot_x.append(i)\n",
    "    plot_y.append(y_val[i][0])\n",
    "print(plot_y)"
   ]
  },
  {
   "cell_type": "code",
   "execution_count": 25,
   "metadata": {
    "colab": {
     "base_uri": "https://localhost:8080/",
     "height": 299
    },
    "colab_type": "code",
    "id": "7dEpG19ArEuo",
    "outputId": "81c25818-d5d2-401d-e0ee-3d57c579250f"
   },
   "outputs": [
    {
     "data": {
      "text/plain": [
       "Text(0.5, 1.0, 'MAE Error Metric')"
      ]
     },
     "execution_count": 25,
     "metadata": {
      "tags": []
     },
     "output_type": "execute_result"
    },
    {
     "data": {
      "image/png": "[encoded data removed]",
      "text/plain": [
       "<Figure size 432x288 with 1 Axes>"
      ]
     },
     "metadata": {
      "needs_background": "light",
      "tags": []
     },
     "output_type": "display_data"
    }
   ],
   "source": [
    "plt.plot(y_val[:,0].squeeze())\n",
    "plt.scatter(plot_x,plot_y, color=\"r\",s=20)\n",
    "plt.title(\"MAE Error Metric\")\n"
   ]
  },
  {
   "cell_type": "code",
   "execution_count": 26,
   "metadata": {
    "colab": {
     "base_uri": "https://localhost:8080/",
     "height": 55
    },
    "colab_type": "code",
    "id": "J1NKnNKXxAQQ",
    "outputId": "5c36ae68-9dd7-422f-eeec-4ece1eee3b70"
   },
   "outputs": [
    {
     "name": "stdout",
     "output_type": "stream",
     "text": [
      "[array([40]), array([95]), array([66]), array([70]), array([125]), array([114]), array([115]), array([113]), array([95]), array([67]), array([68]), array([77]), array([32]), array([64]), array([109]), array([95]), array([71]), array([98]), array([58]), array([47]), array([59]), array([76]), array([92]), array([99]), array([126]), array([73]), array([66]), array([69]), array([59]), array([86]), array([67]), array([78]), array([94]), array([73]), array([257]), array([164]), array([118]), array([83]), array([88]), array([105]), array([59]), array([65]), array([60]), array([53]), array([89]), array([102]), array([56]), array([89]), array([85]), array([85]), array([115])]\n"
     ]
    }
   ],
   "source": [
    "# For MSE plot\n",
    "plot_x=[]\n",
    "plot_y=[]\n",
    "for i in range(len(results_mse)): \n",
    "  if results_mse[i] == 1:\n",
    "    plot_x.append(i)\n",
    "    plot_y.append(y_val[i][0])\n",
    "print(plot_y)"
   ]
  },
  {
   "cell_type": "code",
   "execution_count": 27,
   "metadata": {
    "colab": {
     "base_uri": "https://localhost:8080/",
     "height": 299
    },
    "colab_type": "code",
    "id": "Zn03ZrwGxPOO",
    "outputId": "63399d50-b1cf-4c25-b0b8-a848e5a4aacb"
   },
   "outputs": [
    {
     "data": {
      "text/plain": [
       "Text(0.5, 1.0, 'MSE Error Metric')"
      ]
     },
     "execution_count": 27,
     "metadata": {
      "tags": []
     },
     "output_type": "execute_result"
    },
    {
     "data": {
      "image/png": "[encoded data removed]",
      "text/plain": [
       "<Figure size 432x288 with 1 Axes>"
      ]
     },
     "metadata": {
      "needs_background": "light",
      "tags": []
     },
     "output_type": "display_data"
    }
   ],
   "source": [
    "plt.plot(y_val[:,0].squeeze())\n",
    "plt.scatter(plot_x,plot_y, color=\"r\",s=20)\n",
    "plt.title(\"MSE Error Metric\")"
   ]
  },
  {
   "cell_type": "code",
   "execution_count": 27,
   "metadata": {
    "colab": {},
    "colab_type": "code",
    "id": "zE3DBx2BxTMh"
   },
   "outputs": [],
   "source": []
  },
  {
   "cell_type": "code",
   "execution_count": 28,
   "metadata": {
    "colab": {
     "base_uri": "https://localhost:8080/",
     "height": 336
    },
    "colab_type": "code",
    "id": "6pVYAh9Eykov",
    "outputId": "d58ab40f-23b1-48a2-e27e-40d9a12be247"
   },
   "outputs": [
    {
     "name": "stdout",
     "output_type": "stream",
     "text": [
      "[array([40]), array([95]), array([66]), array([70]), array([125]), array([114]), array([115]), array([113]), array([95]), array([67]), array([68]), array([77]), array([32]), array([64]), array([109]), array([95]), array([71]), array([98]), array([58]), array([47]), array([59]), array([76]), array([92]), array([99]), array([126]), array([73]), array([66]), array([69]), array([59]), array([86]), array([67]), array([78]), array([94]), array([73]), array([257]), array([164]), array([118]), array([83]), array([88]), array([105]), array([59]), array([65]), array([60]), array([53]), array([89]), array([102]), array([56]), array([89]), array([85]), array([85]), array([115])]\n"
     ]
    },
    {
     "data": {
      "text/plain": [
       "Text(0.5, 1.0, 'R2 Score Metric')"
      ]
     },
     "execution_count": 28,
     "metadata": {
      "tags": []
     },
     "output_type": "execute_result"
    },
    {
     "data": {
      "image/png": "[encoded data removed]",
      "text/plain": [
       "<Figure size 432x288 with 1 Axes>"
      ]
     },
     "metadata": {
      "needs_background": "light",
      "tags": []
     },
     "output_type": "display_data"
    }
   ],
   "source": [
    "# For R2 plot\n",
    "plot_x=[]\n",
    "plot_y=[]\n",
    "for i in range(len(results_r2)): \n",
    "  if results_r2[i] == 1:\n",
    "    plot_x.append(i)\n",
    "    plot_y.append(y_val[i][0])\n",
    "print(plot_y)\n",
    "\n",
    "plt.plot(y_val[:,0].squeeze())\n",
    "plt.scatter(plot_x,plot_y, color=\"r\", s=20)\n",
    "plt.title(\"R2 Score Metric\")"
   ]
  },
  {
   "cell_type": "code",
   "execution_count": 29,
   "metadata": {
    "colab": {
     "base_uri": "https://localhost:8080/",
     "height": 313
    },
    "colab_type": "code",
    "id": "TNJoiiX1sDti",
    "outputId": "a4046860-0f25-45be-99c6-96c5f647f058"
   },
   "outputs": [
    {
     "data": {
      "text/plain": [
       "<matplotlib.legend.Legend at 0x7f94f357ceb8>"
      ]
     },
     "execution_count": 29,
     "metadata": {
      "tags": []
     },
     "output_type": "execute_result"
    },
    {
     "data": {
      "image/png": "[encoded data removed]",
      "text/plain": [
       "<Figure size 432x288 with 1 Axes>"
      ]
     },
     "metadata": {
      "needs_background": "light",
      "tags": []
     },
     "output_type": "display_data"
    }
   ],
   "source": [
    "plt.figure()\n",
    "plt.plot(history.history['loss'])\n",
    "plt.plot(history.history['val_loss'])\n",
    "plt.title('Train vs Validation Loss over time')\n",
    "plt.ylabel('loss')\n",
    "plt.xlabel('epoch')\n",
    "plt.legend(['train', 'test'], loc='best')"
   ]
  },
  {
   "cell_type": "code",
   "execution_count": 29,
   "metadata": {
    "colab": {},
    "colab_type": "code",
    "id": "XNgevzfsSJ5W"
   },
   "outputs": [],
   "source": []
  }
 ],
 "metadata": {
  "colab": {
   "name": "Part1P4_72.ipynb",
   "provenance": []
  },
  "kernelspec": {
   "display_name": "Python 3",
   "language": "python",
   "name": "python3"
  },
  "language_info": {
   "codemirror_mode": {
    "name": "ipython",
    "version": 3
   },
   "file_extension": ".py",
   "mimetype": "text/x-python",
   "name": "python",
   "nbconvert_exporter": "python",
   "pygments_lexer": "ipython3",
   "version": "3.7.6"
  }
 },
 "nbformat": 4,
 "nbformat_minor": 1
}
