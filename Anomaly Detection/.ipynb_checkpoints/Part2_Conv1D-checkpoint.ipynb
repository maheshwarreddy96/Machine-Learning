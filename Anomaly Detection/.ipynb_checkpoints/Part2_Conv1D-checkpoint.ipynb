{
 "cells": [
  {
   "cell_type": "markdown",
   "metadata": {
    "colab_type": "text",
    "id": "vRc-kljksUw8"
   },
   "source": [
    "## Anomaly Detection"
   ]
  },
  {
   "cell_type": "code",
   "execution_count": 527,
   "metadata": {
    "colab": {},
    "colab_type": "code",
    "id": "pR-QIZlssUw_"
   },
   "outputs": [],
   "source": [
    "%matplotlib inline\n",
    "import matplotlib.pyplot as plt\n",
    "import numpy as np\n",
    "import pandas as pd\n",
    "from keras import backend as K\n",
    "from keras.models import Model\n",
    "from keras.layers import Activation, BatchNormalization\n",
    "from keras.layers import Dropout, Dense, Input, LSTM\n",
    "from keras.optimizers import Adam\n",
    "from tensorflow import keras\n",
    "from tensorflow.keras import layers\n",
    "from datetime import datetime\n",
    "from matplotlib import dates as md"
   ]
  },
  {
   "cell_type": "code",
   "execution_count": 528,
   "metadata": {
    "colab": {
     "base_uri": "https://localhost:8080/",
     "height": 34
    },
    "colab_type": "code",
    "id": "1DxdMORisUxF",
    "outputId": "cdb17015-1f50-41f1-bd23-52c50d70f99a"
   },
   "outputs": [
    {
     "data": {
      "text/plain": [
       "(15831, 2)"
      ]
     },
     "execution_count": 528,
     "metadata": {
      "tags": []
     },
     "output_type": "execute_result"
    }
   ],
   "source": [
    "data = pd.read_csv('https://raw.githubusercontent.com/numenta/NAB/master/data/realTweets/Twitter_volume_AMZN.csv')\n",
    "data.shape"
   ]
  },
  {
   "cell_type": "code",
   "execution_count": 529,
   "metadata": {
    "colab": {
     "base_uri": "https://localhost:8080/",
     "height": 204
    },
    "colab_type": "code",
    "id": "aMcTBHtisUxJ",
    "outputId": "0452c6db-3577-41ef-9fc6-89b994f9b5cd"
   },
   "outputs": [
    {
     "data": {
      "text/html": [
       "<div>\n",
       "<style scoped>\n",
       "    .dataframe tbody tr th:only-of-type {\n",
       "        vertical-align: middle;\n",
       "    }\n",
       "\n",
       "    .dataframe tbody tr th {\n",
       "        vertical-align: top;\n",
       "    }\n",
       "\n",
       "    .dataframe thead th {\n",
       "        text-align: right;\n",
       "    }\n",
       "</style>\n",
       "<table border=\"1\" class=\"dataframe\">\n",
       "  <thead>\n",
       "    <tr style=\"text-align: right;\">\n",
       "      <th></th>\n",
       "      <th>timestamp</th>\n",
       "      <th>value</th>\n",
       "    </tr>\n",
       "  </thead>\n",
       "  <tbody>\n",
       "    <tr>\n",
       "      <th>0</th>\n",
       "      <td>2015-02-26 21:42:53</td>\n",
       "      <td>57</td>\n",
       "    </tr>\n",
       "    <tr>\n",
       "      <th>1</th>\n",
       "      <td>2015-02-26 21:47:53</td>\n",
       "      <td>43</td>\n",
       "    </tr>\n",
       "    <tr>\n",
       "      <th>2</th>\n",
       "      <td>2015-02-26 21:52:53</td>\n",
       "      <td>55</td>\n",
       "    </tr>\n",
       "    <tr>\n",
       "      <th>3</th>\n",
       "      <td>2015-02-26 21:57:53</td>\n",
       "      <td>64</td>\n",
       "    </tr>\n",
       "    <tr>\n",
       "      <th>4</th>\n",
       "      <td>2015-02-26 22:02:53</td>\n",
       "      <td>93</td>\n",
       "    </tr>\n",
       "  </tbody>\n",
       "</table>\n",
       "</div>"
      ],
      "text/plain": [
       "             timestamp  value\n",
       "0  2015-02-26 21:42:53     57\n",
       "1  2015-02-26 21:47:53     43\n",
       "2  2015-02-26 21:52:53     55\n",
       "3  2015-02-26 21:57:53     64\n",
       "4  2015-02-26 22:02:53     93"
      ]
     },
     "execution_count": 529,
     "metadata": {
      "tags": []
     },
     "output_type": "execute_result"
    }
   ],
   "source": [
    "data.head()"
   ]
  },
  {
   "cell_type": "code",
   "execution_count": 530,
   "metadata": {
    "colab": {
     "base_uri": "https://localhost:8080/",
     "height": 412
    },
    "colab_type": "code",
    "id": "VNsSOE2vsUxO",
    "outputId": "66aedb7c-af7d-48f7-e268-6c17b33efcb3",
    "scrolled": false
   },
   "outputs": [
    {
     "data": {
      "text/plain": [
       "(array([-2000.,     0.,  2000.,  4000.,  6000.,  8000., 10000., 12000.,\n",
       "        14000., 16000., 18000.]), <a list of 11 Text major ticklabel objects>)"
      ]
     },
     "execution_count": 530,
     "metadata": {
      "tags": []
     },
     "output_type": "execute_result"
    },
    {
     "data": {
      "image/png": "[encoded data removed]",
      "text/plain": [
       "<Figure size 432x288 with 1 Axes>"
      ]
     },
     "metadata": {
      "needs_background": "light",
      "tags": []
     },
     "output_type": "display_data"
    }
   ],
   "source": [
    "data.set_index('timestamp').plot()\n",
    "plt.xticks(rotation='vertical')"
   ]
  },
  {
   "cell_type": "code",
   "execution_count": 531,
   "metadata": {
    "colab": {
     "base_uri": "https://localhost:8080/",
     "height": 297
    },
    "colab_type": "code",
    "id": "Ow-QfotOkE47",
    "outputId": "66dc3f9d-5893-4064-a96a-089e7e57cc4f"
   },
   "outputs": [
    {
     "data": {
      "text/html": [
       "<div>\n",
       "<style scoped>\n",
       "    .dataframe tbody tr th:only-of-type {\n",
       "        vertical-align: middle;\n",
       "    }\n",
       "\n",
       "    .dataframe tbody tr th {\n",
       "        vertical-align: top;\n",
       "    }\n",
       "\n",
       "    .dataframe thead th {\n",
       "        text-align: right;\n",
       "    }\n",
       "</style>\n",
       "<table border=\"1\" class=\"dataframe\">\n",
       "  <thead>\n",
       "    <tr style=\"text-align: right;\">\n",
       "      <th></th>\n",
       "      <th>value</th>\n",
       "    </tr>\n",
       "  </thead>\n",
       "  <tbody>\n",
       "    <tr>\n",
       "      <th>count</th>\n",
       "      <td>15831.000000</td>\n",
       "    </tr>\n",
       "    <tr>\n",
       "      <th>mean</th>\n",
       "      <td>53.298465</td>\n",
       "    </tr>\n",
       "    <tr>\n",
       "      <th>std</th>\n",
       "      <td>30.553147</td>\n",
       "    </tr>\n",
       "    <tr>\n",
       "      <th>min</th>\n",
       "      <td>0.000000</td>\n",
       "    </tr>\n",
       "    <tr>\n",
       "      <th>25%</th>\n",
       "      <td>36.000000</td>\n",
       "    </tr>\n",
       "    <tr>\n",
       "      <th>50%</th>\n",
       "      <td>50.000000</td>\n",
       "    </tr>\n",
       "    <tr>\n",
       "      <th>75%</th>\n",
       "      <td>65.000000</td>\n",
       "    </tr>\n",
       "    <tr>\n",
       "      <th>max</th>\n",
       "      <td>1673.000000</td>\n",
       "    </tr>\n",
       "  </tbody>\n",
       "</table>\n",
       "</div>"
      ],
      "text/plain": [
       "              value\n",
       "count  15831.000000\n",
       "mean      53.298465\n",
       "std       30.553147\n",
       "min        0.000000\n",
       "25%       36.000000\n",
       "50%       50.000000\n",
       "75%       65.000000\n",
       "max     1673.000000"
      ]
     },
     "execution_count": 531,
     "metadata": {
      "tags": []
     },
     "output_type": "execute_result"
    }
   ],
   "source": [
    "data.describe()"
   ]
  },
  {
   "cell_type": "code",
   "execution_count": 532,
   "metadata": {
    "colab": {
     "base_uri": "https://localhost:8080/",
     "height": 282
    },
    "colab_type": "code",
    "id": "c6u86dpkoAey",
    "outputId": "6433dc7a-ac09-4eb4-c603-880c63d15b90"
   },
   "outputs": [
    {
     "data": {
      "text/plain": [
       "[<matplotlib.lines.Line2D at 0x7fb06dbe3160>]"
      ]
     },
     "execution_count": 532,
     "metadata": {
      "tags": []
     },
     "output_type": "execute_result"
    },
    {
     "data": {
      "image/png": "[encoded data removed]",
      "text/plain": [
       "<Figure size 432x288 with 1 Axes>"
      ]
     },
     "metadata": {
      "needs_background": "light",
      "tags": []
     },
     "output_type": "display_data"
    }
   ],
   "source": [
    "plt.plot(data['value'] - data['value'].shift(1))"
   ]
  },
  {
   "cell_type": "code",
   "execution_count": 533,
   "metadata": {
    "colab": {
     "base_uri": "https://localhost:8080/",
     "height": 68
    },
    "colab_type": "code",
    "id": "Sh8QomnKmgha",
    "outputId": "f0292ad5-8e71-4345-c249-ef3f087ffcfd"
   },
   "outputs": [
    {
     "name": "stderr",
     "output_type": "stream",
     "text": [
      "/usr/local/lib/python3.6/dist-packages/ipykernel_launcher.py:1: RuntimeWarning: invalid value encountered in greater_equal\n",
      "  \"\"\"Entry point for launching an IPython kernel.\n"
     ]
    },
    {
     "data": {
      "text/plain": [
       "(array([ 1993,  1994,  2008,  2009,  2010,  3735,  3736, 11070, 11072]),)"
      ]
     },
     "execution_count": 533,
     "metadata": {
      "tags": []
     },
     "output_type": "execute_result"
    }
   ],
   "source": [
    "np.where(np.array(abs(data['value'] - data['value'].shift(1))) >= 400)"
   ]
  },
  {
   "cell_type": "code",
   "execution_count": 534,
   "metadata": {
    "colab": {
     "base_uri": "https://localhost:8080/",
     "height": 384
    },
    "colab_type": "code",
    "id": "g6lpuFNonZ2B",
    "outputId": "366a84f0-9fef-4270-c2c2-08a63b39da83"
   },
   "outputs": [
    {
     "name": "stdout",
     "output_type": "stream",
     "text": [
      "11070    486\n",
      "11071    605\n",
      "11072     60\n",
      "11073     37\n",
      "11074     41\n",
      "Name: value, dtype: int64\n"
     ]
    },
    {
     "data": {
      "text/plain": [
       "[<matplotlib.lines.Line2D at 0x7fb06db04128>]"
      ]
     },
     "execution_count": 534,
     "metadata": {
      "tags": []
     },
     "output_type": "execute_result"
    },
    {
     "data": {
      "image/png": "[encoded data removed]",
      "text/plain": [
       "<Figure size 432x288 with 1 Axes>"
      ]
     },
     "metadata": {
      "needs_background": "light",
      "tags": []
     },
     "output_type": "display_data"
    }
   ],
   "source": [
    "print(data['value'][11070:11075])\n",
    "plt.plot(data['value'][2008-10:2008+20])"
   ]
  },
  {
   "cell_type": "code",
   "execution_count": 535,
   "metadata": {
    "colab": {
     "base_uri": "https://localhost:8080/",
     "height": 34
    },
    "colab_type": "code",
    "id": "IdRmPStssUxR",
    "outputId": "92b118a9-5b7f-4797-8ae3-809d950741ba"
   },
   "outputs": [
    {
     "data": {
      "text/plain": [
       "((14247, 1), (14247, 1), (1583, 1), (1583, 1))"
      ]
     },
     "execution_count": 535,
     "metadata": {
      "tags": []
     },
     "output_type": "execute_result"
    }
   ],
   "source": [
    "from sklearn.model_selection import train_test_split\n",
    "\n",
    "X = data['value'].values.reshape((len(data), 1))\n",
    "y = data['value'].values.reshape((len(data), 1))\n",
    "\n",
    "X = X[:-1, :]\n",
    "y = y[1:, :]\n",
    "\n",
    "# X_train, X_val, y_train, y_val = train_test_split(X, y, test_size=0.1, random_state=42)\n",
    "X_train, X_val, y_train, y_val = X[:int(len(X)*0.9)], X[int(len(X)*0.9):], y[:int(len(y)*0.9)], y[int(len(y)*0.9):]\n",
    "\n",
    "X_train.shape, y_train.shape, X_val.shape, y_val.shape"
   ]
  },
  {
   "cell_type": "code",
   "execution_count": 536,
   "metadata": {
    "colab": {},
    "colab_type": "code",
    "id": "JtDtuqRroyYf"
   },
   "outputs": [],
   "source": [
    "from sklearn.preprocessing import StandardScaler\n",
    "scaler = StandardScaler()\n",
    "scaler = scaler.fit(X_train)\n",
    "X_train = scaler.transform(X_train)"
   ]
  },
  {
   "cell_type": "code",
   "execution_count": 537,
   "metadata": {
    "colab": {},
    "colab_type": "code",
    "id": "aJPQc77AqJho"
   },
   "outputs": [],
   "source": [
    "from sklearn.preprocessing import StandardScaler\n",
    "scaler = StandardScaler()\n",
    "scaler = scaler.fit(X_val)\n",
    "X_val = scaler.transform(X_val)"
   ]
  },
  {
   "cell_type": "code",
   "execution_count": 538,
   "metadata": {
    "colab": {
     "base_uri": "https://localhost:8080/",
     "height": 282
    },
    "colab_type": "code",
    "id": "g9I6GMDueRmo",
    "outputId": "f145f321-33f7-4191-9031-0000be2c55fc"
   },
   "outputs": [
    {
     "data": {
      "text/plain": [
       "[<matplotlib.lines.Line2D at 0x7fb088fae5f8>]"
      ]
     },
     "execution_count": 538,
     "metadata": {
      "tags": []
     },
     "output_type": "execute_result"
    },
    {
     "data": {
      "image/png": "[encoded data removed]",
      "text/plain": [
       "<Figure size 432x288 with 1 Axes>"
      ]
     },
     "metadata": {
      "needs_background": "light",
      "tags": []
     },
     "output_type": "display_data"
    }
   ],
   "source": [
    "plt.plot(X_train)"
   ]
  },
  {
   "cell_type": "code",
   "execution_count": 539,
   "metadata": {
    "colab": {},
    "colab_type": "code",
    "id": "QhteRgKWdcoO"
   },
   "outputs": [],
   "source": [
    "# median = np.median(X_train)\n",
    "# print(\"before\", median)\n",
    "# X_train[np.where(X_train >= 65)] = 65\n",
    "# X_train[np.where(X_train <= 36)] = 36\n",
    "# print(\"after\", np.median(X_train))"
   ]
  },
  {
   "cell_type": "code",
   "execution_count": 540,
   "metadata": {
    "colab": {
     "base_uri": "https://localhost:8080/",
     "height": 282
    },
    "colab_type": "code",
    "id": "E1eoFhYNeUPd",
    "outputId": "2288e815-e19f-48e1-8fa2-bbcb9be72245"
   },
   "outputs": [
    {
     "data": {
      "text/plain": [
       "[<matplotlib.lines.Line2D at 0x7fb06dab2d68>]"
      ]
     },
     "execution_count": 540,
     "metadata": {
      "tags": []
     },
     "output_type": "execute_result"
    },
    {
     "data": {
      "image/png": "[encoded data removed]",
      "text/plain": [
       "<Figure size 432x288 with 1 Axes>"
      ]
     },
     "metadata": {
      "needs_background": "light",
      "tags": []
     },
     "output_type": "display_data"
    }
   ],
   "source": [
    "plt.plot(X_train)"
   ]
  },
  {
   "cell_type": "code",
   "execution_count": 541,
   "metadata": {
    "colab": {},
    "colab_type": "code",
    "id": "luzZ7AXJsUxZ"
   },
   "outputs": [],
   "source": [
    "n_timesteps = 144\n",
    "n_samples = X_train.shape[0]\n",
    "n_features = X_train.shape[1]\n",
    "n_val_samples = X_val.shape[0]\n",
    "k=-5"
   ]
  },
  {
   "cell_type": "code",
   "execution_count": 542,
   "metadata": {
    "colab": {
     "base_uri": "https://localhost:8080/",
     "height": 54
    },
    "colab_type": "code",
    "id": "URL0o2Lyez0v",
    "outputId": "784fc4d8-be4b-4e10-b6cc-efafe7164ea1"
   },
   "outputs": [
    {
     "name": "stdout",
     "output_type": "stream",
     "text": [
      "[(0, array([0.10055762])), (1, array([-0.34567955])), (2, array([0.03680945])), (3, array([0.32367621])), (4, array([1.24802463])), (5, array([1.59863955])), (6, array([1.1205283])), (7, array([1.05678013])), (8, array([0.10055762])), (9, array([0.45117254])), (10, array([0.32367621])), (11, array([0.22805396])), (12, array([0.61054296])), (13, array([0.80178746])), (14, array([0.83366155])), (15, array([0.70616521])), (16, array([-0.15443505])), (17, array([0.16430579])), (18, array([0.03680945])), (19, array([-0.18630913])), (20, array([-0.40942772])), (21, array([-0.15443505])), (22, array([0.29180212])), (23, array([-0.56879813])), (24, array([-0.37755363])), (25, array([-0.12256096])), (26, array([-0.60067222])), (27, array([-0.40942772])), (28, array([-0.47317588])), (29, array([-0.18630913])), (30, array([-0.72816855])), (31, array([-0.60067222])), (32, array([-0.69629447])), (33, array([-0.56879813])), (34, array([-0.53692405])), (35, array([0.25992804])), (36, array([-0.40942772])), (37, array([-0.09068688])), (38, array([0.35555029])), (39, array([-0.47317588])), (40, array([0.06868354])), (41, array([-0.37755363])), (42, array([0.25992804])), (43, array([-0.2500573])), (44, array([-0.2500573])), (45, array([0.25992804])), (46, array([-0.40942772])), (47, array([-0.4413018])), (48, array([-0.21818321])), (49, array([-0.18630913])), (50, array([-0.34567955])), (51, array([-0.40942772])), (52, array([0.03680945])), (53, array([1.15240238])), (54, array([0.80178746])), (55, array([0.10055762])), (56, array([-0.34567955])), (57, array([-0.47317588])), (58, array([0.10055762])), (59, array([0.06868354])), (60, array([1.53489139])), (61, array([0.99303196])), (62, array([0.80178746])), (63, array([0.89740971])), (64, array([0.19617987])), (65, array([-0.21818321])), (66, array([-0.34567955])), (67, array([-0.15443505])), (68, array([0.19617987])), (69, array([0.03680945])), (70, array([0.29180212])), (71, array([0.10055762])), (72, array([0.22805396])), (73, array([0.16430579])), (74, array([-0.60067222])), (75, array([0.48304663])), (76, array([-0.18630913])), (77, array([-0.21818321])), (78, array([-0.31380547])), (79, array([-0.21818321])), (80, array([-0.09068688])), (81, array([0.00493537])), (82, array([-0.40942772])), (83, array([-0.02693871])), (84, array([-0.15443505])), (85, array([-0.98316122])), (86, array([-0.72816855])), (87, array([-0.50504997])), (88, array([0.10055762])), (89, array([0.06868354])), (90, array([0.51492071])), (91, array([0.10055762])), (92, array([0.32367621])), (93, array([0.80178746])), (94, array([0.35555029])), (95, array([0.51492071])), (96, array([-0.09068688])), (97, array([-0.34567955])), (98, array([0.19617987])), (99, array([-0.15443505])), (100, array([-0.53692405])), (101, array([0.00493537])), (102, array([0.13243171])), (103, array([0.41929846])), (104, array([0.57866888])), (105, array([-0.15443505])), (106, array([-0.28193138])), (107, array([-0.18630913])), (108, array([-0.79191672])), (109, array([-0.98316122])), (110, array([-0.88753897])), (111, array([-0.8237908])), (112, array([-0.85566489])), (113, array([-1.14253164])), (114, array([-0.53692405])), (115, array([-0.60067222])), (116, array([-0.91941305])), (117, array([-0.8237908])), (118, array([-0.85566489])), (119, array([-0.60067222])), (120, array([-0.40942772])), (121, array([-0.6325463])), (122, array([-0.37755363])), (123, array([0.13243171])), (124, array([0.16430579])), (125, array([-0.85566489])), (126, array([-0.15443505])), (127, array([-0.0588128])), (128, array([-0.91941305])), (129, array([-0.56879813])), (130, array([-0.72816855])), (131, array([-0.98316122])), (132, array([-0.95128714])), (133, array([-1.39752431])), (134, array([-0.85566489])), (135, array([-0.69629447])), (136, array([-1.17440572])), (137, array([-0.66442039])), (138, array([-0.4413018])), (139, array([-0.91941305])), (140, array([-1.20627981])), (141, array([-0.95128714])), (142, array([-0.53692405])), (143, array([-0.6325463])), (144, array([0.19617987])), (145, array([0.10055762])), (146, array([0.25992804])), (147, array([0.06868354])), (148, array([0.45117254])), (149, array([0.00493537])), (150, array([-0.15443505])), (151, array([-0.37755363])), (152, array([-0.47317588])), (153, array([-0.12256096])), (154, array([-0.21818321])), (155, array([-0.76004264])), (156, array([-0.4413018])), (157, array([-0.28193138])), (158, array([-0.53692405])), (159, array([0.13243171])), (160, array([-0.60067222])), (161, array([-0.2500573])), (162, array([-0.53692405])), (163, array([-0.60067222])), (164, array([-0.12256096])), (165, array([-0.85566489])), (166, array([0.00493537])), (167, array([-0.09068688])), (168, array([-0.40942772])), (169, array([-0.12256096])), (170, array([1.15240238])), (171, array([0.03680945])), (172, array([0.10055762])), (173, array([0.10055762])), (174, array([0.54679479])), (175, array([-0.60067222])), (176, array([-0.8237908])), (177, array([-0.69629447])), (178, array([-0.69629447])), (179, array([0.19617987])), (180, array([-0.69629447])), (181, array([-0.21818321])), (182, array([-0.50504997])), (183, array([-0.2500573])), (184, array([0.00493537])), (185, array([0.06868354])), (186, array([0.29180212])), (187, array([0.41929846])), (188, array([0.45117254])), (189, array([0.22805396])), (190, array([-0.31380547])), (191, array([0.10055762])), (192, array([0.22805396])), (193, array([0.03680945])), (194, array([0.38742437])), (195, array([1.05678013])), (196, array([0.45117254])), (197, array([0.61054296])), (198, array([0.38742437])), (199, array([0.61054296])), (200, array([1.47114322])), (201, array([1.63051364])), (202, array([1.15240238])), (203, array([0.38742437])), (204, array([0.32367621])), (205, array([0.13243171])), (206, array([0.51492071])), (207, array([0.64241704])), (208, array([-0.18630913])), (209, array([0.16430579])), (210, array([0.48304663])), (211, array([0.41929846])), (212, array([-0.4413018])), (213, array([-0.21818321])), (214, array([-0.37755363])), (215, array([3.16046965])), (216, array([0.41929846])), (217, array([0.61054296])), (218, array([0.13243171])), (219, array([1.37552097])), (220, array([1.43926913])), (221, array([0.35555029])), (222, array([0.89740971])), (223, array([0.38742437])), (224, array([-0.31380547])), (225, array([0.35555029])), (226, array([0.67429113])), (227, array([-0.12256096])), (228, array([0.25992804])), (229, array([0.10055762])), (230, array([1.53489139])), (231, array([0.83366155])), (232, array([0.96115788])), (233, array([1.59863955])), (234, array([0.70616521])), (235, array([0.54679479])), (236, array([-0.15443505])), (237, array([1.56676547])), (238, array([2.55486206])), (239, array([1.66238772])), (240, array([2.33174348])), (241, array([1.24802463])), (242, array([0.96115788])), (243, array([0.06868354])), (244, array([0.22805396])), (245, array([0.10055762])), (246, array([-0.28193138])), (247, array([0.00493537])), (248, array([0.32367621])), (249, array([0.64241704])), (250, array([0.06868354])), (251, array([0.61054296])), (252, array([0.96115788])), (253, array([0.10055762])), (254, array([0.29180212])), (255, array([0.51492071])), (256, array([0.64241704])), (257, array([0.10055762])), (258, array([0.25992804])), (259, array([0.48304663])), (260, array([0.22805396])), (261, array([0.38742437])), (262, array([0.35555029])), (263, array([0.03680945])), (264, array([0.00493537])), (265, array([0.03680945])), (266, array([-0.02693871])), (267, array([0.41929846])), (268, array([0.51492071])), (269, array([0.70616521])), (270, array([0.41929846])), (271, array([1.78988406])), (272, array([-0.40942772])), (273, array([0.32367621])), (274, array([0.22805396])), (275, array([-0.47317588])), (276, array([0.22805396])), (277, array([0.61054296])), (278, array([0.25992804])), (279, array([0.41929846])), (280, array([-0.09068688])), (281, array([0.86553563])), (282, array([1.05678013])), (283, array([-0.0588128])), (284, array([0.25992804])), (285, array([1.72613589])), (286, array([0.70616521])), (287, array([0.10055762])), (288, array([0.45117254])), (289, array([0.16430579])), (290, array([0.45117254])), (291, array([0.00493537])), (292, array([0.06868354])), (293, array([0.06868354])), (294, array([0.67429113])), (295, array([0.48304663])), (296, array([-0.09068688])), (297, array([0.13243171])), (298, array([0.19617987])), (299, array([0.86553563])), (300, array([0.35555029])), (301, array([0.51492071])), (302, array([0.32367621])), (303, array([-0.02693871])), (304, array([0.35555029])), (305, array([0.35555029])), (306, array([0.38742437])), (307, array([-0.18630913])), (308, array([-0.2500573])), (309, array([-0.12256096])), (310, array([-0.34567955])), (311, array([-0.28193138])), (312, array([-0.15443505])), (313, array([-0.15443505])), (314, array([-0.12256096])), (315, array([0.10055762])), (316, array([-0.47317588])), (317, array([-0.60067222])), (318, array([0.29180212])), (319, array([0.25992804])), (320, array([0.38742437])), (321, array([-0.0588128])), (322, array([-0.18630913])), (323, array([0.38742437])), (324, array([0.13243171])), (325, array([-0.40942772])), (326, array([-0.56879813])), (327, array([-0.4413018])), (328, array([0.57866888])), (329, array([0.57866888])), (330, array([0.32367621])), (331, array([0.61054296])), (332, array([0.48304663])), (333, array([0.76991338])), (334, array([0.13243171])), (335, array([0.73803929])), (336, array([2.52298798])), (337, array([1.08865421])), (338, array([1.05678013])), (339, array([1.08865421])), (340, array([0.76991338])), (341, array([0.83366155])), (342, array([0.57866888])), (343, array([1.1205283])), (344, array([0.25992804])), (345, array([1.18427647])), (346, array([1.47114322])), (347, array([0.19617987])), (348, array([0.00493537])), (349, array([0.9292838])), (350, array([-0.28193138])), (351, array([0.13243171])), (352, array([0.51492071])), (353, array([0.19617987])), (354, array([-0.40942772])), (355, array([0.19617987])), (356, array([0.10055762])), (357, array([0.22805396])), (358, array([0.38742437])), (359, array([0.16430579])), (360, array([0.32367621])), (361, array([0.83366155])), (362, array([1.21615055])), (363, array([1.3117728])), (364, array([1.5030173])), (365, array([1.43926913])), (366, array([0.45117254])), (367, array([0.32367621])), (368, array([1.15240238])), (369, array([0.64241704])), (370, array([-0.18630913])), (371, array([-0.18630913])), (372, array([0.29180212])), (373, array([-0.21818321])), (374, array([-0.34567955])), (375, array([-0.09068688])), (376, array([0.29180212])), (377, array([0.54679479])), (378, array([0.96115788])), (379, array([-0.6325463])), (380, array([-0.40942772])), (381, array([-0.09068688])), (382, array([-0.31380547])), (383, array([0.13243171])), (384, array([0.45117254])), (385, array([0.10055762])), (386, array([0.03680945])), (387, array([0.35555029])), (388, array([-0.09068688])), (389, array([-0.15443505])), (390, array([0.16430579])), (391, array([-0.31380547])), (392, array([0.13243171])), (393, array([-0.28193138])), (394, array([-0.0588128])), (395, array([-0.12256096])), (396, array([0.29180212])), (397, array([-0.28193138])), (398, array([0.00493537])), (399, array([0.45117254])), (400, array([-0.28193138])), (401, array([-0.4413018])), (402, array([0.00493537])), (403, array([-0.66442039])), (404, array([-0.50504997])), (405, array([-0.66442039])), (406, array([-0.0588128])), (407, array([-0.56879813])), (408, array([-0.56879813])), (409, array([-0.60067222])), (410, array([-0.76004264])), (411, array([-0.91941305])), (412, array([-0.95128714])), (413, array([-0.85566489])), (414, array([-1.04690939])), (415, array([-0.28193138])), (416, array([-0.85566489])), (417, array([-0.72816855])), (418, array([-0.60067222])), (419, array([0.13243171])), (420, array([0.19617987])), (421, array([-0.53692405])), (422, array([-0.76004264])), (423, array([-0.56879813])), (424, array([-0.47317588])), (425, array([-0.88753897])), (426, array([-0.50504997])), (427, array([-0.72816855])), (428, array([0.13243171])), (429, array([0.06868354])), (430, array([0.32367621])), (431, array([-0.31380547])), (432, array([0.13243171])), (433, array([0.29180212])), (434, array([0.13243171])), (435, array([-0.21818321])), (436, array([-0.21818321])), (437, array([-0.21818321])), (438, array([-0.56879813])), (439, array([-0.72816855])), (440, array([-0.76004264])), (441, array([-1.04690939])), (442, array([-0.98316122])), (443, array([-0.34567955])), (444, array([-0.34567955])), (445, array([-0.02693871])), (446, array([0.00493537])), (447, array([-0.28193138])), (448, array([-0.53692405])), (449, array([-0.60067222])), (450, array([-0.34567955])), (451, array([-0.34567955])), (452, array([-0.34567955])), (453, array([-0.4413018])), (454, array([-0.8237908])), (455, array([-0.91941305])), (456, array([-0.72816855])), (457, array([-0.98316122])), (458, array([-0.72816855])), (459, array([-0.72816855])), (460, array([-0.56879813])), (461, array([-0.2500573])), (462, array([-0.21818321])), (463, array([-0.69629447])), (464, array([-0.47317588])), (465, array([-0.37755363])), (466, array([-0.2500573])), (467, array([-0.4413018])), (468, array([0.19617987])), (469, array([0.51492071])), (470, array([0.54679479])), (471, array([0.48304663])), (472, array([0.06868354])), (473, array([0.51492071])), (474, array([1.08865421])), (475, array([-0.12256096])), (476, array([-0.02693871])), (477, array([-0.34567955])), (478, array([-0.02693871])), (479, array([-0.34567955])), (480, array([0.16430579])), (481, array([-0.12256096])), (482, array([-0.40942772])), (483, array([-0.4413018])), (484, array([-0.34567955])), (485, array([0.70616521])), (486, array([0.25992804])), (487, array([0.22805396])), (488, array([-0.31380547])), (489, array([-0.15443505])), (490, array([0.45117254])), (491, array([-0.15443505])), (492, array([0.80178746])), (493, array([0.54679479])), (494, array([-0.0588128])), (495, array([-0.21818321])), (496, array([-0.40942772])), (497, array([0.25992804])), (498, array([0.29180212])), (499, array([0.99303196]))]\n"
     ]
    }
   ],
   "source": [
    "print([i for i in enumerate(X_train[:500])])"
   ]
  },
  {
   "cell_type": "code",
   "execution_count": 543,
   "metadata": {
    "colab": {
     "base_uri": "https://localhost:8080/",
     "height": 34
    },
    "colab_type": "code",
    "id": "LeXAJx9CsUxd",
    "outputId": "df8711fd-8eec-4e44-da1d-8ca0e1aaa166"
   },
   "outputs": [
    {
     "data": {
      "text/plain": [
       "((14098, 144, 1), (14098, 5, 1), (1434, 144, 1), (1434, 5, 1))"
      ]
     },
     "execution_count": 543,
     "metadata": {
      "tags": []
     },
     "output_type": "execute_result"
    }
   ],
   "source": [
    "X_train_list = [np.expand_dims(X_train[i-n_timesteps:i, :], axis=0) for i in range(n_timesteps, n_samples+1)]\n",
    "X_train_list = X_train_list[:k]\n",
    "X_train = np.concatenate(X_train_list, axis=0)\n",
    "y_train_list = [np.expand_dims(y_train[i:i+5, :], axis=0) for i in range(n_timesteps, n_samples -5 + 1)]\n",
    "y_train = np.concatenate(y_train_list, axis=0)\n",
    "X_train = X_train[:-1, :, :]\n",
    "y_train = y_train[1:, :, :]\n",
    "# y_train = y_train[n_timesteps-1:, :]\n",
    "\n",
    "\n",
    "X_val_list = [np.expand_dims(X_val[i-n_timesteps:i, :], axis=0) for i in range(n_timesteps, n_val_samples + 1)]\n",
    "X_val_list = X_val_list[:k]\n",
    "X_val = np.concatenate(X_val_list, axis=0)\n",
    "# y_val = y_val[n_timesteps-1:, :]\n",
    "y_val_list = [np.expand_dims(y_val[i:i+5, :], axis=0) for i in range(n_timesteps, n_val_samples- 5 + 1)]\n",
    "y_val = np.concatenate(y_val_list, axis=0)\n",
    "X_val = X_val[:-1, :, :]\n",
    "y_val = y_val[1:, :, :]\n",
    "X_train.shape, y_train.shape, X_val.shape, y_val.shape"
   ]
  },
  {
   "cell_type": "code",
   "execution_count": 544,
   "metadata": {
    "colab": {},
    "colab_type": "code",
    "id": "Kf-hYwQTI2Ot"
   },
   "outputs": [],
   "source": [
    "# X_train = X_train.reshape(X_train.shape[0], 1, X_train.shape[1])\n",
    "# y_train = y_train.reshape(y_train.shape[0], 1, y_train.shape[1])\n",
    "# X_val = X_val.reshape(X_val.shape[0], 1, X_val.shape[1])\n",
    "# y_val = y_val.reshape(y_val.shape[0], 1, y_val.shape[1])\n"
   ]
  },
  {
   "cell_type": "code",
   "execution_count": 544,
   "metadata": {
    "colab": {},
    "colab_type": "code",
    "id": "MZjXQIJQjgdB"
   },
   "outputs": [],
   "source": []
  },
  {
   "cell_type": "code",
   "execution_count": 545,
   "metadata": {
    "colab": {
     "base_uri": "https://localhost:8080/",
     "height": 34
    },
    "colab_type": "code",
    "id": "-UHmVS_NI2MI",
    "outputId": "732212a2-9387-45f8-988b-a5ec4a0a4a3f"
   },
   "outputs": [
    {
     "data": {
      "text/plain": [
       "((14098, 144, 1), (14098, 5, 1), (1434, 144, 1), (1434, 5, 1))"
      ]
     },
     "execution_count": 545,
     "metadata": {
      "tags": []
     },
     "output_type": "execute_result"
    }
   ],
   "source": [
    "X_train.shape, y_train.shape, X_val.shape, y_val.shape"
   ]
  },
  {
   "cell_type": "code",
   "execution_count": 545,
   "metadata": {
    "colab": {},
    "colab_type": "code",
    "id": "l0ew3dbeoZjd"
   },
   "outputs": [],
   "source": [
    "\n"
   ]
  },
  {
   "cell_type": "code",
   "execution_count": 546,
   "metadata": {
    "colab": {
     "base_uri": "https://localhost:8080/",
     "height": 459
    },
    "colab_type": "code",
    "id": "qIJwhWOj7Wnr",
    "outputId": "4c44c3fb-7e76-42ca-bd2a-e22f4fd696ea"
   },
   "outputs": [
    {
     "name": "stdout",
     "output_type": "stream",
     "text": [
      "Model: \"sequential_20\"\n",
      "_________________________________________________________________\n",
      "Layer (type)                 Output Shape              Param #   \n",
      "=================================================================\n",
      "dropout_93 (Dropout)         (None, 144, 1)            0         \n",
      "_________________________________________________________________\n",
      "conv1d_50 (Conv1D)           (None, 72, 32)            256       \n",
      "_________________________________________________________________\n",
      "dropout_94 (Dropout)         (None, 72, 32)            0         \n",
      "_________________________________________________________________\n",
      "conv1d_51 (Conv1D)           (None, 36, 16)            3600      \n",
      "_________________________________________________________________\n",
      "conv1d_transpose_68 (Conv1DT (None, 72, 16)            1808      \n",
      "_________________________________________________________________\n",
      "dropout_95 (Dropout)         (None, 72, 16)            0         \n",
      "_________________________________________________________________\n",
      "conv1d_transpose_69 (Conv1DT (None, 144, 32)           3616      \n",
      "_________________________________________________________________\n",
      "dropout_96 (Dropout)         (None, 144, 32)           0         \n",
      "_________________________________________________________________\n",
      "conv1d_transpose_70 (Conv1DT (None, 144, 1)            225       \n",
      "=================================================================\n",
      "Total params: 9,505\n",
      "Trainable params: 9,505\n",
      "Non-trainable params: 0\n",
      "_________________________________________________________________\n"
     ]
    }
   ],
   "source": [
    "#AUTOENCODER\n",
    "\n",
    "model = keras.Sequential(\n",
    "    [\n",
    "        layers.Input(shape=(X_train.shape[1], X_train.shape[2])),\n",
    "     \n",
    "        # layers.Conv1D(\n",
    "        #     filters=64, kernel_size=7, padding=\"same\", strides=2, activation=\"relu\"\n",
    "        # ),\n",
    "        layers.Dropout(rate=0.2),\n",
    "        layers.Conv1D(\n",
    "            filters=32, kernel_size=7, padding=\"same\", strides=2, activation=\"relu\"\n",
    "        ),\n",
    "        layers.Dropout(rate=0.2),\n",
    "        layers.Conv1D(\n",
    "            filters=16, kernel_size=7, padding=\"same\", strides=2, activation=\"relu\"\n",
    "        ),\n",
    "        layers.Conv1DTranspose(\n",
    "            filters=16, kernel_size=7, padding=\"same\", strides=2, activation=\"relu\"\n",
    "        ),\n",
    "        layers.Dropout(rate=0.2),\n",
    "        layers.Conv1DTranspose(\n",
    "            filters=32, kernel_size=7, padding=\"same\", strides=2, activation=\"relu\"\n",
    "        ),\n",
    "        # layers.Conv1DTranspose(\n",
    "        #     filters=64, kernel_size=7, padding=\"same\", strides=2, activation=\"relu\"\n",
    "        # ),\n",
    "        layers.Dropout(rate=0.2),\n",
    "        layers.Conv1DTranspose(filters=1, kernel_size=7, padding=\"same\"),\n",
    "    ]\n",
    ")\n",
    "\n",
    "# dimensions = 100\n",
    "# def AutoencoderLSTM(n_timesteps, n_features):\n",
    "#     i = Input(shape=(n_timesteps, 1))\n",
    "     \n",
    "    \n",
    "#     x = LSTM(dimensions, activation='relu', return_sequences=True, input_shape=(n_timesteps, n_features))(i)\n",
    "#     x = Dropout(0.2)(x)\n",
    "\n",
    "#     x = LSTM(int(dimensions/2), activation='relu', return_sequences=True)(x)\n",
    "#     x = Dropout(0.2)(x)\n",
    "\n",
    "#     x = LSTM(int(dimensions/2), activation='relu', return_sequences=True)(x)\n",
    "#     x = LSTM(dimensions, activation='relu', return_sequences=True)(x)\n",
    "\n",
    "#     output = layers.TimeDistributed(Dense(n_features))(x)\n",
    "#     model = Model(inputs=i, outputs=output)\n",
    "#     opt = Adam(lr=0.01)\n",
    "#     model.compile(loss='mean_absolute_error', optimizer=opt)\n",
    "    \n",
    "#     return model\n",
    "  \n",
    "# model = AutoencoderLSTM(n_timesteps, 5)\n",
    "# model.summary()\n",
    "model.compile(optimizer=keras.optimizers.Adam(learning_rate=0.001), loss=\"mse\")\n",
    "model.summary()\n"
   ]
  },
  {
   "cell_type": "code",
   "execution_count": 547,
   "metadata": {
    "colab": {
     "base_uri": "https://localhost:8080/",
     "height": 901
    },
    "colab_type": "code",
    "id": "yqEw2mFV7fad",
    "outputId": "d757c265-5108-479b-bc77-2c5b7b1410b6"
   },
   "outputs": [
    {
     "name": "stdout",
     "output_type": "stream",
     "text": [
      "Epoch 1/50\n",
      "199/199 [==============================] - 1s 4ms/step - loss: 0.4361 - val_loss: 0.0732\n",
      "Epoch 2/50\n",
      "199/199 [==============================] - 1s 3ms/step - loss: 0.2498 - val_loss: 0.0667\n",
      "Epoch 3/50\n",
      "199/199 [==============================] - 1s 3ms/step - loss: 0.2380 - val_loss: 0.0594\n",
      "Epoch 4/50\n",
      "199/199 [==============================] - 1s 3ms/step - loss: 0.2282 - val_loss: 0.0544\n",
      "Epoch 5/50\n",
      "199/199 [==============================] - 1s 3ms/step - loss: 0.2155 - val_loss: 0.0584\n",
      "Epoch 6/50\n",
      "199/199 [==============================] - 1s 3ms/step - loss: 0.2169 - val_loss: 0.0532\n",
      "Epoch 7/50\n",
      "199/199 [==============================] - 1s 3ms/step - loss: 0.2043 - val_loss: 0.0567\n",
      "Epoch 8/50\n",
      "199/199 [==============================] - 1s 3ms/step - loss: 0.2189 - val_loss: 0.0467\n",
      "Epoch 9/50\n",
      "199/199 [==============================] - 1s 3ms/step - loss: 0.1950 - val_loss: 0.0548\n",
      "Epoch 10/50\n",
      "199/199 [==============================] - 1s 3ms/step - loss: 0.2147 - val_loss: 0.0516\n",
      "Epoch 11/50\n",
      "199/199 [==============================] - 1s 3ms/step - loss: 0.2014 - val_loss: 0.0582\n",
      "Epoch 12/50\n",
      "199/199 [==============================] - 1s 3ms/step - loss: 0.1905 - val_loss: 0.0483\n",
      "Epoch 13/50\n",
      "199/199 [==============================] - 1s 3ms/step - loss: 0.1979 - val_loss: 0.0562\n",
      "Epoch 14/50\n",
      "199/199 [==============================] - 1s 3ms/step - loss: 0.1908 - val_loss: 0.0509\n",
      "Epoch 15/50\n",
      "199/199 [==============================] - 1s 3ms/step - loss: 0.1914 - val_loss: 0.0503\n",
      "Epoch 16/50\n",
      "199/199 [==============================] - 1s 3ms/step - loss: 0.1935 - val_loss: 0.0454\n",
      "Epoch 17/50\n",
      "199/199 [==============================] - 1s 3ms/step - loss: 0.1902 - val_loss: 0.0543\n",
      "Epoch 18/50\n",
      "199/199 [==============================] - 1s 3ms/step - loss: 0.1929 - val_loss: 0.0585\n",
      "Epoch 19/50\n",
      "199/199 [==============================] - 1s 3ms/step - loss: 0.2039 - val_loss: 0.0579\n",
      "Epoch 20/50\n",
      "199/199 [==============================] - 1s 3ms/step - loss: 0.1998 - val_loss: 0.0539\n",
      "Epoch 21/50\n",
      "199/199 [==============================] - 1s 3ms/step - loss: 0.1925 - val_loss: 0.0517\n",
      "Epoch 22/50\n",
      "199/199 [==============================] - 1s 3ms/step - loss: 0.1825 - val_loss: 0.0595\n",
      "Epoch 23/50\n",
      "199/199 [==============================] - 1s 3ms/step - loss: 0.1885 - val_loss: 0.0519\n",
      "Epoch 24/50\n",
      "199/199 [==============================] - 1s 3ms/step - loss: 0.1978 - val_loss: 0.0561\n",
      "Epoch 25/50\n",
      "199/199 [==============================] - 1s 3ms/step - loss: 0.1876 - val_loss: 0.0569\n",
      "Epoch 26/50\n",
      "199/199 [==============================] - 1s 3ms/step - loss: 0.1852 - val_loss: 0.0567\n"
     ]
    }
   ],
   "source": [
    "history = model.fit(\n",
    "    X_train,\n",
    "    X_train,\n",
    "    epochs=50,\n",
    "    batch_size=64,\n",
    "    validation_split=0.1,\n",
    "    callbacks=[keras.callbacks.EarlyStopping(monitor=\"val_loss\", patience=10, mode=\"min\")],\n",
    ")\n"
   ]
  },
  {
   "cell_type": "code",
   "execution_count": 548,
   "metadata": {
    "colab": {
     "base_uri": "https://localhost:8080/",
     "height": 34
    },
    "colab_type": "code",
    "id": "wA_qhq81sUxr",
    "outputId": "3bc77ff5-a630-43a1-8a4d-f04fbdc9787b"
   },
   "outputs": [
    {
     "data": {
      "text/plain": [
       "(14098, 144, 1)"
      ]
     },
     "execution_count": 548,
     "metadata": {
      "tags": []
     },
     "output_type": "execute_result"
    }
   ],
   "source": [
    "y_train_pred = model.predict(X_train)\n",
    "y_train_pred.shape"
   ]
  },
  {
   "cell_type": "code",
   "execution_count": 549,
   "metadata": {
    "colab": {
     "base_uri": "https://localhost:8080/",
     "height": 34
    },
    "colab_type": "code",
    "id": "S9prme_F5W7l",
    "outputId": "0841c883-b580-4ec2-8595-d9baa7020c4a"
   },
   "outputs": [
    {
     "data": {
      "text/plain": [
       "144"
      ]
     },
     "execution_count": 549,
     "metadata": {
      "tags": []
     },
     "output_type": "execute_result"
    }
   ],
   "source": [
    "len(y_train_pred[1,:])"
   ]
  },
  {
   "cell_type": "code",
   "execution_count": 550,
   "metadata": {
    "colab": {
     "base_uri": "https://localhost:8080/",
     "height": 34
    },
    "colab_type": "code",
    "id": "IdY_e3VHsUxv",
    "outputId": "06d7674c-3403-42a7-e710-fa23b67fb648"
   },
   "outputs": [
    {
     "data": {
      "text/plain": [
       "14098"
      ]
     },
     "execution_count": 550,
     "metadata": {
      "tags": []
     },
     "output_type": "execute_result"
    }
   ],
   "source": [
    "from sklearn.metrics import mean_absolute_error\n",
    "# y_train = y_train.reshape(y_train.shape[0], y_train.shape[1])\n",
    "errors = [mean_absolute_error(X_train[i, :], y_train_pred[i, :]) for i in range(y_train_pred.shape[0])]\n",
    "len(errors)"
   ]
  },
  {
   "cell_type": "code",
   "execution_count": 551,
   "metadata": {
    "colab": {
     "base_uri": "https://localhost:8080/",
     "height": 282
    },
    "colab_type": "code",
    "id": "XdBiBRfNsUxy",
    "outputId": "b027bcce-719e-4eb9-a184-35b6098e441d",
    "scrolled": true
   },
   "outputs": [
    {
     "data": {
      "text/plain": [
       "<matplotlib.axes._subplots.AxesSubplot at 0x7fb06d7e6e80>"
      ]
     },
     "execution_count": 551,
     "metadata": {
      "tags": []
     },
     "output_type": "execute_result"
    },
    {
     "data": {
      "image/png": "[encoded data removed]",
      "text/plain": [
       "<Figure size 432x288 with 1 Axes>"
      ]
     },
     "metadata": {
      "needs_background": "light",
      "tags": []
     },
     "output_type": "display_data"
    }
   ],
   "source": [
    "import seaborn as sb\n",
    "sb.kdeplot(errors, shade=True)"
   ]
  },
  {
   "cell_type": "code",
   "execution_count": 552,
   "metadata": {
    "colab": {
     "base_uri": "https://localhost:8080/",
     "height": 34
    },
    "colab_type": "code",
    "id": "A6qaFTygsUx3",
    "outputId": "78f2cac0-1518-4537-db7b-0ec0a887be4e"
   },
   "outputs": [
    {
     "data": {
      "text/plain": [
       "(0.19628402364604952, 0.057281175426951186)"
      ]
     },
     "execution_count": 552,
     "metadata": {
      "tags": []
     },
     "output_type": "execute_result"
    }
   ],
   "source": [
    "from scipy.stats import norm\n",
    "params = norm.fit(errors)\n",
    "dist = norm(loc=params[0], scale=params[1])\n",
    "\n",
    "dist.mean(), dist.std()"
   ]
  },
  {
   "cell_type": "code",
   "execution_count": 553,
   "metadata": {
    "colab": {},
    "colab_type": "code",
    "id": "3b3ccnWKsUx_"
   },
   "outputs": [],
   "source": [
    "def is_anomaly(error, mean, std, threshold):\n",
    "    difference = np.abs(error - mean)\n",
    "    print(difference)\n",
    "    value = difference / std\n",
    "    if value < threshold:\n",
    "        return 0\n",
    "    else:\n",
    "        return 1"
   ]
  },
  {
   "cell_type": "code",
   "execution_count": 554,
   "metadata": {
    "colab": {
     "base_uri": "https://localhost:8080/",
     "height": 1000
    },
    "colab_type": "code",
    "id": "OSmSdsZysUyD",
    "outputId": "50ce0844-5ceb-43f1-a67a-aefa081798d8"
   },
   "outputs": [
    {
     "name": "stdout",
     "output_type": "stream",
     "text": [
      "0.14708672249622196\n",
      "0.15067039040573488\n",
      "0.155352320938622\n",
      "0.15888627650766485\n",
      "0.1512380262189999\n",
      "0.15502022748962002\n",
      "0.14889721773844922\n",
      "0.14981061667638434\n",
      "0.14689696205192793\n",
      "0.15493269242909175\n",
      "0.14886324201750828\n",
      "0.1491195572940917\n",
      "0.13904820519238126\n",
      "0.14779693774362385\n",
      "0.14185837937965173\n",
      "0.14428919964285042\n",
      "0.1380462103996885\n",
      "0.14635146137325927\n",
      "0.1398726526041002\n",
      "0.14248545578835603\n",
      "0.1402224057549376\n",
      "0.1461583860242628\n",
      "0.14208123916830634\n",
      "0.1401997711967194\n",
      "0.1383355063627863\n",
      "0.14405290963178435\n",
      "0.14143019426520848\n",
      "0.13414231564755247\n",
      "0.13290829102237095\n",
      "0.13705836749537337\n",
      "0.13144969520225558\n",
      "0.1284842546001429\n",
      "0.12319321334523553\n",
      "0.13024411088664278\n",
      "0.12578039121501994\n",
      "0.1322331628596468\n",
      "0.13133814099304825\n",
      "0.13508081856679116\n",
      "0.1339912700373821\n",
      "0.13305322423045268\n",
      "0.1329283180869536\n",
      "0.14163091649446347\n",
      "0.14096723534257932\n",
      "0.13910362672288423\n",
      "0.13574366508779562\n",
      "0.14250050997429586\n",
      "0.14638515270141117\n",
      "0.14758993713970137\n",
      "0.13982555542264513\n",
      "0.14947524055966688\n",
      "0.14407606932091244\n",
      "0.1427988320301271\n",
      "0.14147037601911183\n",
      "0.14650853410211212\n",
      "0.14150408593629837\n",
      "0.14131475798906784\n",
      "0.14244084951869584\n",
      "0.14843004879540644\n",
      "0.14469375540606305\n",
      "0.1444505970930436\n",
      "0.1429260816013342\n",
      "0.14557237471016443\n",
      "0.14079685338990366\n",
      "0.1377612523681236\n",
      "0.13872737675678443\n",
      "0.14147118146603943\n",
      "0.14677657757589146\n",
      "0.14751189462135883\n",
      "0.13675353189000744\n",
      "0.14279730613511737\n",
      "0.13237526209289835\n",
      "0.13256730913479525\n",
      "0.12955991215297585\n",
      "0.1297115982995814\n",
      "0.12438565001617313\n",
      "0.12566287622993466\n",
      "0.12463717435096794\n",
      "0.12592689211271296\n",
      "0.12100575505498473\n",
      "0.11743869229899323\n",
      "0.11841170630548326\n",
      "0.1219130738628626\n",
      "0.11523140517363378\n",
      "0.1124437274452239\n",
      "0.10448243217701841\n",
      "0.107662168815786\n",
      "0.10105632907028617\n",
      "0.10778169491862744\n",
      "0.10136803650920417\n",
      "0.10688190968561168\n",
      "0.10219856128130544\n",
      "0.1071321778869107\n",
      "0.10518617490110899\n",
      "0.11032869585041954\n",
      "0.10415605874307793\n",
      "0.10785689441455382\n",
      "0.1032746213931211\n",
      "0.11339036237363864\n",
      "0.10168828569321281\n",
      "0.10765488721019484\n",
      "0.09200248658262522\n",
      "0.09761849876283568\n",
      "0.09168477060492786\n",
      "0.09542903607713377\n",
      "0.08309773879926952\n",
      "0.09229690248535788\n",
      "0.08565866636743152\n",
      "0.09226303790663781\n",
      "0.08099799472249025\n",
      "0.07937460092787546\n",
      "0.07051373676179462\n",
      "0.07273746202184034\n",
      "0.06298927088337236\n",
      "0.05698575371590375\n",
      "0.056164346834266576\n",
      "0.054338811450765634\n",
      "0.05192851841811627\n",
      "0.04787565845494418\n",
      "0.04033040406407451\n",
      "0.03436856846961006\n",
      "0.03876224479831236\n",
      "0.03283153512365172\n",
      "0.029531293179970497\n",
      "0.030343756303091884\n",
      "0.032106977080624155\n",
      "0.028573215611121583\n",
      "0.026210177235352544\n",
      "0.026361615445351483\n",
      "0.029588010325945907\n",
      "0.026441260070864836\n",
      "0.029486085634098658\n",
      "0.026081542592664292\n",
      "0.031098153565928544\n",
      "0.0203890328320048\n",
      "0.024446719864983257\n",
      "0.023963299171413266\n",
      "0.025942546319056348\n",
      "0.023154775700367752\n",
      "0.025856949542249763\n",
      "0.02615511235262938\n",
      "0.030749594439641342\n",
      "0.027179437996798672\n",
      "0.031410274929698556\n",
      "0.03278121181764357\n",
      "0.03472252683228427\n",
      "0.029912221150383472\n",
      "0.02510225620681772\n",
      "0.027656048922913873\n",
      "0.028742487716501286\n",
      "0.0227975662610444\n",
      "0.027864087185015707\n",
      "0.028816623259205087\n",
      "0.03184557411584407\n",
      "0.026834079989062343\n",
      "0.02969243010982231\n",
      "0.03309001589824184\n",
      "0.03574010066659353\n",
      "0.03357510925698143\n",
      "0.03588330650728208\n",
      "0.03901054445946156\n",
      "0.042221110770557874\n",
      "0.03486257660763151\n",
      "0.040647006529346164\n",
      "0.04236155481962997\n",
      "0.04275406982906993\n",
      "0.03376072963446708\n",
      "0.04133541749495073\n",
      "0.04340127164749319\n",
      "0.04960031825241212\n",
      "0.04181011041560884\n",
      "0.04234719900873449\n",
      "0.04426722377605491\n",
      "0.04762251523379468\n",
      "0.044016474828646485\n",
      "0.04176310584167636\n",
      "0.0495343970602824\n",
      "0.05389114355410857\n",
      "0.045980123239368065\n",
      "0.04645832707825903\n",
      "0.04687760463588311\n",
      "0.045930750958135313\n",
      "0.037268917168521404\n",
      "0.03772586651258175\n",
      "0.04343490920757148\n",
      "0.040821778669898195\n",
      "0.03634755627332273\n",
      "0.03962408362403247\n",
      "0.039783614457583466\n",
      "0.04045439022322503\n",
      "0.03882798345499411\n",
      "0.03743151551219798\n",
      "0.04067408720521751\n",
      "0.03631313781889972\n",
      "0.03512547103802227\n",
      "0.036670226359797\n",
      "0.04113162699150574\n",
      "0.04124104846027313\n",
      "0.036060497291840826\n",
      "0.039549151739878885\n",
      "0.04666227139972895\n",
      "0.0463631192270719\n",
      "0.04199930904533333\n",
      "0.04474286256505161\n",
      "0.050954441237828524\n",
      "0.053932424959723724\n",
      "0.05044943355923248\n",
      "0.0503531987062186\n",
      "0.0521882087762538\n",
      "0.05810963627837695\n",
      "0.05458735520597574\n",
      "0.05493325811840355\n",
      "0.05256218798864598\n",
      "0.05740014206182159\n",
      "0.057059750467275294\n",
      "0.05706964562541794\n",
      "0.05523469752972654\n",
      "0.056452836758208835\n",
      "0.058043232085355334\n",
      "0.061967704692798886\n",
      "0.058006124392710245\n",
      "0.062128614685295236\n",
      "0.058189232038186434\n",
      "0.06772399205839252\n",
      "0.06339143482807769\n",
      "0.06640157931024337\n",
      "0.058108521775881494\n",
      "0.06758313386971959\n",
      "0.06201644750279128\n",
      "0.0671204548066292\n",
      "0.059619907480187306\n",
      "0.06826004338426794\n",
      "0.06317931436095703\n",
      "0.06711672652544237\n",
      "0.058681069823005416\n",
      "0.06453889285101438\n",
      "0.05618482478026504\n",
      "0.05907861032564088\n",
      "0.05258147641674554\n",
      "0.06268126321588124\n",
      "0.05653358683744042\n",
      "0.058607293426264695\n",
      "0.04714516103083438\n",
      "0.05518324819646658\n",
      "0.04654934014628248\n",
      "0.05459979679207627\n",
      "0.046339499384196625\n",
      "0.05324091604848932\n",
      "0.04581265109161212\n",
      "0.04873836612070398\n",
      "0.0409098331874749\n",
      "0.04974303525065485\n",
      "0.03993006371163271\n",
      "0.04369750157065716\n",
      "0.03658794448287045\n",
      "0.043058671816589345\n",
      "0.03394393340505292\n",
      "0.03717941872839434\n",
      "0.033259487236342145\n",
      "0.03930150430578255\n",
      "0.035462419736144\n",
      "0.03829200168109917\n",
      "0.035832940699043\n",
      "0.04766333096975567\n",
      "0.04234106524663833\n",
      "0.042803115711338185\n",
      "0.02955463710798867\n",
      "0.037018473569254584\n",
      "0.03143261643251127\n",
      "0.03565815992289906\n",
      "0.026589245224172692\n",
      "0.03227388176268439\n",
      "0.0283641315481849\n",
      "0.029610710948756225\n",
      "0.022529099531455155\n",
      "0.02963051457447355\n",
      "0.02563364935830692\n",
      "0.030750211762425705\n",
      "0.021269775405967417\n",
      "0.027710538548021385\n",
      "0.023053051208499542\n",
      "0.026382801575265014\n",
      "0.016258318916953785\n",
      "0.020385369243379275\n",
      "0.014784877744928815\n",
      "0.016663354056139223\n",
      "0.01692124180483459\n",
      "0.01996651054870946\n",
      "0.0161192169131871\n",
      "0.020453853890505802\n",
      "0.014805994892877206\n",
      "0.016203611553274183\n",
      "0.015290987967861824\n",
      "0.01909447234998854\n",
      "0.010088197399914262\n",
      "0.014090502568723268\n",
      "0.011114058439450764\n",
      "0.017137130393944017\n",
      "0.011593357706781021\n",
      "0.013736785560709702\n",
      "0.013032840939171175\n",
      "0.012694956045309791\n",
      "0.003992687319754745\n",
      "0.008714375905015725\n",
      "0.005301902872259234\n",
      "0.007626968742457246\n",
      "0.0021923385461878886\n",
      "0.01221345946563479\n",
      "0.010179829161302112\n",
      "0.011521121790631833\n",
      "0.0070724888428592425\n",
      "0.007730079485998909\n",
      "0.011509726064801523\n",
      "0.008090212618314024\n",
      "0.0066707797487153\n",
      "0.008885886244508312\n",
      "0.010273493558648455\n",
      "0.011735321700500678\n",
      "0.0054092203258749305\n",
      "0.005584846437839963\n",
      "0.004132609329142112\n",
      "0.005180134907475237\n",
      "0.0013915762442383017\n",
      "0.0050229930623916785\n",
      "0.00425987906412556\n",
      "0.0005295842070107692\n",
      "0.0004065857997621325\n",
      "0.002840566588537735\n",
      "0.003966987578348846\n",
      "0.004292440445710727\n",
      "0.001359556247866378\n",
      "0.004838970802431314\n",
      "0.003937602397226736\n",
      "0.004256421055764792\n",
      "0.002567345964158696\n",
      "0.00010688346835679985\n",
      "0.00029513475660897237\n",
      "0.0007010066581457364\n",
      "0.0056137274172432805\n",
      "0.0021968950014873145\n",
      "0.004475276089374786\n",
      "0.0047411115486956645\n",
      "0.0023531656764780307\n",
      "0.0016349210677528703\n",
      "0.003441717025066071\n",
      "0.0033054513925707685\n",
      "0.000790617563092344\n",
      "0.003469365352385345\n",
      "0.0079177136895896\n",
      "0.0005370901567901265\n",
      "0.0023801726283718128\n",
      "0.0007188939271647876\n",
      "0.005166212369378087\n",
      "0.0022942691669551596\n",
      "0.006062146899294962\n",
      "0.003782825273802165\n",
      "0.0033603149093139884\n",
      "0.0014357297619150278\n",
      "0.0010016716900690392\n",
      "0.0008543281899359711\n",
      "0.006976931839516365\n",
      "0.008599474484536185\n",
      "0.013913740078712739\n",
      "0.01207696495022667\n",
      "0.022782355042542224\n",
      "0.008883007450276204\n",
      "0.013351036293055063\n",
      "0.008215680562804584\n",
      "0.020517435523490724\n",
      "0.009097755043478928\n",
      "0.016088521923278087\n",
      "0.009832250880702775\n",
      "0.018678659488431976\n",
      "0.008134648623824653\n",
      "0.01435490750977722\n",
      "0.017017940230942746\n",
      "0.021643342767483642\n",
      "0.010044585040173248\n",
      "0.017548259609158373\n",
      "0.014981394435664402\n",
      "0.030286501968879942\n",
      "0.01919859737398885\n",
      "0.026461852798176366\n",
      "0.022412355440845494\n",
      "0.03662684483351686\n",
      "0.033064855518387365\n",
      "0.03426631786637374\n",
      "0.03020990630219883\n",
      "0.038055875069758716\n",
      "0.028050437216908114\n",
      "0.03170570546206214\n",
      "0.03611350656286888\n",
      "0.04704990341639348\n",
      "0.03889146819225489\n",
      "0.04309674923704693\n",
      "0.044590194110522285\n",
      "0.054002275833676616\n",
      "0.04502917482822841\n",
      "0.0491444512705419\n",
      "0.04763939194226491\n",
      "0.056618572520869714\n",
      "0.049155279286261955\n",
      "0.05108411409283381\n",
      "0.05320553858719329\n",
      "0.06157195519373032\n",
      "0.059026739902695025\n",
      "0.05185126959055461\n",
      "0.05551966985937512\n",
      "0.05947341010709034\n",
      "0.050852507641822836\n",
      "0.053177062470344594\n",
      "0.05610931870077035\n",
      "0.06339816447941099\n",
      "0.060373435911417805\n",
      "0.06183570959298618\n",
      "0.06367732872208365\n",
      "0.07081195387321804\n",
      "0.06387290982204152\n",
      "0.06423946814483156\n",
      "0.06641031588757434\n",
      "0.07081877053600644\n",
      "0.06607878585239135\n",
      "0.07495903495485667\n",
      "0.07320491713450411\n",
      "0.0791813101887362\n",
      "0.07163922992919508\n",
      "0.07691527282086968\n",
      "0.07904163844231793\n",
      "0.08519460984514055\n",
      "0.07977081599210767\n",
      "0.08200106714643879\n",
      "0.0854907392100328\n",
      "0.08757561470994119\n",
      "0.08154602187560278\n",
      "0.08343897469154488\n",
      "0.08863470198292206\n",
      "0.09351293964174728\n",
      "0.08848013530852405\n",
      "0.09462230537425664\n",
      "0.09482664080341524\n",
      "0.09945505137750182\n",
      "0.09228707921000373\n",
      "0.09579369861323589\n",
      "0.09655774319653126\n",
      "0.1096014609874485\n",
      "0.10823423806398752\n",
      "0.1151500899324362\n",
      "0.11293742181921534\n",
      "0.1195323567818013\n",
      "0.1140609597733101\n",
      "0.11311471268137491\n",
      "0.11633365615369357\n",
      "0.11867621787826965\n",
      "0.11601391685910462\n",
      "0.11725218336874071\n",
      "0.11604424088407889\n",
      "0.123904349373329\n",
      "0.11573453674061251\n",
      "0.1139925533474036\n",
      "0.11567128228355461\n",
      "0.11911102755907677\n",
      "0.11281696063887764\n",
      "0.11752515453537488\n",
      "0.12037876326417629\n",
      "0.128662103752257\n",
      "0.121534156618548\n",
      "0.12708618708238584\n",
      "0.12224329650114557\n",
      "0.12500847114291364\n",
      "0.12149235089728028\n",
      "0.1296774055247833\n",
      "0.12679692348214888\n",
      "0.13262445890147156\n",
      "0.12918447150795015\n",
      "0.12996260278975785\n",
      "0.12801261985509033\n",
      "0.13159365414367702\n",
      "0.1264644482497822\n",
      "0.12890870242288954\n",
      "0.12600958988322325\n",
      "0.12979368101435884\n",
      "0.1270077274046167\n",
      "0.12563801003277703\n",
      "0.1258054311943157\n",
      "0.12564238744693834\n",
      "0.12220460480967704\n",
      "0.12184019755194697\n",
      "0.12085845493109898\n",
      "0.12609302528594374\n",
      "0.12323034086350504\n",
      "0.11724708155662455\n",
      "0.11484393773332408\n",
      "0.12295785327168418\n",
      "0.11941964966416868\n",
      "0.12216645800892056\n",
      "0.11721846989825668\n",
      "0.12418015073783056\n",
      "0.12309490024575959\n",
      "0.12520965264934708\n",
      "0.1212623002909769\n",
      "0.12267310262815484\n",
      "0.12516818042201566\n",
      "0.12192634586812473\n",
      "0.12694223025195572\n",
      "0.12780549891611848\n",
      "0.1159849607870343\n",
      "0.11504028511508835\n",
      "0.10966411255883352\n",
      "0.11212986186445417\n",
      "0.11484765008327597\n",
      "0.11541764224901313\n",
      "0.10856572222556288\n",
      "0.10726139793444445\n",
      "0.10976694804820608\n",
      "0.11199447949576219\n",
      "0.10349067800819939\n",
      "0.10792112356681849\n",
      "0.10973421164003078\n",
      "0.11211924778552301\n",
      "0.1074871340881915\n",
      "0.12439991397094291\n",
      "0.1198435098961162\n",
      "0.12629309269290773\n",
      "0.11496912631691814\n",
      "0.12671260297059295\n",
      "0.1302026315086532\n",
      "0.13885984067785723\n",
      "0.13519153094451247\n",
      "0.13759887398631737\n",
      "0.1270390465519688\n",
      "0.1307033464582958\n",
      "0.1274852292075656\n",
      "0.13782915274649538\n",
      "0.13138526124076555\n",
      "0.13485211320174761\n",
      "0.1251510045308234\n",
      "0.13347886049586094\n",
      "0.12875840898979463\n",
      "0.13057022947172503\n",
      "0.1226042045932112\n",
      "0.1265171916530361\n",
      "0.12056601011138213\n",
      "0.12449914534224604\n",
      "0.11654454630826255\n",
      "0.12388099798033114\n",
      "0.11467333905780913\n",
      "0.11837750519731854\n",
      "0.11369165213052962\n",
      "0.12098297914943834\n",
      "0.11049907135064635\n",
      "0.1146270539750846\n",
      "0.10698760487216125\n",
      "0.1134713408858597\n",
      "0.10320660982362628\n",
      "0.10917165293235642\n",
      "0.10533072545414507\n",
      "0.11168533320293722\n",
      "0.10254646531072098\n",
      "0.10652312530590713\n",
      "0.09968656036348084\n",
      "0.10457587696767157\n",
      "0.09429110664820445\n",
      "0.10607484825055774\n",
      "0.10433869515020433\n",
      "0.1064515668552044\n",
      "0.09804972345187563\n",
      "0.09847953424464612\n",
      "0.09314970953009205\n",
      "0.09591050942297652\n",
      "0.09483760904288246\n",
      "0.09832898560308995\n",
      "0.0887372513483694\n",
      "0.09203247107466694\n",
      "0.0845176220151948\n",
      "0.08749228499094325\n",
      "0.08171173087916561\n",
      "0.08527576431988954\n",
      "0.07840891321398186\n",
      "0.08112916342746818\n",
      "0.07438420126200301\n",
      "0.07733651734176838\n",
      "0.07550308994752558\n",
      "0.07904477045244263\n",
      "0.06759571169744405\n",
      "0.07464129915656426\n",
      "0.06714542028114057\n",
      "0.07212692379553814\n",
      "0.06404556623693353\n",
      "0.06865611122901516\n",
      "0.07090181351535474\n",
      "0.0811428535593876\n",
      "0.07394404777021019\n",
      "0.07499352134483195\n",
      "0.08434287650244965\n",
      "0.08774202257649871\n",
      "0.08779075123915153\n",
      "0.08054893611194686\n",
      "0.08656163353886281\n",
      "0.08172870126175685\n",
      "0.0823175775785035\n",
      "0.07329428288628304\n",
      "0.08283799280500165\n",
      "0.07709316701394991\n",
      "0.08086181770890394\n",
      "0.07410935638662713\n",
      "0.0817346766673323\n",
      "0.07702630775626268\n",
      "0.07585423623440157\n",
      "0.06765607835999576\n",
      "0.06977969452021499\n",
      "0.06612329022710478\n",
      "0.0715317647657377\n",
      "0.06583352994649894\n",
      "0.06746945079900968\n",
      "0.06101562098639207\n",
      "0.06622406606169562\n",
      "0.06172252547845353\n",
      "0.06423426721799713\n",
      "0.058457259001920614\n",
      "0.0587503815089514\n",
      "0.056075585669591144\n",
      "0.06190037803366277\n",
      "0.06069831697090067\n",
      "0.06462858350333617\n",
      "0.06028701227364652\n",
      "0.06717883769759314\n",
      "0.06291857483757363\n",
      "0.06726388794719113\n",
      "0.06144951408048327\n",
      "0.06783724948175573\n",
      "0.06420727021704692\n",
      "0.06461665778628473\n",
      "0.062533477794246\n",
      "0.06642204644712923\n",
      "0.06348135389900517\n",
      "0.06328570541233347\n",
      "0.06156968306181437\n",
      "0.06252243234394977\n",
      "0.055357632671746204\n",
      "0.05820258683928614\n",
      "0.05537768588332159\n",
      "0.05942721409929658\n",
      "0.05294380757978928\n",
      "0.059106996776078446\n",
      "0.05212876429591182\n",
      "0.05938350773162099\n",
      "0.04537954038200975\n",
      "0.053535005673829655\n",
      "0.0474324266498245\n",
      "0.053424551481641464\n",
      "0.046668630399350264\n",
      "0.05860140489683818\n",
      "0.04934882175417757\n",
      "0.05778637875572917\n",
      "0.0470388333553122\n",
      "0.05884292719133205\n",
      "0.05170455559535092\n",
      "0.06017976164107114\n",
      "0.04880203310576997\n",
      "0.062371847525872604\n",
      "0.0541072019476872\n",
      "0.05719283501151112\n",
      "0.04779407073506661\n",
      "0.048801986186481405\n",
      "0.03596224143790108\n",
      "0.04222492898755209\n",
      "0.031599167095644615\n",
      "0.035472023076478953\n",
      "0.02960744951672062\n",
      "0.03627235488250305\n",
      "0.01376532159412519\n",
      "0.022789554722642574\n",
      "0.01623355559288117\n",
      "0.02904895685999495\n",
      "0.02106293240074819\n",
      "0.026529863907013312\n",
      "0.019065475265552884\n",
      "0.03405247026331043\n",
      "0.02569502011001562\n",
      "0.033027606628113715\n",
      "0.025191157141317977\n",
      "0.03861408030463398\n",
      "0.0338838407991261\n",
      "0.03382994206977999\n",
      "0.033497539910026186\n",
      "0.042479069688765025\n",
      "0.03415029079047441\n",
      "0.036399059337173884\n",
      "0.03525521821350158\n",
      "0.040879494588563464\n",
      "0.03452169272023198\n",
      "0.03826426809410241\n",
      "0.036977374049181805\n",
      "0.050528426031256096\n",
      "0.0483551960298195\n",
      "0.04992706722691739\n",
      "0.05162275603442554\n",
      "0.06151615002277827\n",
      "0.052942977915887535\n",
      "0.05667285968451463\n",
      "0.05100688614833407\n",
      "0.05810662570009206\n",
      "0.055334994245334945\n",
      "0.058926492563294575\n",
      "0.052382192929786714\n",
      "0.05713042336464991\n",
      "0.05524816177330649\n",
      "0.0559302109960958\n",
      "0.054950879781202\n",
      "0.06295717453612948\n",
      "0.06074859511969566\n",
      "0.062472518461948734\n",
      "0.061046197571766714\n",
      "0.06778900814661559\n",
      "0.06528206820272675\n",
      "0.065156603390287\n",
      "0.06675359590858371\n",
      "0.07809994211140253\n",
      "0.07683577628702859\n",
      "0.07235426940725381\n",
      "0.07526798459822348\n",
      "0.08432558145702196\n",
      "0.08033055612824813\n",
      "0.0790327505406499\n",
      "0.07916357524084916\n",
      "0.08310685363898496\n",
      "0.07738297633181357\n",
      "0.07596953942396073\n",
      "0.07534576067974869\n",
      "0.07964950922156544\n",
      "0.08408507419257533\n",
      "0.07935889609835622\n",
      "0.07930526514105679\n",
      "0.07687052605274203\n",
      "0.06624277623828073\n",
      "0.0592737796896709\n",
      "0.060025686528183575\n",
      "0.0493713990772337\n",
      "0.05630983855707128\n",
      "0.05145613187905232\n",
      "0.0568281449795911\n",
      "0.05251411464984679\n",
      "0.05767963836029605\n",
      "0.046512426352752434\n",
      "0.05546068065167392\n",
      "0.05376839849950937\n",
      "0.05490668649112668\n",
      "0.045255594802898924\n",
      "0.05298370046993714\n",
      "0.049983529044999864\n",
      "0.05480449588896935\n",
      "0.05063147344973412\n",
      "0.06383814446750852\n",
      "0.05867855563301355\n",
      "0.06514205512055493\n",
      "0.054348609445596385\n",
      "0.06154095290063849\n",
      "0.05295670207428291\n",
      "0.05575759575663386\n",
      "0.05406254648061015\n",
      "0.05533199371196745\n",
      "0.0492730860615605\n",
      "0.05642987904198865\n",
      "0.05522623385794079\n",
      "0.05539750097385565\n",
      "0.05113357495639212\n",
      "0.054276343744882216\n",
      "0.049882274525039155\n",
      "0.05160185189189892\n",
      "0.04846554964867708\n",
      "0.05440633485787327\n",
      "0.04586248778974747\n",
      "0.053308950004995914\n",
      "0.04752704791053633\n",
      "0.05316751655377133\n",
      "0.0495231934398469\n",
      "0.059574587283517666\n",
      "0.05676561220830123\n",
      "0.060632690137393586\n",
      "0.059846954761786975\n",
      "0.06798065714696455\n",
      "0.06049688570359801\n",
      "0.06178199958553526\n",
      "0.0599424212302721\n",
      "0.06890856667082074\n",
      "0.06084513829452476\n",
      "0.06535002786933891\n",
      "0.061892991285270316\n",
      "0.07026704971646203\n",
      "0.06282447710722405\n",
      "0.07111258471596671\n",
      "0.06233184137013148\n",
      "0.06705395853744867\n",
      "0.06171601079430761\n",
      "0.06889577653956042\n",
      "0.065693348809795\n",
      "0.0713821690917365\n",
      "0.06968440826927474\n",
      "0.07121436040935131\n",
      "0.07293367988277027\n",
      "0.07550547622530263\n",
      "0.07443483458537775\n",
      "0.07635922413440899\n",
      "0.07532675860980148\n",
      "0.076312208434204\n",
      "0.07697145093774116\n",
      "0.08216741394181709\n",
      "0.08066399971893701\n",
      "0.08221267528913628\n",
      "0.08186253563414503\n",
      "0.08530578073173056\n",
      "0.08509131986993668\n",
      "0.08652063969408857\n",
      "0.08175625948035009\n",
      "0.07994767623373206\n",
      "0.08561928777576933\n",
      "0.09020684879152752\n",
      "0.08872527877863745\n",
      "0.09056180819964343\n",
      "0.08878673893202016\n",
      "0.09170730912846353\n",
      "0.09247229644754995\n",
      "0.08915287294504293\n",
      "0.08407773012250508\n",
      "0.09252324675406881\n",
      "0.08380176783732657\n",
      "0.08151916392135106\n",
      "0.0854052797599999\n",
      "0.09517406230688263\n",
      "0.09131443609523127\n",
      "0.09069109502251721\n",
      "0.09581689543541433\n",
      "0.0939347382771814\n",
      "0.10024997631447757\n",
      "0.1010610749022759\n",
      "0.10968101678522374\n",
      "0.11158408510928758\n",
      "0.10968108638745178\n",
      "0.10407605310258244\n",
      "0.11252754614398436\n",
      "0.11237940386079781\n",
      "0.11237039143092192\n",
      "0.10370740963936675\n",
      "0.1128825027763189\n",
      "0.11519824240400478\n",
      "0.11677901899903176\n",
      "0.10688955482464135\n",
      "0.11267099281195359\n",
      "0.10909922182414983\n",
      "0.11252010106264548\n",
      "0.10666971179768331\n",
      "0.11270899161618225\n",
      "0.10796411329928957\n",
      "0.10899561328033108\n",
      "0.10415071795361441\n",
      "0.10576873870511794\n",
      "0.10845152923823748\n",
      "0.10746612312401838\n",
      "0.09778427617340374\n",
      "0.10540993036328422\n",
      "0.10658828095150386\n",
      "0.10364992854675392\n",
      "0.0954964676852767\n",
      "0.10233427296806741\n",
      "0.10286452406194702\n",
      "0.10585557010923552\n",
      "0.09674509487921873\n",
      "0.10398624635764137\n",
      "0.10891197049115242\n",
      "0.10319643912111365\n",
      "0.09479641304384573\n",
      "0.10090197382691218\n",
      "0.10659135983030937\n",
      "0.09811448548024804\n",
      "0.09204744266556936\n",
      "0.09722785360001068\n",
      "0.09935431005531509\n",
      "0.09169364052034118\n",
      "0.08782347466160317\n",
      "0.0961099327716956\n",
      "0.09738149431248083\n",
      "0.09430531182675916\n",
      "0.0901020258013942\n",
      "0.09470579003627272\n",
      "0.09635606272588909\n",
      "0.09264284165009123\n",
      "0.08745626648290716\n",
      "0.09474451125788874\n",
      "0.09602774247124979\n",
      "0.09037530945861838\n",
      "0.09063444422902789\n",
      "0.09994085499877986\n",
      "0.09860751463803885\n",
      "0.09685153243875416\n",
      "0.0948474333456299\n",
      "0.10105267639312476\n",
      "0.09655445600701806\n",
      "0.09545733549852414\n",
      "0.08757768519104503\n",
      "0.09711757261871035\n",
      "0.0994755671030802\n",
      "0.09957200111749137\n",
      "0.09847384205405091\n",
      "0.10642304188028351\n",
      "0.10716157231538381\n",
      "0.10505874959633149\n",
      "0.10029732891252163\n",
      "0.10630484425902509\n",
      "0.10298626072804956\n",
      "0.10153525529443291\n",
      "0.09856319172379419\n",
      "0.10617673704965774\n",
      "0.10566882266078725\n",
      "0.1045840723069193\n",
      "0.10280539321022786\n",
      "0.10567619555958113\n",
      "0.10857721143108029\n",
      "0.1084450003061283\n",
      "0.10455979214773786\n",
      "0.10779892959547094\n",
      "0.10753071688422383\n",
      "0.10130053239035186\n",
      "0.0999460705838387\n",
      "0.1000277753875572\n",
      "0.10092916615168218\n",
      "0.09807392340979931\n",
      "0.09839208474409333\n",
      "0.10259868406325223\n",
      "0.09675957213904124\n",
      "0.09266596886991757\n",
      "0.09253430404302582\n",
      "0.09526547324333706\n",
      "0.09516787661397513\n",
      "0.09177163278997769\n",
      "0.09729485636385188\n",
      "0.09450883828376672\n",
      "0.09252906660251953\n",
      "0.09219876494856638\n",
      "0.08118953481382463\n",
      "0.08465165873030639\n",
      "0.08468270232672864\n",
      "0.0749290234645954\n",
      "0.07712242267400482\n",
      "0.07592534072634743\n",
      "0.0756010271766529\n",
      "0.06577217388167295\n",
      "0.07081121064739204\n",
      "0.07062183021394003\n",
      "0.0696826214874176\n",
      "0.06340205240390806\n",
      "0.061782705249482206\n",
      "0.06418099970254593\n",
      "0.06882661954738689\n",
      "0.06284946458598623\n",
      "0.06297695884732035\n",
      "0.060537323709419055\n",
      "0.06630188508700852\n",
      "0.06292710975625543\n",
      "0.06125427484230633\n",
      "0.05584156674727431\n",
      "0.05284439601467589\n",
      "0.047405916542381715\n",
      "0.048451774920408947\n",
      "0.048927541211937875\n",
      "0.05567238379686895\n",
      "0.05233665525632897\n",
      "0.05341339507601342\n",
      "0.0544648231987252\n",
      "0.049646552082553336\n",
      "0.04940443886704632\n",
      "0.058435353160006476\n",
      "0.05358292049125682\n",
      "0.04576536391843483\n",
      "0.0443786973250814\n",
      "0.042006635162954886\n",
      "0.03974393786389255\n",
      "0.0397964011195327\n",
      "0.03726782094604619\n",
      "0.035106521366664895\n",
      "0.031485704089021044\n",
      "0.028082001688672448\n",
      "0.031011384129483316\n",
      "0.03401906304383889\n",
      "0.03073121636501211\n",
      "0.026143228201614882\n",
      "0.020839276368059656\n",
      "0.028827308236141463\n",
      "0.022719259695973104\n",
      "0.018347270233857765\n",
      "0.018502967217432748\n",
      "0.027399692300656447\n",
      "0.026067018578592976\n",
      "0.0272742366862348\n",
      "0.02626211062884229\n",
      "0.03436093249935418\n",
      "0.029386774875909433\n",
      "0.03148499490371243\n",
      "0.02557834537715259\n",
      "0.03279130552625664\n",
      "0.0309903971363312\n",
      "0.03110381223413583\n",
      "0.02730781545890623\n",
      "0.03256641106580582\n",
      "0.028497688523131753\n",
      "0.02425872819308128\n",
      "0.02207011501562975\n",
      "0.031187980494067846\n",
      "0.029833637343541386\n",
      "0.030667476180338132\n",
      "0.019903997509602006\n",
      "0.029268213192355674\n",
      "0.021468379498702866\n",
      "0.020533590054473472\n",
      "0.017325736513572776\n",
      "0.027409877254011505\n",
      "0.023030125697098586\n",
      "0.02151316411970311\n",
      "0.022163178525568983\n",
      "0.027820699285186462\n",
      "0.030020294609580306\n",
      "0.03121560451699404\n",
      "0.02746665977801699\n",
      "0.03535360137735555\n",
      "0.029891379841242904\n",
      "0.03429714193506378\n",
      "0.02850257510131529\n",
      "0.03441548189223098\n",
      "0.03231701635988163\n",
      "0.03472168076081397\n",
      "0.033480468337507896\n",
      "0.038472199703468185\n",
      "0.03637223709640444\n",
      "0.0399361887630654\n",
      "0.04006373494039861\n",
      "0.04430602118410851\n",
      "0.04432419543972824\n",
      "0.0444086773301699\n",
      "0.03876540401660872\n",
      "0.04167073305611385\n",
      "0.04211910441293637\n",
      "0.043210912234866394\n",
      "0.035721040096919926\n",
      "0.04247163215745234\n",
      "0.040872833237759976\n",
      "0.03942918559470518\n",
      "0.027337961786436937\n",
      "0.034457611367369995\n",
      "0.031141920181078586\n",
      "0.03277360155358716\n",
      "0.02303866726119483\n",
      "0.02554674875313609\n",
      "0.027518915580047237\n",
      "0.03483260326870613\n",
      "0.030603196081063544\n",
      "0.03204042699536622\n",
      "0.03469516990939267\n",
      "0.04015159847964156\n",
      "0.037648384875990176\n",
      "0.03195158610304144\n",
      "0.033868085867929304\n",
      "0.041199653841222456\n",
      "0.03744657130622134\n",
      "0.037016301269654245\n",
      "0.038098285726033826\n",
      "0.0356160349624651\n",
      "0.03411534575778635\n",
      "0.03507301338516486\n",
      "0.038786578189441284\n",
      "0.038913366819432665\n",
      "0.0363909892533929\n",
      "0.038140486055974615\n",
      "0.03851181502448042\n",
      "0.04065672633344766\n",
      "0.0352614320401225\n",
      "0.03881537504538107\n",
      "0.04117089922583286\n",
      "0.04755218011468482\n",
      "0.04378947859656407\n",
      "0.04421582234630567\n",
      "0.046567165369880315\n",
      "0.04873615793983868\n",
      "0.043475372027323295\n",
      "0.04313960984181403\n",
      "0.04606168652921491\n",
      "0.043111127668918864\n",
      "0.04439762951068793\n",
      "0.046331144487753745\n",
      "0.052705532725767446\n",
      "0.05573479520198937\n",
      "0.05288223825740285\n",
      "0.04985944867381606\n",
      "0.05243481643263534\n",
      "0.05724745355527783\n",
      "0.05791308170201237\n",
      "0.056129026755631806\n",
      "0.05893429547930146\n",
      "0.060032285464340696\n",
      "0.05887876055470709\n",
      "0.0562531236375754\n",
      "0.06396691392589965\n",
      "0.10548685561335042\n",
      "0.10876301693312801\n",
      "0.1045006669660356\n",
      "0.1253271712920923\n",
      "0.13341309559516307\n",
      "0.14011432409750757\n",
      "0.1259399496959664\n",
      "0.14690972654351525\n",
      "0.1390111478448905\n",
      "0.15416062654590196\n",
      "0.12584504365453142\n",
      "0.15404286660631716\n",
      "0.1419672496749283\n",
      "0.15897842707694831\n",
      "0.12045607974511813\n",
      "0.15015265958121138\n",
      "0.13410290108360334\n",
      "0.15640662905212466\n",
      "0.11805031262398391\n",
      "0.14858209596870053\n",
      "0.13676507831612977\n",
      "0.15899403455790295\n",
      "0.125189875413173\n",
      "0.1548250210842555\n",
      "0.14293040204537155\n",
      "0.16414104921629696\n",
      "0.12332755990617511\n",
      "0.15796667817003351\n",
      "0.1473118312807819\n",
      "0.1729431938239256\n",
      "0.13547071763418084\n",
      "0.16116991539546904\n",
      "0.1546803943547625\n",
      "0.18419182633539355\n",
      "0.14495028708176577\n",
      "0.17109855528169737\n",
      "0.1636078293313274\n",
      "0.18305891331583563\n",
      "0.14673933828970198\n",
      "0.17776310701012044\n",
      "0.16994479662778678\n",
      "0.18628314453399092\n",
      "0.15483115964536232\n",
      "0.18323102907211203\n",
      "0.17631887938752366\n",
      "0.19011750883024958\n",
      "0.1563321448769605\n",
      "0.18240744889075683\n",
      "0.1762962793979233\n",
      "0.1936028624743853\n",
      "0.1609255989289205\n",
      "0.18106160174906644\n",
      "0.1724923764459631\n",
      "0.1853881902137285\n",
      "0.1531121625254811\n",
      "0.1793602857708229\n",
      "0.17297354201419285\n",
      "0.18927921723743718\n",
      "0.15586671446340644\n",
      "0.18302616504354308\n",
      "0.17673521191744263\n",
      "0.18966708651953063\n",
      "0.15267047567391306\n",
      "0.17693640895120444\n",
      "0.16747750863206662\n",
      "0.1837186307374949\n",
      "0.15348575492249122\n",
      "0.17637186604484228\n",
      "0.1652374032958927\n",
      "0.19017224153276646\n",
      "0.15286253132290234\n",
      "0.1806022782286889\n",
      "0.16728501565069215\n",
      "0.18848772763398358\n",
      "0.1555556277413821\n",
      "0.18002064138016227\n",
      "0.16729663107956927\n",
      "0.18648568151241535\n",
      "0.14729555494269775\n",
      "0.170137115008332\n",
      "0.1597565498452047\n",
      "0.1888802512696361\n",
      "0.15502454422978346\n",
      "0.1757570326919941\n",
      "0.16462173357808269\n",
      "0.1879200712109061\n",
      "0.15326704623906995\n",
      "0.1808965549792615\n",
      "0.17343557131169113\n",
      "0.20318383280975\n",
      "0.171236838830097\n",
      "0.1941629608622671\n",
      "0.18469797447233527\n",
      "0.20631444866131698\n",
      "0.17176162828482971\n",
      "0.19617846350158225\n",
      "0.17854852068342691\n",
      "0.20141820175313557\n",
      "0.1692939934220511\n",
      "0.19016194636617162\n",
      "0.17823359148135065\n",
      "0.19630121512031978\n",
      "0.15870967748701836\n",
      "0.18712501983898971\n",
      "0.1747231958814054\n",
      "0.19522667036590702\n",
      "0.16473278396605584\n",
      "0.18983634645684494\n",
      "0.18443045364773097\n",
      "0.20560309921468672\n",
      "0.1731960741699134\n",
      "0.19615697283331007\n",
      "0.18294559339555594\n",
      "0.20391835487320492\n",
      "0.16883938820176653\n",
      "0.19316673088776487\n",
      "0.18056820796002704\n",
      "0.21158198356448127\n",
      "0.17194543569332438\n",
      "0.1981863008268781\n",
      "0.18329781852227206\n",
      "0.20891251728973925\n",
      "0.17562250357249282\n",
      "0.20196502497119695\n",
      "0.1891302671080009\n",
      "0.2145159341959736\n",
      "0.18053434653809053\n",
      "0.20672834452903255\n",
      "0.19382648795814222\n",
      "0.21584336077885846\n",
      "0.18303091062024268\n",
      "0.19738425692123307\n",
      "0.18967998565441363\n",
      "0.2074856160856513\n",
      "0.17563367795681006\n",
      "0.19605388822161618\n",
      "0.1842315201343115\n",
      "0.20053118506636103\n",
      "0.1704978636376358\n",
      "0.18324157455168322\n",
      "0.1819900034940089\n",
      "0.20839076852490834\n",
      "0.18599983693121408\n",
      "0.17680794609888145\n",
      "0.15466463809511377\n",
      "0.15609997155312283\n",
      "0.13845806653838377\n",
      "0.13962686923051798\n",
      "0.13549786679294734\n",
      "0.12700202318943205\n",
      "0.12129670816133636\n",
      "0.11542437787265286\n",
      "0.11742667734575157\n",
      "0.1078096289246317\n",
      "0.11108338214899466\n",
      "0.10912354951396064\n",
      "0.10745264012184752\n",
      "0.1058063011723096\n",
      "0.11007921269987847\n",
      "0.11016878763903443\n",
      "0.1130042023609133\n",
      "0.10687582346343488\n",
      "0.11007035227206569\n",
      "0.10656177296734287\n",
      "0.11228986270276575\n",
      "0.09989678237087152\n",
      "0.10448663739718206\n",
      "0.10410449021750745\n",
      "0.11171861883345818\n",
      "0.10431984357884755\n",
      "0.10561398026052427\n",
      "0.09922743919515986\n",
      "0.1047676296592508\n",
      "0.10265186530499243\n",
      "0.10124180320352139\n",
      "0.09782457401080763\n",
      "0.09642695930212825\n",
      "0.0892241258722834\n",
      "0.08644060527475145\n",
      "0.08812319374625338\n",
      "0.08444991926273665\n",
      "0.07852999352022622\n",
      "0.07923005051798365\n",
      "0.07816751336272282\n",
      "0.07367088590302118\n",
      "0.07643133716250322\n",
      "0.07526932765026878\n",
      "0.07463687787668866\n",
      "0.07009532465464996\n",
      "0.07399648670816394\n",
      "0.07311062352967135\n",
      "0.07725795325664608\n",
      "0.08065964397968234\n",
      "0.07838986357285044\n",
      "0.07706384351398932\n",
      "0.07723598366709755\n",
      "0.07562111034924851\n",
      "0.07845622826133042\n",
      "0.07903817397847374\n",
      "0.08096748560063405\n",
      "0.08103624282593519\n",
      "0.08361369072580555\n",
      "0.08072532266860605\n",
      "0.08241376021616165\n",
      "0.07787490427344773\n",
      "0.07922433913120674\n",
      "0.07656694526983315\n",
      "0.07496907853999762\n",
      "0.07697329984811985\n",
      "0.08030407052806482\n",
      "0.07389579816286868\n",
      "0.07793094496176933\n",
      "0.06880801291248034\n",
      "0.07105689343292781\n",
      "0.0722079428583225\n",
      "0.06971959071240769\n",
      "0.06911674779756755\n",
      "0.06740277551513468\n",
      "0.06794441425907338\n",
      "0.06918947779628559\n",
      "0.06977495648438248\n",
      "0.06866399896834235\n",
      "0.06619384442103188\n",
      "0.06694459342311304\n",
      "0.07062054160482006\n",
      "0.06357574487521211\n",
      "0.06269800588622287\n",
      "0.060461663510744\n",
      "0.06282141767712174\n",
      "0.06912214517880616\n",
      "0.061917763599615205\n",
      "0.059449872936901904\n",
      "0.05632081427302327\n",
      "0.05571058881963581\n",
      "0.050430139756156483\n",
      "0.05219859753845593\n",
      "0.04888714144311207\n",
      "0.05355221990017631\n",
      "0.05767159881867928\n",
      "0.05909816746203861\n",
      "0.05802520467592226\n",
      "0.06116089280144099\n",
      "0.05722358721903742\n",
      "0.06241338176277289\n",
      "0.05955929629916196\n",
      "0.06562665213014235\n",
      "0.06468222778336208\n",
      "0.06405278393005936\n",
      "0.060106170235532164\n",
      "0.06424917765564137\n",
      "0.05426548206849935\n",
      "0.05934280700544298\n",
      "0.05812948715526872\n",
      "0.057892150890836325\n",
      "0.05470418168534086\n",
      "0.055477705753631534\n",
      "0.057168557353597604\n",
      "0.06122399075242185\n",
      "0.061425194319113086\n",
      "0.06002254774256233\n",
      "0.05944321733160163\n",
      "0.056869098926177475\n",
      "0.05856687130206689\n",
      "0.06203043310099876\n",
      "0.06702466733148016\n",
      "0.06665717218779993\n",
      "0.07157658920033289\n",
      "0.07610626991043795\n",
      "0.07372451270042307\n",
      "0.07335493401137022\n",
      "0.07928892452807162\n",
      "0.07999071577797706\n",
      "0.08265165080667841\n",
      "0.08866534400244824\n",
      "0.08379196714943327\n",
      "0.0887511313034316\n",
      "0.09014417203947689\n",
      "0.09197373967697459\n",
      "0.09103514541789776\n",
      "0.09157804111047085\n",
      "0.09189810229206163\n",
      "0.09637490412185407\n",
      "0.10161065520956553\n",
      "0.10064195489112154\n",
      "0.1045914264694785\n",
      "0.11134518975642199\n",
      "0.10841294433087068\n",
      "0.10305732230355441\n",
      "0.11012592211043848\n",
      "0.10761972748189641\n",
      "0.11025855725645844\n",
      "0.1020889027987742\n",
      "0.09979016356041764\n",
      "0.10016263847101659\n",
      "0.10773065477993943\n",
      "0.10779538147583628\n",
      "0.10514155579124246\n",
      "0.11092771840715293\n",
      "0.10876121358019603\n",
      "0.1026479395830448\n",
      "0.10036107482826412\n",
      "0.10434024842281808\n",
      "0.1027789659713666\n",
      "0.10312643207178201\n",
      "0.1048015595461963\n",
      "0.10608688868674548\n",
      "0.10500522608478197\n",
      "0.10317019109242065\n",
      "0.10358633147321317\n",
      "0.10775009717869621\n",
      "0.10675249622628041\n",
      "0.10757888037743224\n",
      "0.10920838475665234\n",
      "0.11027623204105896\n",
      "0.11515522645154913\n",
      "0.11864286055375384\n",
      "0.11480994925993793\n",
      "0.12286591740636565\n",
      "0.12258401883307013\n",
      "0.12203237714015863\n",
      "0.12347389858590607\n",
      "0.12693680780923355\n",
      "0.12318170301319953\n",
      "0.12210476728258168\n",
      "0.12052699101149322\n",
      "0.12473458696822703\n",
      "0.12056256956447181\n",
      "0.12178528846050007\n",
      "0.11673302022128301\n",
      "0.12128783036603141\n",
      "0.11413978236799904\n",
      "0.11723329143691391\n",
      "0.11424961820263713\n",
      "0.11785193299218366\n",
      "0.11844640100559506\n"
     ]
    }
   ],
   "source": [
    "y_val_pred = model.predict(X_val[:, :, :])\n",
    "# y_val = y_val.reshape(y_val.shape[0], y_val.shape[2])\n",
    "val_errors = [mean_absolute_error(X_val[i, :], y_val_pred[i, :]) for i in range(y_val_pred.shape[0])]\n",
    "results = [is_anomaly(x, dist.mean(), dist.std(), 2) for x in val_errors]"
   ]
  },
  {
   "cell_type": "code",
   "execution_count": 555,
   "metadata": {
    "colab": {
     "base_uri": "https://localhost:8080/",
     "height": 282
    },
    "colab_type": "code",
    "id": "BTk0i65SXonQ",
    "outputId": "e6d7a163-208a-4256-b5d3-5499c1fe10ba"
   },
   "outputs": [
    {
     "data": {
      "text/plain": [
       "<matplotlib.legend.Legend at 0x7fb06d6cd048>"
      ]
     },
     "execution_count": 555,
     "metadata": {
      "tags": []
     },
     "output_type": "execute_result"
    },
    {
     "data": {
      "image/png": "[encoded data removed]",
      "text/plain": [
       "<Figure size 432x288 with 1 Axes>"
      ]
     },
     "metadata": {
      "needs_background": "light",
      "tags": []
     },
     "output_type": "display_data"
    }
   ],
   "source": [
    "import matplotlib.pyplot as plt\n",
    "\n",
    "plt.plot(X_val[:,0], label=\"Original\")\n",
    "plt.plot(y_val_pred[:,0],color=\"r\", label=\"Predicted\")\n",
    "plt.legend()"
   ]
  },
  {
   "cell_type": "code",
   "execution_count": 556,
   "metadata": {
    "colab": {},
    "colab_type": "code",
    "id": "Aq6CxQ7jsUyG"
   },
   "outputs": [],
   "source": [
    "def anomaly_score(error, dist):\n",
    "    delta = np.abs(error - dist.mean())\n",
    "    return dist.cdf(dist.mean() + delta)"
   ]
  },
  {
   "cell_type": "code",
   "execution_count": 557,
   "metadata": {
    "colab": {},
    "colab_type": "code",
    "id": "m_a-9itLsUyJ"
   },
   "outputs": [],
   "source": [
    "# result = [np.round(anomaly_score(x, dist), 4) for x in val_errors]\n",
    "# print(result)\n"
   ]
  },
  {
   "cell_type": "code",
   "execution_count": 558,
   "metadata": {
    "colab": {
     "base_uri": "https://localhost:8080/",
     "height": 544
    },
    "colab_type": "code",
    "id": "bXzkWr7Na1zE",
    "outputId": "ab2c9f83-a161-461b-b2f9-89c51661eb7f"
   },
   "outputs": [
    {
     "data": {
      "text/plain": [
       "(array([   0,    1,    2,    3,    4,    5,    6,    7,    8,    9,   10,\n",
       "          11,   12,   13,   14,   15,   16,   17,   18,   19,   20,   21,\n",
       "          22,   23,   24,   25,   26,   27,   28,   29,   30,   31,   32,\n",
       "          33,   34,   35,   36,   37,   38,   39,   40,   41,   42,   43,\n",
       "          44,   45,   46,   47,   48,   49,   50,   51,   52,   53,   54,\n",
       "          55,   56,   57,   58,   59,   60,   61,   62,   63,   64,   65,\n",
       "          66,   67,   68,   69,   70,   71,   72,   73,   74,   75,   76,\n",
       "          77,   78,   79,   80,   81,   82,  445,  447,  450,  451,  452,\n",
       "         453,  454,  455,  456,  458,  459,  461,  462,  463,  464,  465,\n",
       "         466,  467,  468,  469,  470,  471,  472,  473,  474,  475,  476,\n",
       "         477,  478,  479,  480,  481,  482,  483,  484,  485,  486,  487,\n",
       "         488,  489,  490,  491,  492,  493,  494,  495,  496,  497,  498,\n",
       "         499,  500,  501,  502,  503,  504,  505,  508,  509,  519,  520,\n",
       "         521,  522,  523,  524,  525,  526,  527,  528,  529,  530,  531,\n",
       "         532,  533,  534,  535,  536,  537,  538,  539,  540,  541,  542,\n",
       "         543,  544,  545,  547,  549,  843,  844, 1102, 1103, 1104, 1105,\n",
       "        1106, 1107, 1108, 1109, 1110, 1111, 1112, 1113, 1114, 1115, 1116,\n",
       "        1117, 1118, 1119, 1120, 1121, 1122, 1123, 1124, 1125, 1126, 1127,\n",
       "        1128, 1129, 1130, 1131, 1132, 1133, 1134, 1135, 1136, 1137, 1138,\n",
       "        1139, 1140, 1141, 1142, 1143, 1144, 1145, 1146, 1147, 1148, 1149,\n",
       "        1150, 1151, 1152, 1153, 1154, 1155, 1156, 1157, 1158, 1159, 1160,\n",
       "        1161, 1162, 1163, 1164, 1165, 1166, 1167, 1168, 1169, 1170, 1171,\n",
       "        1172, 1173, 1174, 1175, 1176, 1177, 1178, 1179, 1180, 1181, 1182,\n",
       "        1183, 1184, 1185, 1186, 1187, 1188, 1189, 1190, 1191, 1192, 1193,\n",
       "        1194, 1195, 1196, 1197, 1198, 1199, 1200, 1201, 1202, 1203, 1204,\n",
       "        1205, 1206, 1207, 1208, 1209, 1210, 1211, 1212, 1213, 1214, 1215,\n",
       "        1216, 1217, 1218, 1219, 1220, 1221, 1222, 1223, 1224, 1225, 1226,\n",
       "        1227, 1228, 1229, 1230, 1231, 1232, 1233, 1234, 1235, 1236, 1237,\n",
       "        1238, 1239, 1240, 1241, 1242, 1243, 1244, 1245, 1246, 1247, 1248,\n",
       "        1249, 1250, 1251, 1413, 1414, 1415, 1416, 1417, 1418, 1419, 1420,\n",
       "        1421, 1422, 1423, 1424, 1425, 1426, 1427, 1428, 1430, 1432, 1433]),)"
      ]
     },
     "execution_count": 558,
     "metadata": {
      "tags": []
     },
     "output_type": "execute_result"
    }
   ],
   "source": [
    "np.where(np.array(results) == 1)"
   ]
  },
  {
   "cell_type": "code",
   "execution_count": 559,
   "metadata": {
    "colab": {
     "base_uri": "https://localhost:8080/",
     "height": 54
    },
    "colab_type": "code",
    "id": "IZ1ALpyFoct3",
    "outputId": "6c635cfe-32ed-413d-9675-98d9602d155d"
   },
   "outputs": [
    {
     "name": "stdout",
     "output_type": "stream",
     "text": [
      "[0, 1, 2, 3, 4, 5, 6, 7, 8, 9, 10, 11, 12, 13, 14, 15, 16, 17, 18, 19, 20, 21, 22, 23, 24, 25, 26, 27, 28, 29, 30, 31, 32, 33, 34, 35, 36, 37, 38, 39, 40, 41, 42, 43, 44, 45, 46, 47, 48, 49, 50, 51, 52, 53, 54, 55, 56, 57, 58, 59, 60, 61, 62, 63, 64, 65, 66, 67, 68, 69, 70, 71, 72, 73, 74, 75, 76, 77, 78, 79, 80, 81, 82, 445, 447, 450, 451, 452, 453, 454, 455, 456, 458, 459, 461, 462, 463, 464, 465, 466, 467, 468, 469, 470, 471, 472, 473, 474, 475, 476, 477, 478, 479, 480, 481, 482, 483, 484, 485, 486, 487, 488, 489, 490, 491, 492, 493, 494, 495, 496, 497, 498, 499, 500, 501, 502, 503, 504, 505, 508, 509, 519, 520, 521, 522, 523, 524, 525, 526, 527, 528, 529, 530, 531, 532, 533, 534, 535, 536, 537, 538, 539, 540, 541, 542, 543, 544, 545, 547, 549, 843, 844, 1102, 1103, 1104, 1105, 1106, 1107, 1108, 1109, 1110, 1111, 1112, 1113, 1114, 1115, 1116, 1117, 1118, 1119, 1120, 1121, 1122, 1123, 1124, 1125, 1126, 1127, 1128, 1129, 1130, 1131, 1132, 1133, 1134, 1135, 1136, 1137, 1138, 1139, 1140, 1141, 1142, 1143, 1144, 1145, 1146, 1147, 1148, 1149, 1150, 1151, 1152, 1153, 1154, 1155, 1156, 1157, 1158, 1159, 1160, 1161, 1162, 1163, 1164, 1165, 1166, 1167, 1168, 1169, 1170, 1171, 1172, 1173, 1174, 1175, 1176, 1177, 1178, 1179, 1180, 1181, 1182, 1183, 1184, 1185, 1186, 1187, 1188, 1189, 1190, 1191, 1192, 1193, 1194, 1195, 1196, 1197, 1198, 1199, 1200, 1201, 1202, 1203, 1204, 1205, 1206, 1207, 1208, 1209, 1210, 1211, 1212, 1213, 1214, 1215, 1216, 1217, 1218, 1219, 1220, 1221, 1222, 1223, 1224, 1225, 1226, 1227, 1228, 1229, 1230, 1231, 1232, 1233, 1234, 1235, 1236, 1237, 1238, 1239, 1240, 1241, 1242, 1243, 1244, 1245, 1246, 1247, 1248, 1249, 1250, 1251, 1413, 1414, 1415, 1416, 1417, 1418, 1419, 1420, 1421, 1422, 1423, 1424, 1425, 1426, 1427, 1428, 1430, 1432, 1433]\n"
     ]
    }
   ],
   "source": [
    "plot_x=[]\n",
    "plot_y=[]\n",
    "for i in range(len(results)): \n",
    "  if results[i] == 1:\n",
    "    plot_x.append(i)\n",
    "    plot_y.append(X_val[i][0])\n",
    "print(plot_x)"
   ]
  },
  {
   "cell_type": "code",
   "execution_count": 560,
   "metadata": {
    "colab": {
     "base_uri": "https://localhost:8080/",
     "height": 717
    },
    "colab_type": "code",
    "id": "7dEpG19ArEuo",
    "outputId": "0506169f-c8aa-462a-f919-e1d4d4e0db20"
   },
   "outputs": [
    {
     "data": {
      "text/plain": [
       "<matplotlib.collections.PathCollection at 0x7fb088cb5860>"
      ]
     },
     "execution_count": 560,
     "metadata": {
      "tags": []
     },
     "output_type": "execute_result"
    },
    {
     "data": {
      "image/png": "[encoded data removed]",
      "text/plain": [
       "<Figure size 864x864 with 1 Axes>"
      ]
     },
     "metadata": {
      "needs_background": "light",
      "tags": []
     },
     "output_type": "display_data"
    }
   ],
   "source": [
    "plt.figure(figsize=(12,12))\n",
    "plt.plot(X_val[:,0].squeeze())\n",
    "plt.scatter(plot_x,plot_y, color=\"r\",s=20)\n"
   ]
  },
  {
   "cell_type": "code",
   "execution_count": 561,
   "metadata": {
    "colab": {
     "base_uri": "https://localhost:8080/",
     "height": 34
    },
    "colab_type": "code",
    "id": "77WI21n5r9zg",
    "outputId": "bfc03bb7-7bfc-4796-e50a-ed6d20a1a372"
   },
   "outputs": [
    {
     "data": {
      "text/plain": [
       "(341, 1)"
      ]
     },
     "execution_count": 561,
     "metadata": {
      "tags": []
     },
     "output_type": "execute_result"
    }
   ],
   "source": [
    "px=np.array(plot_x)\n",
    "py=np.array(plot_y)\n",
    "px.shape\n",
    "py.shape"
   ]
  },
  {
   "cell_type": "code",
   "execution_count": 561,
   "metadata": {
    "colab": {},
    "colab_type": "code",
    "id": "TNJoiiX1sDti"
   },
   "outputs": [],
   "source": []
  }
 ],
 "metadata": {
  "accelerator": "GPU",
  "colab": {
   "collapsed_sections": [],
   "name": "Part2_Conv1D.ipynb",
   "provenance": []
  },
  "kernelspec": {
   "display_name": "Python 3",
   "language": "python",
   "name": "python3"
  },
  "language_info": {
   "codemirror_mode": {
    "name": "ipython",
    "version": 3
   },
   "file_extension": ".py",
   "mimetype": "text/x-python",
   "name": "python",
   "nbconvert_exporter": "python",
   "pygments_lexer": "ipython3",
   "version": "3.7.6"
  }
 },
 "nbformat": 4,
 "nbformat_minor": 1
}
